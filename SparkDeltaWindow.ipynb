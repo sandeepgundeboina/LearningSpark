{
  "nbformat": 4,
  "nbformat_minor": 0,
  "metadata": {
    "colab": {
      "provenance": [],
      "mount_file_id": "11eQI1EKwIVF9ejUlovmeR7_qC2wK30Mn",
      "authorship_tag": "ABX9TyMhE7dQNk4wkxbGaw9u2mUX",
      "include_colab_link": true
    },
    "kernelspec": {
      "name": "python3",
      "display_name": "Python 3"
    },
    "language_info": {
      "name": "python"
    }
  },
  "cells": [
    {
      "cell_type": "markdown",
      "metadata": {
        "id": "view-in-github",
        "colab_type": "text"
      },
      "source": [
        "<a href=\"https://colab.research.google.com/github/sandeepgundeboina/LearningSpark/blob/main/SparkDeltaWindow.ipynb\" target=\"_parent\"><img src=\"https://colab.research.google.com/assets/colab-badge.svg\" alt=\"Open In Colab\"/></a>"
      ]
    },
    {
      "cell_type": "code",
      "execution_count": null,
      "metadata": {
        "id": "bbOsi1CVNV1Z"
      },
      "outputs": [],
      "source": [
        "!pip install delta-spark==2.0.0\n",
        "import pyspark\n",
        "from pyspark.sql import SparkSession\n",
        "spark = SparkSession.builder \\\n",
        "    .appName(\"SparkDeltaWindow\") \\\n",
        "    .config(\"spark.jars.packages\", \"io.delta:delta-core_2.12:2.0.0\") \\\n",
        "    .config(\"spark.sql.extensions\", \"io.delta.sql.DeltaSparkSessionExtension\") \\\n",
        "    .config(\"spark.sql.catalog.spark_catalog\", \"org.apache.spark.sql.delta.catalog.DeltaCatalog\") \\\n",
        "    .getOrCreate()"
      ]
    },
    {
      "cell_type": "code",
      "source": [
        "from delta.tables import *\n",
        "from pyspark.sql.functions import *\n",
        "from pyspark.sql.types import *"
      ],
      "metadata": {
        "id": "-s3sTpaNNZLI"
      },
      "execution_count": null,
      "outputs": []
    },
    {
      "cell_type": "code",
      "source": [
        "df=spark.read.format('csv').option('header','true').option('inferSchema',True).load('/content/drive/MyDrive/Abc/Ola_data/products.csv')"
      ],
      "metadata": {
        "id": "AH6BAsJyNeNA"
      },
      "execution_count": null,
      "outputs": []
    },
    {
      "cell_type": "code",
      "source": [
        "df.show()"
      ],
      "metadata": {
        "colab": {
          "base_uri": "https://localhost:8080/"
        },
        "id": "Eyk8Y8oXNgnM",
        "outputId": "49821126-d838-4079-c763-ac32c6f2267c"
      },
      "execution_count": null,
      "outputs": [
        {
          "output_type": "stream",
          "name": "stdout",
          "text": [
            "+-------------------+---------------+----------+--------+------+----------+-------+\n",
            "|            product|          store|product_id|store_id|   MRP|     state|country|\n",
            "+-------------------+---------------+----------+--------+------+----------+-------+\n",
            "|      Wired Earbuds|Electronics Hub|   PROD101| STORE01| 25.99|California|    USA|\n",
            "|   Portable Charger|    Mobile Mart|   PROD102| STORE02|  NULL|     Texas|    USA|\n",
            "|  Bluetooth Speaker|Electronics Hub|   PROD103| STORE01| 79.50|California|    USA|\n",
            "|   Smart Light Bulb|   Home Gadgets|   PROD104| STORE03| 15.00|   Florida|    USA|\n",
            "|               NULL|    Mobile Mart|   PROD105| STORE02| 49.99|     Texas|    USA|\n",
            "|     Wireless Mouse|Electronics Hub|   PROD106| STORE01|  NULL|California|    USA|\n",
            "|Mechanical Keyboard|      PC Palace|   PROD107| STORE04|120.00|  New York|    USA|\n",
            "|             Webcam|Electronics Hub|   PROD108| STORE01| 55.00|      NULL|    USA|\n",
            "|     Gaming Headset|      PC Palace|   PROD109| STORE04| 90.00|  New York|    USA|\n",
            "|      Monitor Stand|   Home Gadgets|   PROD110| STORE03| 29.99|   Florida|    USA|\n",
            "|         HDMI Cable|    Mobile Mart|   PROD111| STORE02|  NULL|     Texas|   NULL|\n",
            "|            USB Hub|Electronics Hub|   PROD112| STORE01|  NULL|California|    USA|\n",
            "|      Laptop Sleeve|      PC Palace|   PROD113| STORE04|  NULL|  New York|    USA|\n",
            "|       External SSD|Electronics Hub|   PROD114| STORE01|150.00|California|    USA|\n",
            "|        Power Strip|   Home Gadgets|   PROD115| STORE03|  NULL|   Florida|    USA|\n",
            "|           Desk Fan|    Mobile Mart|   PROD116| STORE02| 20.00|     Texas|    USA|\n",
            "|        Printer Ink|   Office Depot|   PROD117| STORE05|  NULL|  Illinois|    USA|\n",
            "|            Scanner|Electronics Hub|   PROD118| STORE01|180.00|California|   NULL|\n",
            "|          Projector|      PC Palace|   PROD119| STORE04|700.00|      NULL|    USA|\n",
            "|         Smart Plug|   Home Gadgets|   PROD120| STORE03| 12.00|   Florida|    USA|\n",
            "+-------------------+---------------+----------+--------+------+----------+-------+\n",
            "only showing top 20 rows\n",
            "\n"
          ]
        }
      ]
    },
    {
      "cell_type": "code",
      "source": [
        "from pyspark.sql import functions as F"
      ],
      "metadata": {
        "id": "oGTkqpZJOKZq"
      },
      "execution_count": null,
      "outputs": []
    },
    {
      "cell_type": "code",
      "source": [
        "df_details=df.withColumn('file_details',F.input_file_name())"
      ],
      "metadata": {
        "id": "-UrHriTBN2Ha"
      },
      "execution_count": null,
      "outputs": []
    },
    {
      "cell_type": "code",
      "source": [
        "df_details.show()"
      ],
      "metadata": {
        "colab": {
          "base_uri": "https://localhost:8080/"
        },
        "id": "k-vxV3W8OOUB",
        "outputId": "19e5ba1d-7ceb-4345-b272-ca3c866ff758"
      },
      "execution_count": null,
      "outputs": [
        {
          "output_type": "stream",
          "name": "stdout",
          "text": [
            "+-------------------+---------------+----------+--------+------+----------+-------+--------------------+\n",
            "|            product|          store|product_id|store_id|   MRP|     state|country|        file_details|\n",
            "+-------------------+---------------+----------+--------+------+----------+-------+--------------------+\n",
            "|      Wired Earbuds|Electronics Hub|   PROD101| STORE01| 25.99|California|    USA|file:///content/d...|\n",
            "|   Portable Charger|    Mobile Mart|   PROD102| STORE02|  NULL|     Texas|    USA|file:///content/d...|\n",
            "|  Bluetooth Speaker|Electronics Hub|   PROD103| STORE01| 79.50|California|    USA|file:///content/d...|\n",
            "|   Smart Light Bulb|   Home Gadgets|   PROD104| STORE03| 15.00|   Florida|    USA|file:///content/d...|\n",
            "|               NULL|    Mobile Mart|   PROD105| STORE02| 49.99|     Texas|    USA|file:///content/d...|\n",
            "|     Wireless Mouse|Electronics Hub|   PROD106| STORE01|  NULL|California|    USA|file:///content/d...|\n",
            "|Mechanical Keyboard|      PC Palace|   PROD107| STORE04|120.00|  New York|    USA|file:///content/d...|\n",
            "|             Webcam|Electronics Hub|   PROD108| STORE01| 55.00|      NULL|    USA|file:///content/d...|\n",
            "|     Gaming Headset|      PC Palace|   PROD109| STORE04| 90.00|  New York|    USA|file:///content/d...|\n",
            "|      Monitor Stand|   Home Gadgets|   PROD110| STORE03| 29.99|   Florida|    USA|file:///content/d...|\n",
            "|         HDMI Cable|    Mobile Mart|   PROD111| STORE02|  NULL|     Texas|   NULL|file:///content/d...|\n",
            "|            USB Hub|Electronics Hub|   PROD112| STORE01|  NULL|California|    USA|file:///content/d...|\n",
            "|      Laptop Sleeve|      PC Palace|   PROD113| STORE04|  NULL|  New York|    USA|file:///content/d...|\n",
            "|       External SSD|Electronics Hub|   PROD114| STORE01|150.00|California|    USA|file:///content/d...|\n",
            "|        Power Strip|   Home Gadgets|   PROD115| STORE03|  NULL|   Florida|    USA|file:///content/d...|\n",
            "|           Desk Fan|    Mobile Mart|   PROD116| STORE02| 20.00|     Texas|    USA|file:///content/d...|\n",
            "|        Printer Ink|   Office Depot|   PROD117| STORE05|  NULL|  Illinois|    USA|file:///content/d...|\n",
            "|            Scanner|Electronics Hub|   PROD118| STORE01|180.00|California|   NULL|file:///content/d...|\n",
            "|          Projector|      PC Palace|   PROD119| STORE04|700.00|      NULL|    USA|file:///content/d...|\n",
            "|         Smart Plug|   Home Gadgets|   PROD120| STORE03| 12.00|   Florida|    USA|file:///content/d...|\n",
            "+-------------------+---------------+----------+--------+------+----------+-------+--------------------+\n",
            "only showing top 20 rows\n",
            "\n"
          ]
        }
      ]
    },
    {
      "cell_type": "code",
      "source": [
        "from pyspark.sql.window import Window,WindowSpec"
      ],
      "metadata": {
        "id": "Sv3TX2G3OQL7"
      },
      "execution_count": null,
      "outputs": []
    },
    {
      "cell_type": "code",
      "source": [
        "windowSpec=Window.partitionBy('state').orderBy('product_id')"
      ],
      "metadata": {
        "id": "-b1jA6e6BXQo"
      },
      "execution_count": null,
      "outputs": []
    },
    {
      "cell_type": "code",
      "source": [
        "df_new=df.withColumn('MRP_lag',lag('MRP',1).over(windowSpec))"
      ],
      "metadata": {
        "id": "G_uFAo1QCxvC"
      },
      "execution_count": null,
      "outputs": []
    },
    {
      "cell_type": "code",
      "source": [
        "df_new.show()"
      ],
      "metadata": {
        "colab": {
          "base_uri": "https://localhost:8080/"
        },
        "id": "YtNDcuiEED78",
        "outputId": "29de43d6-206f-4972-fc18-18d03381c8a2"
      },
      "execution_count": null,
      "outputs": [
        {
          "output_type": "stream",
          "name": "stdout",
          "text": [
            "+--------------------+---------------+----------+--------+------+----------+-------+-------+\n",
            "|             product|          store|product_id|store_id|   MRP|     state|country|MRP_lag|\n",
            "+--------------------+---------------+----------+--------+------+----------+-------+-------+\n",
            "|       Wired Earbuds|Electronics Hub|   PROD101| STORE01| 25.99|California|    USA|   null|\n",
            "|   Bluetooth Speaker|Electronics Hub|   PROD103| STORE01| 79.50|California|    USA|  25.99|\n",
            "|      Wireless Mouse|Electronics Hub|   PROD106| STORE01|  NULL|California|    USA|  79.50|\n",
            "|             USB Hub|Electronics Hub|   PROD112| STORE01|  NULL|California|    USA|   NULL|\n",
            "|        External SSD|Electronics Hub|   PROD114| STORE01|150.00|California|    USA|   NULL|\n",
            "|             Scanner|Electronics Hub|   PROD118| STORE01|180.00|California|   NULL| 150.00|\n",
            "|               Drone|Electronics Hub|   PROD123| STORE01|300.00|California|    USA| 180.00|\n",
            "|         Memory Card|Electronics Hub|   PROD126| STORE01| 20.00|California|    USA| 300.00|\n",
            "|         Car Charger|Electronics Hub|   PROD128| STORE01|  NULL|California|    USA|  20.00|\n",
            "|Noise Cancelling ...|Electronics Hub|   PROD130| STORE01|220.00|California|   NULL|   NULL|\n",
            "|       USB-C Adapter|Electronics Hub|   PROD135| STORE01| 22.00|California|    USA| 220.00|\n",
            "|    Screen Protector|Electronics Hub|   PROD138| STORE01| 10.00|California|    USA|  22.00|\n",
            "|   Bluetooth Earbuds|Electronics Hub|   PROD141| STORE01| 60.00|California|   NULL|  10.00|\n",
            "|              Router|Electronics Hub|   PROD144| STORE01| 80.00|California|    USA|  60.00|\n",
            "|      Smart Doorbell|Electronics Hub|   PROD148| STORE01|160.00|California|    USA|  80.00|\n",
            "|                NULL|Electronics Hub|   PROD155| STORE01| 75.00|California|    USA| 160.00|\n",
            "|     Washing Machine|Electronics Hub|   PROD164| STORE01|  NULL|California|    USA|  75.00|\n",
            "|    Smart Light Bulb|   Home Gadgets|   PROD104| STORE03| 15.00|   Florida|    USA|   null|\n",
            "|       Monitor Stand|   Home Gadgets|   PROD110| STORE03| 29.99|   Florida|    USA|  15.00|\n",
            "|         Power Strip|   Home Gadgets|   PROD115| STORE03|  NULL|   Florida|    USA|  29.99|\n",
            "+--------------------+---------------+----------+--------+------+----------+-------+-------+\n",
            "only showing top 20 rows\n",
            "\n"
          ]
        }
      ]
    },
    {
      "cell_type": "code",
      "source": [
        "df_new=df_new.withColumn('MRp_lead',lead('MRP',1).over(windowSpec))\n",
        "df_new.show()"
      ],
      "metadata": {
        "colab": {
          "base_uri": "https://localhost:8080/"
        },
        "id": "WIqTV6QlEhl1",
        "outputId": "b06ee3f1-d7ea-478c-b707-16153a06d71e"
      },
      "execution_count": null,
      "outputs": [
        {
          "output_type": "stream",
          "name": "stdout",
          "text": [
            "+--------------------+---------------+----------+--------+------+----------+-------+-------+--------+\n",
            "|             product|          store|product_id|store_id|   MRP|     state|country|MRP_lag|MRp_lead|\n",
            "+--------------------+---------------+----------+--------+------+----------+-------+-------+--------+\n",
            "|       Wired Earbuds|Electronics Hub|   PROD101| STORE01| 25.99|California|    USA|   null|   79.50|\n",
            "|   Bluetooth Speaker|Electronics Hub|   PROD103| STORE01| 79.50|California|    USA|  25.99|    NULL|\n",
            "|      Wireless Mouse|Electronics Hub|   PROD106| STORE01|  NULL|California|    USA|  79.50|    NULL|\n",
            "|             USB Hub|Electronics Hub|   PROD112| STORE01|  NULL|California|    USA|   NULL|  150.00|\n",
            "|        External SSD|Electronics Hub|   PROD114| STORE01|150.00|California|    USA|   NULL|  180.00|\n",
            "|             Scanner|Electronics Hub|   PROD118| STORE01|180.00|California|   NULL| 150.00|  300.00|\n",
            "|               Drone|Electronics Hub|   PROD123| STORE01|300.00|California|    USA| 180.00|   20.00|\n",
            "|         Memory Card|Electronics Hub|   PROD126| STORE01| 20.00|California|    USA| 300.00|    NULL|\n",
            "|         Car Charger|Electronics Hub|   PROD128| STORE01|  NULL|California|    USA|  20.00|  220.00|\n",
            "|Noise Cancelling ...|Electronics Hub|   PROD130| STORE01|220.00|California|   NULL|   NULL|   22.00|\n",
            "|       USB-C Adapter|Electronics Hub|   PROD135| STORE01| 22.00|California|    USA| 220.00|   10.00|\n",
            "|    Screen Protector|Electronics Hub|   PROD138| STORE01| 10.00|California|    USA|  22.00|   60.00|\n",
            "|   Bluetooth Earbuds|Electronics Hub|   PROD141| STORE01| 60.00|California|   NULL|  10.00|   80.00|\n",
            "|              Router|Electronics Hub|   PROD144| STORE01| 80.00|California|    USA|  60.00|  160.00|\n",
            "|      Smart Doorbell|Electronics Hub|   PROD148| STORE01|160.00|California|    USA|  80.00|   75.00|\n",
            "|                NULL|Electronics Hub|   PROD155| STORE01| 75.00|California|    USA| 160.00|    NULL|\n",
            "|     Washing Machine|Electronics Hub|   PROD164| STORE01|  NULL|California|    USA|  75.00|    null|\n",
            "|    Smart Light Bulb|   Home Gadgets|   PROD104| STORE03| 15.00|   Florida|    USA|   null|   29.99|\n",
            "|       Monitor Stand|   Home Gadgets|   PROD110| STORE03| 29.99|   Florida|    USA|  15.00|    NULL|\n",
            "|         Power Strip|   Home Gadgets|   PROD115| STORE03|  NULL|   Florida|    USA|  29.99|   12.00|\n",
            "+--------------------+---------------+----------+--------+------+----------+-------+-------+--------+\n",
            "only showing top 20 rows\n",
            "\n"
          ]
        }
      ]
    },
    {
      "cell_type": "code",
      "source": [
        "df_new.explain(mode='formatted')"
      ],
      "metadata": {
        "colab": {
          "base_uri": "https://localhost:8080/"
        },
        "id": "y2XKPgT9E05j",
        "outputId": "6f0948ec-4575-49d7-dc97-6e5979ce53b6"
      },
      "execution_count": null,
      "outputs": [
        {
          "output_type": "stream",
          "name": "stdout",
          "text": [
            "== Physical Plan ==\n",
            "AdaptiveSparkPlan (5)\n",
            "+- Window (4)\n",
            "   +- Sort (3)\n",
            "      +- Exchange (2)\n",
            "         +- Scan csv  (1)\n",
            "\n",
            "\n",
            "(1) Scan csv \n",
            "Output [7]: [product#16, store#17, product_id#18, store_id#19, MRP#20, state#21, country#22]\n",
            "Batched: false\n",
            "Location: InMemoryFileIndex [file:/content/drive/MyDrive/Abc/Ola_data/products.csv]\n",
            "ReadSchema: struct<product:string,store:string,product_id:string,store_id:string,MRP:string,state:string,country:string>\n",
            "\n",
            "(2) Exchange\n",
            "Input [7]: [product#16, store#17, product_id#18, store_id#19, MRP#20, state#21, country#22]\n",
            "Arguments: hashpartitioning(state#21, 200), ENSURE_REQUIREMENTS, [plan_id=205]\n",
            "\n",
            "(3) Sort\n",
            "Input [7]: [product#16, store#17, product_id#18, store_id#19, MRP#20, state#21, country#22]\n",
            "Arguments: [state#21 ASC NULLS FIRST, product_id#18 ASC NULLS FIRST], false, 0\n",
            "\n",
            "(4) Window\n",
            "Input [7]: [product#16, store#17, product_id#18, store_id#19, MRP#20, state#21, country#22]\n",
            "Arguments: [lag(MRP#20, -1, null) windowspecdefinition(state#21, product_id#18 ASC NULLS FIRST, specifiedwindowframe(RowFrame, -1, -1)) AS MRP_lag#213, lead(MRP#20, 1, null) windowspecdefinition(state#21, product_id#18 ASC NULLS FIRST, specifiedwindowframe(RowFrame, 1, 1)) AS MRp_lead#262], [state#21], [product_id#18 ASC NULLS FIRST]\n",
            "\n",
            "(5) AdaptiveSparkPlan\n",
            "Output [9]: [product#16, store#17, product_id#18, store_id#19, MRP#20, state#21, country#22, MRP_lag#213, MRp_lead#262]\n",
            "Arguments: isFinalPlan=false\n",
            "\n",
            "\n"
          ]
        }
      ]
    },
    {
      "cell_type": "markdown",
      "source": [
        "#####**END OF CODE**"
      ],
      "metadata": {
        "id": "-TTQkR8hNg8n"
      }
    }
  ]
}