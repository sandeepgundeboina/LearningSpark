{
  "nbformat": 4,
  "nbformat_minor": 0,
  "metadata": {
    "colab": {
      "provenance": [],
      "mount_file_id": "1_QJCEX8hJ1bsKm5VV7LNgJ8b5z6LXukT",
      "authorship_tag": "ABX9TyNoOrwQCz5p7C7S2rkjWnCy",
      "include_colab_link": true
    },
    "kernelspec": {
      "name": "python3",
      "display_name": "Python 3"
    },
    "language_info": {
      "name": "python"
    }
  },
  "cells": [
    {
      "cell_type": "markdown",
      "metadata": {
        "id": "view-in-github",
        "colab_type": "text"
      },
      "source": [
        "<a href=\"https://colab.research.google.com/github/sandeepgundeboina/LearningSpark/blob/main/SparkNullColumns.ipynb\" target=\"_parent\"><img src=\"https://colab.research.google.com/assets/colab-badge.svg\" alt=\"Open In Colab\"/></a>"
      ]
    },
    {
      "cell_type": "code",
      "execution_count": null,
      "metadata": {
        "colab": {
          "base_uri": "https://localhost:8080/",
          "height": 259
        },
        "id": "dAwqKoSkGX37",
        "outputId": "19afabf2-d4e8-4afa-f21e-826ee32588f5"
      },
      "outputs": [
        {
          "output_type": "stream",
          "name": "stdout",
          "text": [
            "Requirement already satisfied: pyspark in /usr/local/lib/python3.11/dist-packages (3.5.1)\n",
            "Requirement already satisfied: py4j==0.10.9.7 in /usr/local/lib/python3.11/dist-packages (from pyspark) (0.10.9.7)\n"
          ]
        },
        {
          "output_type": "execute_result",
          "data": {
            "text/plain": [
              "<pyspark.sql.session.SparkSession at 0x7e3bdeef3250>"
            ],
            "text/html": [
              "\n",
              "            <div>\n",
              "                <p><b>SparkSession - in-memory</b></p>\n",
              "                \n",
              "        <div>\n",
              "            <p><b>SparkContext</b></p>\n",
              "\n",
              "            <p><a href=\"http://76b38a384ed5:4040\">Spark UI</a></p>\n",
              "\n",
              "            <dl>\n",
              "              <dt>Version</dt>\n",
              "                <dd><code>v3.5.1</code></dd>\n",
              "              <dt>Master</dt>\n",
              "                <dd><code>local[*]</code></dd>\n",
              "              <dt>AppName</dt>\n",
              "                <dd><code>SparkNullColumns</code></dd>\n",
              "            </dl>\n",
              "        </div>\n",
              "        \n",
              "            </div>\n",
              "        "
            ]
          },
          "metadata": {},
          "execution_count": 11
        }
      ],
      "source": [
        "!pip install pyspark\n",
        "import pyspark\n",
        "from pyspark.sql import SparkSession\n",
        "spark = SparkSession.builder.appName('SparkNullColumns').getOrCreate()\n",
        "spark"
      ]
    },
    {
      "cell_type": "code",
      "source": [
        "from pyspark.sql.functions import *"
      ],
      "metadata": {
        "id": "MBcQoL6JJBoB"
      },
      "execution_count": null,
      "outputs": []
    },
    {
      "cell_type": "code",
      "source": [
        "df=spark.read.format('csv').option('header','true').option('inferSchema','true').load('/content/drive/MyDrive/Abc/Ola_data/products.csv')"
      ],
      "metadata": {
        "id": "pZc0odqhJNSP"
      },
      "execution_count": null,
      "outputs": []
    },
    {
      "cell_type": "code",
      "source": [
        "df.show()"
      ],
      "metadata": {
        "colab": {
          "base_uri": "https://localhost:8080/"
        },
        "id": "bZ0Bu2cwJdsD",
        "outputId": "31a2742f-030d-422b-d981-61c204e254cc"
      },
      "execution_count": null,
      "outputs": [
        {
          "output_type": "stream",
          "name": "stdout",
          "text": [
            "+-------------------+---------------+----------+--------+------+----------+-------+\n",
            "|            product|          store|product_id|store_id|   MRP|     state|country|\n",
            "+-------------------+---------------+----------+--------+------+----------+-------+\n",
            "|      Wired Earbuds|Electronics Hub|   PROD101| STORE01| 25.99|California|    USA|\n",
            "|   Portable Charger|    Mobile Mart|   PROD102| STORE02|  NULL|     Texas|    USA|\n",
            "|  Bluetooth Speaker|Electronics Hub|   PROD103| STORE01| 79.50|California|    USA|\n",
            "|   Smart Light Bulb|   Home Gadgets|   PROD104| STORE03| 15.00|   Florida|    USA|\n",
            "|               NULL|    Mobile Mart|   PROD105| STORE02| 49.99|     Texas|    USA|\n",
            "|     Wireless Mouse|Electronics Hub|   PROD106| STORE01|  NULL|California|    USA|\n",
            "|Mechanical Keyboard|      PC Palace|   PROD107| STORE04|120.00|  New York|    USA|\n",
            "|             Webcam|Electronics Hub|   PROD108| STORE01| 55.00|      NULL|    USA|\n",
            "|     Gaming Headset|      PC Palace|   PROD109| STORE04| 90.00|  New York|    USA|\n",
            "|      Monitor Stand|   Home Gadgets|   PROD110| STORE03| 29.99|   Florida|    USA|\n",
            "|         HDMI Cable|    Mobile Mart|   PROD111| STORE02|  NULL|     Texas|   NULL|\n",
            "|            USB Hub|Electronics Hub|   PROD112| STORE01|  NULL|California|    USA|\n",
            "|      Laptop Sleeve|      PC Palace|   PROD113| STORE04|  NULL|  New York|    USA|\n",
            "|       External SSD|Electronics Hub|   PROD114| STORE01|150.00|California|    USA|\n",
            "|        Power Strip|   Home Gadgets|   PROD115| STORE03|  NULL|   Florida|    USA|\n",
            "|           Desk Fan|    Mobile Mart|   PROD116| STORE02| 20.00|     Texas|    USA|\n",
            "|        Printer Ink|   Office Depot|   PROD117| STORE05|  NULL|  Illinois|    USA|\n",
            "|            Scanner|Electronics Hub|   PROD118| STORE01|180.00|California|   NULL|\n",
            "|          Projector|      PC Palace|   PROD119| STORE04|700.00|      NULL|    USA|\n",
            "|         Smart Plug|   Home Gadgets|   PROD120| STORE03| 12.00|   Florida|    USA|\n",
            "+-------------------+---------------+----------+--------+------+----------+-------+\n",
            "only showing top 20 rows\n",
            "\n"
          ]
        }
      ]
    },
    {
      "cell_type": "code",
      "source": [
        "# prompt: the out put is fishy\n",
        "\n",
        "import os\n",
        "\n",
        "# Make sure the Google Drive mount path is correct\n",
        "# If not already mounted, you might need to run from google.colab import drive; drive.mount('/content/drive')\n",
        "# Verify the file path\n",
        "file_path = '/content/drive/MyDrive/Abc/Ola_data/products.csv'\n",
        "if not os.path.exists(file_path):\n",
        "    print(f\"Error: File not found at {file_path}\")\n",
        "else:\n",
        "    try:\n",
        "        df=spark.read.format('csv').option('header','true').option('inferSchema','true').load(file_path)\n",
        "        df.show()\n",
        "        df.printSchema() # Good practice to see the inferred schema\n",
        "    except Exception as e:\n",
        "        print(f\"Error reading or showing DataFrame: {e}\")\n",
        "\n"
      ],
      "metadata": {
        "colab": {
          "base_uri": "https://localhost:8080/"
        },
        "id": "kl3f0T9HOwhR",
        "outputId": "ef47c20d-79e3-40a8-ef43-70f56876752d"
      },
      "execution_count": null,
      "outputs": [
        {
          "output_type": "stream",
          "name": "stdout",
          "text": [
            "+-------------------+---------------+----------+--------+------+----------+-------+\n",
            "|            product|          store|product_id|store_id|   MRP|     state|country|\n",
            "+-------------------+---------------+----------+--------+------+----------+-------+\n",
            "|      Wired Earbuds|Electronics Hub|   PROD101| STORE01| 25.99|California|    USA|\n",
            "|   Portable Charger|    Mobile Mart|   PROD102| STORE02|  NULL|     Texas|    USA|\n",
            "|  Bluetooth Speaker|Electronics Hub|   PROD103| STORE01| 79.50|California|    USA|\n",
            "|   Smart Light Bulb|   Home Gadgets|   PROD104| STORE03| 15.00|   Florida|    USA|\n",
            "|               NULL|    Mobile Mart|   PROD105| STORE02| 49.99|     Texas|    USA|\n",
            "|     Wireless Mouse|Electronics Hub|   PROD106| STORE01|  NULL|California|    USA|\n",
            "|Mechanical Keyboard|      PC Palace|   PROD107| STORE04|120.00|  New York|    USA|\n",
            "|             Webcam|Electronics Hub|   PROD108| STORE01| 55.00|      NULL|    USA|\n",
            "|     Gaming Headset|      PC Palace|   PROD109| STORE04| 90.00|  New York|    USA|\n",
            "|      Monitor Stand|   Home Gadgets|   PROD110| STORE03| 29.99|   Florida|    USA|\n",
            "|         HDMI Cable|    Mobile Mart|   PROD111| STORE02|  NULL|     Texas|   NULL|\n",
            "|            USB Hub|Electronics Hub|   PROD112| STORE01|  NULL|California|    USA|\n",
            "|      Laptop Sleeve|      PC Palace|   PROD113| STORE04|  NULL|  New York|    USA|\n",
            "|       External SSD|Electronics Hub|   PROD114| STORE01|150.00|California|    USA|\n",
            "|        Power Strip|   Home Gadgets|   PROD115| STORE03|  NULL|   Florida|    USA|\n",
            "|           Desk Fan|    Mobile Mart|   PROD116| STORE02| 20.00|     Texas|    USA|\n",
            "|        Printer Ink|   Office Depot|   PROD117| STORE05|  NULL|  Illinois|    USA|\n",
            "|            Scanner|Electronics Hub|   PROD118| STORE01|180.00|California|   NULL|\n",
            "|          Projector|      PC Palace|   PROD119| STORE04|700.00|      NULL|    USA|\n",
            "|         Smart Plug|   Home Gadgets|   PROD120| STORE03| 12.00|   Florida|    USA|\n",
            "+-------------------+---------------+----------+--------+------+----------+-------+\n",
            "only showing top 20 rows\n",
            "\n",
            "root\n",
            " |-- product: string (nullable = true)\n",
            " |-- store: string (nullable = true)\n",
            " |-- product_id: string (nullable = true)\n",
            " |-- store_id: string (nullable = true)\n",
            " |-- MRP: string (nullable = true)\n",
            " |-- state: string (nullable = true)\n",
            " |-- country: string (nullable = true)\n",
            "\n"
          ]
        }
      ]
    },
    {
      "cell_type": "code",
      "source": [
        "null_counts = []\n",
        "for column_name in df.columns:\n",
        "    null_counts.append(\n",
        "        df.where(col(column_name).isNull()).count()\n",
        "    )\n",
        "\n",
        "# You can then zip this with column names or create a new DataFrame\n",
        "null_summary = spark.createDataFrame(zip(df.columns, null_counts), [\"column_name\", \"null_count\"])\n",
        "null_summary.show()"
      ],
      "metadata": {
        "colab": {
          "base_uri": "https://localhost:8080/"
        },
        "id": "zOaMb2zDJf4z",
        "outputId": "3b59b843-9fcd-4a20-e090-b8a8467fa305"
      },
      "execution_count": null,
      "outputs": [
        {
          "output_type": "stream",
          "name": "stdout",
          "text": [
            "+-----------+----------+\n",
            "|column_name|null_count|\n",
            "+-----------+----------+\n",
            "|    product|         0|\n",
            "|      store|         0|\n",
            "| product_id|         0|\n",
            "|   store_id|         0|\n",
            "|        MRP|         0|\n",
            "|      state|         0|\n",
            "|    country|         0|\n",
            "+-----------+----------+\n",
            "\n"
          ]
        }
      ]
    },
    {
      "cell_type": "code",
      "source": [],
      "metadata": {
        "id": "gAR4tV0yKGDo"
      },
      "execution_count": null,
      "outputs": []
    }
  ]
}