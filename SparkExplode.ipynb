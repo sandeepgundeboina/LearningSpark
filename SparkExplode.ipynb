{
  "nbformat": 4,
  "nbformat_minor": 0,
  "metadata": {
    "colab": {
      "provenance": [],
      "authorship_tag": "ABX9TyMUWhozl9sXI4kyapHyoeWA",
      "include_colab_link": true
    },
    "kernelspec": {
      "name": "python3",
      "display_name": "Python 3"
    },
    "language_info": {
      "name": "python"
    }
  },
  "cells": [
    {
      "cell_type": "markdown",
      "metadata": {
        "id": "view-in-github",
        "colab_type": "text"
      },
      "source": [
        "<a href=\"https://colab.research.google.com/github/sandeepgundeboina/LearningSpark/blob/main/SparkExplode.ipynb\" target=\"_parent\"><img src=\"https://colab.research.google.com/assets/colab-badge.svg\" alt=\"Open In Colab\"/></a>"
      ]
    },
    {
      "cell_type": "code",
      "execution_count": 1,
      "metadata": {
        "colab": {
          "base_uri": "https://localhost:8080/"
        },
        "id": "sVDuMfqUzoPR",
        "outputId": "8ec5f2a3-5106-4887-8feb-6ae0d58e3401"
      },
      "outputs": [
        {
          "output_type": "stream",
          "name": "stdout",
          "text": [
            "Requirement already satisfied: pyspark in /usr/local/lib/python3.11/dist-packages (3.5.1)\n",
            "Requirement already satisfied: py4j==0.10.9.7 in /usr/local/lib/python3.11/dist-packages (from pyspark) (0.10.9.7)\n"
          ]
        }
      ],
      "source": [
        "!pip install pyspark"
      ]
    },
    {
      "cell_type": "code",
      "source": [
        "import pyspark\n",
        "from pyspark.sql import SparkSession\n",
        "spark = SparkSession.builder.appName('Explode').getOrCreate()"
      ],
      "metadata": {
        "id": "W1n0N4830F-9"
      },
      "execution_count": 2,
      "outputs": []
    },
    {
      "cell_type": "code",
      "source": [
        "arrayData = [\n",
        "        ('James',['fridge','washing','Tv','AC']),\n",
        "        ('Jolly',['fridge','Cooler','Tv',None]),\n",
        "        ('Julie',[None]),\n",
        "        ('Rox',['Fridge','Tv',None])]\n",
        "df=spark.createDataFrame(data=arrayData,schema=['name','appliance'])\n",
        "df.printSchema()\n",
        "df.show()\n"
      ],
      "metadata": {
        "colab": {
          "base_uri": "https://localhost:8080/"
        },
        "id": "M2emltJJ0bwh",
        "outputId": "de21aa54-6aa0-413c-e70c-02210eb635c5"
      },
      "execution_count": 3,
      "outputs": [
        {
          "output_type": "stream",
          "name": "stdout",
          "text": [
            "root\n",
            " |-- name: string (nullable = true)\n",
            " |-- appliance: array (nullable = true)\n",
            " |    |-- element: string (containsNull = true)\n",
            "\n",
            "+-----+--------------------+\n",
            "| name|           appliance|\n",
            "+-----+--------------------+\n",
            "|James|[fridge, washing,...|\n",
            "|Jolly|[fridge, Cooler, ...|\n",
            "|Julie|              [NULL]|\n",
            "|  Rox|  [Fridge, Tv, NULL]|\n",
            "+-----+--------------------+\n",
            "\n"
          ]
        }
      ]
    },
    {
      "cell_type": "code",
      "source": [
        "arrayBrand = [\n",
        "        ('James',{'fridge':'LG','washing':'Samsunf','Tv':'Sony','AC':'LG'}),\n",
        "        ('Jolly',{'fridge':'Haier','Cooler':'Symphony','Tv':''}),\n",
        "        ('Julie',None),\n",
        "        ('Rox',{'Fridge':'Bosch','Tv':'LG'})]\n",
        "df_br=spark.createDataFrame(data=arrayBrand,schema=['name','Brand'])\n",
        "df_br.printSchema()\n",
        "df_br.show()"
      ],
      "metadata": {
        "colab": {
          "base_uri": "https://localhost:8080/"
        },
        "id": "hsi6Lwia1o3N",
        "outputId": "1cc5b8ff-06c8-4bd6-cb2a-42eecedc91d3"
      },
      "execution_count": 4,
      "outputs": [
        {
          "output_type": "stream",
          "name": "stdout",
          "text": [
            "root\n",
            " |-- name: string (nullable = true)\n",
            " |-- Brand: map (nullable = true)\n",
            " |    |-- key: string\n",
            " |    |-- value: string (valueContainsNull = true)\n",
            "\n",
            "+-----+--------------------+\n",
            "| name|               Brand|\n",
            "+-----+--------------------+\n",
            "|James|{AC -> LG, Tv -> ...|\n",
            "|Jolly|{Tv -> , Cooler -...|\n",
            "|Julie|                NULL|\n",
            "|  Rox|{Tv -> LG, Fridge...|\n",
            "+-----+--------------------+\n",
            "\n"
          ]
        }
      ]
    },
    {
      "cell_type": "code",
      "source": [
        "from pyspark.sql.functions import *"
      ],
      "metadata": {
        "id": "20Q4HXEL2N7n"
      },
      "execution_count": 5,
      "outputs": []
    },
    {
      "cell_type": "code",
      "source": [
        "df2=df.select(df.name,explode(df.appliance))\n",
        "df2.show()\n",
        "df2.printSchema()"
      ],
      "metadata": {
        "colab": {
          "base_uri": "https://localhost:8080/"
        },
        "id": "eFt25Tt_3rfU",
        "outputId": "82bcd9d3-745b-4548-b080-1bace4ff5e86"
      },
      "execution_count": 6,
      "outputs": [
        {
          "output_type": "stream",
          "name": "stdout",
          "text": [
            "+-----+-------+\n",
            "| name|    col|\n",
            "+-----+-------+\n",
            "|James| fridge|\n",
            "|James|washing|\n",
            "|James|     Tv|\n",
            "|James|     AC|\n",
            "|Jolly| fridge|\n",
            "|Jolly| Cooler|\n",
            "|Jolly|     Tv|\n",
            "|Jolly|   NULL|\n",
            "|Julie|   NULL|\n",
            "|  Rox| Fridge|\n",
            "|  Rox|     Tv|\n",
            "|  Rox|   NULL|\n",
            "+-----+-------+\n",
            "\n",
            "root\n",
            " |-- name: string (nullable = true)\n",
            " |-- col: string (nullable = true)\n",
            "\n"
          ]
        }
      ]
    },
    {
      "cell_type": "markdown",
      "source": [
        "    Basic Explode"
      ],
      "metadata": {
        "id": "wrpNXnkL5sWt"
      }
    },
    {
      "cell_type": "code",
      "source": [
        "df2=df_br.select(df_br.name,explode(df_br.Brand,))\n",
        "df2.show()\n",
        "df2.printSchema()"
      ],
      "metadata": {
        "colab": {
          "base_uri": "https://localhost:8080/"
        },
        "id": "yjaUBOev4Hlx",
        "outputId": "179689be-90b5-4574-992c-29208d6e6bdc"
      },
      "execution_count": 7,
      "outputs": [
        {
          "output_type": "stream",
          "name": "stdout",
          "text": [
            "+-----+-------+--------+\n",
            "| name|    key|   value|\n",
            "+-----+-------+--------+\n",
            "|James|     AC|      LG|\n",
            "|James|     Tv|    Sony|\n",
            "|James|washing| Samsunf|\n",
            "|James| fridge|      LG|\n",
            "|Jolly|     Tv|        |\n",
            "|Jolly| Cooler|Symphony|\n",
            "|Jolly| fridge|   Haier|\n",
            "|  Rox|     Tv|      LG|\n",
            "|  Rox| Fridge|   Bosch|\n",
            "+-----+-------+--------+\n",
            "\n",
            "root\n",
            " |-- name: string (nullable = true)\n",
            " |-- key: string (nullable = false)\n",
            " |-- value: string (nullable = true)\n",
            "\n"
          ]
        }
      ]
    },
    {
      "cell_type": "markdown",
      "source": [
        "    Explode_outer"
      ],
      "metadata": {
        "id": "m8T9Zo8i5psK"
      }
    },
    {
      "cell_type": "code",
      "source": [
        "df2=df_br.select(df_br.name,explode_outer(df_br.Brand,))\n",
        "df2.show()\n",
        "df2.printSchema()"
      ],
      "metadata": {
        "colab": {
          "base_uri": "https://localhost:8080/"
        },
        "id": "aOFMKCu55NmD",
        "outputId": "cfe913e1-78b7-4c7c-ac70-4fd4193f4738"
      },
      "execution_count": 8,
      "outputs": [
        {
          "output_type": "stream",
          "name": "stdout",
          "text": [
            "+-----+-------+--------+\n",
            "| name|    key|   value|\n",
            "+-----+-------+--------+\n",
            "|James|     AC|      LG|\n",
            "|James|     Tv|    Sony|\n",
            "|James|washing| Samsunf|\n",
            "|James| fridge|      LG|\n",
            "|Jolly|     Tv|        |\n",
            "|Jolly| Cooler|Symphony|\n",
            "|Jolly| fridge|   Haier|\n",
            "|Julie|   NULL|    NULL|\n",
            "|  Rox|     Tv|      LG|\n",
            "|  Rox| Fridge|   Bosch|\n",
            "+-----+-------+--------+\n",
            "\n",
            "root\n",
            " |-- name: string (nullable = true)\n",
            " |-- key: string (nullable = true)\n",
            " |-- value: string (nullable = true)\n",
            "\n"
          ]
        }
      ]
    },
    {
      "cell_type": "markdown",
      "source": [
        "    Positional explode"
      ],
      "metadata": {
        "id": "8sF4oBho6CBi"
      }
    },
    {
      "cell_type": "code",
      "source": [
        "df2=df.select(df.name,posexplode(df.appliance))\n",
        "df2.show()\n",
        "df2.printSchema()"
      ],
      "metadata": {
        "colab": {
          "base_uri": "https://localhost:8080/"
        },
        "id": "mZNZKN1-5l8L",
        "outputId": "2834ffa9-eba5-4564-e732-52189a4c8817"
      },
      "execution_count": 9,
      "outputs": [
        {
          "output_type": "stream",
          "name": "stdout",
          "text": [
            "+-----+---+-------+\n",
            "| name|pos|    col|\n",
            "+-----+---+-------+\n",
            "|James|  0| fridge|\n",
            "|James|  1|washing|\n",
            "|James|  2|     Tv|\n",
            "|James|  3|     AC|\n",
            "|Jolly|  0| fridge|\n",
            "|Jolly|  1| Cooler|\n",
            "|Jolly|  2|     Tv|\n",
            "|Jolly|  3|   NULL|\n",
            "|Julie|  0|   NULL|\n",
            "|  Rox|  0| Fridge|\n",
            "|  Rox|  1|     Tv|\n",
            "|  Rox|  2|   NULL|\n",
            "+-----+---+-------+\n",
            "\n",
            "root\n",
            " |-- name: string (nullable = true)\n",
            " |-- pos: integer (nullable = false)\n",
            " |-- col: string (nullable = true)\n",
            "\n"
          ]
        }
      ]
    },
    {
      "cell_type": "code",
      "source": [
        "df2=df_br.select(df_br.name,posexplode(df_br.Brand))\n",
        "df2.show()\n",
        "df2.printSchema()"
      ],
      "metadata": {
        "colab": {
          "base_uri": "https://localhost:8080/"
        },
        "id": "k1iRmglB6JBv",
        "outputId": "32e39316-4e42-4982-cd2e-1e0ebfc08a84"
      },
      "execution_count": 10,
      "outputs": [
        {
          "output_type": "stream",
          "name": "stdout",
          "text": [
            "+-----+---+-------+--------+\n",
            "| name|pos|    key|   value|\n",
            "+-----+---+-------+--------+\n",
            "|James|  0|     AC|      LG|\n",
            "|James|  1|     Tv|    Sony|\n",
            "|James|  2|washing| Samsunf|\n",
            "|James|  3| fridge|      LG|\n",
            "|Jolly|  0|     Tv|        |\n",
            "|Jolly|  1| Cooler|Symphony|\n",
            "|Jolly|  2| fridge|   Haier|\n",
            "|  Rox|  0|     Tv|      LG|\n",
            "|  Rox|  1| Fridge|   Bosch|\n",
            "+-----+---+-------+--------+\n",
            "\n",
            "root\n",
            " |-- name: string (nullable = true)\n",
            " |-- pos: integer (nullable = false)\n",
            " |-- key: string (nullable = false)\n",
            " |-- value: string (nullable = true)\n",
            "\n"
          ]
        }
      ]
    },
    {
      "cell_type": "markdown",
      "source": [
        "    PosExplode_oiuter"
      ],
      "metadata": {
        "id": "fTZBNYc36VIm"
      }
    },
    {
      "cell_type": "code",
      "source": [
        "df2=df_br.select(df_br.name,posexplode_outer(df_br.Brand))\n",
        "df2.show()\n",
        "df2.printSchema()"
      ],
      "metadata": {
        "colab": {
          "base_uri": "https://localhost:8080/"
        },
        "id": "6KkTQWKY6TTO",
        "outputId": "729d8d60-a24b-4fec-cbd1-33880af7e165"
      },
      "execution_count": 11,
      "outputs": [
        {
          "output_type": "stream",
          "name": "stdout",
          "text": [
            "+-----+----+-------+--------+\n",
            "| name| pos|    key|   value|\n",
            "+-----+----+-------+--------+\n",
            "|James|   0|     AC|      LG|\n",
            "|James|   1|     Tv|    Sony|\n",
            "|James|   2|washing| Samsunf|\n",
            "|James|   3| fridge|      LG|\n",
            "|Jolly|   0|     Tv|        |\n",
            "|Jolly|   1| Cooler|Symphony|\n",
            "|Jolly|   2| fridge|   Haier|\n",
            "|Julie|NULL|   NULL|    NULL|\n",
            "|  Rox|   0|     Tv|      LG|\n",
            "|  Rox|   1| Fridge|   Bosch|\n",
            "+-----+----+-------+--------+\n",
            "\n",
            "root\n",
            " |-- name: string (nullable = true)\n",
            " |-- pos: integer (nullable = true)\n",
            " |-- key: string (nullable = true)\n",
            " |-- value: string (nullable = true)\n",
            "\n"
          ]
        }
      ]
    },
    {
      "cell_type": "markdown",
      "source": [
        "    End of Explode FUnction"
      ],
      "metadata": {
        "id": "Tw0BiuQ96lIZ"
      }
    }
  ]
}