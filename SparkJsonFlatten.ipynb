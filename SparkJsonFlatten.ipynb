{
  "nbformat": 4,
  "nbformat_minor": 0,
  "metadata": {
    "colab": {
      "provenance": [],
      "mount_file_id": "1lZW39JKMj5WIdW4inXh5HeJAUwI-Bnr5",
      "authorship_tag": "ABX9TyOk5A3W73XC7+ZI2s4Zu86P",
      "include_colab_link": true
    },
    "kernelspec": {
      "name": "python3",
      "display_name": "Python 3"
    },
    "language_info": {
      "name": "python"
    }
  },
  "cells": [
    {
      "cell_type": "markdown",
      "metadata": {
        "id": "view-in-github",
        "colab_type": "text"
      },
      "source": [
        "<a href=\"https://colab.research.google.com/github/sandeepgundeboina/LearningSpark/blob/main/SparkJsonFlatten.ipynb\" target=\"_parent\"><img src=\"https://colab.research.google.com/assets/colab-badge.svg\" alt=\"Open In Colab\"/></a>"
      ]
    },
    {
      "cell_type": "code",
      "execution_count": 1,
      "metadata": {
        "colab": {
          "base_uri": "https://localhost:8080/"
        },
        "id": "lHU7iehN2W_d",
        "outputId": "1340c2dd-f811-452b-8d49-5fd97714589a"
      },
      "outputs": [
        {
          "output_type": "stream",
          "name": "stdout",
          "text": [
            "Requirement already satisfied: pyspark in /usr/local/lib/python3.11/dist-packages (3.5.1)\n",
            "Requirement already satisfied: py4j==0.10.9.7 in /usr/local/lib/python3.11/dist-packages (from pyspark) (0.10.9.7)\n"
          ]
        }
      ],
      "source": [
        "!pip install pyspark"
      ]
    },
    {
      "cell_type": "code",
      "source": [
        "import pyspark\n",
        "from pyspark.sql import SparkSession\n",
        "spark = SparkSession.builder.appName('SparkJsonFlatten').getOrCreate()"
      ],
      "metadata": {
        "id": "BKYw69QN2iGj"
      },
      "execution_count": 2,
      "outputs": []
    },
    {
      "cell_type": "code",
      "source": [
        "data=[{\n",
        "\t\t\"id\": \"0001\",\n",
        "\t\t\"type\": \"donut\",\n",
        "\t\t\"name\": \"Cake\",\n",
        "\t\t\"ppu\": 0.55,\n",
        "\t\t\"batters\":\n",
        "\t\t\t{\n",
        "\t\t\t\t\"batter\":\n",
        "\t\t\t\t\t[\n",
        "\t\t\t\t\t\t{ \"id\": \"1001\", \"type\": \"Regular\" },\n",
        "\t\t\t\t\t\t{ \"id\": \"1002\", \"type\": \"Chocolate\" },\n",
        "\t\t\t\t\t\t{ \"id\": \"1003\", \"type\": \"Blueberry\" },\n",
        "\t\t\t\t\t\t{ \"id\": \"1004\", \"type\": \"Devil's Food\" }\n",
        "\t\t\t\t\t]\n",
        "\t\t\t},\n",
        "\t\t\"topping\":\n",
        "\t\t\t[\n",
        "\t\t\t\t{ \"id\": \"5001\", \"type\": \"None\" },\n",
        "\t\t\t\t{ \"id\": \"5002\", \"type\": \"Glazed\" },\n",
        "\t\t\t\t{ \"id\": \"5005\", \"type\": \"Sugar\" },\n",
        "\t\t\t\t{ \"id\": \"5007\", \"type\": \"Powdered Sugar\" },\n",
        "\t\t\t\t{ \"id\": \"5006\", \"type\": \"Chocolate with Sprinkles\" },\n",
        "\t\t\t\t{ \"id\": \"5003\", \"type\": \"Chocolate\" },\n",
        "\t\t\t\t{ \"id\": \"5004\", \"type\": \"Maple\" }\n",
        "\t\t\t]\n",
        "\t},\n",
        "\t{\n",
        "\t\t\"id\": \"0002\",\n",
        "\t\t\"type\": \"donut\",\n",
        "\t\t\"name\": \"Raised\",\n",
        "\t\t\"ppu\": 0.55,\n",
        "\t\t\"batters\":\n",
        "\t\t\t{\n",
        "\t\t\t\t\"batter\":\n",
        "\t\t\t\t\t[\n",
        "\t\t\t\t\t\t{ \"id\": \"1001\", \"type\": \"Regular\" }\n",
        "\t\t\t\t\t]\n",
        "\t\t\t},\n",
        "\t\t\"topping\":\n",
        "\t\t\t[\n",
        "\t\t\t\t{ \"id\": \"5001\", \"type\": \"None\" },\n",
        "\t\t\t\t{ \"id\": \"5002\", \"type\": \"Glazed\" },\n",
        "\t\t\t\t{ \"id\": \"5005\", \"type\": \"Sugar\" },\n",
        "\t\t\t\t{ \"id\": \"5003\", \"type\": \"Chocolate\" },\n",
        "\t\t\t\t{ \"id\": \"5004\", \"type\": \"Maple\" }\n",
        "\t\t\t]\n",
        "\t},\n",
        "\t{\n",
        "\t\t\"id\": \"0003\",\n",
        "\t\t\"type\": \"donut\",\n",
        "\t\t\"name\": \"Old Fashioned\",\n",
        "\t\t\"ppu\": 0.55,\n",
        "\t\t\"batters\":\n",
        "\t\t\t{\n",
        "\t\t\t\t\"batter\":\n",
        "\t\t\t\t\t[\n",
        "\t\t\t\t\t\t{ \"id\": \"1001\", \"type\": \"Regular\" },\n",
        "\t\t\t\t\t\t{ \"id\": \"1002\", \"type\": \"Chocolate\" }\n",
        "\t\t\t\t\t]\n",
        "\t\t\t},\n",
        "\t\t\"topping\":\n",
        "\t\t\t[\n",
        "\t\t\t\t{ \"id\": \"5001\", \"type\": \"None\" },\n",
        "\t\t\t\t{ \"id\": \"5002\", \"type\": \"Glazed\" },\n",
        "\t\t\t\t{ \"id\": \"5003\", \"type\": \"Chocolate\" },\n",
        "\t\t\t\t{ \"id\": \"5004\", \"type\": \"Maple\" }\n",
        "\t\t\t]\n",
        "\t}]"
      ],
      "metadata": {
        "id": "5s_SmMO62sQ3"
      },
      "execution_count": 4,
      "outputs": []
    },
    {
      "cell_type": "code",
      "source": [
        "import json\n",
        "json_data = [json.dumps(record) for record in data]\n",
        "rdd = spark.sparkContext.parallelize(json_data)\n"
      ],
      "metadata": {
        "id": "q7Vu5KAP3LyV"
      },
      "execution_count": 5,
      "outputs": []
    },
    {
      "cell_type": "code",
      "source": [
        "df = spark.read.json(rdd)\n",
        "df.show()"
      ],
      "metadata": {
        "colab": {
          "base_uri": "https://localhost:8080/"
        },
        "id": "MCa7nJoS37ct",
        "outputId": "1919f0c5-a2f4-45ec-887f-543841948d2f"
      },
      "execution_count": 6,
      "outputs": [
        {
          "output_type": "stream",
          "name": "stdout",
          "text": [
            "+--------------------+----+-------------+----+--------------------+-----+\n",
            "|             batters|  id|         name| ppu|             topping| type|\n",
            "+--------------------+----+-------------+----+--------------------+-----+\n",
            "|{[{1001, Regular}...|0001|         Cake|0.55|[{5001, None}, {5...|donut|\n",
            "| {[{1001, Regular}]}|0002|       Raised|0.55|[{5001, None}, {5...|donut|\n",
            "|{[{1001, Regular}...|0003|Old Fashioned|0.55|[{5001, None}, {5...|donut|\n",
            "+--------------------+----+-------------+----+--------------------+-----+\n",
            "\n"
          ]
        }
      ]
    },
    {
      "cell_type": "code",
      "source": [
        "from pyspark.sql.functions import explode, col\n",
        "\n",
        "# Explode batters\n",
        "df_exploded = df.withColumn(\"batter\", explode(col(\"batters.batter\"))) \\\n",
        "                .withColumn(\"topping\", explode(col(\"topping\")))\n",
        "\n",
        "# Select and flatten fields\n",
        "df_flat = df_exploded.select(\n",
        "    \"id\", \"type\", \"name\", \"ppu\",\n",
        "    col(\"batter.id\").alias(\"batter_id\"),\n",
        "    col(\"batter.type\").alias(\"batter_type\"),\n",
        "    col(\"topping.id\").alias(\"topping_id\"),\n",
        "    col(\"topping.type\").alias(\"topping_type\")\n",
        ")\n",
        "\n",
        "df_flat.show(truncate=False)\n"
      ],
      "metadata": {
        "colab": {
          "base_uri": "https://localhost:8080/"
        },
        "id": "wf8x9OUY5zQF",
        "outputId": "fe36aaf6-ebd6-47e6-854e-3019276e59b6"
      },
      "execution_count": 7,
      "outputs": [
        {
          "output_type": "stream",
          "name": "stdout",
          "text": [
            "+----+-----+----+----+---------+-----------+----------+------------------------+\n",
            "|id  |type |name|ppu |batter_id|batter_type|topping_id|topping_type            |\n",
            "+----+-----+----+----+---------+-----------+----------+------------------------+\n",
            "|0001|donut|Cake|0.55|1001     |Regular    |5001      |None                    |\n",
            "|0001|donut|Cake|0.55|1001     |Regular    |5002      |Glazed                  |\n",
            "|0001|donut|Cake|0.55|1001     |Regular    |5005      |Sugar                   |\n",
            "|0001|donut|Cake|0.55|1001     |Regular    |5007      |Powdered Sugar          |\n",
            "|0001|donut|Cake|0.55|1001     |Regular    |5006      |Chocolate with Sprinkles|\n",
            "|0001|donut|Cake|0.55|1001     |Regular    |5003      |Chocolate               |\n",
            "|0001|donut|Cake|0.55|1001     |Regular    |5004      |Maple                   |\n",
            "|0001|donut|Cake|0.55|1002     |Chocolate  |5001      |None                    |\n",
            "|0001|donut|Cake|0.55|1002     |Chocolate  |5002      |Glazed                  |\n",
            "|0001|donut|Cake|0.55|1002     |Chocolate  |5005      |Sugar                   |\n",
            "|0001|donut|Cake|0.55|1002     |Chocolate  |5007      |Powdered Sugar          |\n",
            "|0001|donut|Cake|0.55|1002     |Chocolate  |5006      |Chocolate with Sprinkles|\n",
            "|0001|donut|Cake|0.55|1002     |Chocolate  |5003      |Chocolate               |\n",
            "|0001|donut|Cake|0.55|1002     |Chocolate  |5004      |Maple                   |\n",
            "|0001|donut|Cake|0.55|1003     |Blueberry  |5001      |None                    |\n",
            "|0001|donut|Cake|0.55|1003     |Blueberry  |5002      |Glazed                  |\n",
            "|0001|donut|Cake|0.55|1003     |Blueberry  |5005      |Sugar                   |\n",
            "|0001|donut|Cake|0.55|1003     |Blueberry  |5007      |Powdered Sugar          |\n",
            "|0001|donut|Cake|0.55|1003     |Blueberry  |5006      |Chocolate with Sprinkles|\n",
            "|0001|donut|Cake|0.55|1003     |Blueberry  |5003      |Chocolate               |\n",
            "+----+-----+----+----+---------+-----------+----------+------------------------+\n",
            "only showing top 20 rows\n",
            "\n"
          ]
        }
      ]
    },
    {
      "cell_type": "code",
      "source": [
        "df2=spark.read.option(\"multiline\",\"true\").json(\"/content/drive/MyDrive/Abc/postgreSQL/total-alcohol-consumption-per-capita-litres-of-pure-alcohol.metadata.json\")\n",
        "df2.show(  )"
      ],
      "metadata": {
        "colab": {
          "base_uri": "https://localhost:8080/"
        },
        "id": "WGGXvC7-6QS5",
        "outputId": "fa41e03d-5682-426d-9ff7-a2ec99b811c8"
      },
      "execution_count": 8,
      "outputs": [
        {
          "output_type": "stream",
          "name": "stdout",
          "text": [
            "+--------------------+--------------------+--------------+\n",
            "|               chart|             columns|dateDownloaded|\n",
            "+--------------------+--------------------+--------------+\n",
            "|{World Health Org...|{{World Health Or...|    2025-03-12|\n",
            "+--------------------+--------------------+--------------+\n",
            "\n"
          ]
        }
      ]
    },
    {
      "cell_type": "code",
      "source": [],
      "metadata": {
        "id": "eUTAhe658fBy"
      },
      "execution_count": null,
      "outputs": []
    }
  ]
}