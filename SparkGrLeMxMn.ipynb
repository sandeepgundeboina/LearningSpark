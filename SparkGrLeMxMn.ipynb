{
  "nbformat": 4,
  "nbformat_minor": 0,
  "metadata": {
    "colab": {
      "provenance": [],
      "authorship_tag": "ABX9TyP+Q/aY4jW7VVa3BNojsTTm",
      "include_colab_link": true
    },
    "kernelspec": {
      "name": "python3",
      "display_name": "Python 3"
    },
    "language_info": {
      "name": "python"
    }
  },
  "cells": [
    {
      "cell_type": "markdown",
      "metadata": {
        "id": "view-in-github",
        "colab_type": "text"
      },
      "source": [
        "<a href=\"https://colab.research.google.com/github/sandeepgundeboina/LearningSpark/blob/main/SparkGrLeMxMn.ipynb\" target=\"_parent\"><img src=\"https://colab.research.google.com/assets/colab-badge.svg\" alt=\"Open In Colab\"/></a>"
      ]
    },
    {
      "cell_type": "code",
      "execution_count": 1,
      "metadata": {
        "id": "rXhvjSicPAkw"
      },
      "outputs": [],
      "source": [
        "import pyspark\n",
        "from pyspark.sql import SparkSession\n",
        "spark = SparkSession.builder.appName('SparkGrLeMxMn').getOrCreate()"
      ]
    },
    {
      "cell_type": "code",
      "source": [
        "spark"
      ],
      "metadata": {
        "colab": {
          "base_uri": "https://localhost:8080/",
          "height": 222
        },
        "id": "QRYCz3L3PXWv",
        "outputId": "5f1e5189-6691-4f5c-e436-3c958aa8a05b"
      },
      "execution_count": 2,
      "outputs": [
        {
          "output_type": "execute_result",
          "data": {
            "text/plain": [
              "<pyspark.sql.session.SparkSession at 0x7f2d7bc3bdd0>"
            ],
            "text/html": [
              "\n",
              "            <div>\n",
              "                <p><b>SparkSession - in-memory</b></p>\n",
              "                \n",
              "        <div>\n",
              "            <p><b>SparkContext</b></p>\n",
              "\n",
              "            <p><a href=\"http://78d8ddfd04b7:4040\">Spark UI</a></p>\n",
              "\n",
              "            <dl>\n",
              "              <dt>Version</dt>\n",
              "                <dd><code>v3.5.1</code></dd>\n",
              "              <dt>Master</dt>\n",
              "                <dd><code>local[*]</code></dd>\n",
              "              <dt>AppName</dt>\n",
              "                <dd><code>SparkGrLeMxMn</code></dd>\n",
              "            </dl>\n",
              "        </div>\n",
              "        \n",
              "            </div>\n",
              "        "
            ]
          },
          "metadata": {},
          "execution_count": 2
        }
      ]
    },
    {
      "cell_type": "code",
      "source": [
        "student_data = [\n",
        "    (\"Rahul Sharma\", 85, 92, 78, 88, 95),\n",
        "    (\"Priya Patel\", 91, 87, 94, 89, 90),\n",
        "    (\"Amit Singh\", 76, 81, 68, 72, 79),\n",
        "    (\"Anjali Gupta\", 95, 98, 96, 97, 94),\n",
        "    (\"Vikram Kumar\", 82, 85, 80, 75, 88)\n",
        "]\n",
        "schema=['name','sub1','sub2','sub3','sub4','sub5']\n",
        "df = spark.createDataFrame(data=student_data, schema=schema)\n",
        "df.printSchema()\n",
        "df.show()"
      ],
      "metadata": {
        "colab": {
          "base_uri": "https://localhost:8080/"
        },
        "id": "mN4vhdcXPYaf",
        "outputId": "5fc72aa7-2927-4864-edf1-4cfcec5f505e"
      },
      "execution_count": 3,
      "outputs": [
        {
          "output_type": "stream",
          "name": "stdout",
          "text": [
            "root\n",
            " |-- name: string (nullable = true)\n",
            " |-- sub1: long (nullable = true)\n",
            " |-- sub2: long (nullable = true)\n",
            " |-- sub3: long (nullable = true)\n",
            " |-- sub4: long (nullable = true)\n",
            " |-- sub5: long (nullable = true)\n",
            "\n",
            "+------------+----+----+----+----+----+\n",
            "|        name|sub1|sub2|sub3|sub4|sub5|\n",
            "+------------+----+----+----+----+----+\n",
            "|Rahul Sharma|  85|  92|  78|  88|  95|\n",
            "| Priya Patel|  91|  87|  94|  89|  90|\n",
            "|  Amit Singh|  76|  81|  68|  72|  79|\n",
            "|Anjali Gupta|  95|  98|  96|  97|  94|\n",
            "|Vikram Kumar|  82|  85|  80|  75|  88|\n",
            "+------------+----+----+----+----+----+\n",
            "\n"
          ]
        }
      ]
    },
    {
      "cell_type": "code",
      "source": [
        "from pyspark.sql.functions import *"
      ],
      "metadata": {
        "id": "s_sJ4TBCQrUu"
      },
      "execution_count": 4,
      "outputs": []
    },
    {
      "cell_type": "markdown",
      "source": [
        "Greatest and Least are pyspark functions where these are applied on row level, it will return the greatest and least values among on row level"
      ],
      "metadata": {
        "id": "HqBjoDYIULZ_"
      }
    },
    {
      "cell_type": "code",
      "source": [
        "greatDf=df.withColumn('great',greatest('sub1','sub2','sub3','sub4','sub5'))\n",
        "greatDf.show()"
      ],
      "metadata": {
        "colab": {
          "base_uri": "https://localhost:8080/"
        },
        "id": "ZzFc0i7rSRu8",
        "outputId": "9709da28-5808-426d-ad0d-cdab0011e63b"
      },
      "execution_count": 5,
      "outputs": [
        {
          "output_type": "stream",
          "name": "stdout",
          "text": [
            "+------------+----+----+----+----+----+-----+\n",
            "|        name|sub1|sub2|sub3|sub4|sub5|great|\n",
            "+------------+----+----+----+----+----+-----+\n",
            "|Rahul Sharma|  85|  92|  78|  88|  95|   95|\n",
            "| Priya Patel|  91|  87|  94|  89|  90|   94|\n",
            "|  Amit Singh|  76|  81|  68|  72|  79|   81|\n",
            "|Anjali Gupta|  95|  98|  96|  97|  94|   98|\n",
            "|Vikram Kumar|  82|  85|  80|  75|  88|   88|\n",
            "+------------+----+----+----+----+----+-----+\n",
            "\n"
          ]
        }
      ]
    },
    {
      "cell_type": "code",
      "source": [
        "leastDf=df.withColumn('least',least('sub1','sub2','sub3','sub4','sub5'))\n",
        "leastDf.show()"
      ],
      "metadata": {
        "colab": {
          "base_uri": "https://localhost:8080/"
        },
        "id": "rTg2YVmbSYyR",
        "outputId": "97ae92d5-7589-4f42-c49d-37a02c3891ba"
      },
      "execution_count": 6,
      "outputs": [
        {
          "output_type": "stream",
          "name": "stdout",
          "text": [
            "+------------+----+----+----+----+----+-----+\n",
            "|        name|sub1|sub2|sub3|sub4|sub5|least|\n",
            "+------------+----+----+----+----+----+-----+\n",
            "|Rahul Sharma|  85|  92|  78|  88|  95|   78|\n",
            "| Priya Patel|  91|  87|  94|  89|  90|   87|\n",
            "|  Amit Singh|  76|  81|  68|  72|  79|   68|\n",
            "|Anjali Gupta|  95|  98|  96|  97|  94|   94|\n",
            "|Vikram Kumar|  82|  85|  80|  75|  88|   75|\n",
            "+------------+----+----+----+----+----+-----+\n",
            "\n"
          ]
        }
      ]
    },
    {
      "cell_type": "code",
      "source": [
        "avgMarksDf = df.withColumn('avg', (col('sub1') + col('sub2') + col('sub3') + col('sub4') + col('sub5')) / 5)\n",
        "avgMarksDf.show()"
      ],
      "metadata": {
        "colab": {
          "base_uri": "https://localhost:8080/"
        },
        "id": "W9SZk_xiS1Ua",
        "outputId": "442abed5-50e6-4dc0-a8f9-85363c43c0d1"
      },
      "execution_count": 7,
      "outputs": [
        {
          "output_type": "stream",
          "name": "stdout",
          "text": [
            "+------------+----+----+----+----+----+----+\n",
            "|        name|sub1|sub2|sub3|sub4|sub5| avg|\n",
            "+------------+----+----+----+----+----+----+\n",
            "|Rahul Sharma|  85|  92|  78|  88|  95|87.6|\n",
            "| Priya Patel|  91|  87|  94|  89|  90|90.2|\n",
            "|  Amit Singh|  76|  81|  68|  72|  79|75.2|\n",
            "|Anjali Gupta|  95|  98|  96|  97|  94|96.0|\n",
            "|Vikram Kumar|  82|  85|  80|  75|  88|82.0|\n",
            "+------------+----+----+----+----+----+----+\n",
            "\n"
          ]
        }
      ]
    },
    {
      "cell_type": "markdown",
      "source": [
        "Where as Max and Min are column level, it return maximum value and minimum value within the column."
      ],
      "metadata": {
        "id": "LgiC5fOwUbj3"
      }
    },
    {
      "cell_type": "code",
      "source": [
        "df.agg({'sub1':'max','sub2':'max','sub3':'max','sub4':'max','sub5':'max'}).show()"
      ],
      "metadata": {
        "colab": {
          "base_uri": "https://localhost:8080/"
        },
        "id": "zIb0tJ0dSgNJ",
        "outputId": "9e6215bd-94f7-4c4e-f10a-f3063144edb5"
      },
      "execution_count": 8,
      "outputs": [
        {
          "output_type": "stream",
          "name": "stdout",
          "text": [
            "+---------+---------+---------+---------+---------+\n",
            "|max(sub1)|max(sub4)|max(sub5)|max(sub3)|max(sub2)|\n",
            "+---------+---------+---------+---------+---------+\n",
            "|       95|       97|       95|       96|       98|\n",
            "+---------+---------+---------+---------+---------+\n",
            "\n"
          ]
        }
      ]
    },
    {
      "cell_type": "code",
      "source": [
        "df.agg({'sub1':'min','sub2':'min','sub3':'min','sub4':'min','sub5':'min'}).show()"
      ],
      "metadata": {
        "colab": {
          "base_uri": "https://localhost:8080/"
        },
        "id": "VXgdsi4gSsnq",
        "outputId": "d5ad0ba6-a99d-4942-8901-c29c5b43d4a7"
      },
      "execution_count": 9,
      "outputs": [
        {
          "output_type": "stream",
          "name": "stdout",
          "text": [
            "+---------+---------+---------+---------+---------+\n",
            "|min(sub1)|min(sub4)|min(sub5)|min(sub3)|min(sub2)|\n",
            "+---------+---------+---------+---------+---------+\n",
            "|       76|       72|       79|       68|       81|\n",
            "+---------+---------+---------+---------+---------+\n",
            "\n"
          ]
        }
      ]
    },
    {
      "cell_type": "code",
      "source": [
        "df.agg({'sub1':'max','sub2':'min','sub3':'max','sub4':'max','sub5':'max'}).show()"
      ],
      "metadata": {
        "colab": {
          "base_uri": "https://localhost:8080/"
        },
        "id": "YHusJT0uT1l0",
        "outputId": "3f12536f-e4eb-4b0e-f481-7d630598e3af"
      },
      "execution_count": 10,
      "outputs": [
        {
          "output_type": "stream",
          "name": "stdout",
          "text": [
            "+---------+---------+---------+---------+---------+\n",
            "|max(sub1)|max(sub4)|max(sub5)|max(sub3)|min(sub2)|\n",
            "+---------+---------+---------+---------+---------+\n",
            "|       95|       97|       95|       96|       81|\n",
            "+---------+---------+---------+---------+---------+\n",
            "\n"
          ]
        }
      ]
    },
    {
      "cell_type": "markdown",
      "source": [
        "**END OF CODE**"
      ],
      "metadata": {
        "id": "2NMkvNyfUpJ9"
      }
    }
  ]
}