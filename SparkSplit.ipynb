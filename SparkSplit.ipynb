{
  "nbformat": 4,
  "nbformat_minor": 0,
  "metadata": {
    "colab": {
      "provenance": [],
      "mount_file_id": "1TpiqG0H_CrWscS7A1X2X27thdYmgXUSX",
      "authorship_tag": "ABX9TyPGXjJ1sRQkb3ObGgfLkB1L",
      "include_colab_link": true
    },
    "kernelspec": {
      "name": "python3",
      "display_name": "Python 3"
    },
    "language_info": {
      "name": "python"
    }
  },
  "cells": [
    {
      "cell_type": "markdown",
      "metadata": {
        "id": "view-in-github",
        "colab_type": "text"
      },
      "source": [
        "<a href=\"https://colab.research.google.com/github/sandeepgundeboina/LearningSpark/blob/main/SparkSplit.ipynb\" target=\"_parent\"><img src=\"https://colab.research.google.com/assets/colab-badge.svg\" alt=\"Open In Colab\"/></a>"
      ]
    },
    {
      "cell_type": "code",
      "execution_count": null,
      "metadata": {
        "colab": {
          "base_uri": "https://localhost:8080/",
          "height": 254
        },
        "id": "hm_0FslLVnvF",
        "outputId": "4461f7c2-371a-4b3f-a302-ab132a6dc96e"
      },
      "outputs": [
        {
          "output_type": "stream",
          "name": "stdout",
          "text": [
            "Requirement already satisfied: pyspark in /usr/local/lib/python3.11/dist-packages (3.5.1)\n",
            "Requirement already satisfied: py4j==0.10.9.7 in /usr/local/lib/python3.11/dist-packages (from pyspark) (0.10.9.7)\n"
          ]
        },
        {
          "output_type": "execute_result",
          "data": {
            "text/plain": [
              "<pyspark.sql.session.SparkSession at 0x7f41d7c17610>"
            ],
            "text/html": [
              "\n",
              "            <div>\n",
              "                <p><b>SparkSession - in-memory</b></p>\n",
              "                \n",
              "        <div>\n",
              "            <p><b>SparkContext</b></p>\n",
              "\n",
              "            <p><a href=\"http://0af3cdc06c15:4040\">Spark UI</a></p>\n",
              "\n",
              "            <dl>\n",
              "              <dt>Version</dt>\n",
              "                <dd><code>v3.5.1</code></dd>\n",
              "              <dt>Master</dt>\n",
              "                <dd><code>local[*]</code></dd>\n",
              "              <dt>AppName</dt>\n",
              "                <dd><code>SparkSplit</code></dd>\n",
              "            </dl>\n",
              "        </div>\n",
              "        \n",
              "            </div>\n",
              "        "
            ]
          },
          "metadata": {},
          "execution_count": 1
        }
      ],
      "source": [
        "!pip install pyspark\n",
        "import pyspark\n",
        "from pyspark.sql import SparkSession\n",
        "spark = SparkSession.builder.appName('SparkSplit').getOrCreate()\n",
        "spark"
      ]
    },
    {
      "cell_type": "code",
      "source": [
        "from pyspark.sql.functions import *"
      ],
      "metadata": {
        "id": "COKvDRVUbL19"
      },
      "execution_count": null,
      "outputs": []
    },
    {
      "cell_type": "code",
      "source": [
        "df=spark.read.csv('/content/drive/MyDrive/Abc/preppin_w7/Account Holders.csv',header=True,inferSchema=True)\n",
        "df.show(5)"
      ],
      "metadata": {
        "colab": {
          "base_uri": "https://localhost:8080/"
        },
        "id": "S7Elpw8zbT99",
        "outputId": "4baf9f82-8ac0-42df-9ffd-886886a8b3c8"
      },
      "execution_count": null,
      "outputs": [
        {
          "output_type": "stream",
          "name": "stdout",
          "text": [
            "+-----------------+-----------------+-------------+--------------+---------------------+\n",
            "|Account Holder ID|             Name|Date of Birth|Contact Number|First Line of Address|\n",
            "+-----------------+-----------------+-------------+--------------+---------------------+\n",
            "|         70390615|   Mahmoud Hehnke|   28/08/1995|    7479286250| 18535 Loftsgordon...|\n",
            "|         20123998|Maynord Surgeoner|   21/08/1997|    7716107305| 6422 Buena Vista ...|\n",
            "|         54374080|  Giraldo Kimbley|   22/03/1995|    7489940612| 93005 Summer Ridg...|\n",
            "|         97027297|     Blake Dudson|   30/06/1955|    7253587445|        2 Huxley Hill|\n",
            "|         89920386|       Ajay Douce|   19/12/1930|    7395580534|   90176 Miller Alley|\n",
            "+-----------------+-----------------+-------------+--------------+---------------------+\n",
            "only showing top 5 rows\n",
            "\n"
          ]
        }
      ]
    },
    {
      "cell_type": "markdown",
      "source": [
        "    Method 1"
      ],
      "metadata": {
        "id": "097bvoXHcnuR"
      }
    },
    {
      "cell_type": "code",
      "source": [
        "df1=df.withColumn('FisrtName',split(col('Name'),' ').getItem(0))\\\n",
        "     .withColumn('LastName',split(col('Name'),' ').getItem(1))\n",
        "df1.show(5)"
      ],
      "metadata": {
        "colab": {
          "base_uri": "https://localhost:8080/"
        },
        "id": "eCvqwpHfbscC",
        "outputId": "a097c88b-945a-4925-fa84-4e4308a9f877"
      },
      "execution_count": null,
      "outputs": [
        {
          "output_type": "stream",
          "name": "stdout",
          "text": [
            "+-----------------+-----------------+-------------+--------------+---------------------+---------+---------+\n",
            "|Account Holder ID|             Name|Date of Birth|Contact Number|First Line of Address|FisrtName| LastName|\n",
            "+-----------------+-----------------+-------------+--------------+---------------------+---------+---------+\n",
            "|         70390615|   Mahmoud Hehnke|   28/08/1995|    7479286250| 18535 Loftsgordon...|  Mahmoud|   Hehnke|\n",
            "|         20123998|Maynord Surgeoner|   21/08/1997|    7716107305| 6422 Buena Vista ...|  Maynord|Surgeoner|\n",
            "|         54374080|  Giraldo Kimbley|   22/03/1995|    7489940612| 93005 Summer Ridg...|  Giraldo|  Kimbley|\n",
            "|         97027297|     Blake Dudson|   30/06/1955|    7253587445|        2 Huxley Hill|    Blake|   Dudson|\n",
            "|         89920386|       Ajay Douce|   19/12/1930|    7395580534|   90176 Miller Alley|     Ajay|    Douce|\n",
            "+-----------------+-----------------+-------------+--------------+---------------------+---------+---------+\n",
            "only showing top 5 rows\n",
            "\n"
          ]
        }
      ]
    },
    {
      "cell_type": "markdown",
      "source": [
        "    Method 2"
      ],
      "metadata": {
        "id": "QK9G4h4kcpvb"
      }
    },
    {
      "cell_type": "code",
      "source": [
        "split_col=split(col('Name'),' ')\n",
        "df2=df.withColumn('FisrtName',split_col.getItem(0))\\\n",
        "     .withColumn('LastName',split_col.getItem(1))\n",
        "df2.show(5)"
      ],
      "metadata": {
        "colab": {
          "base_uri": "https://localhost:8080/"
        },
        "id": "_szLNmHEcGot",
        "outputId": "97bc6b02-4025-4d8d-8c93-44d2161ace86"
      },
      "execution_count": null,
      "outputs": [
        {
          "output_type": "stream",
          "name": "stdout",
          "text": [
            "+-----------------+-----------------+-------------+--------------+---------------------+---------+---------+\n",
            "|Account Holder ID|             Name|Date of Birth|Contact Number|First Line of Address|FisrtName| LastName|\n",
            "+-----------------+-----------------+-------------+--------------+---------------------+---------+---------+\n",
            "|         70390615|   Mahmoud Hehnke|   28/08/1995|    7479286250| 18535 Loftsgordon...|  Mahmoud|   Hehnke|\n",
            "|         20123998|Maynord Surgeoner|   21/08/1997|    7716107305| 6422 Buena Vista ...|  Maynord|Surgeoner|\n",
            "|         54374080|  Giraldo Kimbley|   22/03/1995|    7489940612| 93005 Summer Ridg...|  Giraldo|  Kimbley|\n",
            "|         97027297|     Blake Dudson|   30/06/1955|    7253587445|        2 Huxley Hill|    Blake|   Dudson|\n",
            "|         89920386|       Ajay Douce|   19/12/1930|    7395580534|   90176 Miller Alley|     Ajay|    Douce|\n",
            "+-----------------+-----------------+-------------+--------------+---------------------+---------+---------+\n",
            "only showing top 5 rows\n",
            "\n"
          ]
        }
      ]
    }
  ]
}