{
  "nbformat": 4,
  "nbformat_minor": 0,
  "metadata": {
    "colab": {
      "provenance": [],
      "mount_file_id": "1JgDDWWnXydIwAdZXiQoCDa4XOtrvXDLy",
      "authorship_tag": "ABX9TyOjLQM9NI1wSW1vbNijTNMv",
      "include_colab_link": true
    },
    "kernelspec": {
      "name": "python3",
      "display_name": "Python 3"
    },
    "language_info": {
      "name": "python"
    }
  },
  "cells": [
    {
      "cell_type": "markdown",
      "metadata": {
        "id": "view-in-github",
        "colab_type": "text"
      },
      "source": [
        "<a href=\"https://colab.research.google.com/github/sandeepgundeboina/LearningSpark/blob/main/SparkDeltaOptimize.ipynb\" target=\"_parent\"><img src=\"https://colab.research.google.com/assets/colab-badge.svg\" alt=\"Open In Colab\"/></a>"
      ]
    },
    {
      "cell_type": "markdown",
      "source": [
        "For Re-Run purpose only use the below code else continue from code block 2."
      ],
      "metadata": {
        "id": "t_oFUkERzDp4"
      }
    },
    {
      "cell_type": "code",
      "source": [
        "!rm -rf /content/drive/MyDrive/Abc/Ola_data/new_table"
      ],
      "metadata": {
        "id": "UCo1ovc5urbA"
      },
      "execution_count": null,
      "outputs": []
    },
    {
      "cell_type": "code",
      "execution_count": null,
      "metadata": {
        "colab": {
          "base_uri": "https://localhost:8080/"
        },
        "id": "jNwL_wAg74rm",
        "outputId": "adaa1790-aa66-4ffa-a5b4-9ac21cb8c2da"
      },
      "outputs": [
        {
          "output_type": "stream",
          "name": "stdout",
          "text": [
            "Collecting delta-spark==2.0.0\n",
            "  Downloading delta_spark-2.0.0-py3-none-any.whl.metadata (1.9 kB)\n",
            "Collecting pyspark<3.3.0,>=3.2.0 (from delta-spark==2.0.0)\n",
            "  Downloading pyspark-3.2.4.tar.gz (281.5 MB)\n",
            "\u001b[2K     \u001b[90m━━━━━━━━━━━━━━━━━━━━━━━━━━━━━━━━━━━━━━━\u001b[0m \u001b[32m281.5/281.5 MB\u001b[0m \u001b[31m4.1 MB/s\u001b[0m eta \u001b[36m0:00:00\u001b[0m\n",
            "\u001b[?25h  Preparing metadata (setup.py) ... \u001b[?25l\u001b[?25hdone\n",
            "Requirement already satisfied: importlib-metadata>=1.0.0 in /usr/local/lib/python3.11/dist-packages (from delta-spark==2.0.0) (8.7.0)\n",
            "Requirement already satisfied: zipp>=3.20 in /usr/local/lib/python3.11/dist-packages (from importlib-metadata>=1.0.0->delta-spark==2.0.0) (3.23.0)\n",
            "Collecting py4j==0.10.9.5 (from pyspark<3.3.0,>=3.2.0->delta-spark==2.0.0)\n",
            "  Downloading py4j-0.10.9.5-py2.py3-none-any.whl.metadata (1.5 kB)\n",
            "Downloading delta_spark-2.0.0-py3-none-any.whl (20 kB)\n",
            "Downloading py4j-0.10.9.5-py2.py3-none-any.whl (199 kB)\n",
            "\u001b[2K   \u001b[90m━━━━━━━━━━━━━━━━━━━━━━━━━━━━━━━━━━━━━━━━\u001b[0m \u001b[32m199.7/199.7 kB\u001b[0m \u001b[31m14.9 MB/s\u001b[0m eta \u001b[36m0:00:00\u001b[0m\n",
            "\u001b[?25hBuilding wheels for collected packages: pyspark\n",
            "  Building wheel for pyspark (setup.py) ... \u001b[?25l\u001b[?25hdone\n",
            "  Created wheel for pyspark: filename=pyspark-3.2.4-py2.py3-none-any.whl size=282040920 sha256=bdde3ec41ce5b186c83218947287c12ff145ce01a81804ba5ca6e3d5448570aa\n",
            "  Stored in directory: /root/.cache/pip/wheels/81/6c/a6/af459ed3106da8f1171a265c2982425fe390aa418a47d2a8b4\n",
            "Successfully built pyspark\n",
            "Installing collected packages: py4j, pyspark, delta-spark\n",
            "  Attempting uninstall: py4j\n",
            "    Found existing installation: py4j 0.10.9.7\n",
            "    Uninstalling py4j-0.10.9.7:\n",
            "      Successfully uninstalled py4j-0.10.9.7\n",
            "  Attempting uninstall: pyspark\n",
            "    Found existing installation: pyspark 3.5.1\n",
            "    Uninstalling pyspark-3.5.1:\n",
            "      Successfully uninstalled pyspark-3.5.1\n",
            "\u001b[31mERROR: pip's dependency resolver does not currently take into account all the packages that are installed. This behaviour is the source of the following dependency conflicts.\n",
            "dataproc-spark-connect 0.8.2 requires pyspark[connect]~=3.5.1, but you have pyspark 3.2.4 which is incompatible.\u001b[0m\u001b[31m\n",
            "\u001b[0mSuccessfully installed delta-spark-2.0.0 py4j-0.10.9.5 pyspark-3.2.4\n"
          ]
        }
      ],
      "source": [
        "!pip install delta-spark==2.0.0\n",
        "\n",
        "import pyspark\n",
        "from pyspark.sql import SparkSession\n",
        "spark = SparkSession.builder \\\n",
        "    .appName(\"SparkDeltaOptimize\") \\\n",
        "    .config(\"spark.jars.packages\", \"io.delta:delta-core_2.12:2.0.0\") \\\n",
        "    .config(\"spark.sql.extensions\", \"io.delta.sql.DeltaSparkSessionExtension\") \\\n",
        "    .config(\"spark.sql.catalog.spark_catalog\", \"org.apache.spark.sql.delta.catalog.DeltaCatalog\") \\\n",
        "    .getOrCreate()"
      ]
    },
    {
      "cell_type": "code",
      "source": [
        "from delta.tables import *\n",
        "from pyspark.sql.functions import *\n",
        "from pyspark.sql.types import *"
      ],
      "metadata": {
        "id": "CrmkU4BW78TQ"
      },
      "execution_count": null,
      "outputs": []
    },
    {
      "cell_type": "code",
      "source": [
        "spark.sql(\"create or replace TABLE scd2demo \\\n",
        "(pk1 INT, pk2 STRING, dim1 INT, dim2 INT, dim3 INT,\\\n",
        " active_status STRING, Start_date TIMESTAMP, end_date TIMESTAMP)\\\n",
        " USING DELTA\\\n",
        " LOCATION '/content/drive/MyDrive/Abc/Ola_data/new_table'\")"
      ],
      "metadata": {
        "colab": {
          "base_uri": "https://localhost:8080/"
        },
        "id": "PKAcdOCE8UdU",
        "outputId": "312cc2a6-b369-4d68-cb08-dddcdfc8b92f"
      },
      "execution_count": null,
      "outputs": [
        {
          "output_type": "execute_result",
          "data": {
            "text/plain": [
              "DataFrame[]"
            ]
          },
          "metadata": {},
          "execution_count": 4
        }
      ]
    },
    {
      "cell_type": "code",
      "source": [
        "spark.sql(\"insert into scd2demo values (111,'Unit1',200,500,400,'Y',current_timestamp(),'9999-12-31')\")"
      ],
      "metadata": {
        "colab": {
          "base_uri": "https://localhost:8080/"
        },
        "id": "sGfPTrcs9unB",
        "outputId": "107b5e8f-cc04-40f9-ee92-4eaaa328f0a7"
      },
      "execution_count": null,
      "outputs": [
        {
          "output_type": "execute_result",
          "data": {
            "text/plain": [
              "DataFrame[]"
            ]
          },
          "metadata": {},
          "execution_count": 5
        }
      ]
    },
    {
      "cell_type": "code",
      "source": [
        "spark.sql(\"insert into scd2demo values (121,'Unit2',220,530,405,'Y',current_timestamp(),'9999-12-31')\")\n",
        "spark.sql(\"insert into scd2demo values (131,'Unit3',250,560,415,'N',current_timestamp(),'9999-12-31')\")"
      ],
      "metadata": {
        "colab": {
          "base_uri": "https://localhost:8080/"
        },
        "id": "udh1AGE6-uT4",
        "outputId": "abee87d2-c2cb-4530-c51b-5bc53ff10631"
      },
      "execution_count": null,
      "outputs": [
        {
          "output_type": "execute_result",
          "data": {
            "text/plain": [
              "DataFrame[]"
            ]
          },
          "metadata": {},
          "execution_count": 6
        }
      ]
    },
    {
      "cell_type": "code",
      "source": [
        "spark.sql('select * from scd2demo').show()"
      ],
      "metadata": {
        "colab": {
          "base_uri": "https://localhost:8080/"
        },
        "id": "qG47_ag39LK5",
        "outputId": "3d36caff-e8e2-4cbb-8720-851b2f561055"
      },
      "execution_count": null,
      "outputs": [
        {
          "output_type": "stream",
          "name": "stdout",
          "text": [
            "+---+-----+----+----+----+-------------+--------------------+-------------------+\n",
            "|pk1|  pk2|dim1|dim2|dim3|active_status|          Start_date|           end_date|\n",
            "+---+-----+----+----+----+-------------+--------------------+-------------------+\n",
            "|121|Unit2| 220| 530| 405|            Y|2025-07-22 16:27:...|9999-12-31 00:00:00|\n",
            "|111|Unit1| 200| 500| 400|            Y|2025-07-22 16:27:...|9999-12-31 00:00:00|\n",
            "|131|Unit3| 250| 560| 415|            N|2025-07-22 16:27:...|9999-12-31 00:00:00|\n",
            "+---+-----+----+----+----+-------------+--------------------+-------------------+\n",
            "\n"
          ]
        }
      ]
    },
    {
      "cell_type": "code",
      "source": [
        "spark.sql(\"insert into scd2demo values (151,'Unit4',270,530,405,'Y',current_timestamp(),'9999-12-31')\")\n",
        "spark.sql(\"insert into scd2demo values (161,'Unit5',256,560,455,'N',current_timestamp(),'9999-12-31')\")"
      ],
      "metadata": {
        "colab": {
          "base_uri": "https://localhost:8080/"
        },
        "id": "AobJtKNA9qtC",
        "outputId": "c8ab0006-8fea-49cf-ed2a-71158f1c60c5"
      },
      "execution_count": null,
      "outputs": [
        {
          "output_type": "execute_result",
          "data": {
            "text/plain": [
              "DataFrame[]"
            ]
          },
          "metadata": {},
          "execution_count": 8
        }
      ]
    },
    {
      "cell_type": "code",
      "source": [
        "spark.sql('select * from scd2demo').show()"
      ],
      "metadata": {
        "colab": {
          "base_uri": "https://localhost:8080/"
        },
        "id": "q7IE-ZZR_s5s",
        "outputId": "9f15629d-1bf1-40b7-cba1-89eea12de176"
      },
      "execution_count": null,
      "outputs": [
        {
          "output_type": "stream",
          "name": "stdout",
          "text": [
            "+---+-----+----+----+----+-------------+--------------------+-------------------+\n",
            "|pk1|  pk2|dim1|dim2|dim3|active_status|          Start_date|           end_date|\n",
            "+---+-----+----+----+----+-------------+--------------------+-------------------+\n",
            "|121|Unit2| 220| 530| 405|            Y|2025-07-22 16:27:...|9999-12-31 00:00:00|\n",
            "|111|Unit1| 200| 500| 400|            Y|2025-07-22 16:27:...|9999-12-31 00:00:00|\n",
            "|151|Unit4| 270| 530| 405|            Y|2025-07-22 16:27:...|9999-12-31 00:00:00|\n",
            "|161|Unit5| 256| 560| 455|            N|2025-07-22 16:27:...|9999-12-31 00:00:00|\n",
            "|131|Unit3| 250| 560| 415|            N|2025-07-22 16:27:...|9999-12-31 00:00:00|\n",
            "+---+-----+----+----+----+-------------+--------------------+-------------------+\n",
            "\n"
          ]
        }
      ]
    },
    {
      "cell_type": "code",
      "source": [
        "spark.sql(\"delete from scd2demo where pk1=121\")"
      ],
      "metadata": {
        "colab": {
          "base_uri": "https://localhost:8080/"
        },
        "id": "rbBsAulh_vmT",
        "outputId": "ec6085da-930c-4045-8982-dd67c2eb4c72"
      },
      "execution_count": null,
      "outputs": [
        {
          "output_type": "execute_result",
          "data": {
            "text/plain": [
              "DataFrame[]"
            ]
          },
          "metadata": {},
          "execution_count": 10
        }
      ]
    },
    {
      "cell_type": "code",
      "source": [
        "spark.sql('describe history scd2demo').show()"
      ],
      "metadata": {
        "colab": {
          "base_uri": "https://localhost:8080/"
        },
        "id": "xGob0RLAAJzA",
        "outputId": "56fcf753-3053-486f-8db7-5c7d43339341"
      },
      "execution_count": null,
      "outputs": [
        {
          "output_type": "stream",
          "name": "stdout",
          "text": [
            "+-------+-------------------+------+--------+--------------------+--------------------+----+--------+---------+-----------+--------------+-------------+--------------------+------------+--------------------+\n",
            "|version|          timestamp|userId|userName|           operation| operationParameters| job|notebook|clusterId|readVersion|isolationLevel|isBlindAppend|    operationMetrics|userMetadata|          engineInfo|\n",
            "+-------+-------------------+------+--------+--------------------+--------------------+----+--------+---------+-----------+--------------+-------------+--------------------+------------+--------------------+\n",
            "|      6|2025-07-22 16:27:53|  null|    null|              DELETE|{predicate -> [\"(...|null|    null|     null|          5|  Serializable|        false|{numRemovedFiles ...|        null|Apache-Spark/3.2....|\n",
            "|      5|2025-07-22 16:27:42|  null|    null|               WRITE|{mode -> Append, ...|null|    null|     null|          4|  Serializable|         true|{numFiles -> 1, n...|        null|Apache-Spark/3.2....|\n",
            "|      4|2025-07-22 16:27:38|  null|    null|               WRITE|{mode -> Append, ...|null|    null|     null|          3|  Serializable|         true|{numFiles -> 1, n...|        null|Apache-Spark/3.2....|\n",
            "|      3|2025-07-22 16:27:29|  null|    null|               WRITE|{mode -> Append, ...|null|    null|     null|          2|  Serializable|         true|{numFiles -> 1, n...|        null|Apache-Spark/3.2....|\n",
            "|      2|2025-07-22 16:27:25|  null|    null|               WRITE|{mode -> Append, ...|null|    null|     null|          1|  Serializable|         true|{numFiles -> 1, n...|        null|Apache-Spark/3.2....|\n",
            "|      1|2025-07-22 16:27:16|  null|    null|               WRITE|{mode -> Append, ...|null|    null|     null|          0|  Serializable|         true|{numFiles -> 1, n...|        null|Apache-Spark/3.2....|\n",
            "|      0|2025-07-22 16:26:56|  null|    null|CREATE OR REPLACE...|{isManaged -> fal...|null|    null|     null|       null|  Serializable|         true|                  {}|        null|Apache-Spark/3.2....|\n",
            "+-------+-------------------+------+--------+--------------------+--------------------+----+--------+---------+-----------+--------------+-------------+--------------------+------------+--------------------+\n",
            "\n"
          ]
        }
      ]
    },
    {
      "cell_type": "code",
      "source": [
        "spark.sql(\"update scd2demo set pk2='Unit2' where pk1=131;\")"
      ],
      "metadata": {
        "colab": {
          "base_uri": "https://localhost:8080/"
        },
        "id": "isPNoZR2Aqwy",
        "outputId": "b607318f-9536-4c55-8911-118e2a5a73bc"
      },
      "execution_count": null,
      "outputs": [
        {
          "output_type": "execute_result",
          "data": {
            "text/plain": [
              "DataFrame[]"
            ]
          },
          "metadata": {},
          "execution_count": 12
        }
      ]
    },
    {
      "cell_type": "code",
      "source": [
        "spark.sql('describe history scd2demo').show()"
      ],
      "metadata": {
        "colab": {
          "base_uri": "https://localhost:8080/"
        },
        "id": "5AgBLvwMA8B-",
        "outputId": "f9940a00-a69c-4108-eec8-38a2c73509dc"
      },
      "execution_count": null,
      "outputs": [
        {
          "output_type": "stream",
          "name": "stdout",
          "text": [
            "+-------+-------------------+------+--------+--------------------+--------------------+----+--------+---------+-----------+--------------+-------------+--------------------+------------+--------------------+\n",
            "|version|          timestamp|userId|userName|           operation| operationParameters| job|notebook|clusterId|readVersion|isolationLevel|isBlindAppend|    operationMetrics|userMetadata|          engineInfo|\n",
            "+-------+-------------------+------+--------+--------------------+--------------------+----+--------+---------+-----------+--------------+-------------+--------------------+------------+--------------------+\n",
            "|      7|2025-07-22 16:28:00|  null|    null|              UPDATE|{predicate -> (pk...|null|    null|     null|          6|  Serializable|        false|{numRemovedFiles ...|        null|Apache-Spark/3.2....|\n",
            "|      6|2025-07-22 16:27:53|  null|    null|              DELETE|{predicate -> [\"(...|null|    null|     null|          5|  Serializable|        false|{numRemovedFiles ...|        null|Apache-Spark/3.2....|\n",
            "|      5|2025-07-22 16:27:42|  null|    null|               WRITE|{mode -> Append, ...|null|    null|     null|          4|  Serializable|         true|{numFiles -> 1, n...|        null|Apache-Spark/3.2....|\n",
            "|      4|2025-07-22 16:27:38|  null|    null|               WRITE|{mode -> Append, ...|null|    null|     null|          3|  Serializable|         true|{numFiles -> 1, n...|        null|Apache-Spark/3.2....|\n",
            "|      3|2025-07-22 16:27:29|  null|    null|               WRITE|{mode -> Append, ...|null|    null|     null|          2|  Serializable|         true|{numFiles -> 1, n...|        null|Apache-Spark/3.2....|\n",
            "|      2|2025-07-22 16:27:25|  null|    null|               WRITE|{mode -> Append, ...|null|    null|     null|          1|  Serializable|         true|{numFiles -> 1, n...|        null|Apache-Spark/3.2....|\n",
            "|      1|2025-07-22 16:27:16|  null|    null|               WRITE|{mode -> Append, ...|null|    null|     null|          0|  Serializable|         true|{numFiles -> 1, n...|        null|Apache-Spark/3.2....|\n",
            "|      0|2025-07-22 16:26:56|  null|    null|CREATE OR REPLACE...|{isManaged -> fal...|null|    null|     null|       null|  Serializable|         true|                  {}|        null|Apache-Spark/3.2....|\n",
            "+-------+-------------------+------+--------+--------------------+--------------------+----+--------+---------+-----------+--------------+-------------+--------------------+------------+--------------------+\n",
            "\n"
          ]
        }
      ]
    },
    {
      "cell_type": "markdown",
      "source": [
        "![image.png](data:image/png;base64,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)"
      ],
      "metadata": {
        "id": "36WXtKl6BiM3"
      }
    },
    {
      "cell_type": "markdown",
      "source": [
        "Before performing Optimize"
      ],
      "metadata": {
        "id": "NUal9xp1BkBB"
      }
    },
    {
      "cell_type": "code",
      "source": [
        "spark.sql('OPTIMIZE scd2demo').show(truncate=False)"
      ],
      "metadata": {
        "colab": {
          "base_uri": "https://localhost:8080/"
        },
        "id": "413gLC4eBJyv",
        "outputId": "b1c4214c-402b-4bd9-99e5-0a1a2da159f8"
      },
      "execution_count": null,
      "outputs": [
        {
          "output_type": "stream",
          "name": "stdout",
          "text": [
            "+--------------------------------------------------+--------------------------------------------------------------------------------------------------------------------+\n",
            "|path                                              |metrics                                                                                                             |\n",
            "+--------------------------------------------------+--------------------------------------------------------------------------------------------------------------------+\n",
            "|file:/content/drive/MyDrive/Abc/Ola_data/new_table|{1, 5, {2240, 2240, 2240.0, 1, 2240}, {891, 2179, 1920.6, 5, 9603}, 1, null, 1, 5, 0, false, 0, 0, 1753201691911, 0}|\n",
            "+--------------------------------------------------+--------------------------------------------------------------------------------------------------------------------+\n",
            "\n"
          ]
        }
      ]
    },
    {
      "cell_type": "code",
      "source": [
        "!cat /content/drive/MyDrive/Abc/Ola_data/new_table/_delta_log/00000000000000000008.json"
      ],
      "metadata": {
        "colab": {
          "base_uri": "https://localhost:8080/"
        },
        "id": "GlR3UAQtCKWz",
        "outputId": "4709aa53-a134-450f-f4e9-d70a635140c3"
      },
      "execution_count": null,
      "outputs": [
        {
          "output_type": "stream",
          "name": "stdout",
          "text": [
            "{\"add\":{\"path\":\"part-00000-3aa67732-cc58-4c58-b989-82680dbdbde0-c000.snappy.parquet\",\"partitionValues\":{},\"size\":2240,\"modificationTime\":1753201688000,\"dataChange\":false,\"stats\":\"{\\\"numRecords\\\":4,\\\"minValues\\\":{\\\"pk1\\\":111,\\\"pk2\\\":\\\"Unit1\\\",\\\"dim1\\\":200,\\\"dim2\\\":500,\\\"dim3\\\":400,\\\"active_status\\\":\\\"N\\\",\\\"Start_date\\\":\\\"2025-07-22T16:27:13.471Z\\\",\\\"end_date\\\":\\\"9999-12-31T00:00:00.000Z\\\"},\\\"maxValues\\\":{\\\"pk1\\\":161,\\\"pk2\\\":\\\"Unit5\\\",\\\"dim1\\\":270,\\\"dim2\\\":560,\\\"dim3\\\":455,\\\"active_status\\\":\\\"Y\\\",\\\"Start_date\\\":\\\"2025-07-22T16:27:42.617Z\\\",\\\"end_date\\\":\\\"9999-12-31T00:00:00.000Z\\\"},\\\"nullCount\\\":{\\\"pk1\\\":0,\\\"pk2\\\":0,\\\"dim1\\\":0,\\\"dim2\\\":0,\\\"dim3\\\":0,\\\"active_status\\\":0,\\\"Start_date\\\":0,\\\"end_date\\\":0}}\"}}\n",
            "{\"remove\":{\"path\":\"part-00000-6201d006-06ab-449d-98d2-99dad21f2842-c000.snappy.parquet\",\"deletionTimestamp\":1753201686700,\"dataChange\":false,\"extendedFileMetadata\":true,\"partitionValues\":{},\"size\":891}}\n",
            "{\"remove\":{\"path\":\"part-00000-98e15215-183a-4005-a943-584e2e7e474a-c000.snappy.parquet\",\"deletionTimestamp\":1753201686700,\"dataChange\":false,\"extendedFileMetadata\":true,\"partitionValues\":{},\"size\":2177}}\n",
            "{\"remove\":{\"path\":\"part-00000-72598f19-d925-4bf6-9cd7-c4e1a40ed9d5-c000.snappy.parquet\",\"deletionTimestamp\":1753201686700,\"dataChange\":false,\"extendedFileMetadata\":true,\"partitionValues\":{},\"size\":2178}}\n",
            "{\"remove\":{\"path\":\"part-00000-0f0e0ef5-f933-4305-b270-4eb5768aa6fb-c000.snappy.parquet\",\"deletionTimestamp\":1753201686700,\"dataChange\":false,\"extendedFileMetadata\":true,\"partitionValues\":{},\"size\":2178}}\n",
            "{\"remove\":{\"path\":\"part-00000-5b0441e0-f21f-42c1-b83b-cf89624a6931-c000.snappy.parquet\",\"deletionTimestamp\":1753201686700,\"dataChange\":false,\"extendedFileMetadata\":true,\"partitionValues\":{},\"size\":2179}}\n",
            "{\"commitInfo\":{\"timestamp\":1753201688313,\"operation\":\"OPTIMIZE\",\"operationParameters\":{\"predicate\":\"[]\",\"zOrderBy\":\"[]\"},\"readVersion\":7,\"isolationLevel\":\"SnapshotIsolation\",\"isBlindAppend\":false,\"operationMetrics\":{\"numRemovedFiles\":\"5\",\"numRemovedBytes\":\"9603\",\"p25FileSize\":\"2240\",\"minFileSize\":\"2240\",\"numAddedFiles\":\"1\",\"maxFileSize\":\"2240\",\"p75FileSize\":\"2240\",\"p50FileSize\":\"2240\",\"numAddedBytes\":\"2240\"},\"engineInfo\":\"Apache-Spark/3.2.4 Delta-Lake/2.0.0\",\"txnId\":\"ea207028-c365-4d55-9278-3828f519cf17\"}}\n"
          ]
        }
      ]
    },
    {
      "cell_type": "markdown",
      "source": [
        "In general, spark engine creates seperate file for each new entry added to the table, which would create more small files, and creates a problem when table is queried, to perform better, Optimize command is used to eliminate several files, in to files of 1GB max data.\n",
        "\n",
        "From the above json, it can be seen that when we perform optimise, the json is pointing to a newly created file, where it stored the all data of the table. In general Optimise command, compacts all the files in the path to one files max of 1GB, so if there are files more than 1 GB it would create seperate files.\n",
        "\n",
        "Spark engine will refer to the latest json that is created in order to query the data, and understands that the files that it needs to query to result the output.\n",
        "\n"
      ],
      "metadata": {
        "id": "DCPYhYDtFx8Y"
      }
    },
    {
      "cell_type": "code",
      "source": [
        "spark.sql('select * from scd2demo').show()"
      ],
      "metadata": {
        "colab": {
          "base_uri": "https://localhost:8080/"
        },
        "id": "mGtVZpPsFro4",
        "outputId": "b2540cb4-30a0-47f9-bebc-6dcd735e2b61"
      },
      "execution_count": null,
      "outputs": [
        {
          "output_type": "stream",
          "name": "stdout",
          "text": [
            "+---+-----+----+----+----+-------------+--------------------+-------------------+\n",
            "|pk1|  pk2|dim1|dim2|dim3|active_status|          Start_date|           end_date|\n",
            "+---+-----+----+----+----+-------------+--------------------+-------------------+\n",
            "|111|Unit1| 200| 500| 400|            Y|2025-07-22 16:27:...|9999-12-31 00:00:00|\n",
            "|151|Unit4| 270| 530| 405|            Y|2025-07-22 16:27:...|9999-12-31 00:00:00|\n",
            "|161|Unit5| 256| 560| 455|            N|2025-07-22 16:27:...|9999-12-31 00:00:00|\n",
            "|131|Unit2| 250| 560| 415|            N|2025-07-22 16:27:...|9999-12-31 00:00:00|\n",
            "+---+-----+----+----+----+-------------+--------------------+-------------------+\n",
            "\n"
          ]
        }
      ]
    },
    {
      "cell_type": "markdown",
      "source": [
        "#### VACCUM\n",
        "\n",
        "Used to clean up the obsolete files, where they are not used, then in order to delete such files, then we can use Vaccum to delete the files from the storage, so that storage can be optimised."
      ],
      "metadata": {
        "id": "0M2os5g7aSQS"
      }
    },
    {
      "cell_type": "code",
      "source": [
        "spark.sql('describe history scd2demo').show()"
      ],
      "metadata": {
        "colab": {
          "base_uri": "https://localhost:8080/"
        },
        "id": "KDLHPR1kZ5rg",
        "outputId": "c9c96a8b-260b-4448-f72d-810d3ff80bf5"
      },
      "execution_count": null,
      "outputs": [
        {
          "output_type": "stream",
          "name": "stdout",
          "text": [
            "+-------+-------------------+------+--------+--------------------+--------------------+----+--------+---------+-----------+-----------------+-------------+--------------------+------------+--------------------+\n",
            "|version|          timestamp|userId|userName|           operation| operationParameters| job|notebook|clusterId|readVersion|   isolationLevel|isBlindAppend|    operationMetrics|userMetadata|          engineInfo|\n",
            "+-------+-------------------+------+--------+--------------------+--------------------+----+--------+---------+-----------+-----------------+-------------+--------------------+------------+--------------------+\n",
            "|      8|2025-07-22 16:28:08|  null|    null|            OPTIMIZE|{predicate -> [],...|null|    null|     null|          7|SnapshotIsolation|        false|{numRemovedFiles ...|        null|Apache-Spark/3.2....|\n",
            "|      7|2025-07-22 16:28:00|  null|    null|              UPDATE|{predicate -> (pk...|null|    null|     null|          6|     Serializable|        false|{numRemovedFiles ...|        null|Apache-Spark/3.2....|\n",
            "|      6|2025-07-22 16:27:53|  null|    null|              DELETE|{predicate -> [\"(...|null|    null|     null|          5|     Serializable|        false|{numRemovedFiles ...|        null|Apache-Spark/3.2....|\n",
            "|      5|2025-07-22 16:27:42|  null|    null|               WRITE|{mode -> Append, ...|null|    null|     null|          4|     Serializable|         true|{numFiles -> 1, n...|        null|Apache-Spark/3.2....|\n",
            "|      4|2025-07-22 16:27:38|  null|    null|               WRITE|{mode -> Append, ...|null|    null|     null|          3|     Serializable|         true|{numFiles -> 1, n...|        null|Apache-Spark/3.2....|\n",
            "|      3|2025-07-22 16:27:29|  null|    null|               WRITE|{mode -> Append, ...|null|    null|     null|          2|     Serializable|         true|{numFiles -> 1, n...|        null|Apache-Spark/3.2....|\n",
            "|      2|2025-07-22 16:27:25|  null|    null|               WRITE|{mode -> Append, ...|null|    null|     null|          1|     Serializable|         true|{numFiles -> 1, n...|        null|Apache-Spark/3.2....|\n",
            "|      1|2025-07-22 16:27:16|  null|    null|               WRITE|{mode -> Append, ...|null|    null|     null|          0|     Serializable|         true|{numFiles -> 1, n...|        null|Apache-Spark/3.2....|\n",
            "|      0|2025-07-22 16:26:56|  null|    null|CREATE OR REPLACE...|{isManaged -> fal...|null|    null|     null|       null|     Serializable|         true|                  {}|        null|Apache-Spark/3.2....|\n",
            "+-------+-------------------+------+--------+--------------------+--------------------+----+--------+---------+-----------+-----------------+-------------+--------------------+------------+--------------------+\n",
            "\n"
          ]
        }
      ]
    },
    {
      "cell_type": "code",
      "source": [
        "!ls -lrt /content/drive/MyDrive/Abc/Ola_data/new_table/"
      ],
      "metadata": {
        "colab": {
          "base_uri": "https://localhost:8080/"
        },
        "id": "AFo0bp5nav7m",
        "outputId": "68f09223-71d5-4558-f048-52a136c45fa1"
      },
      "execution_count": null,
      "outputs": [
        {
          "output_type": "stream",
          "name": "stdout",
          "text": [
            "total 23\n",
            "-rw------- 1 root root 2179 Jul 22 16:27 part-00000-5b0441e0-f21f-42c1-b83b-cf89624a6931-c000.snappy.parquet\n",
            "-rw------- 1 root root 2179 Jul 22 16:27 part-00000-43cc54f1-4213-432d-95d7-dfcc72c23cb7-c000.snappy.parquet\n",
            "-rw------- 1 root root 2177 Jul 22 16:27 part-00000-b425a318-2f33-4cf0-8814-c7090c300962-c000.snappy.parquet\n",
            "-rw------- 1 root root 2178 Jul 22 16:27 part-00000-72598f19-d925-4bf6-9cd7-c4e1a40ed9d5-c000.snappy.parquet\n",
            "-rw------- 1 root root 2178 Jul 22 16:27 part-00000-0f0e0ef5-f933-4305-b270-4eb5768aa6fb-c000.snappy.parquet\n",
            "-rw------- 1 root root  891 Jul 22 16:27 part-00000-6201d006-06ab-449d-98d2-99dad21f2842-c000.snappy.parquet\n",
            "-rw------- 1 root root 2177 Jul 22 16:28 part-00000-98e15215-183a-4005-a943-584e2e7e474a-c000.snappy.parquet\n",
            "-rw------- 1 root root 2240 Jul 22 16:28 part-00000-3aa67732-cc58-4c58-b989-82680dbdbde0-c000.snappy.parquet\n",
            "drwx------ 2 root root 4096 Jul 22 16:28 _delta_log\n"
          ]
        }
      ]
    },
    {
      "cell_type": "code",
      "metadata": {
        "colab": {
          "base_uri": "https://localhost:8080/"
        },
        "id": "4edV25fbadg",
        "outputId": "a43be419-16dc-46bb-9c90-3dbb29a62234"
      },
      "source": [
        "spark.sql(\"select current_timestamp() - timestamp('2025-07-21 08:15:34')\").show(truncate=False)"
      ],
      "execution_count": null,
      "outputs": [
        {
          "output_type": "stream",
          "name": "stdout",
          "text": [
            "+-------------------------------------------+\n",
            "|(current_timestamp() - 2025-07-21 08:15:34)|\n",
            "+-------------------------------------------+\n",
            "|INTERVAL '1 08:12:39.823392' DAY TO SECOND |\n",
            "+-------------------------------------------+\n",
            "\n"
          ]
        }
      ]
    },
    {
      "cell_type": "markdown",
      "source": [
        "Vacuum can only be used to delete files older than 7 days, i.e., 168 hours.\n",
        "Even if we try to run by keeping retain period less than 168 hours, it will throw error."
      ],
      "metadata": {
        "id": "npxupjVbdLbO"
      }
    },
    {
      "cell_type": "markdown",
      "source": [
        "In order to check what files are getting deleted when vacuum command is executed, a small modified code can be executed, i.e.,\n",
        "\n",
        "spark.sql('vacuum scd2demo dry run').show()\n",
        "\n",
        "this list the files where the obslete files time stamp is greater than 168 hours and can be deleted."
      ],
      "metadata": {
        "id": "kVtG1pAbgjH1"
      }
    },
    {
      "cell_type": "markdown",
      "source": [
        "After doing the dry run, the main code block, \\\n",
        "\n",
        "spark.sql('VACUUM TABLENAME')\n",
        "\n",
        "this will delete the obselete files threshold greater than 168HRS and should be used carefully."
      ],
      "metadata": {
        "id": "kWRRF3Hvgi5y"
      }
    },
    {
      "cell_type": "code",
      "source": [
        "#spark.sql('VACUUM scd2demo dry run') -- to get the list of files that will get deleted when vaccum command is run.\n",
        "#spark.sql('VACUUM scd2demo') -- to delete obselete files from storage\n",
        "#spark.sql('VACUUM scd2demo reatin 720 HRS dry run') -- to get the list of files, where they are obselete for more than 720HRS ('i.e., 30 Days')\n",
        "#spark.sql('VACUUM scd2demo reatin 720 HRS') -- deletes all files stored more than 720HRS"
      ],
      "metadata": {
        "id": "SYRJUAfccZdu"
      },
      "execution_count": null,
      "outputs": []
    },
    {
      "cell_type": "markdown",
      "source": [
        "####**Z Ordering**\n",
        "\n",
        "is a technique to optmise large no of small file into a small no of large files, in this technique, first the data is collected and then creates files with max of size 1GB data, the catch is when a query is run, Delta engine consults the deltalog where it has json files which has the data of stats of records that present in file, hence an improvement in performance of the delta engine.\n",
        "\n",
        "It helps the delta engine to scan less no of files, to provide the output for queries asked by application user."
      ],
      "metadata": {
        "id": "UttcM9PUuC_N"
      }
    },
    {
      "cell_type": "code",
      "source": [
        "spark.sql(\"update scd2demo set pk2='Unit2' where pk1=151;\")\n",
        "spark.sql(\"update scd2demo set dim3=549 where pk1=131;\")"
      ],
      "metadata": {
        "colab": {
          "base_uri": "https://localhost:8080/"
        },
        "id": "5tKn1YwKwt0O",
        "outputId": "0ae82b01-1bce-4f05-baa3-4c45fec0de0d"
      },
      "execution_count": null,
      "outputs": [
        {
          "output_type": "execute_result",
          "data": {
            "text/plain": [
              "DataFrame[]"
            ]
          },
          "metadata": {},
          "execution_count": 21
        }
      ]
    },
    {
      "cell_type": "code",
      "source": [
        "spark.sql(\"OPTIMIZE scd2demo ZORDER BY pk1\").show(truncate=False)"
      ],
      "metadata": {
        "colab": {
          "base_uri": "https://localhost:8080/"
        },
        "id": "uV03kYqQuClF",
        "outputId": "36738476-9361-4721-b3c5-05b88a57c016"
      },
      "execution_count": null,
      "outputs": [
        {
          "output_type": "stream",
          "name": "stdout",
          "text": [
            "+--------------------+--------------------+\n",
            "|                path|             metrics|\n",
            "+--------------------+--------------------+\n",
            "|file:/content/dri...|{1, 1, {2274, 227...|\n",
            "+--------------------+--------------------+\n",
            "\n"
          ]
        }
      ]
    },
    {
      "cell_type": "markdown",
      "source": [
        "####**END OF CODE**"
      ],
      "metadata": {
        "id": "-HNXYP6My5kN"
      }
    }
  ]
}