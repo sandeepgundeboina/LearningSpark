{
  "nbformat": 4,
  "nbformat_minor": 0,
  "metadata": {
    "colab": {
      "provenance": [],
      "authorship_tag": "ABX9TyOEQv7AakrWxWuXgA05LH9/",
      "include_colab_link": true
    },
    "kernelspec": {
      "name": "python3",
      "display_name": "Python 3"
    },
    "language_info": {
      "name": "python"
    }
  },
  "cells": [
    {
      "cell_type": "markdown",
      "metadata": {
        "id": "view-in-github",
        "colab_type": "text"
      },
      "source": [
        "<a href=\"https://colab.research.google.com/github/sandeepgundeboina/LearningSpark/blob/main/SparkMaxOfColDuplicate.ipynb\" target=\"_parent\"><img src=\"https://colab.research.google.com/assets/colab-badge.svg\" alt=\"Open In Colab\"/></a>"
      ]
    },
    {
      "cell_type": "code",
      "execution_count": 1,
      "metadata": {
        "id": "UUOHJ29QLEB8"
      },
      "outputs": [],
      "source": [
        "import pyspark\n",
        "from pyspark.sql import SparkSession\n",
        "spark=SparkSession.builder.appName('SparkMaxOfColDuplicate').getOrCreate()"
      ]
    },
    {
      "cell_type": "code",
      "source": [
        "spark"
      ],
      "metadata": {
        "colab": {
          "base_uri": "https://localhost:8080/",
          "height": 221
        },
        "id": "hB5jmGFMLlfn",
        "outputId": "b81d6f13-3b9b-45c9-e5de-c5536f8483fd"
      },
      "execution_count": 2,
      "outputs": [
        {
          "output_type": "execute_result",
          "data": {
            "text/plain": [
              "<pyspark.sql.session.SparkSession at 0x7c3a7f223ed0>"
            ],
            "text/html": [
              "\n",
              "            <div>\n",
              "                <p><b>SparkSession - in-memory</b></p>\n",
              "                \n",
              "        <div>\n",
              "            <p><b>SparkContext</b></p>\n",
              "\n",
              "            <p><a href=\"http://667b25972ba2:4040\">Spark UI</a></p>\n",
              "\n",
              "            <dl>\n",
              "              <dt>Version</dt>\n",
              "                <dd><code>v3.5.1</code></dd>\n",
              "              <dt>Master</dt>\n",
              "                <dd><code>local[*]</code></dd>\n",
              "              <dt>AppName</dt>\n",
              "                <dd><code>SparkMaxOfColDuplicate</code></dd>\n",
              "            </dl>\n",
              "        </div>\n",
              "        \n",
              "            </div>\n",
              "        "
            ]
          },
          "metadata": {},
          "execution_count": 2
        }
      ]
    },
    {
      "cell_type": "code",
      "source": [
        "simpleData=((100,'Mobile',5000,10),\\\n",
        "            (100,'Mobile',7000,7),\\\n",
        "            (300,'laptop',20000,5),\\\n",
        "            (200,'laptop',30000,4),\\\n",
        "            (200,'laptop',24000,12))\n",
        "from pyspark.sql.types import *\n",
        "defSchema=StructType([\\\n",
        "                      StructField('Product_id',IntegerType(),False),\\\n",
        "                      StructField('Product_name',StringType(),True),\\\n",
        "                      StructField('Price',IntegerType(),True),\\\n",
        "                      StructField('Discount',IntegerType(),True)])\n",
        "df=spark.createDataFrame(simpleData,defSchema)\n",
        "df.show()"
      ],
      "metadata": {
        "colab": {
          "base_uri": "https://localhost:8080/"
        },
        "id": "YXjuz1xQLmFn",
        "outputId": "bff63249-fe45-4208-db13-c5fd695aa313"
      },
      "execution_count": 3,
      "outputs": [
        {
          "output_type": "stream",
          "name": "stdout",
          "text": [
            "+----------+------------+-----+--------+\n",
            "|Product_id|Product_name|Price|Discount|\n",
            "+----------+------------+-----+--------+\n",
            "|       100|      Mobile| 5000|      10|\n",
            "|       100|      Mobile| 7000|       7|\n",
            "|       300|      laptop|20000|       5|\n",
            "|       200|      laptop|30000|       4|\n",
            "|       200|      laptop|24000|      12|\n",
            "+----------+------------+-----+--------+\n",
            "\n"
          ]
        }
      ]
    },
    {
      "cell_type": "code",
      "source": [
        "from pyspark.sql import Window\n",
        "from pyspark.sql.functions import max,col\n",
        "windowSpec=Window.partitionBy('Product_id')\n",
        "dfMax=df.withColumn('maxPrice',max('Price').over(windowSpec)).withColumn('maxDiscount',max('Discount').over(windowSpec))\n",
        "dfMax.show()"
      ],
      "metadata": {
        "id": "EYk9kCtiNAJD",
        "colab": {
          "base_uri": "https://localhost:8080/"
        },
        "outputId": "3b4f17e7-6a7f-4eeb-becb-2e98d529db47"
      },
      "execution_count": 4,
      "outputs": [
        {
          "output_type": "stream",
          "name": "stdout",
          "text": [
            "+----------+------------+-----+--------+--------+-----------+\n",
            "|Product_id|Product_name|Price|Discount|maxPrice|maxDiscount|\n",
            "+----------+------------+-----+--------+--------+-----------+\n",
            "|       100|      Mobile| 5000|      10|    7000|         10|\n",
            "|       100|      Mobile| 7000|       7|    7000|         10|\n",
            "|       200|      laptop|30000|       4|   30000|         12|\n",
            "|       200|      laptop|24000|      12|   30000|         12|\n",
            "|       300|      laptop|20000|       5|   20000|          5|\n",
            "+----------+------------+-----+--------+--------+-----------+\n",
            "\n"
          ]
        }
      ]
    },
    {
      "cell_type": "code",
      "source": [
        "dfMax=dfMax.select(col('Product_id'),col('Product_name'),col('maxPrice').alias('Price'),col('maxDiscount').alias('Discount'))\n",
        "dfMax.show()"
      ],
      "metadata": {
        "colab": {
          "base_uri": "https://localhost:8080/"
        },
        "id": "fEK75ZzLFG_m",
        "outputId": "e50f4e4c-d373-49ca-d2f4-e8cba27a9142"
      },
      "execution_count": 5,
      "outputs": [
        {
          "output_type": "stream",
          "name": "stdout",
          "text": [
            "+----------+------------+-----+--------+\n",
            "|Product_id|Product_name|Price|Discount|\n",
            "+----------+------------+-----+--------+\n",
            "|       100|      Mobile| 7000|      10|\n",
            "|       100|      Mobile| 7000|      10|\n",
            "|       200|      laptop|30000|      12|\n",
            "|       200|      laptop|30000|      12|\n",
            "|       300|      laptop|20000|       5|\n",
            "+----------+------------+-----+--------+\n",
            "\n"
          ]
        }
      ]
    },
    {
      "cell_type": "code",
      "source": [
        "dfMax1=dfMax.drop_duplicates()\n",
        "dfMax1.show()"
      ],
      "metadata": {
        "colab": {
          "base_uri": "https://localhost:8080/"
        },
        "id": "odaDA7lmFoHv",
        "outputId": "0dc6d603-e476-4ed3-fc39-580aab004732"
      },
      "execution_count": 6,
      "outputs": [
        {
          "output_type": "stream",
          "name": "stdout",
          "text": [
            "+----------+------------+-----+--------+\n",
            "|Product_id|Product_name|Price|Discount|\n",
            "+----------+------------+-----+--------+\n",
            "|       100|      Mobile| 7000|      10|\n",
            "|       200|      laptop|30000|      12|\n",
            "|       300|      laptop|20000|       5|\n",
            "+----------+------------+-----+--------+\n",
            "\n"
          ]
        }
      ]
    },
    {
      "cell_type": "code",
      "source": [
        "df2Max=dfMax.dropDuplicates()\n",
        "df2Max.show()"
      ],
      "metadata": {
        "colab": {
          "base_uri": "https://localhost:8080/"
        },
        "id": "a-uTRFZIFvxD",
        "outputId": "3a3c343b-a9be-49b7-cb1f-047961ec10e0"
      },
      "execution_count": 7,
      "outputs": [
        {
          "output_type": "stream",
          "name": "stdout",
          "text": [
            "+----------+------------+-----+--------+\n",
            "|Product_id|Product_name|Price|Discount|\n",
            "+----------+------------+-----+--------+\n",
            "|       100|      Mobile| 7000|      10|\n",
            "|       200|      laptop|30000|      12|\n",
            "|       300|      laptop|20000|       5|\n",
            "+----------+------------+-----+--------+\n",
            "\n"
          ]
        }
      ]
    },
    {
      "cell_type": "markdown",
      "source": [
        "#### CREATING MAP"
      ],
      "metadata": {
        "id": "rPofCLvP9wp5"
      }
    },
    {
      "cell_type": "code",
      "source": [
        "df.show()"
      ],
      "metadata": {
        "colab": {
          "base_uri": "https://localhost:8080/"
        },
        "id": "7s95w8GKG-td",
        "outputId": "4b890926-f748-438c-d996-289e8149f320"
      },
      "execution_count": 8,
      "outputs": [
        {
          "output_type": "stream",
          "name": "stdout",
          "text": [
            "+----------+------------+-----+--------+\n",
            "|Product_id|Product_name|Price|Discount|\n",
            "+----------+------------+-----+--------+\n",
            "|       100|      Mobile| 5000|      10|\n",
            "|       100|      Mobile| 7000|       7|\n",
            "|       300|      laptop|20000|       5|\n",
            "|       200|      laptop|30000|       4|\n",
            "|       200|      laptop|24000|      12|\n",
            "+----------+------------+-----+--------+\n",
            "\n"
          ]
        }
      ]
    },
    {
      "cell_type": "code",
      "source": [
        "from pyspark.sql.functions import *\n",
        "\n",
        "dfDict=df.select(col('Product_id'),col('Product_name'),col('Price'),col('Discount'),create_map(col('Product_name'),col('Price')).alias('Pdct_dic'))\n",
        "dfDict.show()"
      ],
      "metadata": {
        "colab": {
          "base_uri": "https://localhost:8080/"
        },
        "id": "CpJqaYqQHGO9",
        "outputId": "230fe210-ca7c-4966-a3ea-f87c44f41f1a"
      },
      "execution_count": 9,
      "outputs": [
        {
          "output_type": "stream",
          "name": "stdout",
          "text": [
            "+----------+------------+-----+--------+-----------------+\n",
            "|Product_id|Product_name|Price|Discount|         Pdct_dic|\n",
            "+----------+------------+-----+--------+-----------------+\n",
            "|       100|      Mobile| 5000|      10| {Mobile -> 5000}|\n",
            "|       100|      Mobile| 7000|       7| {Mobile -> 7000}|\n",
            "|       300|      laptop|20000|       5|{laptop -> 20000}|\n",
            "|       200|      laptop|30000|       4|{laptop -> 30000}|\n",
            "|       200|      laptop|24000|      12|{laptop -> 24000}|\n",
            "+----------+------------+-----+--------+-----------------+\n",
            "\n"
          ]
        }
      ]
    },
    {
      "cell_type": "code",
      "source": [
        "dfDict1=df.select(col('Product_id'),col('Product_name'),col('Price'),col('Discount'),create_map(lit('Product_name'),col('Product_name'),lit('Price'),col('Price'),\\\n",
        "                                                                                                lit('Discount'),col('Discount')).alias('Pdct_dic'))\n",
        "dfDict1.show(truncate=False)"
      ],
      "metadata": {
        "colab": {
          "base_uri": "https://localhost:8080/"
        },
        "id": "0QteTjF7H4es",
        "outputId": "15cf8afc-20d0-43bd-aeec-b265f17bf64c"
      },
      "execution_count": 10,
      "outputs": [
        {
          "output_type": "stream",
          "name": "stdout",
          "text": [
            "+----------+------------+-----+--------+--------------------------------------------------------+\n",
            "|Product_id|Product_name|Price|Discount|Pdct_dic                                                |\n",
            "+----------+------------+-----+--------+--------------------------------------------------------+\n",
            "|100       |Mobile      |5000 |10      |{Product_name -> Mobile, Price -> 5000, Discount -> 10} |\n",
            "|100       |Mobile      |7000 |7       |{Product_name -> Mobile, Price -> 7000, Discount -> 7}  |\n",
            "|300       |laptop      |20000|5       |{Product_name -> laptop, Price -> 20000, Discount -> 5} |\n",
            "|200       |laptop      |30000|4       |{Product_name -> laptop, Price -> 30000, Discount -> 4} |\n",
            "|200       |laptop      |24000|12      |{Product_name -> laptop, Price -> 24000, Discount -> 12}|\n",
            "+----------+------------+-----+--------+--------------------------------------------------------+\n",
            "\n"
          ]
        }
      ]
    },
    {
      "cell_type": "code",
      "source": [
        "df.printSchema()"
      ],
      "metadata": {
        "colab": {
          "base_uri": "https://localhost:8080/"
        },
        "id": "6yKo888-I3aq",
        "outputId": "3268b6ba-5df2-4942-cb0c-48b54d46f800"
      },
      "execution_count": 11,
      "outputs": [
        {
          "output_type": "stream",
          "name": "stdout",
          "text": [
            "root\n",
            " |-- Product_id: integer (nullable = false)\n",
            " |-- Product_name: string (nullable = true)\n",
            " |-- Price: integer (nullable = true)\n",
            " |-- Discount: integer (nullable = true)\n",
            "\n"
          ]
        }
      ]
    },
    {
      "cell_type": "code",
      "source": [
        "dfDict1.printSchema()"
      ],
      "metadata": {
        "colab": {
          "base_uri": "https://localhost:8080/"
        },
        "id": "wyUp5Dc7JPUT",
        "outputId": "ed644afc-8158-46aa-cbb7-cf67b4ea627d"
      },
      "execution_count": 12,
      "outputs": [
        {
          "output_type": "stream",
          "name": "stdout",
          "text": [
            "root\n",
            " |-- Product_id: integer (nullable = false)\n",
            " |-- Product_name: string (nullable = true)\n",
            " |-- Price: integer (nullable = true)\n",
            " |-- Discount: integer (nullable = true)\n",
            " |-- Pdct_dic: map (nullable = false)\n",
            " |    |-- key: string\n",
            " |    |-- value: string (valueContainsNull = true)\n",
            "\n"
          ]
        }
      ]
    },
    {
      "cell_type": "code",
      "source": [
        "from pyspark.sql.functions import explode\n",
        "\n",
        "# Explode the map column to create rows of key-value pairs\n",
        "exploded_df = dfDict1.select('Product_id', explode('Pdct_dic'))\n",
        "exploded_df.show()\n",
        "\n",
        "# Pivot the exploded data\n",
        "pivoted_df = exploded_df.groupBy('Product_id').pivot('key').agg(first('value'))\n",
        "\n",
        "pivoted_df.show(truncate=False)"
      ],
      "metadata": {
        "colab": {
          "base_uri": "https://localhost:8080/"
        },
        "id": "Jm68jDVEJgED",
        "outputId": "4573214e-e495-487f-9bd8-6d3814942c99"
      },
      "execution_count": 13,
      "outputs": [
        {
          "output_type": "stream",
          "name": "stdout",
          "text": [
            "+----------+------------+------+\n",
            "|Product_id|         key| value|\n",
            "+----------+------------+------+\n",
            "|       100|Product_name|Mobile|\n",
            "|       100|       Price|  5000|\n",
            "|       100|    Discount|    10|\n",
            "|       100|Product_name|Mobile|\n",
            "|       100|       Price|  7000|\n",
            "|       100|    Discount|     7|\n",
            "|       300|Product_name|laptop|\n",
            "|       300|       Price| 20000|\n",
            "|       300|    Discount|     5|\n",
            "|       200|Product_name|laptop|\n",
            "|       200|       Price| 30000|\n",
            "|       200|    Discount|     4|\n",
            "|       200|Product_name|laptop|\n",
            "|       200|       Price| 24000|\n",
            "|       200|    Discount|    12|\n",
            "+----------+------------+------+\n",
            "\n",
            "+----------+--------+-----+------------+\n",
            "|Product_id|Discount|Price|Product_name|\n",
            "+----------+--------+-----+------------+\n",
            "|100       |10      |5000 |Mobile      |\n",
            "|200       |4       |30000|laptop      |\n",
            "|300       |5       |20000|laptop      |\n",
            "+----------+--------+-----+------------+\n",
            "\n"
          ]
        }
      ]
    },
    {
      "cell_type": "markdown",
      "source": [
        "Array Split into Columns"
      ],
      "metadata": {
        "id": "pshOgCoMKXbp"
      }
    },
    {
      "cell_type": "code",
      "source": [
        "from pyspark.sql import Row\n",
        "from pyspark.sql.types import ArrayType, StringType\n",
        "\n",
        "# Create some sample data\n",
        "data = [Row(key=\"key1\", values=[\"value1a\", \"value1b\",'value1c']),\n",
        "        Row(key=\"key2\", values=[\"value2a\", \"value2b\", \"value2c\"]),\n",
        "        Row(key=\"key3\", values=[\"value3a\",\"value3b\", \"value3c\"])]\n",
        "\n",
        "# Define the schema\n",
        "schema = StructType([\n",
        "    StructField(\"key\", StringType(), True),\n",
        "    StructField(\"values\", ArrayType(StringType()), True)\n",
        "])\n",
        "\n",
        "# Create the DataFrame\n",
        "df_with_list = spark.createDataFrame(data, schema)\n",
        "\n",
        "# Show the DataFrame\n",
        "df_with_list.show(truncate=False)"
      ],
      "metadata": {
        "colab": {
          "base_uri": "https://localhost:8080/"
        },
        "id": "IxE-WWQ5PVPB",
        "outputId": "10bd4930-aec2-4b80-8896-08bb089bffe2"
      },
      "execution_count": 14,
      "outputs": [
        {
          "output_type": "stream",
          "name": "stdout",
          "text": [
            "+----+---------------------------+\n",
            "|key |values                     |\n",
            "+----+---------------------------+\n",
            "|key1|[value1a, value1b, value1c]|\n",
            "|key2|[value2a, value2b, value2c]|\n",
            "|key3|[value3a, value3b, value3c]|\n",
            "+----+---------------------------+\n",
            "\n"
          ]
        }
      ]
    },
    {
      "cell_type": "code",
      "source": [
        "df_der=df_with_list.select('key',df_with_list.values[0],df_with_list.values[1],df_with_list.values[2])"
      ],
      "metadata": {
        "id": "qznJJ0QdPVFY"
      },
      "execution_count": 15,
      "outputs": []
    },
    {
      "cell_type": "code",
      "source": [
        "df_der.show()"
      ],
      "metadata": {
        "colab": {
          "base_uri": "https://localhost:8080/"
        },
        "id": "-CHVPA9APVB3",
        "outputId": "67dc9ee1-b60f-4040-a6a8-ae12273f6e2f"
      },
      "execution_count": 16,
      "outputs": [
        {
          "output_type": "stream",
          "name": "stdout",
          "text": [
            "+----+---------+---------+---------+\n",
            "| key|values[0]|values[1]|values[2]|\n",
            "+----+---------+---------+---------+\n",
            "|key1|  value1a|  value1b|  value1c|\n",
            "|key2|  value2a|  value2b|  value2c|\n",
            "|key3|  value3a|  value3b|  value3c|\n",
            "+----+---------+---------+---------+\n",
            "\n"
          ]
        }
      ]
    },
    {
      "cell_type": "code",
      "source": [
        "dfLis=df_with_list"
      ],
      "metadata": {
        "id": "eaRr2x18PU_K"
      },
      "execution_count": 17,
      "outputs": []
    },
    {
      "cell_type": "code",
      "source": [
        "dfsize=dfLis.select('key','values',size('values').alias('Size'))\n",
        "dfsize.show()"
      ],
      "metadata": {
        "id": "lxbdP4KCQjef",
        "colab": {
          "base_uri": "https://localhost:8080/"
        },
        "outputId": "1e31ec42-463f-4e4d-a0c1-6534b8b54edc"
      },
      "execution_count": 19,
      "outputs": [
        {
          "output_type": "stream",
          "name": "stdout",
          "text": [
            "+----+--------------------+----+\n",
            "| key|              values|Size|\n",
            "+----+--------------------+----+\n",
            "|key1|[value1a, value1b...|   3|\n",
            "|key2|[value2a, value2b...|   3|\n",
            "|key3|[value3a, value3b...|   3|\n",
            "+----+--------------------+----+\n",
            "\n"
          ]
        }
      ]
    },
    {
      "cell_type": "code",
      "source": [
        "max_value=dfsize.agg({'Size':'max'}).collect()[0][0]\n",
        "max_value"
      ],
      "metadata": {
        "colab": {
          "base_uri": "https://localhost:8080/"
        },
        "id": "zB50ljyW-wUd",
        "outputId": "b1d39a37-9f03-4a5a-e0ca-ab94d3f7a3c4"
      },
      "execution_count": 20,
      "outputs": [
        {
          "output_type": "execute_result",
          "data": {
            "text/plain": [
              "3"
            ]
          },
          "metadata": {},
          "execution_count": 20
        }
      ]
    },
    {
      "cell_type": "code",
      "source": [
        "def arraySplitIntoCol(df,max_size):\n",
        "    for i in range(max_size):\n",
        "        df=df.withColumn(f\"new_col_{i}\",df.values[i])\n",
        "    return df"
      ],
      "metadata": {
        "id": "9-Bf-rM8GovU"
      },
      "execution_count": 23,
      "outputs": []
    },
    {
      "cell_type": "code",
      "source": [
        "dfOut=arraySplitIntoCol(dfLis,max_value)\n",
        "dfOut.show()"
      ],
      "metadata": {
        "colab": {
          "base_uri": "https://localhost:8080/"
        },
        "id": "Wmp4PwpYHQ0V",
        "outputId": "b6395e0d-ae6b-4429-fbfa-d11a0f9e8429"
      },
      "execution_count": 24,
      "outputs": [
        {
          "output_type": "stream",
          "name": "stdout",
          "text": [
            "+----+--------------------+---------+---------+---------+\n",
            "| key|              values|new_col_0|new_col_1|new_col_2|\n",
            "+----+--------------------+---------+---------+---------+\n",
            "|key1|[value1a, value1b...|  value1a|  value1b|  value1c|\n",
            "|key2|[value2a, value2b...|  value2a|  value2b|  value2c|\n",
            "|key3|[value3a, value3b...|  value3a|  value3b|  value3c|\n",
            "+----+--------------------+---------+---------+---------+\n",
            "\n"
          ]
        }
      ]
    },
    {
      "cell_type": "markdown",
      "source": [
        "#####**END OF CODE**"
      ],
      "metadata": {
        "id": "QgVM38N8GoGl"
      }
    }
  ]
}