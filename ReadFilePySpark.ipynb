{
  "nbformat": 4,
  "nbformat_minor": 0,
  "metadata": {
    "colab": {
      "provenance": [],
      "mount_file_id": "1sh-E_UVAsycm_pdSo67yr81NH_UrfQVE",
      "authorship_tag": "ABX9TyMlzcocPSK0D2qZz5F7n7p8",
      "include_colab_link": true
    },
    "kernelspec": {
      "name": "python3",
      "display_name": "Python 3"
    },
    "language_info": {
      "name": "python"
    }
  },
  "cells": [
    {
      "cell_type": "markdown",
      "metadata": {
        "id": "view-in-github",
        "colab_type": "text"
      },
      "source": [
        "<a href=\"https://colab.research.google.com/github/sandeepgundeboina/LearningSpark/blob/main/ReadFilePySpark.ipynb\" target=\"_parent\"><img src=\"https://colab.research.google.com/assets/colab-badge.svg\" alt=\"Open In Colab\"/></a>"
      ]
    },
    {
      "cell_type": "markdown",
      "source": [
        "    Installing spark and creating SparkSession"
      ],
      "metadata": {
        "id": "BDUHJxIJABYT"
      }
    },
    {
      "cell_type": "code",
      "execution_count": 1,
      "metadata": {
        "colab": {
          "base_uri": "https://localhost:8080/"
        },
        "id": "BI3noy5t4Vca",
        "outputId": "a57fb858-f4dc-4d39-f47b-ae307c1fc8ec"
      },
      "outputs": [
        {
          "output_type": "stream",
          "name": "stdout",
          "text": [
            "Requirement already satisfied: spark in /usr/local/lib/python3.11/dist-packages (0.2.1)\n"
          ]
        }
      ],
      "source": [
        "!pip install spark"
      ]
    },
    {
      "cell_type": "code",
      "source": [
        "import pyspark\n",
        "from pyspark.sql import SparkSession\n",
        "spark = SparkSession.builder.appName('FileLoading').getOrCreate()"
      ],
      "metadata": {
        "id": "doBwEUCk4j0s"
      },
      "execution_count": 2,
      "outputs": []
    },
    {
      "cell_type": "code",
      "source": [
        "spark"
      ],
      "metadata": {
        "colab": {
          "base_uri": "https://localhost:8080/",
          "height": 222
        },
        "id": "-B9hA6WR8Jiq",
        "outputId": "ca4155a4-debb-4ca5-d37e-c54671db69d4"
      },
      "execution_count": 3,
      "outputs": [
        {
          "output_type": "execute_result",
          "data": {
            "text/plain": [
              "<pyspark.sql.session.SparkSession at 0x78c56ccf0e50>"
            ],
            "text/html": [
              "\n",
              "            <div>\n",
              "                <p><b>SparkSession - in-memory</b></p>\n",
              "                \n",
              "        <div>\n",
              "            <p><b>SparkContext</b></p>\n",
              "\n",
              "            <p><a href=\"http://831aaec60f2e:4040\">Spark UI</a></p>\n",
              "\n",
              "            <dl>\n",
              "              <dt>Version</dt>\n",
              "                <dd><code>v3.5.5</code></dd>\n",
              "              <dt>Master</dt>\n",
              "                <dd><code>local[*]</code></dd>\n",
              "              <dt>AppName</dt>\n",
              "                <dd><code>FileLoading</code></dd>\n",
              "            </dl>\n",
              "        </div>\n",
              "        \n",
              "            </div>\n",
              "        "
            ]
          },
          "metadata": {},
          "execution_count": 3
        }
      ]
    },
    {
      "cell_type": "markdown",
      "source": [
        "    Reading a CSV file using Spark"
      ],
      "metadata": {
        "id": "-6gmBYBKAKtK"
      }
    },
    {
      "cell_type": "code",
      "source": [
        "df=spark.read.format('csv').option('header',True).option('inferSchema',True).load('/content/Help_Desk.csv')"
      ],
      "metadata": {
        "id": "SKxOuQE58N5S"
      },
      "execution_count": 4,
      "outputs": []
    },
    {
      "cell_type": "code",
      "source": [
        "display(df)"
      ],
      "metadata": {
        "colab": {
          "base_uri": "https://localhost:8080/",
          "height": 54
        },
        "id": "qGMIeYU-9REK",
        "outputId": "e24e64a6-5da9-4645-de14-2de8b52ceac5"
      },
      "execution_count": 5,
      "outputs": [
        {
          "output_type": "display_data",
          "data": {
            "text/plain": [
              "DataFrame[ticket_number: string, requestor_fname: string, requestor_lname: string, owner_group: string, issue_category: string, ticket_type: string, severity: string, days_open: int, statisfaction_score: string, ticket status: string, created_date: string]"
            ]
          },
          "metadata": {}
        }
      ]
    },
    {
      "cell_type": "code",
      "source": [
        "df.show(5)"
      ],
      "metadata": {
        "colab": {
          "base_uri": "https://localhost:8080/"
        },
        "id": "-BtLA01n9Xie",
        "outputId": "f61e12b4-9b67-4c2b-ec71-47a6307616a9"
      },
      "execution_count": 6,
      "outputs": [
        {
          "output_type": "stream",
          "name": "stdout",
          "text": [
            "+-------------------+---------------+---------------+--------------------+--------------+-----------+--------------+---------+--------------------+-------------+------------+\n",
            "|      ticket_number|requestor_fname|requestor_lname|         owner_group|issue_category|ticket_type|      severity|days_open| statisfaction_score|ticket status|created_date|\n",
            "+-------------------+---------------+---------------+--------------------+--------------+-----------+--------------+---------+--------------------+-------------+------------+\n",
            "|728-519150-3355-2-K|           Arni|        Lefever|            Software|  Access/Login|    Request|       1 - Low|       21|         0 - Unknown|         Open|   9/22/2020|\n",
            "|380-939270-1111-1-P|          Naoma|       Winslade|Security and Gove...|  Access/Login|    Request|       1 - Low|       10|         0 - Unknown|         Open|   6/29/2020|\n",
            "|065-564467-9139-8-B|        Darelle|          Aizic|Security and Gove...|  Access/Login|    Request|       1 - Low|        8|3 - Highly Satisfied|     Resolved|    5/6/2020|\n",
            "|250-378578-9916-3-J|        Dorotea|         Gaymer|Security and Gove...|  Access/Login|    Request|    2 - Medium|       18|         0 - Unknown|     Resolved|    5/5/2020|\n",
            "|205-866153-6208-5-N|          Viola|        Barfoot|Security and Gove...|  Access/Login|    Request|0 - Unassigned|       18|       2 - Satisfied|         Open|   10/3/2020|\n",
            "+-------------------+---------------+---------------+--------------------+--------------+-----------+--------------+---------+--------------------+-------------+------------+\n",
            "only showing top 5 rows\n",
            "\n"
          ]
        }
      ]
    },
    {
      "cell_type": "markdown",
      "source": [
        "    Playing with options"
      ],
      "metadata": {
        "id": "RUlof2M5AWR6"
      }
    },
    {
      "cell_type": "code",
      "source": [
        "df=spark.read.format('csv').option('header',False).option('inferSchema',True).load('/content/Help_Desk.csv')"
      ],
      "metadata": {
        "id": "XjfQ7S2R9cMK"
      },
      "execution_count": 7,
      "outputs": []
    },
    {
      "cell_type": "code",
      "source": [
        "df.show(5)"
      ],
      "metadata": {
        "colab": {
          "base_uri": "https://localhost:8080/"
        },
        "id": "kMMD3kUNAbyn",
        "outputId": "435c8877-283d-45a6-c565-efea912139e3"
      },
      "execution_count": 8,
      "outputs": [
        {
          "output_type": "stream",
          "name": "stdout",
          "text": [
            "+-------------------+---------------+---------------+--------------------+--------------+-----------+----------+---------+--------------------+-------------+------------+\n",
            "|                _c0|            _c1|            _c2|                 _c3|           _c4|        _c5|       _c6|      _c7|                 _c8|          _c9|        _c10|\n",
            "+-------------------+---------------+---------------+--------------------+--------------+-----------+----------+---------+--------------------+-------------+------------+\n",
            "|      ticket_number|requestor_fname|requestor_lname|         owner_group|issue_category|ticket_type|  severity|days_open| statisfaction_score|ticket status|created_date|\n",
            "|728-519150-3355-2-K|           Arni|        Lefever|            Software|  Access/Login|    Request|   1 - Low|       21|         0 - Unknown|         Open|   9/22/2020|\n",
            "|380-939270-1111-1-P|          Naoma|       Winslade|Security and Gove...|  Access/Login|    Request|   1 - Low|       10|         0 - Unknown|         Open|   6/29/2020|\n",
            "|065-564467-9139-8-B|        Darelle|          Aizic|Security and Gove...|  Access/Login|    Request|   1 - Low|        8|3 - Highly Satisfied|     Resolved|    5/6/2020|\n",
            "|250-378578-9916-3-J|        Dorotea|         Gaymer|Security and Gove...|  Access/Login|    Request|2 - Medium|       18|         0 - Unknown|     Resolved|    5/5/2020|\n",
            "+-------------------+---------------+---------------+--------------------+--------------+-----------+----------+---------+--------------------+-------------+------------+\n",
            "only showing top 5 rows\n",
            "\n"
          ]
        }
      ]
    },
    {
      "cell_type": "markdown",
      "source": [
        "    Instead of writing Multiple Option, giving as Options and loading the file"
      ],
      "metadata": {
        "id": "dwInvpauA7Tf"
      }
    },
    {
      "cell_type": "code",
      "source": [
        "f=spark.read.format('csv').options(header=True,inferSchema=True).load('/content/Help_Desk.csv')"
      ],
      "metadata": {
        "id": "inQGGztqAdjG"
      },
      "execution_count": 9,
      "outputs": []
    },
    {
      "cell_type": "code",
      "source": [
        "f.show(5)"
      ],
      "metadata": {
        "colab": {
          "base_uri": "https://localhost:8080/"
        },
        "id": "D-1LRWemA12T",
        "outputId": "b635ea19-5f91-4f42-a414-802e92a6315f"
      },
      "execution_count": 10,
      "outputs": [
        {
          "output_type": "stream",
          "name": "stdout",
          "text": [
            "+-------------------+---------------+---------------+--------------------+--------------+-----------+--------------+---------+--------------------+-------------+------------+\n",
            "|      ticket_number|requestor_fname|requestor_lname|         owner_group|issue_category|ticket_type|      severity|days_open| statisfaction_score|ticket status|created_date|\n",
            "+-------------------+---------------+---------------+--------------------+--------------+-----------+--------------+---------+--------------------+-------------+------------+\n",
            "|728-519150-3355-2-K|           Arni|        Lefever|            Software|  Access/Login|    Request|       1 - Low|       21|         0 - Unknown|         Open|   9/22/2020|\n",
            "|380-939270-1111-1-P|          Naoma|       Winslade|Security and Gove...|  Access/Login|    Request|       1 - Low|       10|         0 - Unknown|         Open|   6/29/2020|\n",
            "|065-564467-9139-8-B|        Darelle|          Aizic|Security and Gove...|  Access/Login|    Request|       1 - Low|        8|3 - Highly Satisfied|     Resolved|    5/6/2020|\n",
            "|250-378578-9916-3-J|        Dorotea|         Gaymer|Security and Gove...|  Access/Login|    Request|    2 - Medium|       18|         0 - Unknown|     Resolved|    5/5/2020|\n",
            "|205-866153-6208-5-N|          Viola|        Barfoot|Security and Gove...|  Access/Login|    Request|0 - Unassigned|       18|       2 - Satisfied|         Open|   10/3/2020|\n",
            "+-------------------+---------------+---------------+--------------------+--------------+-----------+--------------+---------+--------------------+-------------+------------+\n",
            "only showing top 5 rows\n",
            "\n"
          ]
        }
      ]
    },
    {
      "cell_type": "markdown",
      "source": [
        "    Alternative Method to load file"
      ],
      "metadata": {
        "id": "WInGb3BnBENy"
      }
    },
    {
      "cell_type": "code",
      "source": [
        "df1=spark.read.csv('/content/Help_Desk.csv',header=True,inferSchema=True)\n",
        "df1.show(4)"
      ],
      "metadata": {
        "colab": {
          "base_uri": "https://localhost:8080/"
        },
        "id": "SP9MYpztA3xm",
        "outputId": "27db38f9-825f-490e-882a-efd9e7d8467d"
      },
      "execution_count": 11,
      "outputs": [
        {
          "output_type": "stream",
          "name": "stdout",
          "text": [
            "+-------------------+---------------+---------------+--------------------+--------------+-----------+----------+---------+--------------------+-------------+------------+\n",
            "|      ticket_number|requestor_fname|requestor_lname|         owner_group|issue_category|ticket_type|  severity|days_open| statisfaction_score|ticket status|created_date|\n",
            "+-------------------+---------------+---------------+--------------------+--------------+-----------+----------+---------+--------------------+-------------+------------+\n",
            "|728-519150-3355-2-K|           Arni|        Lefever|            Software|  Access/Login|    Request|   1 - Low|       21|         0 - Unknown|         Open|   9/22/2020|\n",
            "|380-939270-1111-1-P|          Naoma|       Winslade|Security and Gove...|  Access/Login|    Request|   1 - Low|       10|         0 - Unknown|         Open|   6/29/2020|\n",
            "|065-564467-9139-8-B|        Darelle|          Aizic|Security and Gove...|  Access/Login|    Request|   1 - Low|        8|3 - Highly Satisfied|     Resolved|    5/6/2020|\n",
            "|250-378578-9916-3-J|        Dorotea|         Gaymer|Security and Gove...|  Access/Login|    Request|2 - Medium|       18|         0 - Unknown|     Resolved|    5/5/2020|\n",
            "+-------------------+---------------+---------------+--------------------+--------------+-----------+----------+---------+--------------------+-------------+------------+\n",
            "only showing top 4 rows\n",
            "\n"
          ]
        }
      ]
    },
    {
      "cell_type": "code",
      "source": [
        "df1.count()"
      ],
      "metadata": {
        "colab": {
          "base_uri": "https://localhost:8080/"
        },
        "id": "mtrBEo9vBOiC",
        "outputId": "9fe82a88-b8fb-4885-af39-2676c3e13d97"
      },
      "execution_count": 12,
      "outputs": [
        {
          "output_type": "execute_result",
          "data": {
            "text/plain": [
              "9542"
            ]
          },
          "metadata": {},
          "execution_count": 12
        }
      ]
    },
    {
      "cell_type": "markdown",
      "source": [
        "    To get Schema details:"
      ],
      "metadata": {
        "id": "T0RZ_3jLCRHr"
      }
    },
    {
      "cell_type": "code",
      "source": [
        "df1.printSchema()"
      ],
      "metadata": {
        "colab": {
          "base_uri": "https://localhost:8080/"
        },
        "id": "juM8M_WCBxeu",
        "outputId": "d289c20c-6c4c-46c0-b756-41baeb227ae7"
      },
      "execution_count": 13,
      "outputs": [
        {
          "output_type": "stream",
          "name": "stdout",
          "text": [
            "root\n",
            " |-- ticket_number: string (nullable = true)\n",
            " |-- requestor_fname: string (nullable = true)\n",
            " |-- requestor_lname: string (nullable = true)\n",
            " |-- owner_group: string (nullable = true)\n",
            " |-- issue_category: string (nullable = true)\n",
            " |-- ticket_type: string (nullable = true)\n",
            " |-- severity: string (nullable = true)\n",
            " |-- days_open: integer (nullable = true)\n",
            " |-- statisfaction_score: string (nullable = true)\n",
            " |-- ticket status: string (nullable = true)\n",
            " |-- created_date: string (nullable = true)\n",
            "\n"
          ]
        }
      ]
    },
    {
      "cell_type": "markdown",
      "source": [
        "    End Of Code"
      ],
      "metadata": {
        "id": "oxxjGN3gDNb1"
      }
    }
  ]
}