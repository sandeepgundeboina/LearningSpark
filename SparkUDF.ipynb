{
  "nbformat": 4,
  "nbformat_minor": 0,
  "metadata": {
    "colab": {
      "provenance": [],
      "authorship_tag": "ABX9TyMWya7WWWxrjrkrZJmCC0M+"
    },
    "kernelspec": {
      "name": "python3",
      "display_name": "Python 3"
    },
    "language_info": {
      "name": "python"
    }
  },
  "cells": [
    {
      "cell_type": "code",
      "execution_count": 1,
      "metadata": {
        "colab": {
          "base_uri": "https://localhost:8080/",
          "height": 254
        },
        "id": "b9ISZI8WlQiS",
        "outputId": "6db69098-2130-4c13-f2b9-ecb931c1b813"
      },
      "outputs": [
        {
          "output_type": "stream",
          "name": "stdout",
          "text": [
            "Requirement already satisfied: pyspark in /usr/local/lib/python3.11/dist-packages (3.5.1)\n",
            "Requirement already satisfied: py4j==0.10.9.7 in /usr/local/lib/python3.11/dist-packages (from pyspark) (0.10.9.7)\n"
          ]
        },
        {
          "output_type": "execute_result",
          "data": {
            "text/plain": [
              "<pyspark.sql.session.SparkSession at 0x7c4f187902d0>"
            ],
            "text/html": [
              "\n",
              "            <div>\n",
              "                <p><b>SparkSession - in-memory</b></p>\n",
              "                \n",
              "        <div>\n",
              "            <p><b>SparkContext</b></p>\n",
              "\n",
              "            <p><a href=\"http://00e7854f97e2:4040\">Spark UI</a></p>\n",
              "\n",
              "            <dl>\n",
              "              <dt>Version</dt>\n",
              "                <dd><code>v3.5.1</code></dd>\n",
              "              <dt>Master</dt>\n",
              "                <dd><code>local[*]</code></dd>\n",
              "              <dt>AppName</dt>\n",
              "                <dd><code>SparkUDF</code></dd>\n",
              "            </dl>\n",
              "        </div>\n",
              "        \n",
              "            </div>\n",
              "        "
            ]
          },
          "metadata": {},
          "execution_count": 1
        }
      ],
      "source": [
        "!pip install pyspark\n",
        "import pyspark\n",
        "from pyspark.sql import SparkSession\n",
        "spark=SparkSession.builder.appName('SparkUDF').getOrCreate()\n",
        "spark"
      ]
    },
    {
      "cell_type": "code",
      "source": [
        "transactions=[\n",
        "    (4, 'Apples', 1.03),\n",
        "    (3, 'Apples', 2.68),\n",
        "    (4, 'Oranges', 4.72),\n",
        "    (1, 'Apples', 1.94),\n",
        "    (3, 'Bread', 3.07),\n",
        "    (1, 'Apples', 0.75),\n",
        "    (4, 'Bananas', 4.71),\n",
        "    (2, 'Bread', 2.86),\n",
        "    (3, 'Bread', 2.61),\n",
        "    (3, 'Apples', 0.64),\n",
        "    (1, 'Oranges', 1.60),\n",
        "    (1, 'Bread', 1.50)\n",
        "]\n",
        "\n",
        "schema=['store_id', 'product', 'price']\n",
        "df1=spark.createDataFrame(data=transactions, schema=schema)\n",
        "df1.show()"
      ],
      "metadata": {
        "colab": {
          "base_uri": "https://localhost:8080/"
        },
        "id": "TFNouRi_lgwQ",
        "outputId": "1fabe837-a73a-48e4-bf9a-4fe9f7c42c8d"
      },
      "execution_count": 2,
      "outputs": [
        {
          "output_type": "stream",
          "name": "stdout",
          "text": [
            "+--------+-------+-----+\n",
            "|store_id|product|price|\n",
            "+--------+-------+-----+\n",
            "|       4| Apples| 1.03|\n",
            "|       3| Apples| 2.68|\n",
            "|       4|Oranges| 4.72|\n",
            "|       1| Apples| 1.94|\n",
            "|       3|  Bread| 3.07|\n",
            "|       1| Apples| 0.75|\n",
            "|       4|Bananas| 4.71|\n",
            "|       2|  Bread| 2.86|\n",
            "|       3|  Bread| 2.61|\n",
            "|       3| Apples| 0.64|\n",
            "|       1|Oranges|  1.6|\n",
            "|       1|  Bread|  1.5|\n",
            "+--------+-------+-----+\n",
            "\n"
          ]
        }
      ]
    },
    {
      "cell_type": "markdown",
      "source": [
        "    To Rename a column Name"
      ],
      "metadata": {
        "id": "U-zZnO7_otpz"
      }
    },
    {
      "cell_type": "code",
      "source": [
        "from pyspark.sql.functions import *\n",
        "def colChange(dataframe):\n",
        "    for col in dataframe.columns:\n",
        "        colnew='Col_UDF_'+col\n",
        "        dataframe=dataframe.withColumnRenamed(col, colnew)\n",
        "    return dataframe"
      ],
      "metadata": {
        "id": "AOraMr7qlwAb"
      },
      "execution_count": 3,
      "outputs": []
    },
    {
      "cell_type": "code",
      "source": [
        "df_col=colChange(df1)\n",
        "df_col.show()"
      ],
      "metadata": {
        "colab": {
          "base_uri": "https://localhost:8080/"
        },
        "id": "qgd4uzs0mAcI",
        "outputId": "519e62a2-d23f-4711-a1de-f4aad8352a5c"
      },
      "execution_count": 4,
      "outputs": [
        {
          "output_type": "stream",
          "name": "stdout",
          "text": [
            "+----------------+---------------+-------------+\n",
            "|Col_UDF_store_id|Col_UDF_product|Col_UDF_price|\n",
            "+----------------+---------------+-------------+\n",
            "|               4|         Apples|         1.03|\n",
            "|               3|         Apples|         2.68|\n",
            "|               4|        Oranges|         4.72|\n",
            "|               1|         Apples|         1.94|\n",
            "|               3|          Bread|         3.07|\n",
            "|               1|         Apples|         0.75|\n",
            "|               4|        Bananas|         4.71|\n",
            "|               2|          Bread|         2.86|\n",
            "|               3|          Bread|         2.61|\n",
            "|               3|         Apples|         0.64|\n",
            "|               1|        Oranges|          1.6|\n",
            "|               1|          Bread|          1.5|\n",
            "+----------------+---------------+-------------+\n",
            "\n"
          ]
        }
      ]
    },
    {
      "cell_type": "markdown",
      "source": [
        "    Dynamically change all the values to Upper case, when given a column name"
      ],
      "metadata": {
        "id": "7V5ZIM7Joi3r"
      }
    },
    {
      "cell_type": "code",
      "source": [
        "def upper_col(df,column_name):\n",
        "    col_name='Col_upper'+column_name\n",
        "    df=df.withColumn(col_name, upper(df[column_name]))\n",
        "    return df"
      ],
      "metadata": {
        "id": "iWX1q_mEmIok"
      },
      "execution_count": 5,
      "outputs": []
    },
    {
      "cell_type": "code",
      "source": [
        "df_up=upper_col(df1,'product')\n",
        "df_up.show()"
      ],
      "metadata": {
        "colab": {
          "base_uri": "https://localhost:8080/"
        },
        "id": "seYD_F1OmqK0",
        "outputId": "531c7dbd-abd4-4a3a-b0f6-a5f6f39dba11"
      },
      "execution_count": 6,
      "outputs": [
        {
          "output_type": "stream",
          "name": "stdout",
          "text": [
            "+--------+-------+-----+----------------+\n",
            "|store_id|product|price|Col_upperproduct|\n",
            "+--------+-------+-----+----------------+\n",
            "|       4| Apples| 1.03|          APPLES|\n",
            "|       3| Apples| 2.68|          APPLES|\n",
            "|       4|Oranges| 4.72|         ORANGES|\n",
            "|       1| Apples| 1.94|          APPLES|\n",
            "|       3|  Bread| 3.07|           BREAD|\n",
            "|       1| Apples| 0.75|          APPLES|\n",
            "|       4|Bananas| 4.71|         BANANAS|\n",
            "|       2|  Bread| 2.86|           BREAD|\n",
            "|       3|  Bread| 2.61|           BREAD|\n",
            "|       3| Apples| 0.64|          APPLES|\n",
            "|       1|Oranges|  1.6|         ORANGES|\n",
            "|       1|  Bread|  1.5|           BREAD|\n",
            "+--------+-------+-----+----------------+\n",
            "\n"
          ]
        }
      ]
    },
    {
      "cell_type": "markdown",
      "source": [
        "**END OF CODE**"
      ],
      "metadata": {
        "id": "5i8qz0xxoyEZ"
      }
    }
  ]
}