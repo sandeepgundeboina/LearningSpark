{
  "nbformat": 4,
  "nbformat_minor": 0,
  "metadata": {
    "colab": {
      "provenance": [],
      "mount_file_id": "1jSMmB5jF46Oja7KuFtnudA_IVJfJ6Bhc",
      "authorship_tag": "ABX9TyP26VEZOFdyCx2jsJGrfq5v",
      "include_colab_link": true
    },
    "kernelspec": {
      "name": "python3",
      "display_name": "Python 3"
    },
    "language_info": {
      "name": "python"
    }
  },
  "cells": [
    {
      "cell_type": "markdown",
      "metadata": {
        "id": "view-in-github",
        "colab_type": "text"
      },
      "source": [
        "<a href=\"https://colab.research.google.com/github/sandeepgundeboina/LearningSpark/blob/main/SparkDeltaMerge.ipynb\" target=\"_parent\"><img src=\"https://colab.research.google.com/assets/colab-badge.svg\" alt=\"Open In Colab\"/></a>"
      ]
    },
    {
      "cell_type": "code",
      "execution_count": 1,
      "metadata": {
        "colab": {
          "base_uri": "https://localhost:8080/"
        },
        "id": "Mk-gOH1m5aUA",
        "outputId": "a90ae33b-4cf2-4480-9ca1-5410a96af468"
      },
      "outputs": [
        {
          "output_type": "stream",
          "name": "stdout",
          "text": [
            "Requirement already satisfied: delta-spark==2.0.0 in /usr/local/lib/python3.11/dist-packages (2.0.0)\n",
            "Requirement already satisfied: pyspark<3.3.0,>=3.2.0 in /usr/local/lib/python3.11/dist-packages (from delta-spark==2.0.0) (3.2.4)\n",
            "Requirement already satisfied: importlib-metadata>=1.0.0 in /usr/local/lib/python3.11/dist-packages (from delta-spark==2.0.0) (8.7.0)\n",
            "Requirement already satisfied: zipp>=3.20 in /usr/local/lib/python3.11/dist-packages (from importlib-metadata>=1.0.0->delta-spark==2.0.0) (3.23.0)\n",
            "Requirement already satisfied: py4j==0.10.9.5 in /usr/local/lib/python3.11/dist-packages (from pyspark<3.3.0,>=3.2.0->delta-spark==2.0.0) (0.10.9.5)\n"
          ]
        }
      ],
      "source": [
        "!pip install delta-spark==2.0.0\n",
        "\n",
        "import pyspark\n",
        "from pyspark.sql import SparkSession\n",
        "spark = SparkSession.builder \\\n",
        "    .appName(\"SparkDeltaMerge\") \\\n",
        "    .config(\"spark.jars.packages\", \"io.delta:delta-core_2.12:2.0.0\") \\\n",
        "    .config(\"spark.sql.extensions\", \"io.delta.sql.DeltaSparkSessionExtension\") \\\n",
        "    .config(\"spark.sql.catalog.spark_catalog\", \"org.apache.spark.sql.delta.catalog.DeltaCatalog\") \\\n",
        "    .getOrCreate()"
      ]
    },
    {
      "cell_type": "code",
      "source": [
        "from delta.tables import *\n",
        "from pyspark.sql.functions import *\n",
        "from pyspark.sql.types import *"
      ],
      "metadata": {
        "id": "AUdVx2Gr6HDM"
      },
      "execution_count": 2,
      "outputs": []
    },
    {
      "cell_type": "code",
      "source": [
        "df=spark.read.format('csv').option('header','true').option('inferSchema',True).load('/content/drive/MyDrive/Abc/Ola_data/products.csv')"
      ],
      "metadata": {
        "id": "3dStl_PF6c3T"
      },
      "execution_count": 3,
      "outputs": []
    },
    {
      "cell_type": "code",
      "source": [
        "df.write.format('delta').mode('overwrite').saveAsTable('Products_table')"
      ],
      "metadata": {
        "id": "bb4mvAPT6j1x"
      },
      "execution_count": 4,
      "outputs": []
    },
    {
      "cell_type": "code",
      "source": [
        "df.createOrReplaceTempView('Products_temp')"
      ],
      "metadata": {
        "id": "8Kc2Lglr6q3G"
      },
      "execution_count": 5,
      "outputs": []
    },
    {
      "cell_type": "code",
      "source": [
        "spark.sql('select * from products_temp').show(4)"
      ],
      "metadata": {
        "colab": {
          "base_uri": "https://localhost:8080/"
        },
        "id": "oL2GwCYM7QsJ",
        "outputId": "fde1779e-597d-4860-c4d6-4c8483ec92ae"
      },
      "execution_count": 6,
      "outputs": [
        {
          "output_type": "stream",
          "name": "stdout",
          "text": [
            "+-----------------+---------------+----------+--------+-----+----------+-------+\n",
            "|          product|          store|product_id|store_id|  MRP|     state|country|\n",
            "+-----------------+---------------+----------+--------+-----+----------+-------+\n",
            "|    Wired Earbuds|Electronics Hub|   PROD101| STORE01|25.99|California|    USA|\n",
            "| Portable Charger|    Mobile Mart|   PROD102| STORE02| NULL|     Texas|    USA|\n",
            "|Bluetooth Speaker|Electronics Hub|   PROD103| STORE01|79.50|California|    USA|\n",
            "| Smart Light Bulb|   Home Gadgets|   PROD104| STORE03|15.00|   Florida|    USA|\n",
            "+-----------------+---------------+----------+--------+-----+----------+-------+\n",
            "only showing top 4 rows\n",
            "\n"
          ]
        }
      ]
    },
    {
      "cell_type": "code",
      "source": [
        "spark.sql('create or replace table Products (product string,store string,product_id string,MRP int,\\\n",
        "            state string, country string)using delta location \"/content/sample_data/store\"')"
      ],
      "metadata": {
        "colab": {
          "base_uri": "https://localhost:8080/"
        },
        "id": "4btbRZXs7V0N",
        "outputId": "03329504-c77e-49bf-808a-c9a94ffa9d47"
      },
      "execution_count": 7,
      "outputs": [
        {
          "output_type": "execute_result",
          "data": {
            "text/plain": [
              "DataFrame[]"
            ]
          },
          "metadata": {},
          "execution_count": 7
        }
      ]
    },
    {
      "cell_type": "code",
      "source": [
        "spark.sql('select * from Products').show()"
      ],
      "metadata": {
        "colab": {
          "base_uri": "https://localhost:8080/"
        },
        "id": "clgK3Mk08FLy",
        "outputId": "49650fc2-fac3-4732-fe19-32aadae096ee"
      },
      "execution_count": 8,
      "outputs": [
        {
          "output_type": "stream",
          "name": "stdout",
          "text": [
            "+-------------------+---------------+----------+----+----------+-------+\n",
            "|            product|          store|product_id| MRP|     state|country|\n",
            "+-------------------+---------------+----------+----+----------+-------+\n",
            "|      Foot Massager|   Home Gadgets|   PROD175| 100|   Florida|    USA|\n",
            "|       Dehumidifier|   Office Depot|   PROD162| 150|  Illinois|    USA|\n",
            "|         Hand Mixer|   Office Depot|   PROD154|  25|  Illinois|    USA|\n",
            "|        Smart Scale|    Mobile Mart|   PROD179|null|     Texas|    USA|\n",
            "|       Portable SSD|      PC Palace|   PROD129|null|  New York|    USA|\n",
            "|Digital Thermometer|   Home Gadgets|   PROD177|  15|   Florida|    USA|\n",
            "|     Water Purifier|   Office Depot|   PROD158| 200|  Illinois|    USA|\n",
            "|        Power Strip|   Home Gadgets|   PROD115|null|   Florida|    USA|\n",
            "|         Laptop Bag|   Office Depot|   PROD140|  45|  Illinois|    USA|\n",
            "|     Coffee Machine|   Home Gadgets|   PROD151|  95|   Florida|    USA|\n",
            "|   Screen Protector|Electronics Hub|   PROD138|  10|California|    USA|\n",
            "|     Portable Grill|   Home Gadgets|   PROD194|  90|   Florida|   NULL|\n",
            "|     Microwave Oven|    Mobile Mart|   PROD166| 100|     Texas|    USA|\n",
            "|       Pocket Knife|    Mobile Mart|   PROD189|  18|     Texas|    USA|\n",
            "|      Wired Earbuds|Electronics Hub|   PROD101|  25|California|    USA|\n",
            "|      Laptop Sleeve|      PC Palace|   PROD113|null|  New York|    USA|\n",
            "|         Flashlight|   Office Depot|   PROD187|  12|      NULL|    USA|\n",
            "|           Desk Fan|    Mobile Mart|   PROD116|  20|     Texas|    USA|\n",
            "|     Gaming Monitor|      PC Palace|   PROD143| 350|  New York|    USA|\n",
            "|    Security Camera|    Mobile Mart|   PROD149|null|     Texas|    USA|\n",
            "+-------------------+---------------+----------+----+----------+-------+\n",
            "only showing top 20 rows\n",
            "\n"
          ]
        }
      ]
    },
    {
      "cell_type": "code",
      "source": [
        "spark.sql(\n",
        "    \"Merge into Products as target using Products_temp as source on target.product_id = source.product_id\\\n",
        "     when matched then update set target.product=source.product,\\\n",
        "        target.store=source.store,\\\n",
        "        target.product_id=source.product_id,\\\n",
        "        target.MRP=source.MRP,\\\n",
        "        target.state=source.state,\\\n",
        "        target.country=source.country\\\n",
        "     when not matched then insert * \"\n",
        ")"
      ],
      "metadata": {
        "colab": {
          "base_uri": "https://localhost:8080/"
        },
        "id": "cvY5dRpy9iIN",
        "outputId": "56621102-5b2a-4791-c697-0504466881c1"
      },
      "execution_count": 9,
      "outputs": [
        {
          "output_type": "execute_result",
          "data": {
            "text/plain": [
              "DataFrame[]"
            ]
          },
          "metadata": {},
          "execution_count": 9
        }
      ]
    },
    {
      "cell_type": "code",
      "source": [
        "spark.sql('select * from Products').show(5)"
      ],
      "metadata": {
        "colab": {
          "base_uri": "https://localhost:8080/"
        },
        "id": "AwErL-Q_9yix",
        "outputId": "753ff3a5-885d-4f71-8c91-202d1964ca78"
      },
      "execution_count": 10,
      "outputs": [
        {
          "output_type": "stream",
          "name": "stdout",
          "text": [
            "+-----------------+---------------+----------+----+----------+-------+\n",
            "|          product|          store|product_id| MRP|     state|country|\n",
            "+-----------------+---------------+----------+----+----------+-------+\n",
            "|    Wired Earbuds|Electronics Hub|   PROD101|  25|California|    USA|\n",
            "| Portable Charger|    Mobile Mart|   PROD102|null|     Texas|    USA|\n",
            "|Bluetooth Speaker|Electronics Hub|   PROD103|  79|California|    USA|\n",
            "| Smart Light Bulb|   Home Gadgets|   PROD104|  15|   Florida|    USA|\n",
            "|             NULL|    Mobile Mart|   PROD105|  49|     Texas|    USA|\n",
            "+-----------------+---------------+----------+----+----------+-------+\n",
            "only showing top 5 rows\n",
            "\n"
          ]
        }
      ]
    },
    {
      "cell_type": "markdown",
      "source": [
        "**END OF CODE**"
      ],
      "metadata": {
        "id": "uCLIkHH5_Ini"
      }
    }
  ]
}