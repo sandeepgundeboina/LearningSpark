{
  "nbformat": 4,
  "nbformat_minor": 0,
  "metadata": {
    "colab": {
      "provenance": [],
      "mount_file_id": "1jSMmB5jF46Oja7KuFtnudA_IVJfJ6Bhc",
      "authorship_tag": "ABX9TyP26VEZOFdyCx2jsJGrfq5v",
      "include_colab_link": true
    },
    "kernelspec": {
      "name": "python3",
      "display_name": "Python 3"
    },
    "language_info": {
      "name": "python"
    }
  },
  "cells": [
    {
      "cell_type": "markdown",
      "metadata": {
        "id": "view-in-github",
        "colab_type": "text"
      },
      "source": [
        "<a href=\"https://colab.research.google.com/github/sandeepgundeboina/LearningSpark/blob/main/SparkDeltaMerge.ipynb\" target=\"_parent\"><img src=\"https://colab.research.google.com/assets/colab-badge.svg\" alt=\"Open In Colab\"/></a>"
      ]
    },
    {
      "cell_type": "code",
      "execution_count": 1,
      "metadata": {
        "colab": {
          "base_uri": "https://localhost:8080/"
        },
        "id": "Mk-gOH1m5aUA",
        "outputId": "9ea40d1e-2556-42ab-aeea-c84895062492"
      },
      "outputs": [
        {
          "output_type": "stream",
          "name": "stdout",
          "text": [
            "Collecting delta-spark==2.0.0\n",
            "  Downloading delta_spark-2.0.0-py3-none-any.whl.metadata (1.9 kB)\n",
            "Collecting pyspark<3.3.0,>=3.2.0 (from delta-spark==2.0.0)\n",
            "  Downloading pyspark-3.2.4.tar.gz (281.5 MB)\n",
            "\u001b[2K     \u001b[90m━━━━━━━━━━━━━━━━━━━━━━━━━━━━━━━━━━━━━━━\u001b[0m \u001b[32m281.5/281.5 MB\u001b[0m \u001b[31m4.4 MB/s\u001b[0m eta \u001b[36m0:00:00\u001b[0m\n",
            "\u001b[?25h  Preparing metadata (setup.py) ... \u001b[?25l\u001b[?25hdone\n",
            "Requirement already satisfied: importlib-metadata>=1.0.0 in /usr/local/lib/python3.11/dist-packages (from delta-spark==2.0.0) (8.7.0)\n",
            "Requirement already satisfied: zipp>=3.20 in /usr/local/lib/python3.11/dist-packages (from importlib-metadata>=1.0.0->delta-spark==2.0.0) (3.23.0)\n",
            "Collecting py4j==0.10.9.5 (from pyspark<3.3.0,>=3.2.0->delta-spark==2.0.0)\n",
            "  Downloading py4j-0.10.9.5-py2.py3-none-any.whl.metadata (1.5 kB)\n",
            "Downloading delta_spark-2.0.0-py3-none-any.whl (20 kB)\n",
            "Downloading py4j-0.10.9.5-py2.py3-none-any.whl (199 kB)\n",
            "\u001b[2K   \u001b[90m━━━━━━━━━━━━━━━━━━━━━━━━━━━━━━━━━━━━━━━━\u001b[0m \u001b[32m199.7/199.7 kB\u001b[0m \u001b[31m15.0 MB/s\u001b[0m eta \u001b[36m0:00:00\u001b[0m\n",
            "\u001b[?25hBuilding wheels for collected packages: pyspark\n",
            "  Building wheel for pyspark (setup.py) ... \u001b[?25l\u001b[?25hdone\n",
            "  Created wheel for pyspark: filename=pyspark-3.2.4-py2.py3-none-any.whl size=282040920 sha256=32a72c223cc2a78aecf6187d907a22b39522d04f48ad3cabe7984d0f29189ed0\n",
            "  Stored in directory: /root/.cache/pip/wheels/81/6c/a6/af459ed3106da8f1171a265c2982425fe390aa418a47d2a8b4\n",
            "Successfully built pyspark\n",
            "Installing collected packages: py4j, pyspark, delta-spark\n",
            "  Attempting uninstall: py4j\n",
            "    Found existing installation: py4j 0.10.9.7\n",
            "    Uninstalling py4j-0.10.9.7:\n",
            "      Successfully uninstalled py4j-0.10.9.7\n",
            "  Attempting uninstall: pyspark\n",
            "    Found existing installation: pyspark 3.5.1\n",
            "    Uninstalling pyspark-3.5.1:\n",
            "      Successfully uninstalled pyspark-3.5.1\n",
            "\u001b[31mERROR: pip's dependency resolver does not currently take into account all the packages that are installed. This behaviour is the source of the following dependency conflicts.\n",
            "dataproc-spark-connect 0.7.5 requires pyspark[connect]~=3.5.1, but you have pyspark 3.2.4 which is incompatible.\u001b[0m\u001b[31m\n",
            "\u001b[0mSuccessfully installed delta-spark-2.0.0 py4j-0.10.9.5 pyspark-3.2.4\n"
          ]
        }
      ],
      "source": [
        "!pip install delta-spark==2.0.0\n",
        "\n",
        "import pyspark\n",
        "from pyspark.sql import SparkSession\n",
        "spark = SparkSession.builder \\\n",
        "    .appName(\"SparkDeltaMerge\") \\\n",
        "    .config(\"spark.jars.packages\", \"io.delta:delta-core_2.12:2.0.0\") \\\n",
        "    .config(\"spark.sql.extensions\", \"io.delta.sql.DeltaSparkSessionExtension\") \\\n",
        "    .config(\"spark.sql.catalog.spark_catalog\", \"org.apache.spark.sql.delta.catalog.DeltaCatalog\") \\\n",
        "    .getOrCreate()"
      ]
    },
    {
      "cell_type": "code",
      "source": [
        "from delta.tables import *\n",
        "from pyspark.sql.functions import *\n",
        "from pyspark.sql.types import *"
      ],
      "metadata": {
        "id": "AUdVx2Gr6HDM"
      },
      "execution_count": 2,
      "outputs": []
    },
    {
      "cell_type": "code",
      "source": [
        "df=spark.read.format('csv').option('header','true').option('inferSchema',True).load('/content/drive/MyDrive/Abc/Ola_data/products.csv')"
      ],
      "metadata": {
        "id": "3dStl_PF6c3T"
      },
      "execution_count": 5,
      "outputs": []
    },
    {
      "cell_type": "code",
      "source": [
        "df.write.format('delta').mode('overwrite').saveAsTable('Products_table')"
      ],
      "metadata": {
        "id": "bb4mvAPT6j1x"
      },
      "execution_count": 6,
      "outputs": []
    },
    {
      "cell_type": "code",
      "source": [
        "df.createOrReplaceTempView('Products_temp')"
      ],
      "metadata": {
        "id": "8Kc2Lglr6q3G"
      },
      "execution_count": 7,
      "outputs": []
    },
    {
      "cell_type": "code",
      "source": [
        "spark.sql('select * from products_temp').show(4)"
      ],
      "metadata": {
        "colab": {
          "base_uri": "https://localhost:8080/"
        },
        "id": "oL2GwCYM7QsJ",
        "outputId": "f6a68869-f1f7-4b40-956d-058fd1594b94"
      },
      "execution_count": 9,
      "outputs": [
        {
          "output_type": "stream",
          "name": "stdout",
          "text": [
            "+-----------------+---------------+----------+--------+-----+----------+-------+\n",
            "|          product|          store|product_id|store_id|  MRP|     state|country|\n",
            "+-----------------+---------------+----------+--------+-----+----------+-------+\n",
            "|    Wired Earbuds|Electronics Hub|   PROD101| STORE01|25.99|California|    USA|\n",
            "| Portable Charger|    Mobile Mart|   PROD102| STORE02| NULL|     Texas|    USA|\n",
            "|Bluetooth Speaker|Electronics Hub|   PROD103| STORE01|79.50|California|    USA|\n",
            "| Smart Light Bulb|   Home Gadgets|   PROD104| STORE03|15.00|   Florida|    USA|\n",
            "+-----------------+---------------+----------+--------+-----+----------+-------+\n",
            "only showing top 4 rows\n",
            "\n"
          ]
        }
      ]
    },
    {
      "cell_type": "code",
      "source": [
        "spark.sql('create or replace table Products (product string,store string,product_id string,MRP int,\\\n",
        "            state string, country string)using delta location \"/content/sample_data/store\"')"
      ],
      "metadata": {
        "colab": {
          "base_uri": "https://localhost:8080/"
        },
        "id": "4btbRZXs7V0N",
        "outputId": "4a962094-ff07-44b6-eeba-5f9d5fdb8382"
      },
      "execution_count": 12,
      "outputs": [
        {
          "output_type": "execute_result",
          "data": {
            "text/plain": [
              "DataFrame[]"
            ]
          },
          "metadata": {},
          "execution_count": 12
        }
      ]
    },
    {
      "cell_type": "code",
      "source": [
        "spark.sql('select * from Products').show()"
      ],
      "metadata": {
        "colab": {
          "base_uri": "https://localhost:8080/"
        },
        "id": "clgK3Mk08FLy",
        "outputId": "65c5ae1c-2444-4d17-cf72-a6d890643c02"
      },
      "execution_count": 14,
      "outputs": [
        {
          "output_type": "stream",
          "name": "stdout",
          "text": [
            "+-------+-----+----------+---+-----+-------+\n",
            "|product|store|product_id|MRP|state|country|\n",
            "+-------+-----+----------+---+-----+-------+\n",
            "+-------+-----+----------+---+-----+-------+\n",
            "\n"
          ]
        }
      ]
    },
    {
      "cell_type": "code",
      "source": [
        "spark.sql(\n",
        "    \"Merge into Products as target using Products_temp as source on target.product_id = source.product_id\\\n",
        "     when matched then update set target.product=source.product,\\\n",
        "        target.store=source.store,\\\n",
        "        target.product_id=source.product_id,\\\n",
        "        target.MRP=source.MRP,\\\n",
        "        target.state=source.state,\\\n",
        "        target.country=source.country\\\n",
        "     when not matched then insert * \"\n",
        ")"
      ],
      "metadata": {
        "colab": {
          "base_uri": "https://localhost:8080/"
        },
        "id": "cvY5dRpy9iIN",
        "outputId": "01424f79-a324-441c-8f2a-fc08863ce667"
      },
      "execution_count": 17,
      "outputs": [
        {
          "output_type": "execute_result",
          "data": {
            "text/plain": [
              "DataFrame[]"
            ]
          },
          "metadata": {},
          "execution_count": 17
        }
      ]
    },
    {
      "cell_type": "code",
      "source": [
        "spark.sql('select * from Products').show(5)"
      ],
      "metadata": {
        "colab": {
          "base_uri": "https://localhost:8080/"
        },
        "id": "AwErL-Q_9yix",
        "outputId": "8aea31f6-e693-45be-c4c0-4e1dce802f1b"
      },
      "execution_count": 19,
      "outputs": [
        {
          "output_type": "stream",
          "name": "stdout",
          "text": [
            "+-------------+------------+----------+----+--------+-------+\n",
            "|      product|       store|product_id| MRP|   state|country|\n",
            "+-------------+------------+----------+----+--------+-------+\n",
            "|Foot Massager|Home Gadgets|   PROD175| 100| Florida|    USA|\n",
            "| Dehumidifier|Office Depot|   PROD162| 150|Illinois|    USA|\n",
            "|   Hand Mixer|Office Depot|   PROD154|  25|Illinois|    USA|\n",
            "|  Smart Scale| Mobile Mart|   PROD179|null|   Texas|    USA|\n",
            "| Portable SSD|   PC Palace|   PROD129|null|New York|    USA|\n",
            "+-------------+------------+----------+----+--------+-------+\n",
            "only showing top 5 rows\n",
            "\n"
          ]
        }
      ]
    },
    {
      "cell_type": "markdown",
      "source": [
        "**END OF CODE**"
      ],
      "metadata": {
        "id": "uCLIkHH5_Ini"
      }
    }
  ]
}