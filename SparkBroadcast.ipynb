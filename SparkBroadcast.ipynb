{
  "nbformat": 4,
  "nbformat_minor": 0,
  "metadata": {
    "colab": {
      "provenance": [],
      "authorship_tag": "ABX9TyMU/dlqkE0PnOUC6CX7BVSC",
      "include_colab_link": true
    },
    "kernelspec": {
      "name": "python3",
      "display_name": "Python 3"
    },
    "language_info": {
      "name": "python"
    }
  },
  "cells": [
    {
      "cell_type": "markdown",
      "metadata": {
        "id": "view-in-github",
        "colab_type": "text"
      },
      "source": [
        "<a href=\"https://colab.research.google.com/github/sandeepgundeboina/LearningSpark/blob/main/SparkBroadcast.ipynb\" target=\"_parent\"><img src=\"https://colab.research.google.com/assets/colab-badge.svg\" alt=\"Open In Colab\"/></a>"
      ]
    },
    {
      "cell_type": "code",
      "execution_count": 1,
      "metadata": {
        "colab": {
          "base_uri": "https://localhost:8080/"
        },
        "id": "nuhlyLumFR7R",
        "outputId": "672489b3-5598-4c78-d486-bf6c0572567e"
      },
      "outputs": [
        {
          "output_type": "stream",
          "name": "stdout",
          "text": [
            "Requirement already satisfied: pyspark in /usr/local/lib/python3.11/dist-packages (3.5.1)\n",
            "Requirement already satisfied: py4j==0.10.9.7 in /usr/local/lib/python3.11/dist-packages (from pyspark) (0.10.9.7)\n"
          ]
        }
      ],
      "source": [
        "!pip install pyspark\n",
        "import pyspark\n",
        "from pyspark.sql import SparkSession\n",
        "spark=SparkSession.builder.appName('SparkBroadcast').getOrCreate()"
      ]
    },
    {
      "cell_type": "code",
      "source": [
        "spark"
      ],
      "metadata": {
        "colab": {
          "base_uri": "https://localhost:8080/",
          "height": 219
        },
        "id": "TnGH1FOP5n9v",
        "outputId": "bba9a74b-6af8-4bff-be02-9ed93baeb44f"
      },
      "execution_count": 2,
      "outputs": [
        {
          "output_type": "execute_result",
          "data": {
            "text/plain": [
              "<pyspark.sql.session.SparkSession at 0x7d56040a6510>"
            ],
            "text/html": [
              "\n",
              "            <div>\n",
              "                <p><b>SparkSession - in-memory</b></p>\n",
              "                \n",
              "        <div>\n",
              "            <p><b>SparkContext</b></p>\n",
              "\n",
              "            <p><a href=\"http://847549e92b27:4040\">Spark UI</a></p>\n",
              "\n",
              "            <dl>\n",
              "              <dt>Version</dt>\n",
              "                <dd><code>v3.5.1</code></dd>\n",
              "              <dt>Master</dt>\n",
              "                <dd><code>local[*]</code></dd>\n",
              "              <dt>AppName</dt>\n",
              "                <dd><code>SparkBroadcast</code></dd>\n",
              "            </dl>\n",
              "        </div>\n",
              "        \n",
              "            </div>\n",
              "        "
            ]
          },
          "metadata": {},
          "execution_count": 2
        }
      ]
    },
    {
      "cell_type": "code",
      "source": [
        "transactions=[\n",
        "    (4, 'Apples', 1.03),\n",
        "    (3, 'Apples', 2.68),\n",
        "    (4, 'Oranges', 4.72),\n",
        "    (1, 'Apples', 1.94),\n",
        "    (3, 'Bread', 3.07),\n",
        "    (1, 'Apples', 0.75),\n",
        "    (4, 'Bananas', 4.71),\n",
        "    (2, 'Bread', 2.86),\n",
        "    (3, 'Bread', 2.61),\n",
        "    (3, 'Apples', 0.64),\n",
        "    (1, 'Oranges', 1.60),\n",
        "    (1, 'Bread', 1.50)\n",
        "]\n",
        "\n",
        "schema=['store_id', 'product', 'price']\n",
        "df1=spark.createDataFrame(data=transactions, schema=schema)\n",
        "df1.show()\n"
      ],
      "metadata": {
        "colab": {
          "base_uri": "https://localhost:8080/"
        },
        "id": "qK_0N9NX6JyN",
        "outputId": "179df12a-230f-44ed-f110-2a43f5c88be7"
      },
      "execution_count": 8,
      "outputs": [
        {
          "output_type": "stream",
          "name": "stdout",
          "text": [
            "+--------+-------+-----+\n",
            "|store_id|product|price|\n",
            "+--------+-------+-----+\n",
            "|       4| Apples| 1.03|\n",
            "|       3| Apples| 2.68|\n",
            "|       4|Oranges| 4.72|\n",
            "|       1| Apples| 1.94|\n",
            "|       3|  Bread| 3.07|\n",
            "|       1| Apples| 0.75|\n",
            "|       4|Bananas| 4.71|\n",
            "|       2|  Bread| 2.86|\n",
            "|       3|  Bread| 2.61|\n",
            "|       3| Apples| 0.64|\n",
            "|       1|Oranges|  1.6|\n",
            "|       1|  Bread|  1.5|\n",
            "+--------+-------+-----+\n",
            "\n"
          ]
        }
      ]
    },
    {
      "cell_type": "code",
      "source": [
        "store=[\n",
        "    (1, \"New York\"),\n",
        "    (2, \"Los Angeles\"),\n",
        "    (3, \"Chicago\"),\n",
        "    (4, \"Houston\")\n",
        "]\n",
        "schema1=['store_id', 'store_name']\n",
        "df2=spark.createDataFrame(data=store, schema=schema1)\n",
        "df2.show()"
      ],
      "metadata": {
        "colab": {
          "base_uri": "https://localhost:8080/"
        },
        "id": "9Ecg7mLF8i5r",
        "outputId": "a4318e59-3edd-4eeb-bf92-a322907ac904"
      },
      "execution_count": 9,
      "outputs": [
        {
          "output_type": "stream",
          "name": "stdout",
          "text": [
            "+--------+-----------+\n",
            "|store_id| store_name|\n",
            "+--------+-----------+\n",
            "|       1|   New York|\n",
            "|       2|Los Angeles|\n",
            "|       3|    Chicago|\n",
            "|       4|    Houston|\n",
            "+--------+-----------+\n",
            "\n"
          ]
        }
      ]
    },
    {
      "cell_type": "markdown",
      "source": [
        "    Normal Join"
      ],
      "metadata": {
        "id": "GaI5UeC286wr"
      }
    },
    {
      "cell_type": "code",
      "source": [
        "df3=df1.join(df2, on='store_id', how='inner')\n",
        "df3.show()"
      ],
      "metadata": {
        "colab": {
          "base_uri": "https://localhost:8080/"
        },
        "id": "15nAeWPR83MF",
        "outputId": "c39b8f84-01cf-4ea9-acbe-1319baaa3387"
      },
      "execution_count": 10,
      "outputs": [
        {
          "output_type": "stream",
          "name": "stdout",
          "text": [
            "+--------+-------+-----+-----------+\n",
            "|store_id|product|price| store_name|\n",
            "+--------+-------+-----+-----------+\n",
            "|       1| Apples| 1.94|   New York|\n",
            "|       1| Apples| 0.75|   New York|\n",
            "|       1|Oranges|  1.6|   New York|\n",
            "|       1|  Bread|  1.5|   New York|\n",
            "|       2|  Bread| 2.86|Los Angeles|\n",
            "|       3| Apples| 2.68|    Chicago|\n",
            "|       3|  Bread| 3.07|    Chicago|\n",
            "|       3|  Bread| 2.61|    Chicago|\n",
            "|       3| Apples| 0.64|    Chicago|\n",
            "|       4| Apples| 1.03|    Houston|\n",
            "|       4|Oranges| 4.72|    Houston|\n",
            "|       4|Bananas| 4.71|    Houston|\n",
            "+--------+-------+-----+-----------+\n",
            "\n"
          ]
        }
      ]
    },
    {
      "cell_type": "code",
      "source": [
        "df3.explain(True)"
      ],
      "metadata": {
        "colab": {
          "base_uri": "https://localhost:8080/"
        },
        "id": "rX98tyVS9DpC",
        "outputId": "f9a18352-819d-4908-9c05-aa49c486f6dd"
      },
      "execution_count": 12,
      "outputs": [
        {
          "output_type": "stream",
          "name": "stdout",
          "text": [
            "== Parsed Logical Plan ==\n",
            "'Join UsingJoin(Inner, [store_id])\n",
            ":- LogicalRDD [store_id#66L, product#67, price#68], false\n",
            "+- LogicalRDD [store_id#85L, store_name#86], false\n",
            "\n",
            "== Analyzed Logical Plan ==\n",
            "store_id: bigint, product: string, price: double, store_name: string\n",
            "Project [store_id#66L, product#67, price#68, store_name#86]\n",
            "+- Join Inner, (store_id#66L = store_id#85L)\n",
            "   :- LogicalRDD [store_id#66L, product#67, price#68], false\n",
            "   +- LogicalRDD [store_id#85L, store_name#86], false\n",
            "\n",
            "== Optimized Logical Plan ==\n",
            "Project [store_id#66L, product#67, price#68, store_name#86]\n",
            "+- Join Inner, (store_id#66L = store_id#85L)\n",
            "   :- Filter isnotnull(store_id#66L)\n",
            "   :  +- LogicalRDD [store_id#66L, product#67, price#68], false\n",
            "   +- Filter isnotnull(store_id#85L)\n",
            "      +- LogicalRDD [store_id#85L, store_name#86], false\n",
            "\n",
            "== Physical Plan ==\n",
            "AdaptiveSparkPlan isFinalPlan=true\n",
            "+- == Final Plan ==\n",
            "   *(5) Project [store_id#66L, product#67, price#68, store_name#86]\n",
            "   +- *(5) SortMergeJoin [store_id#66L], [store_id#85L], Inner\n",
            "      :- *(3) Sort [store_id#66L ASC NULLS FIRST], false, 0\n",
            "      :  +- AQEShuffleRead coalesced\n",
            "      :     +- ShuffleQueryStage 0\n",
            "      :        +- Exchange hashpartitioning(store_id#66L, 200), ENSURE_REQUIREMENTS, [plan_id=327]\n",
            "      :           +- *(1) Filter isnotnull(store_id#66L)\n",
            "      :              +- *(1) Scan ExistingRDD[store_id#66L,product#67,price#68]\n",
            "      +- *(4) Sort [store_id#85L ASC NULLS FIRST], false, 0\n",
            "         +- AQEShuffleRead coalesced\n",
            "            +- ShuffleQueryStage 1\n",
            "               +- Exchange hashpartitioning(store_id#85L, 200), ENSURE_REQUIREMENTS, [plan_id=339]\n",
            "                  +- *(2) Filter isnotnull(store_id#85L)\n",
            "                     +- *(2) Scan ExistingRDD[store_id#85L,store_name#86]\n",
            "+- == Initial Plan ==\n",
            "   Project [store_id#66L, product#67, price#68, store_name#86]\n",
            "   +- SortMergeJoin [store_id#66L], [store_id#85L], Inner\n",
            "      :- Sort [store_id#66L ASC NULLS FIRST], false, 0\n",
            "      :  +- Exchange hashpartitioning(store_id#66L, 200), ENSURE_REQUIREMENTS, [plan_id=315]\n",
            "      :     +- Filter isnotnull(store_id#66L)\n",
            "      :        +- Scan ExistingRDD[store_id#66L,product#67,price#68]\n",
            "      +- Sort [store_id#85L ASC NULLS FIRST], false, 0\n",
            "         +- Exchange hashpartitioning(store_id#85L, 200), ENSURE_REQUIREMENTS, [plan_id=316]\n",
            "            +- Filter isnotnull(store_id#85L)\n",
            "               +- Scan ExistingRDD[store_id#85L,store_name#86]\n",
            "\n"
          ]
        }
      ]
    },
    {
      "cell_type": "markdown",
      "source": [
        "    Using BroadCast join"
      ],
      "metadata": {
        "id": "yMaUib0o_adk"
      }
    },
    {
      "cell_type": "code",
      "source": [
        "from pyspark.sql.functions import *\n",
        "df4=df1.join(broadcast(df2), on='store_id', how='inner')\n",
        "df4.show()"
      ],
      "metadata": {
        "colab": {
          "base_uri": "https://localhost:8080/"
        },
        "id": "wOru5-DZ9n7v",
        "outputId": "7fc5a540-134b-4cb7-cb29-4e684fb24c90"
      },
      "execution_count": 13,
      "outputs": [
        {
          "output_type": "stream",
          "name": "stdout",
          "text": [
            "+--------+-------+-----+-----------+\n",
            "|store_id|product|price| store_name|\n",
            "+--------+-------+-----+-----------+\n",
            "|       4| Apples| 1.03|    Houston|\n",
            "|       3| Apples| 2.68|    Chicago|\n",
            "|       4|Oranges| 4.72|    Houston|\n",
            "|       1| Apples| 1.94|   New York|\n",
            "|       3|  Bread| 3.07|    Chicago|\n",
            "|       1| Apples| 0.75|   New York|\n",
            "|       4|Bananas| 4.71|    Houston|\n",
            "|       2|  Bread| 2.86|Los Angeles|\n",
            "|       3|  Bread| 2.61|    Chicago|\n",
            "|       3| Apples| 0.64|    Chicago|\n",
            "|       1|Oranges|  1.6|   New York|\n",
            "|       1|  Bread|  1.5|   New York|\n",
            "+--------+-------+-----+-----------+\n",
            "\n"
          ]
        }
      ]
    },
    {
      "cell_type": "code",
      "source": [
        "df4.explain(True)"
      ],
      "metadata": {
        "colab": {
          "base_uri": "https://localhost:8080/"
        },
        "id": "6CLlTRFH_C6u",
        "outputId": "6c280c4d-d4de-4b4c-8b84-492cfaa83db2"
      },
      "execution_count": 14,
      "outputs": [
        {
          "output_type": "stream",
          "name": "stdout",
          "text": [
            "== Parsed Logical Plan ==\n",
            "'Join UsingJoin(Inner, [store_id])\n",
            ":- LogicalRDD [store_id#66L, product#67, price#68], false\n",
            "+- ResolvedHint (strategy=broadcast)\n",
            "   +- LogicalRDD [store_id#85L, store_name#86], false\n",
            "\n",
            "== Analyzed Logical Plan ==\n",
            "store_id: bigint, product: string, price: double, store_name: string\n",
            "Project [store_id#66L, product#67, price#68, store_name#86]\n",
            "+- Join Inner, (store_id#66L = store_id#85L)\n",
            "   :- LogicalRDD [store_id#66L, product#67, price#68], false\n",
            "   +- ResolvedHint (strategy=broadcast)\n",
            "      +- LogicalRDD [store_id#85L, store_name#86], false\n",
            "\n",
            "== Optimized Logical Plan ==\n",
            "Project [store_id#66L, product#67, price#68, store_name#86]\n",
            "+- Join Inner, (store_id#66L = store_id#85L), rightHint=(strategy=broadcast)\n",
            "   :- Filter isnotnull(store_id#66L)\n",
            "   :  +- LogicalRDD [store_id#66L, product#67, price#68], false\n",
            "   +- Filter isnotnull(store_id#85L)\n",
            "      +- LogicalRDD [store_id#85L, store_name#86], false\n",
            "\n",
            "== Physical Plan ==\n",
            "AdaptiveSparkPlan isFinalPlan=false\n",
            "+- Project [store_id#66L, product#67, price#68, store_name#86]\n",
            "   +- BroadcastHashJoin [store_id#66L], [store_id#85L], Inner, BuildRight, false\n",
            "      :- Filter isnotnull(store_id#66L)\n",
            "      :  +- Scan ExistingRDD[store_id#66L,product#67,price#68]\n",
            "      +- BroadcastExchange HashedRelationBroadcastMode(List(input[0, bigint, false]),false), [plan_id=479]\n",
            "         +- Filter isnotnull(store_id#85L)\n",
            "            +- Scan ExistingRDD[store_id#85L,store_name#86]\n",
            "\n"
          ]
        }
      ]
    },
    {
      "cell_type": "markdown",
      "source": [
        "    We could see in the explain plan, where in Normal join we could see shuffing part.\n",
        "    \n",
        "    When we applied broadcast for df2 and joined, we could see no data shuffled."
      ],
      "metadata": {
        "id": "IcmJjYRi_j0z"
      }
    },
    {
      "cell_type": "markdown",
      "source": [
        "**END OF CODE**"
      ],
      "metadata": {
        "id": "1q25a0DPAOLs"
      }
    }
  ]
}