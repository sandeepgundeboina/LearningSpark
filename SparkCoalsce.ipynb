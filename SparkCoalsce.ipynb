{
  "nbformat": 4,
  "nbformat_minor": 0,
  "metadata": {
    "colab": {
      "provenance": [],
      "mount_file_id": "101BTA8ojS3XlgyC-pytpJ4vZN5-gPU_U",
      "authorship_tag": "ABX9TyOSJ7fSNnVuoRJkN1vfWViI",
      "include_colab_link": true
    },
    "kernelspec": {
      "name": "python3",
      "display_name": "Python 3"
    },
    "language_info": {
      "name": "python"
    }
  },
  "cells": [
    {
      "cell_type": "markdown",
      "metadata": {
        "id": "view-in-github",
        "colab_type": "text"
      },
      "source": [
        "<a href=\"https://colab.research.google.com/github/sandeepgundeboina/LearningSpark/blob/main/SparkCoalsce.ipynb\" target=\"_parent\"><img src=\"https://colab.research.google.com/assets/colab-badge.svg\" alt=\"Open In Colab\"/></a>"
      ]
    },
    {
      "cell_type": "code",
      "execution_count": 1,
      "metadata": {
        "id": "E75fgvZxIItZ"
      },
      "outputs": [],
      "source": [
        "import pyspark\n",
        "from pyspark.sql import SparkSession\n",
        "spark = SparkSession.builder.appName('SparkCoalesce').getOrCreate()"
      ]
    },
    {
      "cell_type": "markdown",
      "source": [
        "    To get the default no of Partitions created when Spark app is started."
      ],
      "metadata": {
        "id": "BzKp_H2o9Gql"
      }
    },
    {
      "cell_type": "code",
      "source": [
        "spark.conf.get(\"spark.sql.shuffle.partitions\")"
      ],
      "metadata": {
        "colab": {
          "base_uri": "https://localhost:8080/"
        },
        "id": "kKGtmVYDK2li",
        "outputId": "c7064882-7cbd-4573-fbe3-9710e5ad3c20"
      },
      "execution_count": 2,
      "outputs": [
        {
          "output_type": "execute_result",
          "data": {
            "text/plain": [
              "'200'"
            ],
            "application/vnd.google.colaboratory.intrinsic+json": {
              "type": "string"
            }
          },
          "metadata": {},
          "execution_count": 2
        }
      ]
    },
    {
      "cell_type": "code",
      "source": [
        "from pyspark.sql.types import *\n",
        "\n",
        "sc = spark.sparkContext\n",
        "print(sc.defaultParallelism)\n"
      ],
      "metadata": {
        "id": "Oi8mwXp3O-R_",
        "colab": {
          "base_uri": "https://localhost:8080/"
        },
        "outputId": "72365000-32aa-4dce-9fe5-37383b79b339"
      },
      "execution_count": 3,
      "outputs": [
        {
          "output_type": "stream",
          "name": "stdout",
          "text": [
            "2\n"
          ]
        }
      ]
    },
    {
      "cell_type": "markdown",
      "source": [
        "    To change the default size of Partitions"
      ],
      "metadata": {
        "id": "3BlA4_Mk9Vrl"
      }
    },
    {
      "cell_type": "code",
      "source": [
        "spark.conf.set(\"spark.sql.files.maxPartitionBytes\",200000)\n",
        "spark.conf.get(\"spark.sql.files.maxPartitionBytes\")"
      ],
      "metadata": {
        "colab": {
          "base_uri": "https://localhost:8080/"
        },
        "id": "1HzX8RybqltD",
        "outputId": "e59045a5-2dcd-4862-a6c4-f619eb1b00e9"
      },
      "execution_count": 4,
      "outputs": [
        {
          "output_type": "execute_result",
          "data": {
            "text/plain": [
              "'200000'"
            ],
            "application/vnd.google.colaboratory.intrinsic+json": {
              "type": "string"
            }
          },
          "metadata": {},
          "execution_count": 4
        }
      ]
    },
    {
      "cell_type": "markdown",
      "source": [
        "\n",
        "\n",
        "*   Repartition is used to decrease or increase the no of partitions, it involves shuffling of data between partitions, and data will be redstributed to all partitions, as shuffling process is involved, it is one of costly optimization techniques.\n",
        "*   Coalesce is used only to decrease the no of partitions and no shuffling is done, and the data is exchanged with in the executors, one of the best optimsation techniques when to decrease the no of partitions.\n",
        "\n"
      ],
      "metadata": {
        "id": "LBvXLTr99fAx"
      }
    },
    {
      "cell_type": "code",
      "source": [
        "df=spark.createDataFrame(range(0,10),IntegerType()).repartition(20)\n",
        "df.rdd.getNumPartitions()"
      ],
      "metadata": {
        "colab": {
          "base_uri": "https://localhost:8080/"
        },
        "id": "d824OJ5zrC8z",
        "outputId": "a66af8ed-bba1-4bb2-ebbe-6fd74aed5c9e"
      },
      "execution_count": 19,
      "outputs": [
        {
          "output_type": "execute_result",
          "data": {
            "text/plain": [
              "20"
            ]
          },
          "metadata": {},
          "execution_count": 19
        }
      ]
    },
    {
      "cell_type": "code",
      "source": [
        "df.rdd.glom().collect()"
      ],
      "metadata": {
        "colab": {
          "base_uri": "https://localhost:8080/"
        },
        "id": "iGpP3_u7rael",
        "outputId": "e06f934b-8c3d-4e37-fbba-0c6fc84a0b93"
      },
      "execution_count": 12,
      "outputs": [
        {
          "output_type": "execute_result",
          "data": {
            "text/plain": [
              "[[],\n",
              " [],\n",
              " [],\n",
              " [],\n",
              " [Row(value=7)],\n",
              " [Row(value=5)],\n",
              " [Row(value=6)],\n",
              " [Row(value=8)],\n",
              " [Row(value=9)],\n",
              " [Row(value=3)],\n",
              " [Row(value=0)],\n",
              " [Row(value=2)],\n",
              " [Row(value=4)],\n",
              " [Row(value=1)],\n",
              " [],\n",
              " [],\n",
              " [],\n",
              " [],\n",
              " [],\n",
              " []]"
            ]
          },
          "metadata": {},
          "execution_count": 12
        }
      ]
    },
    {
      "cell_type": "code",
      "source": [
        "df2=df.coalesce(4)"
      ],
      "metadata": {
        "id": "zQpP2ugLrlyR"
      },
      "execution_count": 15,
      "outputs": []
    },
    {
      "cell_type": "code",
      "source": [
        "df2.rdd.glom().collect()"
      ],
      "metadata": {
        "colab": {
          "base_uri": "https://localhost:8080/"
        },
        "id": "T_TOppZusg2Z",
        "outputId": "da81d1ad-b43e-459d-92a8-c12bab1dfc5e"
      },
      "execution_count": 16,
      "outputs": [
        {
          "output_type": "execute_result",
          "data": {
            "text/plain": [
              "[[Row(value=7), Row(value=8), Row(value=9), Row(value=4)],\n",
              " [Row(value=5), Row(value=1)],\n",
              " [Row(value=6), Row(value=3)],\n",
              " [Row(value=0), Row(value=2)]]"
            ]
          },
          "metadata": {},
          "execution_count": 16
        }
      ]
    },
    {
      "cell_type": "code",
      "source": [
        "df2.show()"
      ],
      "metadata": {
        "colab": {
          "base_uri": "https://localhost:8080/"
        },
        "id": "hj45WeT-70hM",
        "outputId": "312febdd-9838-4a40-af22-84e0dbf8587b"
      },
      "execution_count": 18,
      "outputs": [
        {
          "output_type": "stream",
          "name": "stdout",
          "text": [
            "+-----+\n",
            "|value|\n",
            "+-----+\n",
            "|    7|\n",
            "|    8|\n",
            "|    9|\n",
            "|    4|\n",
            "|    5|\n",
            "|    1|\n",
            "|    6|\n",
            "|    3|\n",
            "|    0|\n",
            "|    2|\n",
            "+-----+\n",
            "\n"
          ]
        }
      ]
    },
    {
      "cell_type": "markdown",
      "source": [
        "    End of Code"
      ],
      "metadata": {
        "id": "xwe_qqEF84rb"
      }
    }
  ]
}