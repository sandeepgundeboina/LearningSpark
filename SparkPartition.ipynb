{
  "nbformat": 4,
  "nbformat_minor": 0,
  "metadata": {
    "colab": {
      "provenance": [],
      "mount_file_id": "1B6u-OqJPldqShVe1Qcy1EcMQ5Yu8X_uF",
      "authorship_tag": "ABX9TyMmvlIf9+pmVYKGGx4x0/e/",
      "include_colab_link": true
    },
    "kernelspec": {
      "name": "python3",
      "display_name": "Python 3"
    },
    "language_info": {
      "name": "python"
    }
  },
  "cells": [
    {
      "cell_type": "markdown",
      "metadata": {
        "id": "view-in-github",
        "colab_type": "text"
      },
      "source": [
        "<a href=\"https://colab.research.google.com/github/sandeepgundeboina/LearningSpark/blob/main/SparkPartition.ipynb\" target=\"_parent\"><img src=\"https://colab.research.google.com/assets/colab-badge.svg\" alt=\"Open In Colab\"/></a>"
      ]
    },
    {
      "cell_type": "code",
      "execution_count": 1,
      "metadata": {
        "id": "TUKdc0KpUark",
        "colab": {
          "base_uri": "https://localhost:8080/",
          "height": 259
        },
        "outputId": "0e38c05f-e5bb-4fc8-fb92-617919931ff1"
      },
      "outputs": [
        {
          "output_type": "stream",
          "name": "stdout",
          "text": [
            "Requirement already satisfied: pyspark in /usr/local/lib/python3.11/dist-packages (3.5.1)\n",
            "Requirement already satisfied: py4j==0.10.9.7 in /usr/local/lib/python3.11/dist-packages (from pyspark) (0.10.9.7)\n"
          ]
        },
        {
          "output_type": "execute_result",
          "data": {
            "text/plain": [
              "<pyspark.sql.session.SparkSession at 0x7ad5a22681d0>"
            ],
            "text/html": [
              "\n",
              "            <div>\n",
              "                <p><b>SparkSession - in-memory</b></p>\n",
              "                \n",
              "        <div>\n",
              "            <p><b>SparkContext</b></p>\n",
              "\n",
              "            <p><a href=\"http://45a14a8f5002:4040\">Spark UI</a></p>\n",
              "\n",
              "            <dl>\n",
              "              <dt>Version</dt>\n",
              "                <dd><code>v3.5.1</code></dd>\n",
              "              <dt>Master</dt>\n",
              "                <dd><code>local[*]</code></dd>\n",
              "              <dt>AppName</dt>\n",
              "                <dd><code>SparkPartition</code></dd>\n",
              "            </dl>\n",
              "        </div>\n",
              "        \n",
              "            </div>\n",
              "        "
            ]
          },
          "metadata": {},
          "execution_count": 1
        }
      ],
      "source": [
        "!pip install pyspark\n",
        "import pyspark\n",
        "from pyspark.sql import SparkSession\n",
        "spark = SparkSession.builder.appName('SparkPartition').getOrCreate()\n",
        "spark"
      ]
    },
    {
      "cell_type": "code",
      "source": [
        "from pyspark.sql.functions import *"
      ],
      "metadata": {
        "id": "Y53V0tZMBQ8C"
      },
      "execution_count": 2,
      "outputs": []
    },
    {
      "cell_type": "code",
      "source": [
        "names=spark.read.format('csv').option('header','true').option('inferSchema','true').load('/content/drive/MyDrive/Abc/postgreSQL/babynames.csv')\n",
        "names.show()"
      ],
      "metadata": {
        "colab": {
          "base_uri": "https://localhost:8080/"
        },
        "id": "h_tGW0BrBZcv",
        "outputId": "57dd064a-1263-48ae-c637-08a32aa65d45"
      },
      "execution_count": 3,
      "outputs": [
        {
          "output_type": "stream",
          "name": "stdout",
          "text": [
            "+---------+----+------+\n",
            "|     Name|Year|Gender|\n",
            "+---------+----+------+\n",
            "|   Olivia|2017|     F|\n",
            "|     Emma|2017|     F|\n",
            "|      Ava|2017|     F|\n",
            "|   Sophia|2017|     F|\n",
            "| Isabella|2017|     F|\n",
            "|      Mia|2017|     F|\n",
            "|Charlotte|2017|     F|\n",
            "|   Amelia|2017|     F|\n",
            "|   Evelyn|2017|     F|\n",
            "|  Abigail|2017|     F|\n",
            "|   Harper|2017|     F|\n",
            "|     Ella|2017|     F|\n",
            "|Elizabeth|2017|     F|\n",
            "|    Sofia|2017|     F|\n",
            "|    Avery|2017|     F|\n",
            "|    Grace|2017|     F|\n",
            "| Victoria|2017|     F|\n",
            "|    Chloe|2017|     F|\n",
            "|   Camila|2017|     F|\n",
            "|     Lily|2017|     F|\n",
            "+---------+----+------+\n",
            "only showing top 20 rows\n",
            "\n"
          ]
        }
      ]
    },
    {
      "cell_type": "code",
      "source": [
        "names.groupby('Year').count().show(truncate=False)"
      ],
      "metadata": {
        "colab": {
          "base_uri": "https://localhost:8080/"
        },
        "id": "Bs3xNd-nBzZ8",
        "outputId": "bdbe98c6-6057-469a-f945-d938c0b12549"
      },
      "execution_count": 4,
      "outputs": [
        {
          "output_type": "stream",
          "name": "stdout",
          "text": [
            "+----+-----+\n",
            "|Year|count|\n",
            "+----+-----+\n",
            "|2018|102  |\n",
            "|2019|102  |\n",
            "|2017|102  |\n",
            "+----+-----+\n",
            "\n"
          ]
        }
      ]
    },
    {
      "cell_type": "markdown",
      "source": [
        "####Creating Partition based on year"
      ],
      "metadata": {
        "id": "KIzx01FlDgZE"
      }
    },
    {
      "cell_type": "code",
      "source": [
        "names.write.partitionBy('Year').mode('overwrite').parquet('/content/sample_data')"
      ],
      "metadata": {
        "id": "EAXlSJgCCXhe"
      },
      "execution_count": 5,
      "outputs": []
    },
    {
      "cell_type": "code",
      "source": [
        "!ls -lrt /content/sample_data/"
      ],
      "metadata": {
        "colab": {
          "base_uri": "https://localhost:8080/"
        },
        "id": "c6mMgZlSCn_s",
        "outputId": "ebd9b42a-2d29-4a36-edfe-72bce51faa6b"
      },
      "execution_count": 6,
      "outputs": [
        {
          "output_type": "stream",
          "name": "stdout",
          "text": [
            "total 12\n",
            "drwxr-xr-x 2 root root 4096 Jun 14 15:35 'Year=2017'\n",
            "drwxr-xr-x 2 root root 4096 Jun 14 15:35 'Year=2018'\n",
            "drwxr-xr-x 2 root root 4096 Jun 14 15:35 'Year=2019'\n",
            "-rw-r--r-- 1 root root    0 Jun 14 15:35  _SUCCESS\n"
          ]
        }
      ]
    },
    {
      "cell_type": "code",
      "source": [
        "!ls -lrt /content/sample_data/Year=2017/"
      ],
      "metadata": {
        "colab": {
          "base_uri": "https://localhost:8080/"
        },
        "id": "KwZfijwkEgwF",
        "outputId": "412bb545-8afb-40c2-d4f5-ce6ecbdddd10"
      },
      "execution_count": 7,
      "outputs": [
        {
          "output_type": "stream",
          "name": "stdout",
          "text": [
            "total 4\n",
            "-rw-r--r-- 1 root root 1546 Jun 14 15:35 part-00000-6594e102-0f91-49dc-9e78-c750424952ed.c000.snappy.parquet\n"
          ]
        }
      ]
    },
    {
      "cell_type": "markdown",
      "source": [
        "#####Creating Partitions based on year and Gender"
      ],
      "metadata": {
        "id": "_CCrNY4mDkFp"
      }
    },
    {
      "cell_type": "code",
      "source": [
        "names.write.partitionBy('Year','Gender').mode('overwrite').parquet('/content/sample_data')"
      ],
      "metadata": {
        "id": "NQfU58GrCthG"
      },
      "execution_count": 8,
      "outputs": []
    },
    {
      "cell_type": "code",
      "source": [
        "!ls -lrt /content/sample_data"
      ],
      "metadata": {
        "colab": {
          "base_uri": "https://localhost:8080/"
        },
        "id": "NK_WBtEBDwHK",
        "outputId": "46103ae6-537f-4e93-ee5f-aa1aa577ce5b"
      },
      "execution_count": 9,
      "outputs": [
        {
          "output_type": "stream",
          "name": "stdout",
          "text": [
            "total 12\n",
            "drwxr-xr-x 4 root root 4096 Jun 14 15:35 'Year=2017'\n",
            "drwxr-xr-x 4 root root 4096 Jun 14 15:35 'Year=2018'\n",
            "drwxr-xr-x 4 root root 4096 Jun 14 15:35 'Year=2019'\n",
            "-rw-r--r-- 1 root root    0 Jun 14 15:35  _SUCCESS\n"
          ]
        }
      ]
    },
    {
      "cell_type": "code",
      "source": [
        "!ls -lrt /content/sample_data/Year=2017"
      ],
      "metadata": {
        "colab": {
          "base_uri": "https://localhost:8080/"
        },
        "id": "cR6qgKjBD0cG",
        "outputId": "f88759cb-a831-4ea9-c19c-da973c80bb1e"
      },
      "execution_count": 10,
      "outputs": [
        {
          "output_type": "stream",
          "name": "stdout",
          "text": [
            "total 8\n",
            "drwxr-xr-x 2 root root 4096 Jun 14 15:35 'Gender=F'\n",
            "drwxr-xr-x 2 root root 4096 Jun 14 15:35 'Gender=M'\n"
          ]
        }
      ]
    },
    {
      "cell_type": "markdown",
      "source": [
        "######Creating Partitons based on Year and limiting the no of records per partition"
      ],
      "metadata": {
        "id": "_zr3ROB3EAJI"
      }
    },
    {
      "cell_type": "code",
      "source": [
        "names.write.partitionBy('Year').option('maxRecordsPerFile',30).mode('overwrite').parquet('/content/sample_data')"
      ],
      "metadata": {
        "id": "7yll0ruiD3s0"
      },
      "execution_count": 11,
      "outputs": []
    },
    {
      "cell_type": "code",
      "source": [
        "ls -lrt /content/sample_data/Year=2017"
      ],
      "metadata": {
        "colab": {
          "base_uri": "https://localhost:8080/"
        },
        "id": "a5mnnq_QEV6L",
        "outputId": "76dbb982-3c63-4fc1-d6f9-821bf4e85fe4"
      },
      "execution_count": 12,
      "outputs": [
        {
          "output_type": "stream",
          "name": "stdout",
          "text": [
            "total 16\n",
            "-rw-r--r-- 1 root root 973 Jun 14 15:35 part-00000-494793f9-c7e6-451c-a679-0c2a861f8bc4.c000.snappy.parquet\n",
            "-rw-r--r-- 1 root root 978 Jun 14 15:35 part-00000-494793f9-c7e6-451c-a679-0c2a861f8bc4.c001.snappy.parquet\n",
            "-rw-r--r-- 1 root root 971 Jun 14 15:35 part-00000-494793f9-c7e6-451c-a679-0c2a861f8bc4.c002.snappy.parquet\n",
            "-rw-r--r-- 1 root root 822 Jun 14 15:35 part-00000-494793f9-c7e6-451c-a679-0c2a861f8bc4.c003.snappy.parquet\n"
          ]
        }
      ]
    },
    {
      "cell_type": "markdown",
      "source": [
        "#####**END OF CODE**"
      ],
      "metadata": {
        "id": "Q_fNFPLuFBaN"
      }
    }
  ]
}