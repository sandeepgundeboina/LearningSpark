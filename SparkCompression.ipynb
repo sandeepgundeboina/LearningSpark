{
  "nbformat": 4,
  "nbformat_minor": 0,
  "metadata": {
    "colab": {
      "provenance": [],
      "authorship_tag": "ABX9TyN511FnFOgWTmXk8PLZaWYg",
      "include_colab_link": true
    },
    "kernelspec": {
      "name": "python3",
      "display_name": "Python 3"
    },
    "language_info": {
      "name": "python"
    }
  },
  "cells": [
    {
      "cell_type": "markdown",
      "metadata": {
        "id": "view-in-github",
        "colab_type": "text"
      },
      "source": [
        "<a href=\"https://colab.research.google.com/github/sandeepgundeboina/LearningSpark/blob/main/SparkCompression.ipynb\" target=\"_parent\"><img src=\"https://colab.research.google.com/assets/colab-badge.svg\" alt=\"Open In Colab\"/></a>"
      ]
    },
    {
      "cell_type": "code",
      "execution_count": 1,
      "metadata": {
        "colab": {
          "base_uri": "https://localhost:8080/",
          "height": 254
        },
        "id": "AzhPRO5npbps",
        "outputId": "3f3b36c0-165b-43ee-c159-419ded35ecc3"
      },
      "outputs": [
        {
          "output_type": "stream",
          "name": "stdout",
          "text": [
            "Requirement already satisfied: pyspark in /usr/local/lib/python3.11/dist-packages (3.5.1)\n",
            "Requirement already satisfied: py4j==0.10.9.7 in /usr/local/lib/python3.11/dist-packages (from pyspark) (0.10.9.7)\n"
          ]
        },
        {
          "output_type": "execute_result",
          "data": {
            "text/plain": [
              "<pyspark.sql.session.SparkSession at 0x7bf5a070a390>"
            ],
            "text/html": [
              "\n",
              "            <div>\n",
              "                <p><b>SparkSession - in-memory</b></p>\n",
              "                \n",
              "        <div>\n",
              "            <p><b>SparkContext</b></p>\n",
              "\n",
              "            <p><a href=\"http://e8357e3570cb:4040\">Spark UI</a></p>\n",
              "\n",
              "            <dl>\n",
              "              <dt>Version</dt>\n",
              "                <dd><code>v3.5.1</code></dd>\n",
              "              <dt>Master</dt>\n",
              "                <dd><code>local[*]</code></dd>\n",
              "              <dt>AppName</dt>\n",
              "                <dd><code>SparkUDF</code></dd>\n",
              "            </dl>\n",
              "        </div>\n",
              "        \n",
              "            </div>\n",
              "        "
            ]
          },
          "metadata": {},
          "execution_count": 1
        }
      ],
      "source": [
        "!pip install pyspark\n",
        "import pyspark\n",
        "from pyspark.sql import SparkSession\n",
        "spark=SparkSession.builder.appName('SparkUDF').getOrCreate()\n",
        "spark"
      ]
    },
    {
      "cell_type": "code",
      "source": [
        "transactions=[\n",
        "    (4, 'Apples', 1.03),\n",
        "    (3, 'Apples', 2.68),\n",
        "    (4, 'Oranges', 4.72),\n",
        "    (1, 'Apples', 1.94),\n",
        "    (3, 'Bread', 3.07),\n",
        "    (1, 'Apples', 0.75),\n",
        "    (4, 'Bananas', 4.71),\n",
        "    (2, 'Bread', 2.86),\n",
        "    (3, 'Bread', 2.61),\n",
        "    (3, 'Apples', 0.64),\n",
        "    (1, 'Oranges', 1.60),\n",
        "    (1, 'Bread', 1.50)\n",
        "]\n",
        "\n",
        "schema=['store_id', 'product', 'price']\n",
        "df1=spark.createDataFrame(data=transactions, schema=schema)\n",
        "df1.show()"
      ],
      "metadata": {
        "colab": {
          "base_uri": "https://localhost:8080/"
        },
        "id": "vg4M4nSD8T2I",
        "outputId": "f7ba8f82-b7aa-46e5-a2d7-a6466efbc251"
      },
      "execution_count": 2,
      "outputs": [
        {
          "output_type": "stream",
          "name": "stdout",
          "text": [
            "+--------+-------+-----+\n",
            "|store_id|product|price|\n",
            "+--------+-------+-----+\n",
            "|       4| Apples| 1.03|\n",
            "|       3| Apples| 2.68|\n",
            "|       4|Oranges| 4.72|\n",
            "|       1| Apples| 1.94|\n",
            "|       3|  Bread| 3.07|\n",
            "|       1| Apples| 0.75|\n",
            "|       4|Bananas| 4.71|\n",
            "|       2|  Bread| 2.86|\n",
            "|       3|  Bread| 2.61|\n",
            "|       3| Apples| 0.64|\n",
            "|       1|Oranges|  1.6|\n",
            "|       1|  Bread|  1.5|\n",
            "+--------+-------+-----+\n",
            "\n"
          ]
        }
      ]
    },
    {
      "cell_type": "code",
      "source": [
        "df1.write.format(\"parquet\").mode('overwrite').option('compression','snappy').save('/content/sample_data')"
      ],
      "metadata": {
        "id": "IyMFDRgx8a9k"
      },
      "execution_count": 3,
      "outputs": []
    },
    {
      "cell_type": "code",
      "source": [
        "! ls -lrt"
      ],
      "metadata": {
        "colab": {
          "base_uri": "https://localhost:8080/"
        },
        "id": "CjNlRwFc85OK",
        "outputId": "8d219192-6745-44f2-9ec2-e082c72be678"
      },
      "execution_count": 4,
      "outputs": [
        {
          "output_type": "stream",
          "name": "stdout",
          "text": [
            "total 4\n",
            "drwxr-xr-x 2 root root 4096 Jun  5 13:42 sample_data\n"
          ]
        }
      ]
    },
    {
      "cell_type": "code",
      "source": [
        "!ls -lrt /content/sample_data"
      ],
      "metadata": {
        "colab": {
          "base_uri": "https://localhost:8080/"
        },
        "id": "REtzmnPG9Npu",
        "outputId": "9f20edb0-4000-4eac-fbe0-e1d9d0884b57"
      },
      "execution_count": 5,
      "outputs": [
        {
          "output_type": "stream",
          "name": "stdout",
          "text": [
            "total 8\n",
            "-rw-r--r-- 1 root root 1143 Jun  5 13:42 part-00000-ed46824a-21d6-4a40-8203-e93186edbb38-c000.snappy.parquet\n",
            "-rw-r--r-- 1 root root 1155 Jun  5 13:42 part-00001-ed46824a-21d6-4a40-8203-e93186edbb38-c000.snappy.parquet\n",
            "-rw-r--r-- 1 root root    0 Jun  5 13:42 _SUCCESS\n"
          ]
        }
      ]
    },
    {
      "cell_type": "code",
      "source": [
        "df1.write.format(\"parquet\").mode('overwrite').option('compression','gzip').save('/content/sample_data/file')"
      ],
      "metadata": {
        "id": "YMOwwyab9aJl"
      },
      "execution_count": 6,
      "outputs": []
    },
    {
      "cell_type": "code",
      "source": [
        "!ls -lrt /content/sample_data/file"
      ],
      "metadata": {
        "colab": {
          "base_uri": "https://localhost:8080/"
        },
        "id": "VR9-fbXD9ktP",
        "outputId": "5b596f83-371c-4876-a521-e3d9acde6f36"
      },
      "execution_count": 7,
      "outputs": [
        {
          "output_type": "stream",
          "name": "stdout",
          "text": [
            "total 8\n",
            "-rw-r--r-- 1 root root 1216 Jun  5 13:42 part-00001-c42b11da-34f2-4c84-80fe-83d7f9cf4d38-c000.gz.parquet\n",
            "-rw-r--r-- 1 root root 1212 Jun  5 13:42 part-00000-c42b11da-34f2-4c84-80fe-83d7f9cf4d38-c000.gz.parquet\n",
            "-rw-r--r-- 1 root root    0 Jun  5 13:42 _SUCCESS\n"
          ]
        }
      ]
    },
    {
      "cell_type": "markdown",
      "source": [
        "**END OF CODE**"
      ],
      "metadata": {
        "id": "KxZkA62UVSeM"
      }
    }
  ]
}