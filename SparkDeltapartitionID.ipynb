{
  "nbformat": 4,
  "nbformat_minor": 0,
  "metadata": {
    "colab": {
      "provenance": [],
      "mount_file_id": "1-tqkWWIVkaQhA5iifntyRNGelZmRxK0F",
      "authorship_tag": "ABX9TyPeFooWt/2igod+za/6JRfB",
      "include_colab_link": true
    },
    "kernelspec": {
      "name": "python3",
      "display_name": "Python 3"
    },
    "language_info": {
      "name": "python"
    }
  },
  "cells": [
    {
      "cell_type": "markdown",
      "metadata": {
        "id": "view-in-github",
        "colab_type": "text"
      },
      "source": [
        "<a href=\"https://colab.research.google.com/github/sandeepgundeboina/LearningSpark/blob/main/SparkDeltapartitionID.ipynb\" target=\"_parent\"><img src=\"https://colab.research.google.com/assets/colab-badge.svg\" alt=\"Open In Colab\"/></a>"
      ]
    },
    {
      "cell_type": "code",
      "execution_count": null,
      "metadata": {
        "id": "KGjf4TL4UHCe"
      },
      "outputs": [],
      "source": [
        "!pip install delta-spark==2.0.0\n",
        "\n",
        "import pyspark\n",
        "from pyspark.sql import SparkSession\n",
        "spark = SparkSession.builder \\\n",
        "    .appName(\"SparkDeltaOptimize\") \\\n",
        "    .config(\"spark.jars.packages\", \"io.delta:delta-core_2.12:2.0.0\") \\\n",
        "    .config(\"spark.sql.extensions\", \"io.delta.sql.DeltaSparkSessionExtension\") \\\n",
        "    .config(\"spark.sql.catalog.spark_catalog\", \"org.apache.spark.sql.delta.catalog.DeltaCatalog\") \\\n",
        "    .getOrCreate()"
      ]
    },
    {
      "cell_type": "code",
      "source": [
        "df=spark.read.format('csv').options(header=True,inferSchema=True).load('/content/drive/MyDrive/Abc/SalesData/sales_data.csv')\n",
        "df.show()"
      ],
      "metadata": {
        "colab": {
          "base_uri": "https://localhost:8080/"
        },
        "id": "FOaPA35hUV5S",
        "outputId": "ad025d60-2a01-4231-dc76-8a50cfa7099d"
      },
      "execution_count": 3,
      "outputs": [
        {
          "output_type": "stream",
          "name": "stdout",
          "text": [
            "+--------------+----------+-----------+----------+------+--------+--------------------+\n",
            "|transaction_id|product_id|customer_id| sale_date|amount|currency|              region|\n",
            "+--------------+----------+-----------+----------+------+--------+--------------------+\n",
            "|          1001|      P001|       C101|2024-01-15|150.75|     USD|               North|\n",
            "|          1002|      P002|       C102|2024-01-15| 200.0|     EUR|               South|\n",
            "|          1003|      P003|       C103|2024-01-16| 50.25|     USD|                East|\n",
            "|          1004|      P001|       C101|2024-01-16| 300.5|     USD|               North|\n",
            "|          1005|      P004|       C104|2024-01-17|  75.0|     GBP|                West|\n",
            "|          1006|      P002|       C105|2024-01-17| 120.0|     EUR|               South|\n",
            "|          1007|      P005|       C101|2024-01-18| 99.99|     USD|               North|\n",
            "|          1008|      P001|       C102|2024-01-18|  25.0|     USD|               South|\n",
            "|          1009|      P003|       C106|2024-01-19| 180.0|     EUR|                East|\n",
            "|          1010|      P004|       C107|2024-01-19|  45.5|     USD|                West|\n",
            "|          1011|      P006|       C108|2024-01-20| 600.0|     USD|               North|\n",
            "|          1012|      P001|       C101|2024-01-20|  10.0|     USD|               North|\n",
            "|          1013|      P007|       C109|2024-02-01|  15.0|     USD|                East|\n",
            "|          1014|      P008|       C110|2024-02-02|   0.0|     EUR|South  -- Amount = 0|\n",
            "|          1015|      P001|       C101|2024-02-03|  80.0|     USD|               North|\n",
            "|          1016|      P002|       C102|2024-02-04| 250.0|     EUR|               South|\n",
            "|          1017|      P009|       C111|2024-02-05|1000.0|     USD|                West|\n",
            "|          1018|      P003|       C103|2024-02-06| -10.0|     USD|                East|\n",
            "|          1019|      P010|       C112|2024-02-07|  35.0|     GBP|               North|\n",
            "|          1020|      P005|       C101|2024-03-01| 120.5|     USD|               North|\n",
            "+--------------+----------+-----------+----------+------+--------+--------------------+\n",
            "only showing top 20 rows\n",
            "\n"
          ]
        }
      ]
    },
    {
      "cell_type": "markdown",
      "source": [
        "As the Uploaded data is small, Spark by default created single partiton and loaded the data."
      ],
      "metadata": {
        "id": "N5oe9HnKYJTQ"
      }
    },
    {
      "cell_type": "code",
      "source": [
        "df.rdd.getNumPartitions()"
      ],
      "metadata": {
        "colab": {
          "base_uri": "https://localhost:8080/"
        },
        "id": "cTdnmkKiVKa3",
        "outputId": "17d43007-27bf-4a1e-eadf-ba4cb8fe741b"
      },
      "execution_count": 4,
      "outputs": [
        {
          "output_type": "execute_result",
          "data": {
            "text/plain": [
              "1"
            ]
          },
          "metadata": {},
          "execution_count": 4
        }
      ]
    },
    {
      "cell_type": "markdown",
      "source": [
        "to get the data which is resided in different  partions in  dataframe, we can use spark_partition_id fucntion."
      ],
      "metadata": {
        "id": "mLOAxJDAYS69"
      }
    },
    {
      "cell_type": "code",
      "source": [
        "from pyspark.sql.functions import *\n",
        "df1=df.withColumn('Partition_id',spark_partition_id())\n",
        "df1.show()"
      ],
      "metadata": {
        "colab": {
          "base_uri": "https://localhost:8080/"
        },
        "id": "WoqOxMReVa1x",
        "outputId": "e6d30f66-39c8-4822-9f29-b38f50008fe0"
      },
      "execution_count": 6,
      "outputs": [
        {
          "output_type": "stream",
          "name": "stdout",
          "text": [
            "+--------------+----------+-----------+----------+------+--------+--------------------+------------+\n",
            "|transaction_id|product_id|customer_id| sale_date|amount|currency|              region|Partition_id|\n",
            "+--------------+----------+-----------+----------+------+--------+--------------------+------------+\n",
            "|          1001|      P001|       C101|2024-01-15|150.75|     USD|               North|           0|\n",
            "|          1002|      P002|       C102|2024-01-15| 200.0|     EUR|               South|           0|\n",
            "|          1003|      P003|       C103|2024-01-16| 50.25|     USD|                East|           0|\n",
            "|          1004|      P001|       C101|2024-01-16| 300.5|     USD|               North|           0|\n",
            "|          1005|      P004|       C104|2024-01-17|  75.0|     GBP|                West|           0|\n",
            "|          1006|      P002|       C105|2024-01-17| 120.0|     EUR|               South|           0|\n",
            "|          1007|      P005|       C101|2024-01-18| 99.99|     USD|               North|           0|\n",
            "|          1008|      P001|       C102|2024-01-18|  25.0|     USD|               South|           0|\n",
            "|          1009|      P003|       C106|2024-01-19| 180.0|     EUR|                East|           0|\n",
            "|          1010|      P004|       C107|2024-01-19|  45.5|     USD|                West|           0|\n",
            "|          1011|      P006|       C108|2024-01-20| 600.0|     USD|               North|           0|\n",
            "|          1012|      P001|       C101|2024-01-20|  10.0|     USD|               North|           0|\n",
            "|          1013|      P007|       C109|2024-02-01|  15.0|     USD|                East|           0|\n",
            "|          1014|      P008|       C110|2024-02-02|   0.0|     EUR|South  -- Amount = 0|           0|\n",
            "|          1015|      P001|       C101|2024-02-03|  80.0|     USD|               North|           0|\n",
            "|          1016|      P002|       C102|2024-02-04| 250.0|     EUR|               South|           0|\n",
            "|          1017|      P009|       C111|2024-02-05|1000.0|     USD|                West|           0|\n",
            "|          1018|      P003|       C103|2024-02-06| -10.0|     USD|                East|           0|\n",
            "|          1019|      P010|       C112|2024-02-07|  35.0|     GBP|               North|           0|\n",
            "|          1020|      P005|       C101|2024-03-01| 120.5|     USD|               North|           0|\n",
            "+--------------+----------+-----------+----------+------+--------+--------------------+------------+\n",
            "only showing top 20 rows\n",
            "\n"
          ]
        }
      ]
    },
    {
      "cell_type": "markdown",
      "source": [
        "To understand properly manually repartitioning the data and applying spark_partiton_id() and doing a groupBy aggregate to understand the function."
      ],
      "metadata": {
        "id": "QeiOSwuNYiDR"
      }
    },
    {
      "cell_type": "code",
      "source": [
        "df1=df1.repartition(24)\n",
        "df1=df1.withColumn('Partition_id1',spark_partition_id())"
      ],
      "metadata": {
        "id": "7cjQLM5VWdsF"
      },
      "execution_count": 17,
      "outputs": []
    },
    {
      "cell_type": "code",
      "source": [
        "print(df1.rdd.getNumPartitions())\n",
        "df1.show()"
      ],
      "metadata": {
        "colab": {
          "base_uri": "https://localhost:8080/"
        },
        "id": "GZ9j-aKJW6yI",
        "outputId": "1b40f1f4-fa0d-41ae-b591-e1e11e815612"
      },
      "execution_count": 18,
      "outputs": [
        {
          "output_type": "stream",
          "name": "stdout",
          "text": [
            "24\n",
            "+--------------+----------+-----------+----------+------+--------+--------------------+------------+-------------+\n",
            "|transaction_id|product_id|customer_id| sale_date|amount|currency|              region|Partition_id|Partition_id1|\n",
            "+--------------+----------+-----------+----------+------+--------+--------------------+------------+-------------+\n",
            "|          1020|      P005|       C101|2024-03-01| 120.5|     USD|               North|           0|            0|\n",
            "|          1018|      P003|       C103|2024-02-06| -10.0|     USD|                East|           0|            0|\n",
            "|          1012|      P001|       C101|2024-01-20|  10.0|     USD|               North|           0|            1|\n",
            "|          1032|      P002|       C102|2024-05-04|  30.0|     EUR|               South|           0|            1|\n",
            "|          1043|      P003|       C103|2024-03-15|  60.0|     USD|                East|           0|            2|\n",
            "|          1027|      P003|       C106|2024-04-03|  90.0|     EUR|                East|           0|            2|\n",
            "|          1036|      P009|       C111|2024-06-03|1200.0|     USD|                West|           0|            3|\n",
            "|          1021|      P001|       C108|2024-03-02|   5.0|     USD|                East|           0|            3|\n",
            "|          1044|      P002|       C102|2024-04-20| 180.0|     EUR|               South|           0|            4|\n",
            "|          1008|      P001|       C102|2024-01-18|  25.0|     USD|               South|           0|            4|\n",
            "|          1049|      P007|       C109|2024-03-18|  80.0|     USD|                East|           0|            5|\n",
            "|          1007|      P005|       C101|2024-01-18| 99.99|     USD|               North|           0|            5|\n",
            "|          1014|      P008|       C110|2024-02-02|   0.0|     EUR|South  -- Amount = 0|           0|            6|\n",
            "|          1040|      P011|       C113|2024-06-07| 150.0|     USD|             Central|           0|            6|\n",
            "|          1022|      P004|       C104|2024-03-03|199.99|     GBP|                West|           0|            7|\n",
            "|          1035|      P004|       C104|2024-06-02|  85.0|     GBP|                West|           0|            7|\n",
            "|          1001|      P001|       C101|2024-01-15|150.75|     USD|               North|           0|            8|\n",
            "|          1017|      P009|       C111|2024-02-05|1000.0|     USD|                West|           0|            8|\n",
            "|          1047|      P005|       C101|2024-01-22| 110.0|     USD|               North|           0|            9|\n",
            "|          1004|      P001|       C101|2024-01-16| 300.5|     USD|               North|           0|            9|\n",
            "+--------------+----------+-----------+----------+------+--------+--------------------+------------+-------------+\n",
            "only showing top 20 rows\n",
            "\n"
          ]
        }
      ]
    },
    {
      "cell_type": "code",
      "source": [
        "df1.groupBy('Partition_id1').count().orderBy(desc(\"count\")).show(25)"
      ],
      "metadata": {
        "colab": {
          "base_uri": "https://localhost:8080/"
        },
        "id": "DmKDhnA_W-j2",
        "outputId": "3060618d-a893-485b-8b6d-f10758ff8495"
      },
      "execution_count": 22,
      "outputs": [
        {
          "output_type": "stream",
          "name": "stdout",
          "text": [
            "+-------------+-----+\n",
            "|Partition_id1|count|\n",
            "+-------------+-----+\n",
            "|           22|    3|\n",
            "|           21|    3|\n",
            "|            0|    2|\n",
            "|            1|    2|\n",
            "|            3|    2|\n",
            "|            5|    2|\n",
            "|            2|    2|\n",
            "|            9|    2|\n",
            "|            4|    2|\n",
            "|           13|    2|\n",
            "|            6|    2|\n",
            "|            7|    2|\n",
            "|            8|    2|\n",
            "|           23|    2|\n",
            "|           10|    2|\n",
            "|           11|    2|\n",
            "|           12|    2|\n",
            "|           14|    2|\n",
            "|           15|    2|\n",
            "|           16|    2|\n",
            "|           17|    2|\n",
            "|           18|    2|\n",
            "|           19|    2|\n",
            "|           20|    2|\n",
            "+-------------+-----+\n",
            "\n"
          ]
        }
      ]
    },
    {
      "cell_type": "markdown",
      "source": [
        "###### this helps us understand if the data is skewed or not, after the data is uploaded by spark application, in real world scenarios data might be huge and this helps us to avoid data skewness, there by optimizing the queries."
      ],
      "metadata": {
        "id": "h35WTS4sYz2l"
      }
    },
    {
      "cell_type": "markdown",
      "source": [
        "######**END OF CODE**"
      ],
      "metadata": {
        "id": "M8miKjliZLxu"
      }
    }
  ]
}