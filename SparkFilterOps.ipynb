{
  "nbformat": 4,
  "nbformat_minor": 0,
  "metadata": {
    "colab": {
      "provenance": [],
      "mount_file_id": "1GncH4VeQDB07ubpdgMVH49vXB50fHfbq",
      "authorship_tag": "ABX9TyNRZ300v5gWOTpp0RxzafaY",
      "include_colab_link": true
    },
    "kernelspec": {
      "name": "python3",
      "display_name": "Python 3"
    },
    "language_info": {
      "name": "python"
    }
  },
  "cells": [
    {
      "cell_type": "markdown",
      "metadata": {
        "id": "view-in-github",
        "colab_type": "text"
      },
      "source": [
        "<a href=\"https://colab.research.google.com/github/sandeepgundeboina/LearningSpark/blob/main/SparkFilterOps.ipynb\" target=\"_parent\"><img src=\"https://colab.research.google.com/assets/colab-badge.svg\" alt=\"Open In Colab\"/></a>"
      ]
    },
    {
      "cell_type": "code",
      "execution_count": 1,
      "metadata": {
        "colab": {
          "base_uri": "https://localhost:8080/"
        },
        "id": "yJbN8MTFHU0Q",
        "outputId": "b93ed352-92ef-4720-cb76-f6137bae1a65"
      },
      "outputs": [
        {
          "output_type": "stream",
          "name": "stdout",
          "text": [
            "Requirement already satisfied: pyspark in /usr/local/lib/python3.11/dist-packages (3.5.5)\n",
            "Requirement already satisfied: py4j==0.10.9.7 in /usr/local/lib/python3.11/dist-packages (from pyspark) (0.10.9.7)\n"
          ]
        }
      ],
      "source": [
        "!pip install pyspark"
      ]
    },
    {
      "cell_type": "code",
      "source": [
        "import pyspark\n",
        "from pyspark.sql import SparkSession\n",
        "spark = SparkSession.builder.appName('FilterOps').getOrCreate()"
      ],
      "metadata": {
        "id": "y0TpdWCrHZ6f"
      },
      "execution_count": 2,
      "outputs": []
    },
    {
      "cell_type": "code",
      "source": [
        "df=spark.read.csv('/content/drive/MyDrive/Abc/total-alcohol-consumption-per-capita-litres-of-pure-alcohol.csv', header=True)\n",
        "df.show(4)"
      ],
      "metadata": {
        "colab": {
          "base_uri": "https://localhost:8080/"
        },
        "id": "B1cwUrcDHvkP",
        "outputId": "b68dae70-2421-43fa-8a25-ccde7a03517d"
      },
      "execution_count": 3,
      "outputs": [
        {
          "output_type": "stream",
          "name": "stdout",
          "text": [
            "+-----------+----+----+----------------------------------------------------------------------------------------------------+\n",
            "|     Entity|Code|Year|Total alcohol consumption per capita (liters of pure alcohol, projected estimates, 15+ years of age)|\n",
            "+-----------+----+----+----------------------------------------------------------------------------------------------------+\n",
            "|Afghanistan| AFG|2000|                                                                                               0.003|\n",
            "|Afghanistan| AFG|2001|                                                                                               0.003|\n",
            "|Afghanistan| AFG|2002|                                                                                               0.007|\n",
            "|Afghanistan| AFG|2003|                                                                                               0.016|\n",
            "+-----------+----+----+----------------------------------------------------------------------------------------------------+\n",
            "only showing top 4 rows\n",
            "\n"
          ]
        }
      ]
    },
    {
      "cell_type": "code",
      "source": [
        "df.count()"
      ],
      "metadata": {
        "colab": {
          "base_uri": "https://localhost:8080/"
        },
        "id": "M1cp_2IyJnl_",
        "outputId": "c7f71418-6249-4b97-d74e-3c25a20f13d6"
      },
      "execution_count": 4,
      "outputs": [
        {
          "output_type": "execute_result",
          "data": {
            "text/plain": [
              "4185"
            ]
          },
          "metadata": {},
          "execution_count": 4
        }
      ]
    },
    {
      "cell_type": "markdown",
      "source": [
        "**Filtering Data**"
      ],
      "metadata": {
        "id": "DZoyAQkSJ9D8"
      }
    },
    {
      "cell_type": "markdown",
      "source": [
        "    Using Like Operator"
      ],
      "metadata": {
        "id": "-rKCPiDyLEF7"
      }
    },
    {
      "cell_type": "code",
      "source": [
        "df.filter(df.Entity.like('%In%')).show(5)"
      ],
      "metadata": {
        "colab": {
          "base_uri": "https://localhost:8080/"
        },
        "id": "GBtSc9SpJrCc",
        "outputId": "9d9c951e-3430-4429-e071-210ab970f469"
      },
      "execution_count": 5,
      "outputs": [
        {
          "output_type": "stream",
          "name": "stdout",
          "text": [
            "+------+----+----+----------------------------------------------------------------------------------------------------+\n",
            "|Entity|Code|Year|Total alcohol consumption per capita (liters of pure alcohol, projected estimates, 15+ years of age)|\n",
            "+------+----+----+----------------------------------------------------------------------------------------------------+\n",
            "| India| IND|2000|                                                                                                1.97|\n",
            "| India| IND|2001|                                                                                                1.97|\n",
            "| India| IND|2002|                                                                                                2.11|\n",
            "| India| IND|2003|                                                                                                2.21|\n",
            "| India| IND|2004|                                                                                                2.29|\n",
            "+------+----+----+----------------------------------------------------------------------------------------------------+\n",
            "only showing top 5 rows\n",
            "\n"
          ]
        }
      ]
    },
    {
      "cell_type": "markdown",
      "source": [
        "    Using Multiple conditions"
      ],
      "metadata": {
        "id": "XyQnL0IzLJtp"
      }
    },
    {
      "cell_type": "code",
      "source": [
        "df.filter((df.Entity.like('%In%') | (df.Entity.like('%Can%'))) &(df.Year == 2015)).show(10)"
      ],
      "metadata": {
        "colab": {
          "base_uri": "https://localhost:8080/"
        },
        "id": "F1PBhrsTKVNs",
        "outputId": "15499916-e992-4d02-f605-88a1f36ea2a9"
      },
      "execution_count": 6,
      "outputs": [
        {
          "output_type": "stream",
          "name": "stdout",
          "text": [
            "+---------+----+----+----------------------------------------------------------------------------------------------------+\n",
            "|   Entity|Code|Year|Total alcohol consumption per capita (liters of pure alcohol, projected estimates, 15+ years of age)|\n",
            "+---------+----+----+----------------------------------------------------------------------------------------------------+\n",
            "|   Canada| CAN|2015|                                                                                                9.92|\n",
            "|    India| IND|2015|                                                                                                4.96|\n",
            "|Indonesia| IDN|2015|                                                                                                0.11|\n",
            "+---------+----+----+----------------------------------------------------------------------------------------------------+\n",
            "\n"
          ]
        }
      ]
    },
    {
      "cell_type": "code",
      "source": [
        "df.filter((df.Entity.like('%In%') | (df.Entity.like('%Can%'))) &(df.Year != 2015)).show(10)"
      ],
      "metadata": {
        "colab": {
          "base_uri": "https://localhost:8080/"
        },
        "id": "zdvJGSuLLUE_",
        "outputId": "a6fe94ca-6371-409c-d6b3-3351a9322cfa"
      },
      "execution_count": 7,
      "outputs": [
        {
          "output_type": "stream",
          "name": "stdout",
          "text": [
            "+------+----+----+----------------------------------------------------------------------------------------------------+\n",
            "|Entity|Code|Year|Total alcohol consumption per capita (liters of pure alcohol, projected estimates, 15+ years of age)|\n",
            "+------+----+----+----------------------------------------------------------------------------------------------------+\n",
            "|Canada| CAN|2000|                                                                                                9.38|\n",
            "|Canada| CAN|2001|                                                                                                9.38|\n",
            "|Canada| CAN|2002|                                                                                                9.45|\n",
            "|Canada| CAN|2003|                                                                                                 9.5|\n",
            "|Canada| CAN|2004|                                                                                                 9.6|\n",
            "|Canada| CAN|2005|                                                                                                9.75|\n",
            "|Canada| CAN|2006|                                                                                                9.95|\n",
            "|Canada| CAN|2007|                                                                                               10.09|\n",
            "|Canada| CAN|2008|                                                                                               10.18|\n",
            "|Canada| CAN|2009|                                                                                               10.23|\n",
            "+------+----+----+----------------------------------------------------------------------------------------------------+\n",
            "only showing top 10 rows\n",
            "\n"
          ]
        }
      ]
    },
    {
      "cell_type": "markdown",
      "source": [
        "    StartsWith and EndsWith"
      ],
      "metadata": {
        "id": "r5PwXZ4IMrUQ"
      }
    },
    {
      "cell_type": "code",
      "source": [
        "df.filter(df.Entity.startswith('In') & (df.Year.cast('int')>=2016)).show()"
      ],
      "metadata": {
        "colab": {
          "base_uri": "https://localhost:8080/"
        },
        "id": "cB4jjhLjMZpY",
        "outputId": "57a238c3-6379-442f-8fd6-42bacf2082a8"
      },
      "execution_count": 8,
      "outputs": [
        {
          "output_type": "stream",
          "name": "stdout",
          "text": [
            "+---------+----+----+----------------------------------------------------------------------------------------------------+\n",
            "|   Entity|Code|Year|Total alcohol consumption per capita (liters of pure alcohol, projected estimates, 15+ years of age)|\n",
            "+---------+----+----+----------------------------------------------------------------------------------------------------+\n",
            "|    India| IND|2016|                                                                                                4.87|\n",
            "|    India| IND|2017|                                                                                                4.87|\n",
            "|    India| IND|2018|                                                                                                4.92|\n",
            "|    India| IND|2019|                                                                                                4.92|\n",
            "|    India| IND|2020|                                                                                                 4.1|\n",
            "|Indonesia| IDN|2016|                                                                                                0.11|\n",
            "|Indonesia| IDN|2017|                                                                                                0.11|\n",
            "|Indonesia| IDN|2018|                                                                                                0.11|\n",
            "|Indonesia| IDN|2019|                                                                                                0.11|\n",
            "|Indonesia| IDN|2020|                                                                                               0.074|\n",
            "+---------+----+----+----------------------------------------------------------------------------------------------------+\n",
            "\n"
          ]
        }
      ]
    },
    {
      "cell_type": "code",
      "source": [
        "df.filter(df.Entity.endswith('nd')&(df.Year.cast('int')>=2019)).show()"
      ],
      "metadata": {
        "colab": {
          "base_uri": "https://localhost:8080/"
        },
        "id": "rTal5pPQMzRJ",
        "outputId": "c15b1b45-10b1-4d8d-df14-976a929619b3"
      },
      "execution_count": 9,
      "outputs": [
        {
          "output_type": "stream",
          "name": "stdout",
          "text": [
            "+-----------+----+----+----------------------------------------------------------------------------------------------------+\n",
            "|     Entity|Code|Year|Total alcohol consumption per capita (liters of pure alcohol, projected estimates, 15+ years of age)|\n",
            "+-----------+----+----+----------------------------------------------------------------------------------------------------+\n",
            "|    Finland| FIN|2019|                                                                                                9.16|\n",
            "|    Finland| FIN|2020|                                                                                                9.08|\n",
            "|    Iceland| ISL|2019|                                                                                                8.07|\n",
            "|    Iceland| ISL|2020|                                                                                                7.94|\n",
            "|    Ireland| IRL|2019|                                                                                                11.7|\n",
            "|    Ireland| IRL|2020|                                                                                               10.77|\n",
            "|New Zealand| NZL|2019|                                                                                                9.89|\n",
            "|New Zealand| NZL|2020|                                                                                               10.02|\n",
            "|     Poland| POL|2019|                                                                                               11.63|\n",
            "|     Poland| POL|2020|                                                                                               11.66|\n",
            "|Switzerland| CHE|2019|                                                                                                10.4|\n",
            "|Switzerland| CHE|2020|                                                                                               10.07|\n",
            "|   Thailand| THA|2019|                                                                                                7.85|\n",
            "|   Thailand| THA|2020|                                                                                                7.99|\n",
            "+-----------+----+----+----------------------------------------------------------------------------------------------------+\n",
            "\n"
          ]
        }
      ]
    },
    {
      "cell_type": "code",
      "source": [
        "df.filter(df.Entity.contains('in')&(df.Year.cast('int')>2019)).show()\n",
        "print('no of records')\n",
        "df.filter(df.Entity.contains('in')&(df.Year.cast('int')>2019)).count()"
      ],
      "metadata": {
        "colab": {
          "base_uri": "https://localhost:8080/"
        },
        "id": "6XtsOpwjNbDI",
        "outputId": "e9f8f077-0344-46ff-b3b9-257391c738e8"
      },
      "execution_count": 10,
      "outputs": [
        {
          "output_type": "stream",
          "name": "stdout",
          "text": [
            "+--------------------+----+----+----------------------------------------------------------------------------------------------------+\n",
            "|              Entity|Code|Year|Total alcohol consumption per capita (liters of pure alcohol, projected estimates, 15+ years of age)|\n",
            "+--------------------+----+----+----------------------------------------------------------------------------------------------------+\n",
            "|           Argentina| ARG|2020|                                                                                                8.05|\n",
            "|             Bahrain| BHR|2020|                                                                                                1.25|\n",
            "|               Benin| BEN|2020|                                                                                                8.83|\n",
            "|Bosnia and Herzeg...| BIH|2020|                                                                                                5.87|\n",
            "|        Burkina Faso| BFA|2020|                                                                                               11.27|\n",
            "|               China| CHN|2020|                                                                                                4.58|\n",
            "|            Dominica| DMA|2020|                                                                                                5.02|\n",
            "|  Dominican Republic| DOM|2020|                                                                                                 6.5|\n",
            "|   Equatorial Guinea| GNQ|2020|                                                                                                6.56|\n",
            "|            Eswatini| SWZ|2020|                                                                                                6.79|\n",
            "|             Finland| FIN|2020|                                                                                                9.08|\n",
            "|              Guinea| GIN|2020|                                                                                                0.52|\n",
            "|       Guinea-Bissau| GNB|2020|                                                                                                3.73|\n",
            "|High-income count...|NULL|2020|                                                                                            9.186796|\n",
            "|Latin America and...|NULL|2020|                                                                                            5.823282|\n",
            "|Low-income countries|NULL|2020|                                                                                            2.770631|\n",
            "|Lower-middle-inco...|NULL|2020|                                                                                           3.5355954|\n",
            "|Middle-income cou...|NULL|2020|                                                                                           3.9570947|\n",
            "|    Papua New Guinea| PNG|2020|                                                                                                1.13|\n",
            "|         Philippines| PHL|2020|                                                                                                5.66|\n",
            "+--------------------+----+----+----------------------------------------------------------------------------------------------------+\n",
            "only showing top 20 rows\n",
            "\n",
            "no of records\n"
          ]
        },
        {
          "output_type": "execute_result",
          "data": {
            "text/plain": [
              "31"
            ]
          },
          "metadata": {},
          "execution_count": 10
        }
      ]
    },
    {
      "cell_type": "markdown",
      "source": [
        "Adding Column, Renaming Column, Drop Column in Spark"
      ],
      "metadata": {
        "id": "CZvocd4qRmLF"
      }
    },
    {
      "cell_type": "code",
      "source": [
        "from pyspark.sql.functions import * #it will import all the functions in pyspark.sql"
      ],
      "metadata": {
        "id": "h_FnoxIMOdgB"
      },
      "execution_count": 11,
      "outputs": []
    },
    {
      "cell_type": "code",
      "source": [
        "df1=df.withColumnRenamed('Total alcohol consumption per capita (liters of pure alcohol, projected estimates, 15+ years of age)','Consumption')\n",
        "df1.show(5)"
      ],
      "metadata": {
        "colab": {
          "base_uri": "https://localhost:8080/"
        },
        "id": "yP2wPf0ISHpJ",
        "outputId": "ac7c465e-dffa-4e71-fb1a-2448fade9173"
      },
      "execution_count": 12,
      "outputs": [
        {
          "output_type": "stream",
          "name": "stdout",
          "text": [
            "+-----------+----+----+-----------+\n",
            "|     Entity|Code|Year|Consumption|\n",
            "+-----------+----+----+-----------+\n",
            "|Afghanistan| AFG|2000|      0.003|\n",
            "|Afghanistan| AFG|2001|      0.003|\n",
            "|Afghanistan| AFG|2002|      0.007|\n",
            "|Afghanistan| AFG|2003|      0.016|\n",
            "|Afghanistan| AFG|2004|      0.021|\n",
            "+-----------+----+----+-----------+\n",
            "only showing top 5 rows\n",
            "\n"
          ]
        }
      ]
    },
    {
      "cell_type": "code",
      "source": [
        "df1=df1.withColumn('consumption age',lit(15))\n",
        "df1.show(5)"
      ],
      "metadata": {
        "colab": {
          "base_uri": "https://localhost:8080/"
        },
        "id": "SgpX6ZKWSmsI",
        "outputId": "340462cc-b939-4d35-fe2c-de7f2b792c09"
      },
      "execution_count": 13,
      "outputs": [
        {
          "output_type": "stream",
          "name": "stdout",
          "text": [
            "+-----------+----+----+-----------+---------------+\n",
            "|     Entity|Code|Year|Consumption|consumption age|\n",
            "+-----------+----+----+-----------+---------------+\n",
            "|Afghanistan| AFG|2000|      0.003|             15|\n",
            "|Afghanistan| AFG|2001|      0.003|             15|\n",
            "|Afghanistan| AFG|2002|      0.007|             15|\n",
            "|Afghanistan| AFG|2003|      0.016|             15|\n",
            "|Afghanistan| AFG|2004|      0.021|             15|\n",
            "+-----------+----+----+-----------+---------------+\n",
            "only showing top 5 rows\n",
            "\n"
          ]
        }
      ]
    },
    {
      "cell_type": "code",
      "source": [
        "df1=df1.drop('consumption age')\n",
        "df1.show(5)"
      ],
      "metadata": {
        "colab": {
          "base_uri": "https://localhost:8080/"
        },
        "id": "tHGtCpoZS8Wf",
        "outputId": "2d77843f-70e1-4dec-a6ab-131d4586e015"
      },
      "execution_count": 14,
      "outputs": [
        {
          "output_type": "stream",
          "name": "stdout",
          "text": [
            "+-----------+----+----+-----------+\n",
            "|     Entity|Code|Year|Consumption|\n",
            "+-----------+----+----+-----------+\n",
            "|Afghanistan| AFG|2000|      0.003|\n",
            "|Afghanistan| AFG|2001|      0.003|\n",
            "|Afghanistan| AFG|2002|      0.007|\n",
            "|Afghanistan| AFG|2003|      0.016|\n",
            "|Afghanistan| AFG|2004|      0.021|\n",
            "+-----------+----+----+-----------+\n",
            "only showing top 5 rows\n",
            "\n"
          ]
        }
      ]
    },
    {
      "cell_type": "markdown",
      "source": [
        "**End Of Code**"
      ],
      "metadata": {
        "id": "zFD8HNVNc7Yz"
      }
    }
  ]
}