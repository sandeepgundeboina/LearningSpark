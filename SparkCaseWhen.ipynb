{
  "nbformat": 4,
  "nbformat_minor": 0,
  "metadata": {
    "colab": {
      "provenance": [],
      "authorship_tag": "ABX9TyNxKh+TVjspSW0DY3o8DO66"
    },
    "kernelspec": {
      "name": "python3",
      "display_name": "Python 3"
    },
    "language_info": {
      "name": "python"
    }
  },
  "cells": [
    {
      "cell_type": "code",
      "execution_count": 1,
      "metadata": {
        "colab": {
          "base_uri": "https://localhost:8080/"
        },
        "id": "FjpL84NAiGBc",
        "outputId": "89f163fc-169a-487b-f2b8-b419e3dea94b"
      },
      "outputs": [
        {
          "output_type": "stream",
          "name": "stdout",
          "text": [
            "Requirement already satisfied: pyspark in /usr/local/lib/python3.11/dist-packages (3.5.1)\n",
            "Requirement already satisfied: py4j==0.10.9.7 in /usr/local/lib/python3.11/dist-packages (from pyspark) (0.10.9.7)\n"
          ]
        }
      ],
      "source": [
        "!pip install pyspark"
      ]
    },
    {
      "cell_type": "code",
      "source": [
        "import pyspark\n",
        "from pyspark.sql import SparkSession\n",
        "spark = SparkSession.builder.appName('SparkCaseWhen').getOrCreate()"
      ],
      "metadata": {
        "id": "vaGRiJIMlbbj"
      },
      "execution_count": 2,
      "outputs": []
    },
    {
      "cell_type": "markdown",
      "source": [
        "        Creating Dataframe to perform when and Case when opertaions"
      ],
      "metadata": {
        "id": "xBThMI9SqsiJ"
      }
    },
    {
      "cell_type": "code",
      "source": [
        "student=[('Raja','Science',90,'P',80),\n",
        "         ('Ram','Maths',80,'P',75),\n",
        "         ('Govardha','Science',76,'P',65),\n",
        "         ('Vikram','Social',45,'F',54),\n",
        "         ('Venkat','Science',34,'F',24),\n",
        "         ('Bhusna','Maths',None,'NA',86)]\n",
        "schema=['Name','Subject','Marks','Status','Percentage']\n",
        "df=spark.createDataFrame(data=student,schema=schema)\n",
        "df.show()"
      ],
      "metadata": {
        "colab": {
          "base_uri": "https://localhost:8080/"
        },
        "id": "GfNLk23Plh0i",
        "outputId": "e1f046a9-63ef-484d-cdec-53dbc6e3560c"
      },
      "execution_count": 13,
      "outputs": [
        {
          "output_type": "stream",
          "name": "stdout",
          "text": [
            "+--------+-------+-----+------+----------+\n",
            "|    Name|Subject|Marks|Status|Percentage|\n",
            "+--------+-------+-----+------+----------+\n",
            "|    Raja|Science|   90|     P|        80|\n",
            "|     Ram|  Maths|   80|     P|        75|\n",
            "|Govardha|Science|   76|     P|        65|\n",
            "|  Vikram| Social|   45|     F|        54|\n",
            "|  Venkat|Science|   34|     F|        24|\n",
            "|  Bhusna|  Maths| NULL|    NA|        86|\n",
            "+--------+-------+-----+------+----------+\n",
            "\n"
          ]
        }
      ]
    },
    {
      "cell_type": "code",
      "source": [
        "from pyspark.sql.functions import *"
      ],
      "metadata": {
        "id": "6_XgEWVAmji6"
      },
      "execution_count": 4,
      "outputs": []
    },
    {
      "cell_type": "markdown",
      "source": [
        "    Syntax 1"
      ],
      "metadata": {
        "id": "Nd89_zQDnWLx"
      }
    },
    {
      "cell_type": "code",
      "source": [
        "df2=df.withColumn('Result', when(col('Status')=='P','Pass').when(col('status')=='F','Fail').otherwise('Absentee'))\n",
        "df2.show()"
      ],
      "metadata": {
        "colab": {
          "base_uri": "https://localhost:8080/"
        },
        "id": "mrHxHocNmoy_",
        "outputId": "1465f1ed-265f-4937-a182-369983fa75fc"
      },
      "execution_count": 14,
      "outputs": [
        {
          "output_type": "stream",
          "name": "stdout",
          "text": [
            "+--------+-------+-----+------+----------+--------+\n",
            "|    Name|Subject|Marks|Status|Percentage|  Result|\n",
            "+--------+-------+-----+------+----------+--------+\n",
            "|    Raja|Science|   90|     P|        80|    Pass|\n",
            "|     Ram|  Maths|   80|     P|        75|    Pass|\n",
            "|Govardha|Science|   76|     P|        65|    Pass|\n",
            "|  Vikram| Social|   45|     F|        54|    Fail|\n",
            "|  Venkat|Science|   34|     F|        24|    Fail|\n",
            "|  Bhusna|  Maths| NULL|    NA|        86|Absentee|\n",
            "+--------+-------+-----+------+----------+--------+\n",
            "\n"
          ]
        }
      ]
    },
    {
      "cell_type": "markdown",
      "source": [
        "    Syntax 2"
      ],
      "metadata": {
        "id": "khytGlBJnZmN"
      }
    },
    {
      "cell_type": "code",
      "source": [
        "df3=df.withColumn('Remarks', expr(\"case when Marks>=50 then 'good'\"+\"When marks<50 then 'bad'\"+\"Else 'absent' end\"))\n",
        "df3.show()"
      ],
      "metadata": {
        "colab": {
          "base_uri": "https://localhost:8080/"
        },
        "id": "XJCxFuT9m9sy",
        "outputId": "279ff199-c57c-4570-e4da-1eab7c779be4"
      },
      "execution_count": 16,
      "outputs": [
        {
          "output_type": "stream",
          "name": "stdout",
          "text": [
            "+--------+-------+-----+------+----------+-------+\n",
            "|    Name|Subject|Marks|Status|Percentage|Remarks|\n",
            "+--------+-------+-----+------+----------+-------+\n",
            "|    Raja|Science|   90|     P|        80|   good|\n",
            "|     Ram|  Maths|   80|     P|        75|   good|\n",
            "|Govardha|Science|   76|     P|        65|   good|\n",
            "|  Vikram| Social|   45|     F|        54|    bad|\n",
            "|  Venkat|Science|   34|     F|        24|    bad|\n",
            "|  Bhusna|  Maths| NULL|    NA|        86| absent|\n",
            "+--------+-------+-----+------+----------+-------+\n",
            "\n"
          ]
        }
      ]
    },
    {
      "cell_type": "markdown",
      "source": [
        "    Using multiple confitions in case statements"
      ],
      "metadata": {
        "id": "XQ9YJw5VorLp"
      }
    },
    {
      "cell_type": "code",
      "source": [
        "df4=df2.withColumn('Remarks',when((df.Marks>=80) &( df.Percentage>=75),'Clever Student')\\\n",
        "                   .when((df.Marks<80) & (df.Marks>=50) & (df.Percentage>=60),'Average Studnet').otherwise('Poor Student'))\n",
        "df4.show()"
      ],
      "metadata": {
        "colab": {
          "base_uri": "https://localhost:8080/"
        },
        "id": "qmsPb7_poajv",
        "outputId": "82f778ff-7d61-4f05-e393-645d46edf315"
      },
      "execution_count": 23,
      "outputs": [
        {
          "output_type": "stream",
          "name": "stdout",
          "text": [
            "+--------+-------+-----+------+----------+--------+---------------+\n",
            "|    Name|Subject|Marks|Status|Percentage|  Result|        Remarks|\n",
            "+--------+-------+-----+------+----------+--------+---------------+\n",
            "|    Raja|Science|   90|     P|        80|    Pass| Clever Student|\n",
            "|     Ram|  Maths|   80|     P|        75|    Pass| Clever Student|\n",
            "|Govardha|Science|   76|     P|        65|    Pass|Average Studnet|\n",
            "|  Vikram| Social|   45|     F|        54|    Fail|   Poor Student|\n",
            "|  Venkat|Science|   34|     F|        24|    Fail|   Poor Student|\n",
            "|  Bhusna|  Maths| NULL|    NA|        86|Absentee|   Poor Student|\n",
            "+--------+-------+-----+------+----------+--------+---------------+\n",
            "\n"
          ]
        }
      ]
    },
    {
      "cell_type": "markdown",
      "source": [
        "**End Of Code**"
      ],
      "metadata": {
        "id": "pKr_n2UyqjYf"
      }
    }
  ]
}