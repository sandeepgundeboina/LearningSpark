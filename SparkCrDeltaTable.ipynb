{
  "nbformat": 4,
  "nbformat_minor": 0,
  "metadata": {
    "colab": {
      "provenance": [],
      "mount_file_id": "1BwD-G3AYbPJrOTfgOFk3ueMjmLGVhzsF",
      "authorship_tag": "ABX9TyO0KKckDlupyPO+r5tqEhPd",
      "include_colab_link": true
    },
    "kernelspec": {
      "name": "python3",
      "display_name": "Python 3"
    },
    "language_info": {
      "name": "python"
    }
  },
  "cells": [
    {
      "cell_type": "markdown",
      "metadata": {
        "id": "view-in-github",
        "colab_type": "text"
      },
      "source": [
        "<a href=\"https://colab.research.google.com/github/sandeepgundeboina/LearningSpark/blob/main/SparkCrDeltaTable.ipynb\" target=\"_parent\"><img src=\"https://colab.research.google.com/assets/colab-badge.svg\" alt=\"Open In Colab\"/></a>"
      ]
    },
    {
      "cell_type": "code",
      "execution_count": 1,
      "metadata": {
        "colab": {
          "base_uri": "https://localhost:8080/"
        },
        "id": "PtQI8g21tBhJ",
        "outputId": "e24211bb-9e8f-4cf1-f9d9-d879e2146b3a"
      },
      "outputs": [
        {
          "output_type": "stream",
          "name": "stdout",
          "text": [
            "Requirement already satisfied: delta-spark==2.0.0 in /usr/local/lib/python3.11/dist-packages (2.0.0)\n",
            "Requirement already satisfied: pyspark<3.3.0,>=3.2.0 in /usr/local/lib/python3.11/dist-packages (from delta-spark==2.0.0) (3.2.4)\n",
            "Requirement already satisfied: importlib-metadata>=1.0.0 in /usr/local/lib/python3.11/dist-packages (from delta-spark==2.0.0) (8.7.0)\n",
            "Requirement already satisfied: zipp>=3.20 in /usr/local/lib/python3.11/dist-packages (from importlib-metadata>=1.0.0->delta-spark==2.0.0) (3.22.0)\n",
            "Requirement already satisfied: py4j==0.10.9.5 in /usr/local/lib/python3.11/dist-packages (from pyspark<3.3.0,>=3.2.0->delta-spark==2.0.0) (0.10.9.5)\n"
          ]
        }
      ],
      "source": [
        "!pip install delta-spark==2.0.0\n",
        "\n",
        "import pyspark\n",
        "from pyspark.sql import SparkSession\n",
        "spark = SparkSession.builder \\\n",
        "    .appName(\"SparkCrDeltaTable\") \\\n",
        "    .config(\"spark.jars.packages\", \"io.delta:delta-core_2.12:2.0.0\") \\\n",
        "    .config(\"spark.sql.extensions\", \"io.delta.sql.DeltaSparkSessionExtension\") \\\n",
        "    .config(\"spark.sql.catalog.spark_catalog\", \"org.apache.spark.sql.delta.catalog.DeltaCatalog\") \\\n",
        "    .getOrCreate()"
      ]
    },
    {
      "cell_type": "code",
      "source": [
        "spark"
      ],
      "metadata": {
        "colab": {
          "base_uri": "https://localhost:8080/",
          "height": 219
        },
        "id": "m5gd4HCDtmrI",
        "outputId": "c1c1e884-f5c8-4507-e92c-1f36db804840"
      },
      "execution_count": 2,
      "outputs": [
        {
          "output_type": "execute_result",
          "data": {
            "text/plain": [
              "<pyspark.sql.session.SparkSession at 0x79e6c3b8f290>"
            ],
            "text/html": [
              "\n",
              "            <div>\n",
              "                <p><b>SparkSession - in-memory</b></p>\n",
              "                \n",
              "        <div>\n",
              "            <p><b>SparkContext</b></p>\n",
              "\n",
              "            <p><a href=\"http://64ae8e310ce9:4040\">Spark UI</a></p>\n",
              "\n",
              "            <dl>\n",
              "              <dt>Version</dt>\n",
              "                <dd><code>v3.2.4</code></dd>\n",
              "              <dt>Master</dt>\n",
              "                <dd><code>local[*]</code></dd>\n",
              "              <dt>AppName</dt>\n",
              "                <dd><code>SparkCrDeltaTable</code></dd>\n",
              "            </dl>\n",
              "        </div>\n",
              "        \n",
              "            </div>\n",
              "        "
            ]
          },
          "metadata": {},
          "execution_count": 2
        }
      ]
    },
    {
      "cell_type": "code",
      "source": [
        "from delta.tables import *\n",
        "from pyspark.sql.functions import *\n",
        "from pyspark.sql.types import *"
      ],
      "metadata": {
        "id": "ggpc52vrtINX"
      },
      "execution_count": 3,
      "outputs": []
    },
    {
      "cell_type": "markdown",
      "source": [
        "Method 1"
      ],
      "metadata": {
        "id": "ubFcVRKTtkFn"
      }
    },
    {
      "cell_type": "code",
      "source": [
        "schema = [\n",
        "    StructField(\"id\", IntegerType(), True), # Assuming 'id' is an integer, change if needed\n",
        "    StructField(\"name\", StringType(), True),\n",
        "    StructField(\"salary\", IntegerType(), True) # Assuming 'salary' is an integer, change if needed\n",
        "]\n",
        "DeltaTable.create(spark)\\\n",
        "          .tableName('employe_table')\\\n",
        "          .addColumns(schema)\\\n",
        "          .location('/content/spark-warehouse')\\\n",
        "          .execute()"
      ],
      "metadata": {
        "id": "SuqJWLuYuFCY",
        "colab": {
          "base_uri": "https://localhost:8080/"
        },
        "outputId": "fc50c9d2-557b-4143-9bf0-63cc6194df70"
      },
      "execution_count": 4,
      "outputs": [
        {
          "output_type": "execute_result",
          "data": {
            "text/plain": [
              "<delta.tables.DeltaTable at 0x79e6c3b579d0>"
            ]
          },
          "metadata": {},
          "execution_count": 4
        }
      ]
    },
    {
      "cell_type": "code",
      "source": [
        "spark.sql('select * from employe_table').show()"
      ],
      "metadata": {
        "colab": {
          "base_uri": "https://localhost:8080/"
        },
        "id": "iB-gjdEKsSb7",
        "outputId": "2113f72b-3478-4eff-c524-300555dc2b35"
      },
      "execution_count": 5,
      "outputs": [
        {
          "output_type": "stream",
          "name": "stdout",
          "text": [
            "+---+----+------+\n",
            "| id|name|salary|\n",
            "+---+----+------+\n",
            "+---+----+------+\n",
            "\n"
          ]
        }
      ]
    },
    {
      "cell_type": "markdown",
      "source": [
        "Method 2"
      ],
      "metadata": {
        "id": "cg0QYbk3tmId"
      }
    },
    {
      "cell_type": "code",
      "source": [
        "DeltaTable.createIfNotExists(spark)\\\n",
        "          .tableName('employe_table')\\\n",
        "          .addColumns(schema)\\\n",
        "          .location('/content/spark-warehouse')\\\n",
        "          .execute()"
      ],
      "metadata": {
        "colab": {
          "base_uri": "https://localhost:8080/"
        },
        "id": "MwCeUi8Ptc4p",
        "outputId": "53cfcf6f-329f-4bce-8ae4-e96307b9ab7a"
      },
      "execution_count": 6,
      "outputs": [
        {
          "output_type": "execute_result",
          "data": {
            "text/plain": [
              "<delta.tables.DeltaTable at 0x79e6c3883a10>"
            ]
          },
          "metadata": {},
          "execution_count": 6
        }
      ]
    },
    {
      "cell_type": "markdown",
      "source": [
        "Method3"
      ],
      "metadata": {
        "id": "Jz1bzMBFtsfc"
      }
    },
    {
      "cell_type": "code",
      "source": [
        "DeltaTable.createOrReplace(spark)\\\n",
        "          .tableName('employe_table')\\\n",
        "          .addColumns(schema)\\\n",
        "          .location('/content/spark-warehouse')\\\n",
        "          .execute()"
      ],
      "metadata": {
        "colab": {
          "base_uri": "https://localhost:8080/"
        },
        "id": "3Y_8f4rxtrQK",
        "outputId": "676c1bb7-1fdb-4198-8283-873e8c84bd0c"
      },
      "execution_count": 7,
      "outputs": [
        {
          "output_type": "execute_result",
          "data": {
            "text/plain": [
              "<delta.tables.DeltaTable at 0x79e6c3ba3810>"
            ]
          },
          "metadata": {},
          "execution_count": 7
        }
      ]
    },
    {
      "cell_type": "code",
      "source": [
        "!cat /content/spark-warehouse/_delta_log/00000000000000000000.json"
      ],
      "metadata": {
        "colab": {
          "base_uri": "https://localhost:8080/"
        },
        "id": "PxlV_I6GuNSv",
        "outputId": "c52f9181-1103-49a0-fbb6-ebd201201b67"
      },
      "execution_count": 8,
      "outputs": [
        {
          "output_type": "stream",
          "name": "stdout",
          "text": [
            "{\"protocol\":{\"minReaderVersion\":1,\"minWriterVersion\":2}}\n",
            "{\"metaData\":{\"id\":\"e5a45aef-4c89-4f90-bd97-84a2479018e1\",\"format\":{\"provider\":\"parquet\",\"options\":{}},\"schemaString\":\"{\\\"type\\\":\\\"struct\\\",\\\"fields\\\":[{\\\"name\\\":\\\"id\\\",\\\"type\\\":\\\"integer\\\",\\\"nullable\\\":true,\\\"metadata\\\":{}},{\\\"name\\\":\\\"name\\\",\\\"type\\\":\\\"string\\\",\\\"nullable\\\":true,\\\"metadata\\\":{}},{\\\"name\\\":\\\"salary\\\",\\\"type\\\":\\\"integer\\\",\\\"nullable\\\":true,\\\"metadata\\\":{}}]}\",\"partitionColumns\":[],\"configuration\":{},\"createdTime\":1750059998253}}\n",
            "{\"commitInfo\":{\"timestamp\":1750059998387,\"operation\":\"CREATE TABLE\",\"operationParameters\":{\"isManaged\":\"false\",\"description\":null,\"partitionBy\":\"[]\",\"properties\":\"{}\"},\"isolationLevel\":\"Serializable\",\"isBlindAppend\":true,\"operationMetrics\":{},\"engineInfo\":\"Apache-Spark/3.2.4 Delta-Lake/2.0.0\",\"txnId\":\"0fabdacf-53c5-4c18-98b9-b8354a1f7378\"}}\n"
          ]
        }
      ]
    },
    {
      "cell_type": "code",
      "source": [
        "!cat /content/spark-warehouse/_delta_log/00000000000000000001.json"
      ],
      "metadata": {
        "colab": {
          "base_uri": "https://localhost:8080/"
        },
        "id": "Z5cHFZxPtwC1",
        "outputId": "15cb9f8e-783f-448d-c0b5-7e086630b862"
      },
      "execution_count": 9,
      "outputs": [
        {
          "output_type": "stream",
          "name": "stdout",
          "text": [
            "{\"protocol\":{\"minReaderVersion\":1,\"minWriterVersion\":2}}\n",
            "{\"metaData\":{\"id\":\"1eec81c6-b2f6-40a5-a641-3cda4edb647e\",\"format\":{\"provider\":\"parquet\",\"options\":{}},\"schemaString\":\"{\\\"type\\\":\\\"struct\\\",\\\"fields\\\":[{\\\"name\\\":\\\"id\\\",\\\"type\\\":\\\"integer\\\",\\\"nullable\\\":true,\\\"metadata\\\":{}},{\\\"name\\\":\\\"name\\\",\\\"type\\\":\\\"string\\\",\\\"nullable\\\":true,\\\"metadata\\\":{}},{\\\"name\\\":\\\"salary\\\",\\\"type\\\":\\\"integer\\\",\\\"nullable\\\":true,\\\"metadata\\\":{}}]}\",\"partitionColumns\":[],\"configuration\":{},\"createdTime\":1750060171699}}\n",
            "{\"commitInfo\":{\"timestamp\":1750060173205,\"operation\":\"CREATE OR REPLACE TABLE\",\"operationParameters\":{\"isManaged\":\"false\",\"description\":null,\"partitionBy\":\"[]\",\"properties\":\"{}\"},\"readVersion\":0,\"isolationLevel\":\"Serializable\",\"isBlindAppend\":false,\"operationMetrics\":{},\"engineInfo\":\"Apache-Spark/3.2.4 Delta-Lake/2.0.0\",\"txnId\":\"32cc45d5-7063-4bac-8173-6d5c8c1fdf70\"}}\n"
          ]
        }
      ]
    },
    {
      "cell_type": "markdown",
      "source": [
        "####SQL APPROACH"
      ],
      "metadata": {
        "id": "h4lxc4mCuTB-"
      }
    },
    {
      "cell_type": "markdown",
      "source": [
        "As in Spark way there are three ways for sql as well, create table, create or replace table and create table if not exists"
      ],
      "metadata": {
        "id": "LuuYsOEevJlD"
      }
    },
    {
      "cell_type": "code",
      "source": [
        "spark.sql(\"Create table employeee_table(id int,name string,salary int)using DELTA\")"
      ],
      "metadata": {
        "colab": {
          "base_uri": "https://localhost:8080/"
        },
        "id": "ont3YgKbt6Vj",
        "outputId": "94104772-4621-4818-c798-e402356730e3"
      },
      "execution_count": 11,
      "outputs": [
        {
          "output_type": "execute_result",
          "data": {
            "text/plain": [
              "DataFrame[]"
            ]
          },
          "metadata": {},
          "execution_count": 11
        }
      ]
    },
    {
      "cell_type": "code",
      "source": [
        "spark.sql(\"select * from employeee_table\").show()"
      ],
      "metadata": {
        "colab": {
          "base_uri": "https://localhost:8080/"
        },
        "id": "ub340qF8uupj",
        "outputId": "914d6fef-73ff-40d2-a0d2-2e146a061b71"
      },
      "execution_count": 13,
      "outputs": [
        {
          "output_type": "stream",
          "name": "stdout",
          "text": [
            "+---+----+------+\n",
            "| id|name|salary|\n",
            "+---+----+------+\n",
            "+---+----+------+\n",
            "\n"
          ]
        }
      ]
    },
    {
      "cell_type": "code",
      "source": [
        "!cat /content/spark-warehouse/employee_table/_delta_log/00000000000000000000.json"
      ],
      "metadata": {
        "colab": {
          "base_uri": "https://localhost:8080/"
        },
        "id": "EOgU7Rb-uzY1",
        "outputId": "5c2b7c3a-7718-4b52-fb69-4947abd0c376"
      },
      "execution_count": 14,
      "outputs": [
        {
          "output_type": "stream",
          "name": "stdout",
          "text": [
            "{\"protocol\":{\"minReaderVersion\":1,\"minWriterVersion\":2}}\n",
            "{\"metaData\":{\"id\":\"83804a8d-0fd0-448d-800c-5be1734c9963\",\"format\":{\"provider\":\"parquet\",\"options\":{}},\"schemaString\":\"{\\\"type\\\":\\\"struct\\\",\\\"fields\\\":[{\\\"name\\\":\\\"id\\\",\\\"type\\\":\\\"integer\\\",\\\"nullable\\\":true,\\\"metadata\\\":{}},{\\\"name\\\":\\\"name\\\",\\\"type\\\":\\\"string\\\",\\\"nullable\\\":true,\\\"metadata\\\":{}},{\\\"name\\\":\\\"salary\\\",\\\"type\\\":\\\"integer\\\",\\\"nullable\\\":true,\\\"metadata\\\":{}}]}\",\"partitionColumns\":[],\"configuration\":{},\"createdTime\":1750060459580}}\n",
            "{\"commitInfo\":{\"timestamp\":1750060459604,\"operation\":\"CREATE TABLE\",\"operationParameters\":{\"isManaged\":\"true\",\"description\":null,\"partitionBy\":\"[]\",\"properties\":\"{}\"},\"isolationLevel\":\"Serializable\",\"isBlindAppend\":true,\"operationMetrics\":{},\"engineInfo\":\"Apache-Spark/3.2.4 Delta-Lake/2.0.0\",\"txnId\":\"61774687-9690-44da-9b12-2f6a123dfc6b\"}}\n"
          ]
        }
      ]
    },
    {
      "cell_type": "markdown",
      "source": [
        "###  creating delta table Using Dataframe"
      ],
      "metadata": {
        "id": "4js_SFJavidH"
      }
    },
    {
      "cell_type": "code",
      "source": [
        "df=spark.read.format('csv').option('header','true').option('inferSchema',True).load('/content/drive/MyDrive/Abc/Ola_data/products.csv')"
      ],
      "metadata": {
        "id": "p5HDXzvgzAe5"
      },
      "execution_count": 18,
      "outputs": []
    },
    {
      "cell_type": "code",
      "source": [
        "df.show()"
      ],
      "metadata": {
        "colab": {
          "base_uri": "https://localhost:8080/"
        },
        "id": "C8QtLR18zUtF",
        "outputId": "97dc872a-120f-41f1-bd0e-9c2bd710b897"
      },
      "execution_count": 19,
      "outputs": [
        {
          "output_type": "stream",
          "name": "stdout",
          "text": [
            "+-------------------+---------------+----------+--------+------+----------+-------+\n",
            "|            product|          store|product_id|store_id|   MRP|     state|country|\n",
            "+-------------------+---------------+----------+--------+------+----------+-------+\n",
            "|      Wired Earbuds|Electronics Hub|   PROD101| STORE01| 25.99|California|    USA|\n",
            "|   Portable Charger|    Mobile Mart|   PROD102| STORE02|  NULL|     Texas|    USA|\n",
            "|  Bluetooth Speaker|Electronics Hub|   PROD103| STORE01| 79.50|California|    USA|\n",
            "|   Smart Light Bulb|   Home Gadgets|   PROD104| STORE03| 15.00|   Florida|    USA|\n",
            "|               NULL|    Mobile Mart|   PROD105| STORE02| 49.99|     Texas|    USA|\n",
            "|     Wireless Mouse|Electronics Hub|   PROD106| STORE01|  NULL|California|    USA|\n",
            "|Mechanical Keyboard|      PC Palace|   PROD107| STORE04|120.00|  New York|    USA|\n",
            "|             Webcam|Electronics Hub|   PROD108| STORE01| 55.00|      NULL|    USA|\n",
            "|     Gaming Headset|      PC Palace|   PROD109| STORE04| 90.00|  New York|    USA|\n",
            "|      Monitor Stand|   Home Gadgets|   PROD110| STORE03| 29.99|   Florida|    USA|\n",
            "|         HDMI Cable|    Mobile Mart|   PROD111| STORE02|  NULL|     Texas|   NULL|\n",
            "|            USB Hub|Electronics Hub|   PROD112| STORE01|  NULL|California|    USA|\n",
            "|      Laptop Sleeve|      PC Palace|   PROD113| STORE04|  NULL|  New York|    USA|\n",
            "|       External SSD|Electronics Hub|   PROD114| STORE01|150.00|California|    USA|\n",
            "|        Power Strip|   Home Gadgets|   PROD115| STORE03|  NULL|   Florida|    USA|\n",
            "|           Desk Fan|    Mobile Mart|   PROD116| STORE02| 20.00|     Texas|    USA|\n",
            "|        Printer Ink|   Office Depot|   PROD117| STORE05|  NULL|  Illinois|    USA|\n",
            "|            Scanner|Electronics Hub|   PROD118| STORE01|180.00|California|   NULL|\n",
            "|          Projector|      PC Palace|   PROD119| STORE04|700.00|      NULL|    USA|\n",
            "|         Smart Plug|   Home Gadgets|   PROD120| STORE03| 12.00|   Florida|    USA|\n",
            "+-------------------+---------------+----------+--------+------+----------+-------+\n",
            "only showing top 20 rows\n",
            "\n"
          ]
        }
      ]
    },
    {
      "cell_type": "code",
      "source": [
        "df.write.format('delta').mode('overwrite').saveAsTable('Products_table')"
      ],
      "metadata": {
        "id": "d1SyiFW7zWCK"
      },
      "execution_count": 20,
      "outputs": []
    },
    {
      "cell_type": "code",
      "source": [
        "spark.sql('select * from Products_table').show()"
      ],
      "metadata": {
        "colab": {
          "base_uri": "https://localhost:8080/"
        },
        "id": "THOCZmn8zrgk",
        "outputId": "989ec90d-ae13-485b-c440-c99a0c17b93f"
      },
      "execution_count": 21,
      "outputs": [
        {
          "output_type": "stream",
          "name": "stdout",
          "text": [
            "+-------------------+---------------+----------+--------+------+----------+-------+\n",
            "|            product|          store|product_id|store_id|   MRP|     state|country|\n",
            "+-------------------+---------------+----------+--------+------+----------+-------+\n",
            "|      Wired Earbuds|Electronics Hub|   PROD101| STORE01| 25.99|California|    USA|\n",
            "|   Portable Charger|    Mobile Mart|   PROD102| STORE02|  NULL|     Texas|    USA|\n",
            "|  Bluetooth Speaker|Electronics Hub|   PROD103| STORE01| 79.50|California|    USA|\n",
            "|   Smart Light Bulb|   Home Gadgets|   PROD104| STORE03| 15.00|   Florida|    USA|\n",
            "|               NULL|    Mobile Mart|   PROD105| STORE02| 49.99|     Texas|    USA|\n",
            "|     Wireless Mouse|Electronics Hub|   PROD106| STORE01|  NULL|California|    USA|\n",
            "|Mechanical Keyboard|      PC Palace|   PROD107| STORE04|120.00|  New York|    USA|\n",
            "|             Webcam|Electronics Hub|   PROD108| STORE01| 55.00|      NULL|    USA|\n",
            "|     Gaming Headset|      PC Palace|   PROD109| STORE04| 90.00|  New York|    USA|\n",
            "|      Monitor Stand|   Home Gadgets|   PROD110| STORE03| 29.99|   Florida|    USA|\n",
            "|         HDMI Cable|    Mobile Mart|   PROD111| STORE02|  NULL|     Texas|   NULL|\n",
            "|            USB Hub|Electronics Hub|   PROD112| STORE01|  NULL|California|    USA|\n",
            "|      Laptop Sleeve|      PC Palace|   PROD113| STORE04|  NULL|  New York|    USA|\n",
            "|       External SSD|Electronics Hub|   PROD114| STORE01|150.00|California|    USA|\n",
            "|        Power Strip|   Home Gadgets|   PROD115| STORE03|  NULL|   Florida|    USA|\n",
            "|           Desk Fan|    Mobile Mart|   PROD116| STORE02| 20.00|     Texas|    USA|\n",
            "|        Printer Ink|   Office Depot|   PROD117| STORE05|  NULL|  Illinois|    USA|\n",
            "|            Scanner|Electronics Hub|   PROD118| STORE01|180.00|California|   NULL|\n",
            "|          Projector|      PC Palace|   PROD119| STORE04|700.00|      NULL|    USA|\n",
            "|         Smart Plug|   Home Gadgets|   PROD120| STORE03| 12.00|   Florida|    USA|\n",
            "+-------------------+---------------+----------+--------+------+----------+-------+\n",
            "only showing top 20 rows\n",
            "\n"
          ]
        }
      ]
    },
    {
      "cell_type": "markdown",
      "source": [
        "**END OF CODE**"
      ],
      "metadata": {
        "id": "clcVc6870bVl"
      }
    }
  ]
}