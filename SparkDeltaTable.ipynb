{
  "nbformat": 4,
  "nbformat_minor": 0,
  "metadata": {
    "colab": {
      "provenance": [],
      "authorship_tag": "ABX9TyPzPd/HvSceP28/VgnXs/u5",
      "include_colab_link": true
    },
    "kernelspec": {
      "name": "python3",
      "display_name": "Python 3"
    },
    "language_info": {
      "name": "python"
    }
  },
  "cells": [
    {
      "cell_type": "markdown",
      "metadata": {
        "id": "view-in-github",
        "colab_type": "text"
      },
      "source": [
        "<a href=\"https://colab.research.google.com/github/sandeepgundeboina/LearningSpark/blob/main/SparkDeltaTable.ipynb\" target=\"_parent\"><img src=\"https://colab.research.google.com/assets/colab-badge.svg\" alt=\"Open In Colab\"/></a>"
      ]
    },
    {
      "cell_type": "markdown",
      "source": [
        "To Run Deltalake tables on colab we need these packages"
      ],
      "metadata": {
        "id": "229g0uHHjP1b"
      }
    },
    {
      "cell_type": "code",
      "execution_count": 1,
      "metadata": {
        "colab": {
          "base_uri": "https://localhost:8080/"
        },
        "id": "xa_IhDY2iu3G",
        "outputId": "195de272-5dca-493d-ebc1-a040d1979df7"
      },
      "outputs": [
        {
          "output_type": "stream",
          "name": "stdout",
          "text": [
            "Requirement already satisfied: delta-spark==2.0.0 in /usr/local/lib/python3.11/dist-packages (2.0.0)\n",
            "Requirement already satisfied: pyspark<3.3.0,>=3.2.0 in /usr/local/lib/python3.11/dist-packages (from delta-spark==2.0.0) (3.2.4)\n",
            "Requirement already satisfied: importlib-metadata>=1.0.0 in /usr/local/lib/python3.11/dist-packages (from delta-spark==2.0.0) (8.7.0)\n",
            "Requirement already satisfied: zipp>=3.20 in /usr/local/lib/python3.11/dist-packages (from importlib-metadata>=1.0.0->delta-spark==2.0.0) (3.22.0)\n",
            "Requirement already satisfied: py4j==0.10.9.5 in /usr/local/lib/python3.11/dist-packages (from pyspark<3.3.0,>=3.2.0->delta-spark==2.0.0) (0.10.9.5)\n"
          ]
        }
      ],
      "source": [
        "!pip install delta-spark==2.0.0\n",
        "\n",
        "import pyspark\n",
        "from pyspark.sql import SparkSession\n",
        "spark = SparkSession.builder \\\n",
        "    .appName(\"DeltaTableExample\") \\\n",
        "    .config(\"spark.jars.packages\", \"io.delta:delta-core_2.12:2.0.0\") \\\n",
        "    .config(\"spark.sql.extensions\", \"io.delta.sql.DeltaSparkSessionExtension\") \\\n",
        "    .config(\"spark.sql.catalog.spark_catalog\", \"org.apache.spark.sql.delta.catalog.DeltaCatalog\") \\\n",
        "    .getOrCreate()"
      ]
    },
    {
      "cell_type": "code",
      "source": [
        "spark"
      ],
      "metadata": {
        "colab": {
          "base_uri": "https://localhost:8080/",
          "height": 222
        },
        "id": "KA8fb_qrmoUg",
        "outputId": "664fbf21-788c-45ba-b451-9258150dcc41"
      },
      "execution_count": 2,
      "outputs": [
        {
          "output_type": "execute_result",
          "data": {
            "text/plain": [
              "<pyspark.sql.session.SparkSession at 0x7d5002772b50>"
            ],
            "text/html": [
              "\n",
              "            <div>\n",
              "                <p><b>SparkSession - in-memory</b></p>\n",
              "                \n",
              "        <div>\n",
              "            <p><b>SparkContext</b></p>\n",
              "\n",
              "            <p><a href=\"http://583de567de98:4040\">Spark UI</a></p>\n",
              "\n",
              "            <dl>\n",
              "              <dt>Version</dt>\n",
              "                <dd><code>v3.2.4</code></dd>\n",
              "              <dt>Master</dt>\n",
              "                <dd><code>local[*]</code></dd>\n",
              "              <dt>AppName</dt>\n",
              "                <dd><code>DeltaTableExample</code></dd>\n",
              "            </dl>\n",
              "        </div>\n",
              "        \n",
              "            </div>\n",
              "        "
            ]
          },
          "metadata": {},
          "execution_count": 2
        }
      ]
    },
    {
      "cell_type": "markdown",
      "source": [
        "##### Creating tables in deltalake"
      ],
      "metadata": {
        "id": "cC3wwB5tnCFU"
      }
    },
    {
      "cell_type": "code",
      "source": [
        "from delta.tables import *\n",
        "from pyspark.sql.functions import *"
      ],
      "metadata": {
        "id": "zn8aJAHFnC44"
      },
      "execution_count": 3,
      "outputs": []
    },
    {
      "cell_type": "code",
      "source": [
        "delta_table=DeltaTable.create(spark).tableName(\"delta_table\")\\\n",
        "            .addColumn(\"id\", \"INT\")\\\n",
        "            .addColumn(\"name\", \"STRING\")\\\n",
        "            .addColumn(\"age\", \"INT\")\\\n",
        "            .property(\"description\", \"sample table\")\\\n",
        "            .location(\"/content/spark-warehouse\")\\\n",
        "            .execute()"
      ],
      "metadata": {
        "id": "r4DJ83SyjmeK"
      },
      "execution_count": 4,
      "outputs": []
    },
    {
      "cell_type": "markdown",
      "source": [
        "Logs are created as .json files"
      ],
      "metadata": {
        "id": "zGUf7Ln9p2mA"
      }
    },
    {
      "cell_type": "code",
      "source": [
        "!cat /content/spark-warehouse/_delta_log/00000000000000000001.json"
      ],
      "metadata": {
        "colab": {
          "base_uri": "https://localhost:8080/"
        },
        "id": "i9I5BW-Pkmr_",
        "outputId": "b88e53b2-dd4a-4413-8e17-93fcf06a8555"
      },
      "execution_count": 5,
      "outputs": [
        {
          "output_type": "stream",
          "name": "stdout",
          "text": [
            "{\"add\":{\"path\":\"part-00000-db1e1212-3009-4f97-97e2-662b0f18dcfe-c000.snappy.parquet\",\"partitionValues\":{},\"size\":908,\"modificationTime\":1749990905909,\"dataChange\":true,\"stats\":\"{\\\"numRecords\\\":1,\\\"minValues\\\":{\\\"id\\\":100,\\\"name\\\":\\\"Raju\\\",\\\"age\\\":20},\\\"maxValues\\\":{\\\"id\\\":100,\\\"name\\\":\\\"Raju\\\",\\\"age\\\":20},\\\"nullCount\\\":{\\\"id\\\":0,\\\"name\\\":0,\\\"age\\\":0}}\"}}\n",
            "{\"commitInfo\":{\"timestamp\":1749990906052,\"operation\":\"WRITE\",\"operationParameters\":{\"mode\":\"Append\",\"partitionBy\":\"[]\"},\"readVersion\":0,\"isolationLevel\":\"Serializable\",\"isBlindAppend\":true,\"operationMetrics\":{\"numFiles\":\"1\",\"numOutputRows\":\"1\",\"numOutputBytes\":\"908\"},\"engineInfo\":\"Apache-Spark/3.2.4 Delta-Lake/2.0.0\",\"txnId\":\"85f2b42a-2157-4388-b5c0-0172463332fa\"}}\n"
          ]
        }
      ]
    },
    {
      "cell_type": "markdown",
      "source": [
        "after every operation json logs files are created and crc files are created, and after every 10 logs files created a check point parquet file is created."
      ],
      "metadata": {
        "id": "tnKx5WHdp7eK"
      }
    },
    {
      "cell_type": "code",
      "source": [
        "spark.sql('insert into delta_table values(100,\"Raju\",20);')"
      ],
      "metadata": {
        "colab": {
          "base_uri": "https://localhost:8080/"
        },
        "id": "Itd3ccrElLTd",
        "outputId": "92e4bc6b-24fe-4d29-b6c6-86aee6aaef64"
      },
      "execution_count": 6,
      "outputs": [
        {
          "output_type": "execute_result",
          "data": {
            "text/plain": [
              "DataFrame[]"
            ]
          },
          "metadata": {},
          "execution_count": 6
        }
      ]
    },
    {
      "cell_type": "code",
      "source": [
        "spark.sql(\"select * from delta_table\").show()"
      ],
      "metadata": {
        "colab": {
          "base_uri": "https://localhost:8080/"
        },
        "id": "IIjbu743lLZk",
        "outputId": "28721db9-8ae5-41ee-b33d-35945ba48c4a"
      },
      "execution_count": 7,
      "outputs": [
        {
          "output_type": "stream",
          "name": "stdout",
          "text": [
            "+---+--------+---+\n",
            "| id|    name|age|\n",
            "+---+--------+---+\n",
            "| 35|SandeepM| 24|\n",
            "| 12|SandeepG| 24|\n",
            "| 37| Deepdas| 23|\n",
            "| 33| Sandeep| 24|\n",
            "| 34|   Seenu| 34|\n",
            "| 23|   sampu| 23|\n",
            "| 15|   Ramuy| 22|\n",
            "|244|   Reema| 45|\n",
            "| 26|    Remo| 32|\n",
            "|100|    Raju| 20|\n",
            "|100|    Raju| 20|\n",
            "|100|    Raju| 20|\n",
            "| 14|     Ram| 23|\n",
            "+---+--------+---+\n",
            "\n"
          ]
        }
      ]
    },
    {
      "cell_type": "code",
      "source": [
        "spark.sql('Insert into delta_table values(12,\"Sandeep\",24),(14,\"Ram\",23);')"
      ],
      "metadata": {
        "colab": {
          "base_uri": "https://localhost:8080/"
        },
        "id": "WbE_YCrnnO-S",
        "outputId": "bd850765-dba3-4318-beae-5b66f372a0fc"
      },
      "execution_count": 8,
      "outputs": [
        {
          "output_type": "execute_result",
          "data": {
            "text/plain": [
              "DataFrame[]"
            ]
          },
          "metadata": {},
          "execution_count": 8
        }
      ]
    },
    {
      "cell_type": "code",
      "source": [
        "!cat /content/spark-warehouse/_delta_log/00000000000000000002.json"
      ],
      "metadata": {
        "id": "JRTQR0IkkmPd",
        "colab": {
          "base_uri": "https://localhost:8080/"
        },
        "outputId": "3cb2781b-be23-4281-838d-5f275196618a"
      },
      "execution_count": 9,
      "outputs": [
        {
          "output_type": "stream",
          "name": "stdout",
          "text": [
            "{\"add\":{\"path\":\"part-00000-cf336223-1b19-4153-a1d7-a6346fc992ef-c000.snappy.parquet\",\"partitionValues\":{},\"size\":929,\"modificationTime\":1749991431015,\"dataChange\":true,\"stats\":\"{\\\"numRecords\\\":1,\\\"minValues\\\":{\\\"id\\\":12,\\\"name\\\":\\\"Sandeep\\\",\\\"age\\\":24},\\\"maxValues\\\":{\\\"id\\\":12,\\\"name\\\":\\\"Sandeep\\\",\\\"age\\\":24},\\\"nullCount\\\":{\\\"id\\\":0,\\\"name\\\":0,\\\"age\\\":0}}\"}}\n",
            "{\"add\":{\"path\":\"part-00001-25140bf0-d016-43a3-a1ff-b70e924793e7-c000.snappy.parquet\",\"partitionValues\":{},\"size\":899,\"modificationTime\":1749991430999,\"dataChange\":true,\"stats\":\"{\\\"numRecords\\\":1,\\\"minValues\\\":{\\\"id\\\":14,\\\"name\\\":\\\"Ram\\\",\\\"age\\\":23},\\\"maxValues\\\":{\\\"id\\\":14,\\\"name\\\":\\\"Ram\\\",\\\"age\\\":23},\\\"nullCount\\\":{\\\"id\\\":0,\\\"name\\\":0,\\\"age\\\":0}}\"}}\n",
            "{\"commitInfo\":{\"timestamp\":1749991431028,\"operation\":\"WRITE\",\"operationParameters\":{\"mode\":\"Append\",\"partitionBy\":\"[]\"},\"readVersion\":1,\"isolationLevel\":\"Serializable\",\"isBlindAppend\":true,\"operationMetrics\":{\"numFiles\":\"2\",\"numOutputRows\":\"2\",\"numOutputBytes\":\"1828\"},\"engineInfo\":\"Apache-Spark/3.2.4 Delta-Lake/2.0.0\",\"txnId\":\"be34a819-0e08-441a-821d-237ff83ada94\"}}\n"
          ]
        }
      ]
    },
    {
      "cell_type": "code",
      "source": [
        "spark.sql('select * from delta_table').show()"
      ],
      "metadata": {
        "colab": {
          "base_uri": "https://localhost:8080/"
        },
        "id": "_3n_gOoEnmpG",
        "outputId": "5a18ccf4-c37f-4b08-8a57-033d60ab8740"
      },
      "execution_count": 10,
      "outputs": [
        {
          "output_type": "stream",
          "name": "stdout",
          "text": [
            "+---+--------+---+\n",
            "| id|    name|age|\n",
            "+---+--------+---+\n",
            "| 35|SandeepM| 24|\n",
            "| 12|SandeepG| 24|\n",
            "| 12| Sandeep| 24|\n",
            "| 37| Deepdas| 23|\n",
            "| 33| Sandeep| 24|\n",
            "| 34|   Seenu| 34|\n",
            "| 23|   sampu| 23|\n",
            "| 15|   Ramuy| 22|\n",
            "|244|   Reema| 45|\n",
            "| 26|    Remo| 32|\n",
            "|100|    Raju| 20|\n",
            "|100|    Raju| 20|\n",
            "|100|    Raju| 20|\n",
            "| 14|     Ram| 23|\n",
            "| 14|     Ram| 23|\n",
            "+---+--------+---+\n",
            "\n"
          ]
        }
      ]
    },
    {
      "cell_type": "code",
      "source": [
        "spark.sql('Insert into delta_table values(10,\"Sagar\",24),(15,\"Ramuy\",22),(34,\"Seenu\",34),(23,\"sampu\",23);')\n",
        "spark.sql('Insert into delta_table values(35,\"SandeepM\",24),(244,\"Reema\",45),(26,\"Remo\",32);')"
      ],
      "metadata": {
        "colab": {
          "base_uri": "https://localhost:8080/"
        },
        "id": "_v-MRg_cnsIg",
        "outputId": "42866628-b58f-4d92-bda7-4802a5856d1b"
      },
      "execution_count": 11,
      "outputs": [
        {
          "output_type": "execute_result",
          "data": {
            "text/plain": [
              "DataFrame[]"
            ]
          },
          "metadata": {},
          "execution_count": 11
        }
      ]
    },
    {
      "cell_type": "code",
      "source": [
        "spark.sql('delete from delta_table where id=10;')\n",
        "spark.sql('update delta_table set name=\"Rajesh\" where id=12;')\n",
        "spark.sql('insert into delta_table values(33,\"Sandeep\",24);')\n",
        "spark.sql('insert into delta_table values(37,\"Deepdas\",23);')\n",
        "spark.sql('update delta_table set name=\"Rajesh\" where id=12;')"
      ],
      "metadata": {
        "colab": {
          "base_uri": "https://localhost:8080/"
        },
        "id": "GDT5ur_8oaoI",
        "outputId": "cd6e9da4-f8c3-4c86-dd5e-25f884a0d3af"
      },
      "execution_count": 12,
      "outputs": [
        {
          "output_type": "execute_result",
          "data": {
            "text/plain": [
              "DataFrame[]"
            ]
          },
          "metadata": {},
          "execution_count": 12
        }
      ]
    },
    {
      "cell_type": "code",
      "source": [
        "spark.sql('select * from delta_table').show()"
      ],
      "metadata": {
        "colab": {
          "base_uri": "https://localhost:8080/"
        },
        "id": "bHlHGruApHW9",
        "outputId": "4c7faec6-9afa-4fa2-b781-cad7de85a92a"
      },
      "execution_count": 13,
      "outputs": [
        {
          "output_type": "stream",
          "name": "stdout",
          "text": [
            "+---+--------+---+\n",
            "| id|    name|age|\n",
            "+---+--------+---+\n",
            "| 35|SandeepM| 24|\n",
            "| 35|SandeepM| 24|\n",
            "| 37| Deepdas| 23|\n",
            "| 37| Deepdas| 23|\n",
            "| 33| Sandeep| 24|\n",
            "| 33| Sandeep| 24|\n",
            "| 12|  Rajesh| 24|\n",
            "| 12|  Rajesh| 24|\n",
            "| 34|   Seenu| 34|\n",
            "| 23|   sampu| 23|\n",
            "| 34|   Seenu| 34|\n",
            "| 23|   sampu| 23|\n",
            "| 15|   Ramuy| 22|\n",
            "| 15|   Ramuy| 22|\n",
            "|244|   Reema| 45|\n",
            "| 26|    Remo| 32|\n",
            "|244|   Reema| 45|\n",
            "| 26|    Remo| 32|\n",
            "|100|    Raju| 20|\n",
            "|100|    Raju| 20|\n",
            "+---+--------+---+\n",
            "only showing top 20 rows\n",
            "\n"
          ]
        }
      ]
    },
    {
      "cell_type": "code",
      "source": [
        "spark.sql('update delta_table set name=\"SandeepG\" where id=12;')"
      ],
      "metadata": {
        "colab": {
          "base_uri": "https://localhost:8080/"
        },
        "id": "r5GVRj39pSJL",
        "outputId": "f995877a-2964-4e6d-c4dc-24cc28e6d178"
      },
      "execution_count": 14,
      "outputs": [
        {
          "output_type": "execute_result",
          "data": {
            "text/plain": [
              "DataFrame[]"
            ]
          },
          "metadata": {},
          "execution_count": 14
        }
      ]
    },
    {
      "cell_type": "code",
      "source": [
        "!ls -lrt /content/spark-warehouse/_delta_log/"
      ],
      "metadata": {
        "colab": {
          "base_uri": "https://localhost:8080/"
        },
        "id": "AhboYWq6paAW",
        "outputId": "a1235a6e-aa43-4714-90e1-dbd9f36a73ba"
      },
      "execution_count": 15,
      "outputs": [
        {
          "output_type": "stream",
          "name": "stdout",
          "text": [
            "total 124\n",
            "-rw-r--r-- 1 root root   906 Jun 15 12:28 00000000000000000000.json\n",
            "-rw-r--r-- 1 root root   725 Jun 15 12:35 00000000000000000001.json\n",
            "-rw-r--r-- 1 root root  1083 Jun 15 12:43 00000000000000000002.json\n",
            "-rw-r--r-- 1 root root  1083 Jun 15 12:47 00000000000000000003.json\n",
            "-rw-r--r-- 1 root root  1089 Jun 15 12:47 00000000000000000004.json\n",
            "-rw-r--r-- 1 root root  1076 Jun 15 12:50 00000000000000000005.json\n",
            "-rw-r--r-- 1 root root  1043 Jun 15 12:50 00000000000000000006.json\n",
            "-rw-r--r-- 1 root root   729 Jun 15 12:51 00000000000000000007.json\n",
            "-rw-r--r-- 1 root root   729 Jun 15 12:51 00000000000000000008.json\n",
            "-rw-r--r-- 1 root root  1043 Jun 15 12:51 00000000000000000009.json\n",
            "-rw-r--r-- 1 root root  1047 Jun 15 12:52 00000000000000000010.json\n",
            "-rw-r--r-- 1 root root 12948 Jun 15 12:52 00000000000000000010.checkpoint.parquet\n",
            "-rw-r--r-- 1 root root   726 Jun 15 12:55 00000000000000000011.json\n",
            "-rw-r--r-- 1 root root   726 Jun 15 12:56 00000000000000000012.json\n",
            "-rw-r--r-- 1 root root  1084 Jun 15 12:56 00000000000000000013.json\n",
            "-rw-r--r-- 1 root root  1084 Jun 15 12:56 00000000000000000014.json\n",
            "-rw-r--r-- 1 root root  1090 Jun 15 12:56 00000000000000000015.json\n",
            "-rw-r--r-- 1 root root  1077 Jun 15 12:57 00000000000000000016.json\n",
            "-rw-r--r-- 1 root root  1605 Jun 15 12:57 00000000000000000017.json\n",
            "-rw-r--r-- 1 root root   730 Jun 15 12:57 00000000000000000018.json\n",
            "-rw-r--r-- 1 root root   730 Jun 15 12:57 00000000000000000019.json\n",
            "-rw-r--r-- 1 root root  1605 Jun 15 12:57 00000000000000000020.json\n",
            "-rw-r--r-- 1 root root 13834 Jun 15 12:57 00000000000000000020.checkpoint.parquet\n",
            "-rw-r--r-- 1 root root  3023 Jun 15 12:57 _last_checkpoint\n",
            "-rw-r--r-- 1 root root  1613 Jun 15 12:57 00000000000000000021.json\n"
          ]
        }
      ]
    },
    {
      "cell_type": "markdown",
      "source": [
        "**END OF CODE**"
      ],
      "metadata": {
        "id": "dJcyYQz7skT2"
      }
    }
  ]
}