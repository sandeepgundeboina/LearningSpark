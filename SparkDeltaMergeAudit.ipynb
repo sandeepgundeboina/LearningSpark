{
  "nbformat": 4,
  "nbformat_minor": 0,
  "metadata": {
    "colab": {
      "provenance": [],
      "mount_file_id": "1jSMmB5jF46Oja7KuFtnudA_IVJfJ6Bhc",
      "authorship_tag": "ABX9TyPGgiC/xIoi/xHLsule8fhl",
      "include_colab_link": true
    },
    "kernelspec": {
      "name": "python3",
      "display_name": "Python 3"
    },
    "language_info": {
      "name": "python"
    }
  },
  "cells": [
    {
      "cell_type": "markdown",
      "metadata": {
        "id": "view-in-github",
        "colab_type": "text"
      },
      "source": [
        "<a href=\"https://colab.research.google.com/github/sandeepgundeboina/LearningSpark/blob/main/SparkDeltaMergeAudit.ipynb\" target=\"_parent\"><img src=\"https://colab.research.google.com/assets/colab-badge.svg\" alt=\"Open In Colab\"/></a>"
      ]
    },
    {
      "cell_type": "code",
      "execution_count": 1,
      "metadata": {
        "colab": {
          "base_uri": "https://localhost:8080/"
        },
        "id": "Mk-gOH1m5aUA",
        "outputId": "b0806207-d85f-4778-98fa-d909b532d26f"
      },
      "outputs": [
        {
          "output_type": "stream",
          "name": "stdout",
          "text": [
            "Requirement already satisfied: delta-spark==2.0.0 in /usr/local/lib/python3.11/dist-packages (2.0.0)\n",
            "Requirement already satisfied: pyspark<3.3.0,>=3.2.0 in /usr/local/lib/python3.11/dist-packages (from delta-spark==2.0.0) (3.2.4)\n",
            "Requirement already satisfied: importlib-metadata>=1.0.0 in /usr/local/lib/python3.11/dist-packages (from delta-spark==2.0.0) (8.7.0)\n",
            "Requirement already satisfied: zipp>=3.20 in /usr/local/lib/python3.11/dist-packages (from importlib-metadata>=1.0.0->delta-spark==2.0.0) (3.23.0)\n",
            "Requirement already satisfied: py4j==0.10.9.5 in /usr/local/lib/python3.11/dist-packages (from pyspark<3.3.0,>=3.2.0->delta-spark==2.0.0) (0.10.9.5)\n"
          ]
        }
      ],
      "source": [
        "!pip install delta-spark==2.0.0\n",
        "\n",
        "import pyspark\n",
        "from pyspark.sql import SparkSession\n",
        "spark = SparkSession.builder \\\n",
        "    .appName(\"SparkDeltaMerge\") \\\n",
        "    .config(\"spark.jars.packages\", \"io.delta:delta-core_2.12:2.0.0\") \\\n",
        "    .config(\"spark.sql.extensions\", \"io.delta.sql.DeltaSparkSessionExtension\") \\\n",
        "    .config(\"spark.sql.catalog.spark_catalog\", \"org.apache.spark.sql.delta.catalog.DeltaCatalog\") \\\n",
        "    .getOrCreate()"
      ]
    },
    {
      "cell_type": "code",
      "source": [
        "from delta.tables import *\n",
        "from pyspark.sql.functions import *\n",
        "from pyspark.sql.types import *"
      ],
      "metadata": {
        "id": "AUdVx2Gr6HDM"
      },
      "execution_count": 2,
      "outputs": []
    },
    {
      "cell_type": "code",
      "source": [
        "df=spark.read.format('csv').option('header','true').option('inferSchema',True).load('/content/drive/MyDrive/Abc/Ola_data/products.csv')"
      ],
      "metadata": {
        "id": "3dStl_PF6c3T"
      },
      "execution_count": 3,
      "outputs": []
    },
    {
      "cell_type": "code",
      "source": [
        "df.write.format('delta').mode('overwrite').saveAsTable('Products_table')"
      ],
      "metadata": {
        "id": "bb4mvAPT6j1x"
      },
      "execution_count": 4,
      "outputs": []
    },
    {
      "cell_type": "code",
      "source": [
        "df.createOrReplaceTempView('Products_temp')"
      ],
      "metadata": {
        "id": "8Kc2Lglr6q3G"
      },
      "execution_count": 5,
      "outputs": []
    },
    {
      "cell_type": "code",
      "source": [
        "spark.sql('select * from products_temp').show(4)"
      ],
      "metadata": {
        "colab": {
          "base_uri": "https://localhost:8080/"
        },
        "id": "oL2GwCYM7QsJ",
        "outputId": "8973257e-93ba-4419-c776-581fa898ea55"
      },
      "execution_count": 6,
      "outputs": [
        {
          "output_type": "stream",
          "name": "stdout",
          "text": [
            "+-----------------+---------------+----------+--------+-----+----------+-------+\n",
            "|          product|          store|product_id|store_id|  MRP|     state|country|\n",
            "+-----------------+---------------+----------+--------+-----+----------+-------+\n",
            "|    Wired Earbuds|Electronics Hub|   PROD101| STORE01|25.99|California|    USA|\n",
            "| Portable Charger|    Mobile Mart|   PROD102| STORE02| NULL|     Texas|    USA|\n",
            "|Bluetooth Speaker|Electronics Hub|   PROD103| STORE01|79.50|California|    USA|\n",
            "| Smart Light Bulb|   Home Gadgets|   PROD104| STORE03|15.00|   Florida|    USA|\n",
            "+-----------------+---------------+----------+--------+-----+----------+-------+\n",
            "only showing top 4 rows\n",
            "\n"
          ]
        }
      ]
    },
    {
      "cell_type": "code",
      "source": [
        "spark.sql('create or replace table Products (product string,store string,product_id string,MRP int,\\\n",
        "            state string, country string)using delta location \"/content/sample_data/store\"')"
      ],
      "metadata": {
        "colab": {
          "base_uri": "https://localhost:8080/"
        },
        "id": "4btbRZXs7V0N",
        "outputId": "1d9ad990-6798-4644-ff94-867e4baa07cf"
      },
      "execution_count": 7,
      "outputs": [
        {
          "output_type": "execute_result",
          "data": {
            "text/plain": [
              "DataFrame[]"
            ]
          },
          "metadata": {},
          "execution_count": 7
        }
      ]
    },
    {
      "cell_type": "code",
      "source": [
        "spark.sql('select * from Products').show()"
      ],
      "metadata": {
        "colab": {
          "base_uri": "https://localhost:8080/"
        },
        "id": "clgK3Mk08FLy",
        "outputId": "4d94185f-67ff-4c2c-8002-f7aa623299cd"
      },
      "execution_count": 8,
      "outputs": [
        {
          "output_type": "stream",
          "name": "stdout",
          "text": [
            "+-------------------+---------------+----------+----+----------+-------+\n",
            "|            product|          store|product_id| MRP|     state|country|\n",
            "+-------------------+---------------+----------+----+----------+-------+\n",
            "|      Wired Earbuds|Electronics Hub|   PROD101|  25|California|    USA|\n",
            "|   Portable Charger|    Mobile Mart|   PROD102|null|     Texas|    USA|\n",
            "|  Bluetooth Speaker|Electronics Hub|   PROD103|  79|California|    USA|\n",
            "|   Smart Light Bulb|   Home Gadgets|   PROD104|  15|   Florida|    USA|\n",
            "|               NULL|    Mobile Mart|   PROD105|  49|     Texas|    USA|\n",
            "|     Wireless Mouse|Electronics Hub|   PROD106|null|California|    USA|\n",
            "|Mechanical Keyboard|      PC Palace|   PROD107| 120|  New York|    USA|\n",
            "|             Webcam|Electronics Hub|   PROD108|  55|      NULL|    USA|\n",
            "|     Gaming Headset|      PC Palace|   PROD109|  90|  New York|    USA|\n",
            "|      Monitor Stand|   Home Gadgets|   PROD110|  29|   Florida|    USA|\n",
            "|         HDMI Cable|    Mobile Mart|   PROD111|null|     Texas|   NULL|\n",
            "|            USB Hub|Electronics Hub|   PROD112|null|California|    USA|\n",
            "|      Laptop Sleeve|      PC Palace|   PROD113|null|  New York|    USA|\n",
            "|       External SSD|Electronics Hub|   PROD114| 150|California|    USA|\n",
            "|        Power Strip|   Home Gadgets|   PROD115|null|   Florida|    USA|\n",
            "|           Desk Fan|    Mobile Mart|   PROD116|  20|     Texas|    USA|\n",
            "|        Printer Ink|   Office Depot|   PROD117|null|  Illinois|    USA|\n",
            "|            Scanner|Electronics Hub|   PROD118| 180|California|   NULL|\n",
            "|          Projector|      PC Palace|   PROD119| 700|      NULL|    USA|\n",
            "|         Smart Plug|   Home Gadgets|   PROD120|  12|   Florida|    USA|\n",
            "+-------------------+---------------+----------+----+----------+-------+\n",
            "only showing top 20 rows\n",
            "\n"
          ]
        }
      ]
    },
    {
      "cell_type": "code",
      "source": [
        "spark.sql(\n",
        "    \"Merge into Products as target using Products_temp as source on target.product_id = source.product_id\\\n",
        "     when matched then update set target.product=source.product,\\\n",
        "        target.store=source.store,\\\n",
        "        target.product_id=source.product_id,\\\n",
        "        target.MRP=source.MRP,\\\n",
        "        target.state=source.state,\\\n",
        "        target.country=source.country\\\n",
        "     when not matched then insert * \"\n",
        ")"
      ],
      "metadata": {
        "colab": {
          "base_uri": "https://localhost:8080/"
        },
        "id": "cvY5dRpy9iIN",
        "outputId": "f28bfc9b-537f-4610-d705-b0213bdf18cd"
      },
      "execution_count": 9,
      "outputs": [
        {
          "output_type": "execute_result",
          "data": {
            "text/plain": [
              "DataFrame[]"
            ]
          },
          "metadata": {},
          "execution_count": 9
        }
      ]
    },
    {
      "cell_type": "code",
      "source": [
        "spark.sql('select * from Products').show(5)"
      ],
      "metadata": {
        "colab": {
          "base_uri": "https://localhost:8080/"
        },
        "id": "AwErL-Q_9yix",
        "outputId": "490ef81b-9085-44f3-b0db-fccbf5685319"
      },
      "execution_count": 10,
      "outputs": [
        {
          "output_type": "stream",
          "name": "stdout",
          "text": [
            "+-----------------+---------------+----------+----+----------+-------+\n",
            "|          product|          store|product_id| MRP|     state|country|\n",
            "+-----------------+---------------+----------+----+----------+-------+\n",
            "|    Wired Earbuds|Electronics Hub|   PROD101|  25|California|    USA|\n",
            "| Portable Charger|    Mobile Mart|   PROD102|null|     Texas|    USA|\n",
            "|Bluetooth Speaker|Electronics Hub|   PROD103|  79|California|    USA|\n",
            "| Smart Light Bulb|   Home Gadgets|   PROD104|  15|   Florida|    USA|\n",
            "|             NULL|    Mobile Mart|   PROD105|  49|     Texas|    USA|\n",
            "+-----------------+---------------+----------+----+----------+-------+\n",
            "only showing top 5 rows\n",
            "\n"
          ]
        }
      ]
    },
    {
      "cell_type": "markdown",
      "source": [
        "Audit Log"
      ],
      "metadata": {
        "id": "gG69-IOHAWxh"
      }
    },
    {
      "cell_type": "code",
      "source": [
        "spark.sql(\"describe history Products\").show(truncate=False)"
      ],
      "metadata": {
        "colab": {
          "base_uri": "https://localhost:8080/"
        },
        "id": "C36sQW9_AZXg",
        "outputId": "6d124013-01fc-4521-dc5c-74c911c83ee8"
      },
      "execution_count": 11,
      "outputs": [
        {
          "output_type": "stream",
          "name": "stdout",
          "text": [
            "+-------+-----------------------+------+--------+-----------------------+---------------------------------------------------------------------------------------------------------------------------------------------------------+----+--------+---------+-----------+--------------+-------------+--------------------------------------------------------------------------------------------------------------------------------------------------------------------------------------------------------------------------------------------------------------------------------------------------------------------+------------+-----------------------------------+\n",
            "|version|timestamp              |userId|userName|operation              |operationParameters                                                                                                                                      |job |notebook|clusterId|readVersion|isolationLevel|isBlindAppend|operationMetrics                                                                                                                                                                                                                                                                                                    |userMetadata|engineInfo                         |\n",
            "+-------+-----------------------+------+--------+-----------------------+---------------------------------------------------------------------------------------------------------------------------------------------------------+----+--------+---------+-----------+--------------+-------------+--------------------------------------------------------------------------------------------------------------------------------------------------------------------------------------------------------------------------------------------------------------------------------------------------------------------+------------+-----------------------------------+\n",
            "|3      |2025-06-17 08:59:43.99 |null  |null    |MERGE                  |{predicate -> (target.product_id = source.product_id), matchedPredicates -> [{\"actionType\":\"update\"}], notMatchedPredicates -> [{\"actionType\":\"insert\"}]}|null|null    |null     |2          |Serializable  |false        |{numTargetRowsCopied -> 0, numTargetRowsDeleted -> 0, numTargetFilesAdded -> 1, executionTimeMs -> 4225, numTargetRowsInserted -> 0, scanTimeMs -> 2699, numTargetRowsUpdated -> 100, numOutputRows -> 100, numTargetChangeFilesAdded -> 0, numSourceRows -> 100, numTargetFilesRemoved -> 1, rewriteTimeMs -> 1519}|null        |Apache-Spark/3.2.4 Delta-Lake/2.0.0|\n",
            "|2      |2025-06-17 08:25:28.155|null  |null    |MERGE                  |{predicate -> (target.product_id = source.product_id), matchedPredicates -> [{\"actionType\":\"update\"}], notMatchedPredicates -> [{\"actionType\":\"insert\"}]}|null|null    |null     |1          |Serializable  |false        |{numTargetRowsCopied -> 0, numTargetRowsDeleted -> 0, numTargetFilesAdded -> 1, executionTimeMs -> 5186, numTargetRowsInserted -> 0, scanTimeMs -> 2563, numTargetRowsUpdated -> 100, numOutputRows -> 100, numTargetChangeFilesAdded -> 0, numSourceRows -> 100, numTargetFilesRemoved -> 1, rewriteTimeMs -> 2616}|null        |Apache-Spark/3.2.4 Delta-Lake/2.0.0|\n",
            "|1      |2025-06-17 08:17:48.125|null  |null    |MERGE                  |{predicate -> (target.product_id = source.product_id), matchedPredicates -> [{\"actionType\":\"update\"}], notMatchedPredicates -> [{\"actionType\":\"insert\"}]}|null|null    |null     |0          |Serializable  |false        |{numTargetRowsCopied -> 0, numTargetRowsDeleted -> 0, numTargetFilesAdded -> 1, executionTimeMs -> 5610, numTargetRowsInserted -> 100, scanTimeMs -> 3092, numTargetRowsUpdated -> 0, numOutputRows -> 100, numTargetChangeFilesAdded -> 0, numSourceRows -> 100, numTargetFilesRemoved -> 0, rewriteTimeMs -> 2500}|null        |Apache-Spark/3.2.4 Delta-Lake/2.0.0|\n",
            "|0      |2025-06-17 08:11:36.086|null  |null    |CREATE OR REPLACE TABLE|{isManaged -> false, description -> null, partitionBy -> [], properties -> {}}                                                                           |null|null    |null     |null       |Serializable  |true         |{}                                                                                                                                                                                                                                                                                                                  |null        |Apache-Spark/3.2.4 Delta-Lake/2.0.0|\n",
            "+-------+-----------------------+------+--------+-----------------------+---------------------------------------------------------------------------------------------------------------------------------------------------------+----+--------+---------+-----------+--------------+-------------+--------------------------------------------------------------------------------------------------------------------------------------------------------------------------------------------------------------------------------------------------------------------------------------------------------------------+------------+-----------------------------------+\n",
            "\n"
          ]
        }
      ]
    },
    {
      "cell_type": "code",
      "source": [
        "delta_df=DeltaTable.forPath(spark,'/content/sample_data/store')"
      ],
      "metadata": {
        "id": "MhrRyD7VAZMb"
      },
      "execution_count": 12,
      "outputs": []
    },
    {
      "cell_type": "code",
      "source": [
        "audit=delta_df.history()"
      ],
      "metadata": {
        "id": "D-viivm0AZCa"
      },
      "execution_count": 13,
      "outputs": []
    },
    {
      "cell_type": "code",
      "source": [
        "audit.show()"
      ],
      "metadata": {
        "colab": {
          "base_uri": "https://localhost:8080/"
        },
        "id": "UF3KChUYCK3K",
        "outputId": "29228b51-d58b-43ae-8ac0-d9872ad95e4b"
      },
      "execution_count": 14,
      "outputs": [
        {
          "output_type": "stream",
          "name": "stdout",
          "text": [
            "+-------+--------------------+------+--------+--------------------+--------------------+----+--------+---------+-----------+--------------+-------------+--------------------+------------+--------------------+\n",
            "|version|           timestamp|userId|userName|           operation| operationParameters| job|notebook|clusterId|readVersion|isolationLevel|isBlindAppend|    operationMetrics|userMetadata|          engineInfo|\n",
            "+-------+--------------------+------+--------+--------------------+--------------------+----+--------+---------+-----------+--------------+-------------+--------------------+------------+--------------------+\n",
            "|      3|2025-06-17 08:59:...|  null|    null|               MERGE|{predicate -> (ta...|null|    null|     null|          2|  Serializable|        false|{numTargetRowsCop...|        null|Apache-Spark/3.2....|\n",
            "|      2|2025-06-17 08:25:...|  null|    null|               MERGE|{predicate -> (ta...|null|    null|     null|          1|  Serializable|        false|{numTargetRowsCop...|        null|Apache-Spark/3.2....|\n",
            "|      1|2025-06-17 08:17:...|  null|    null|               MERGE|{predicate -> (ta...|null|    null|     null|          0|  Serializable|        false|{numTargetRowsCop...|        null|Apache-Spark/3.2....|\n",
            "|      0|2025-06-17 08:11:...|  null|    null|CREATE OR REPLACE...|{isManaged -> fal...|null|    null|     null|       null|  Serializable|         true|                  {}|        null|Apache-Spark/3.2....|\n",
            "+-------+--------------------+------+--------+--------------------+--------------------+----+--------+---------+-----------+--------------+-------------+--------------------+------------+--------------------+\n",
            "\n"
          ]
        }
      ]
    },
    {
      "cell_type": "code",
      "source": [
        "audit.show()"
      ],
      "metadata": {
        "colab": {
          "base_uri": "https://localhost:8080/"
        },
        "id": "qQ0R7cy_Fq2w",
        "outputId": "7015f8db-90ba-4585-d334-55d61a3b38d8"
      },
      "execution_count": 15,
      "outputs": [
        {
          "output_type": "stream",
          "name": "stdout",
          "text": [
            "+-------+--------------------+------+--------+--------------------+--------------------+----+--------+---------+-----------+--------------+-------------+--------------------+------------+--------------------+\n",
            "|version|           timestamp|userId|userName|           operation| operationParameters| job|notebook|clusterId|readVersion|isolationLevel|isBlindAppend|    operationMetrics|userMetadata|          engineInfo|\n",
            "+-------+--------------------+------+--------+--------------------+--------------------+----+--------+---------+-----------+--------------+-------------+--------------------+------------+--------------------+\n",
            "|      3|2025-06-17 08:59:...|  null|    null|               MERGE|{predicate -> (ta...|null|    null|     null|          2|  Serializable|        false|{numTargetRowsCop...|        null|Apache-Spark/3.2....|\n",
            "|      2|2025-06-17 08:25:...|  null|    null|               MERGE|{predicate -> (ta...|null|    null|     null|          1|  Serializable|        false|{numTargetRowsCop...|        null|Apache-Spark/3.2....|\n",
            "|      1|2025-06-17 08:17:...|  null|    null|               MERGE|{predicate -> (ta...|null|    null|     null|          0|  Serializable|        false|{numTargetRowsCop...|        null|Apache-Spark/3.2....|\n",
            "|      0|2025-06-17 08:11:...|  null|    null|CREATE OR REPLACE...|{isManaged -> fal...|null|    null|     null|       null|  Serializable|         true|                  {}|        null|Apache-Spark/3.2....|\n",
            "+-------+--------------------+------+--------+--------------------+--------------------+----+--------+---------+-----------+--------------+-------------+--------------------+------------+--------------------+\n",
            "\n"
          ]
        }
      ]
    },
    {
      "cell_type": "code",
      "source": [
        "audit_log=audit.select(audit.operation,audit.version,explode(audit.operationMetrics).alias('key','value'))\n",
        "audit_log.show(5)"
      ],
      "metadata": {
        "colab": {
          "base_uri": "https://localhost:8080/"
        },
        "id": "Ss0jlCNkCUYC",
        "outputId": "d9cef051-d1a7-4a8c-ec79-bd966d42878d"
      },
      "execution_count": 18,
      "outputs": [
        {
          "output_type": "stream",
          "name": "stdout",
          "text": [
            "+---------+-------+--------------------+-----+\n",
            "|operation|version|                 key|value|\n",
            "+---------+-------+--------------------+-----+\n",
            "|    MERGE|      3| numTargetRowsCopied|    0|\n",
            "|    MERGE|      3|numTargetRowsDeleted|    0|\n",
            "|    MERGE|      3| numTargetFilesAdded|    1|\n",
            "|    MERGE|      3|     executionTimeMs| 4225|\n",
            "|    MERGE|      3|numTargetRowsInse...|    0|\n",
            "+---------+-------+--------------------+-----+\n",
            "only showing top 5 rows\n",
            "\n"
          ]
        }
      ]
    },
    {
      "cell_type": "code",
      "source": [
        "audit_log_table=audit_log.groupBy('operation','version').pivot('key').agg(first(\"value\"))\n",
        "audit_log_table.show()"
      ],
      "metadata": {
        "colab": {
          "base_uri": "https://localhost:8080/"
        },
        "id": "bk6rV7EiCUUe",
        "outputId": "7d445f4f-5803-4974-84c6-b4bab5387eab"
      },
      "execution_count": 17,
      "outputs": [
        {
          "output_type": "stream",
          "name": "stdout",
          "text": [
            "+---------+-------+---------------+-------------+-------------+-------------------------+-------------------+---------------------+-------------------+--------------------+---------------------+--------------------+-------------+----------+\n",
            "|operation|version|executionTimeMs|numOutputRows|numSourceRows|numTargetChangeFilesAdded|numTargetFilesAdded|numTargetFilesRemoved|numTargetRowsCopied|numTargetRowsDeleted|numTargetRowsInserted|numTargetRowsUpdated|rewriteTimeMs|scanTimeMs|\n",
            "+---------+-------+---------------+-------------+-------------+-------------------------+-------------------+---------------------+-------------------+--------------------+---------------------+--------------------+-------------+----------+\n",
            "|    MERGE|      1|           5610|          100|          100|                        0|                  1|                    0|                  0|                   0|                  100|                   0|         2500|      3092|\n",
            "|    MERGE|      2|           5186|          100|          100|                        0|                  1|                    1|                  0|                   0|                    0|                 100|         2616|      2563|\n",
            "|    MERGE|      3|           4225|          100|          100|                        0|                  1|                    1|                  0|                   0|                    0|                 100|         1519|      2699|\n",
            "+---------+-------+---------------+-------------+-------------+-------------------------+-------------------+---------------------+-------------------+--------------------+---------------------+--------------------+-------------+----------+\n",
            "\n"
          ]
        }
      ]
    },
    {
      "cell_type": "markdown",
      "source": [
        "**END OF CODE**"
      ],
      "metadata": {
        "id": "uCLIkHH5_Ini"
      }
    }
  ]
}