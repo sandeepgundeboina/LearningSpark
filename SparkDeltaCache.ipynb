{
  "nbformat": 4,
  "nbformat_minor": 0,
  "metadata": {
    "colab": {
      "provenance": [],
      "mount_file_id": "1xrZrUpUmcBfJ1OQvHGKD0njeIiKAM2vL",
      "authorship_tag": "ABX9TyNHtzWcGlIDkWhFRl1hBWkE",
      "include_colab_link": true
    },
    "kernelspec": {
      "name": "python3",
      "display_name": "Python 3"
    },
    "language_info": {
      "name": "python"
    }
  },
  "cells": [
    {
      "cell_type": "markdown",
      "metadata": {
        "id": "view-in-github",
        "colab_type": "text"
      },
      "source": [
        "<a href=\"https://colab.research.google.com/github/sandeepgundeboina/LearningSpark/blob/main/SparkDeltaCache.ipynb\" target=\"_parent\"><img src=\"https://colab.research.google.com/assets/colab-badge.svg\" alt=\"Open In Colab\"/></a>"
      ]
    },
    {
      "cell_type": "code",
      "execution_count": null,
      "metadata": {
        "id": "FD2R9OYOMhbF"
      },
      "outputs": [],
      "source": [
        "!pip install delta-spark==2.0.0\n",
        "import pyspark\n",
        "from pyspark.sql import SparkSession\n",
        "spark = SparkSession.builder \\\n",
        "    .appName(\"SparkDeltaCache\") \\\n",
        "    .config(\"spark.jars.packages\", \"io.delta:delta-core_2.12:2.0.0\") \\\n",
        "    .config(\"spark.sql.extensions\", \"io.delta.sql.DeltaSparkSessionExtension\") \\\n",
        "    .config(\"spark.sql.catalog.spark_catalog\", \"org.apache.spark.sql.delta.catalog.DeltaCatalog\") \\\n",
        "    .getOrCreate()"
      ]
    },
    {
      "cell_type": "code",
      "source": [
        "spark"
      ],
      "metadata": {
        "colab": {
          "base_uri": "https://localhost:8080/",
          "height": 219
        },
        "id": "t8x8hcj3M79e",
        "outputId": "24d609e0-1656-4779-a99c-1f8b0723ff70"
      },
      "execution_count": null,
      "outputs": [
        {
          "output_type": "execute_result",
          "data": {
            "text/plain": [
              "<pyspark.sql.session.SparkSession at 0x79c46b763ed0>"
            ],
            "text/html": [
              "\n",
              "            <div>\n",
              "                <p><b>SparkSession - in-memory</b></p>\n",
              "                \n",
              "        <div>\n",
              "            <p><b>SparkContext</b></p>\n",
              "\n",
              "            <p><a href=\"http://13a1cd2f4491:4040\">Spark UI</a></p>\n",
              "\n",
              "            <dl>\n",
              "              <dt>Version</dt>\n",
              "                <dd><code>v3.2.4</code></dd>\n",
              "              <dt>Master</dt>\n",
              "                <dd><code>local[*]</code></dd>\n",
              "              <dt>AppName</dt>\n",
              "                <dd><code>SparkDeltaCache</code></dd>\n",
              "            </dl>\n",
              "        </div>\n",
              "        \n",
              "            </div>\n",
              "        "
            ]
          },
          "metadata": {},
          "execution_count": 2
        }
      ]
    },
    {
      "cell_type": "code",
      "source": [
        "from delta.tables import *\n",
        "from pyspark.sql.functions import *\n",
        "from pyspark.sql.types import *\n",
        "df=spark.read.format('csv').option('header','true').option('inferSchema',True).load('/content/drive/MyDrive/Abc/Ola_data/products.csv')"
      ],
      "metadata": {
        "id": "LmXXOjliMmW5"
      },
      "execution_count": null,
      "outputs": []
    },
    {
      "cell_type": "code",
      "source": [
        "df.write.format('delta').saveAsTable('products')"
      ],
      "metadata": {
        "id": "WJPDwQ1zM_Xw"
      },
      "execution_count": null,
      "outputs": []
    },
    {
      "cell_type": "code",
      "source": [
        "spark.conf.set('spark.databricks.io.cache.enabled',True)\n",
        "spark.conf.get('spark.databricks.io.cache.enabled')"
      ],
      "metadata": {
        "colab": {
          "base_uri": "https://localhost:8080/",
          "height": 35
        },
        "id": "LRPbwjMSNQla",
        "outputId": "c94157ee-eed3-42b1-fd1c-e6f45b7ea47b"
      },
      "execution_count": null,
      "outputs": [
        {
          "output_type": "execute_result",
          "data": {
            "text/plain": [
              "'true'"
            ],
            "application/vnd.google.colaboratory.intrinsic+json": {
              "type": "string"
            }
          },
          "metadata": {},
          "execution_count": 6
        }
      ]
    },
    {
      "cell_type": "code",
      "source": [
        "spark.sql('select * from products').show()"
      ],
      "metadata": {
        "colab": {
          "base_uri": "https://localhost:8080/"
        },
        "id": "mvcCiEtPNc0d",
        "outputId": "12fee62e-de2f-4316-9896-f6d7c30493e8"
      },
      "execution_count": null,
      "outputs": [
        {
          "output_type": "stream",
          "name": "stdout",
          "text": [
            "+-------------------+---------------+----------+--------+------+----------+-------+\n",
            "|            product|          store|product_id|store_id|   MRP|     state|country|\n",
            "+-------------------+---------------+----------+--------+------+----------+-------+\n",
            "|      Wired Earbuds|Electronics Hub|   PROD101| STORE01| 25.99|California|    USA|\n",
            "|   Portable Charger|    Mobile Mart|   PROD102| STORE02|  NULL|     Texas|    USA|\n",
            "|  Bluetooth Speaker|Electronics Hub|   PROD103| STORE01| 79.50|California|    USA|\n",
            "|   Smart Light Bulb|   Home Gadgets|   PROD104| STORE03| 15.00|   Florida|    USA|\n",
            "|               NULL|    Mobile Mart|   PROD105| STORE02| 49.99|     Texas|    USA|\n",
            "|     Wireless Mouse|Electronics Hub|   PROD106| STORE01|  NULL|California|    USA|\n",
            "|Mechanical Keyboard|      PC Palace|   PROD107| STORE04|120.00|  New York|    USA|\n",
            "|             Webcam|Electronics Hub|   PROD108| STORE01| 55.00|      NULL|    USA|\n",
            "|     Gaming Headset|      PC Palace|   PROD109| STORE04| 90.00|  New York|    USA|\n",
            "|      Monitor Stand|   Home Gadgets|   PROD110| STORE03| 29.99|   Florida|    USA|\n",
            "|         HDMI Cable|    Mobile Mart|   PROD111| STORE02|  NULL|     Texas|   NULL|\n",
            "|            USB Hub|Electronics Hub|   PROD112| STORE01|  NULL|California|    USA|\n",
            "|      Laptop Sleeve|      PC Palace|   PROD113| STORE04|  NULL|  New York|    USA|\n",
            "|       External SSD|Electronics Hub|   PROD114| STORE01|150.00|California|    USA|\n",
            "|        Power Strip|   Home Gadgets|   PROD115| STORE03|  NULL|   Florida|    USA|\n",
            "|           Desk Fan|    Mobile Mart|   PROD116| STORE02| 20.00|     Texas|    USA|\n",
            "|        Printer Ink|   Office Depot|   PROD117| STORE05|  NULL|  Illinois|    USA|\n",
            "|            Scanner|Electronics Hub|   PROD118| STORE01|180.00|California|   NULL|\n",
            "|          Projector|      PC Palace|   PROD119| STORE04|700.00|      NULL|    USA|\n",
            "|         Smart Plug|   Home Gadgets|   PROD120| STORE03| 12.00|   Florida|    USA|\n",
            "+-------------------+---------------+----------+--------+------+----------+-------+\n",
            "only showing top 20 rows\n",
            "\n"
          ]
        }
      ]
    },
    {
      "cell_type": "code",
      "source": [
        "spark.sql('cache table products')"
      ],
      "metadata": {
        "colab": {
          "base_uri": "https://localhost:8080/"
        },
        "id": "o44tPZR9Ni2l",
        "outputId": "a4bcf02e-7056-4bc9-bb1b-481c2c0225ff"
      },
      "execution_count": null,
      "outputs": [
        {
          "output_type": "execute_result",
          "data": {
            "text/plain": [
              "DataFrame[]"
            ]
          },
          "metadata": {},
          "execution_count": 9
        }
      ]
    },
    {
      "cell_type": "code",
      "source": [
        "spark.sql('select * from products where state=\"Texas\"').show()"
      ],
      "metadata": {
        "colab": {
          "base_uri": "https://localhost:8080/"
        },
        "id": "V9baT5HbNu1W",
        "outputId": "079ec89d-8e07-4a4f-f516-8263a4115fe9"
      },
      "execution_count": null,
      "outputs": [
        {
          "output_type": "stream",
          "name": "stdout",
          "text": [
            "+--------------------+-----------+----------+--------+------+-----+-------+\n",
            "|             product|      store|product_id|store_id|   MRP|state|country|\n",
            "+--------------------+-----------+----------+--------+------+-----+-------+\n",
            "|    Portable Charger|Mobile Mart|   PROD102| STORE02|  NULL|Texas|    USA|\n",
            "|                NULL|Mobile Mart|   PROD105| STORE02| 49.99|Texas|    USA|\n",
            "|          HDMI Cable|Mobile Mart|   PROD111| STORE02|  NULL|Texas|   NULL|\n",
            "|            Desk Fan|Mobile Mart|   PROD116| STORE02| 20.00|Texas|    USA|\n",
            "|        Fitness Band|Mobile Mart|   PROD121| STORE02| 85.00|Texas|    USA|\n",
            "|                NULL|Mobile Mart|   PROD127| STORE02| 15.00|Texas|    USA|\n",
            "|       SSD Enclosure|Mobile Mart|   PROD134| STORE02| 30.00|Texas|    USA|\n",
            "|    Wireless Charger|Mobile Mart|   PROD139| STORE02| 35.00|Texas|    USA|\n",
            "|      Range Extender|Mobile Mart|   PROD145| STORE02|  NULL|Texas|    USA|\n",
            "|     Security Camera|Mobile Mart|   PROD149| STORE02|  NULL|Texas|    USA|\n",
            "|        Toaster Oven|Mobile Mart|   PROD152| STORE02|  NULL|Texas|    USA|\n",
            "|      Blender Bottle|Mobile Mart|   PROD157| STORE02| 10.00|Texas|    USA|\n",
            "|      Microwave Oven|Mobile Mart|   PROD166| STORE02|100.00|Texas|    USA|\n",
            "|     Handheld Vacuum|Mobile Mart|   PROD169| STORE02| 65.00|Texas|    USA|\n",
            "|   Hair Straightener|Mobile Mart|   PROD173| STORE02| 40.00|Texas|    USA|\n",
            "|Blood Pressure Mo...|Mobile Mart|   PROD176| STORE02|  NULL|Texas|    USA|\n",
            "|         Smart Scale|Mobile Mart|   PROD179| STORE02|  NULL|Texas|    USA|\n",
            "|                NULL|Mobile Mart|   PROD182| STORE02|  NULL|Texas|    USA|\n",
            "|      Measuring Tape|Mobile Mart|   PROD186| STORE02|  8.00|Texas|    USA|\n",
            "|        Pocket Knife|Mobile Mart|   PROD189| STORE02| 18.00|Texas|    USA|\n",
            "+--------------------+-----------+----------+--------+------+-----+-------+\n",
            "only showing top 20 rows\n",
            "\n"
          ]
        }
      ]
    },
    {
      "cell_type": "markdown",
      "source": [
        "##### **END OF CODE**"
      ],
      "metadata": {
        "id": "8fJi6bvb9Bia"
      }
    }
  ]
}