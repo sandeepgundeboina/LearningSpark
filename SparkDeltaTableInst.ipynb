{
  "nbformat": 4,
  "nbformat_minor": 0,
  "metadata": {
    "colab": {
      "provenance": [],
      "mount_file_id": "1Ojju1q3y07TnmVWbwwX5tVs6PIRrfTD1",
      "authorship_tag": "ABX9TyO8sRuhsL49d+UexSJZ292u"
    },
    "kernelspec": {
      "name": "python3",
      "display_name": "Python 3"
    },
    "language_info": {
      "name": "python"
    }
  },
  "cells": [
    {
      "cell_type": "code",
      "execution_count": null,
      "metadata": {
        "colab": {
          "base_uri": "https://localhost:8080/"
        },
        "id": "P_BhAK9rwmgu",
        "outputId": "111b7f1a-cc38-40db-b7d5-6b1f26bf230e"
      },
      "outputs": [
        {
          "output_type": "stream",
          "name": "stdout",
          "text": [
            "Collecting delta-spark==2.0.0\n",
            "  Downloading delta_spark-2.0.0-py3-none-any.whl.metadata (1.9 kB)\n",
            "Collecting pyspark<3.3.0,>=3.2.0 (from delta-spark==2.0.0)\n",
            "  Downloading pyspark-3.2.4.tar.gz (281.5 MB)\n",
            "\u001b[2K     \u001b[90m━━━━━━━━━━━━━━━━━━━━━━━━━━━━━━━━━━━━━━━\u001b[0m \u001b[32m281.5/281.5 MB\u001b[0m \u001b[31m3.9 MB/s\u001b[0m eta \u001b[36m0:00:00\u001b[0m\n",
            "\u001b[?25h  Preparing metadata (setup.py) ... \u001b[?25l\u001b[?25hdone\n",
            "Requirement already satisfied: importlib-metadata>=1.0.0 in /usr/local/lib/python3.11/dist-packages (from delta-spark==2.0.0) (8.7.0)\n",
            "Requirement already satisfied: zipp>=3.20 in /usr/local/lib/python3.11/dist-packages (from importlib-metadata>=1.0.0->delta-spark==2.0.0) (3.23.0)\n",
            "Collecting py4j==0.10.9.5 (from pyspark<3.3.0,>=3.2.0->delta-spark==2.0.0)\n",
            "  Downloading py4j-0.10.9.5-py2.py3-none-any.whl.metadata (1.5 kB)\n",
            "Downloading delta_spark-2.0.0-py3-none-any.whl (20 kB)\n",
            "Downloading py4j-0.10.9.5-py2.py3-none-any.whl (199 kB)\n",
            "\u001b[2K   \u001b[90m━━━━━━━━━━━━━━━━━━━━━━━━━━━━━━━━━━━━━━━━\u001b[0m \u001b[32m199.7/199.7 kB\u001b[0m \u001b[31m13.5 MB/s\u001b[0m eta \u001b[36m0:00:00\u001b[0m\n",
            "\u001b[?25hBuilding wheels for collected packages: pyspark\n",
            "  Building wheel for pyspark (setup.py) ... \u001b[?25l\u001b[?25hdone\n",
            "  Created wheel for pyspark: filename=pyspark-3.2.4-py2.py3-none-any.whl size=282040920 sha256=94985a80dca104b1e0f42644f13e43255f24fd835825d8d4e8f4a2ad084ef62a\n",
            "  Stored in directory: /root/.cache/pip/wheels/81/6c/a6/af459ed3106da8f1171a265c2982425fe390aa418a47d2a8b4\n",
            "Successfully built pyspark\n",
            "Installing collected packages: py4j, pyspark, delta-spark\n",
            "  Attempting uninstall: py4j\n",
            "    Found existing installation: py4j 0.10.9.7\n",
            "    Uninstalling py4j-0.10.9.7:\n",
            "      Successfully uninstalled py4j-0.10.9.7\n",
            "  Attempting uninstall: pyspark\n",
            "    Found existing installation: pyspark 3.5.1\n",
            "    Uninstalling pyspark-3.5.1:\n",
            "      Successfully uninstalled pyspark-3.5.1\n",
            "\u001b[31mERROR: pip's dependency resolver does not currently take into account all the packages that are installed. This behaviour is the source of the following dependency conflicts.\n",
            "dataproc-spark-connect 0.8.2 requires pyspark[connect]~=3.5.1, but you have pyspark 3.2.4 which is incompatible.\u001b[0m\u001b[31m\n",
            "\u001b[0mSuccessfully installed delta-spark-2.0.0 py4j-0.10.9.5 pyspark-3.2.4\n"
          ]
        }
      ],
      "source": [
        "!pip install delta-spark==2.0.0\n",
        "\n",
        "import pyspark\n",
        "from pyspark.sql import SparkSession\n",
        "spark = SparkSession.builder \\\n",
        "    .appName(\"SparkDeltaTableInst\") \\\n",
        "    .config(\"spark.jars.packages\", \"io.delta:delta-core_2.12:2.0.0\") \\\n",
        "    .config(\"spark.sql.extensions\", \"io.delta.sql.DeltaSparkSessionExtension\") \\\n",
        "    .config(\"spark.sql.catalog.spark_catalog\", \"org.apache.spark.sql.delta.catalog.DeltaCatalog\") \\\n",
        "    .getOrCreate()"
      ]
    },
    {
      "cell_type": "code",
      "source": [
        "from delta.tables import *\n",
        "from pyspark.sql.functions import *\n",
        "from pyspark.sql.types import *"
      ],
      "metadata": {
        "id": "wGa8FHyuzqQd"
      },
      "execution_count": null,
      "outputs": []
    },
    {
      "cell_type": "code",
      "source": [
        "df=spark.read.format('csv').option('header','true').option('inferSchema',True).load('/content/drive/MyDrive/Abc/Ola_data/products.csv')"
      ],
      "metadata": {
        "id": "a8mQpM9zxOT6"
      },
      "execution_count": null,
      "outputs": []
    },
    {
      "cell_type": "code",
      "source": [
        "df.write.format('delta').mode('overwrite').saveAsTable('Products_table')"
      ],
      "metadata": {
        "id": "OVYNoRbxzA-l"
      },
      "execution_count": null,
      "outputs": []
    },
    {
      "cell_type": "code",
      "source": [
        "deltaInstance1=DeltaTable.forPath(spark,'/content/spark-warehouse/products_table')"
      ],
      "metadata": {
        "id": "1Np0fhQDzTWT"
      },
      "execution_count": null,
      "outputs": []
    },
    {
      "cell_type": "code",
      "source": [
        "deltaInstance1.toDF().show(5)"
      ],
      "metadata": {
        "colab": {
          "base_uri": "https://localhost:8080/"
        },
        "id": "GoArd16kzr2R",
        "outputId": "211583ce-77bb-4097-b282-030475f360a6"
      },
      "execution_count": null,
      "outputs": [
        {
          "output_type": "stream",
          "name": "stdout",
          "text": [
            "+-----------------+---------------+----------+--------+-----+----------+-------+\n",
            "|          product|          store|product_id|store_id|  MRP|     state|country|\n",
            "+-----------------+---------------+----------+--------+-----+----------+-------+\n",
            "|    Wired Earbuds|Electronics Hub|   PROD101| STORE01|25.99|California|    USA|\n",
            "| Portable Charger|    Mobile Mart|   PROD102| STORE02| NULL|     Texas|    USA|\n",
            "|Bluetooth Speaker|Electronics Hub|   PROD103| STORE01|79.50|California|    USA|\n",
            "| Smart Light Bulb|   Home Gadgets|   PROD104| STORE03|15.00|   Florida|    USA|\n",
            "|             NULL|    Mobile Mart|   PROD105| STORE02|49.99|     Texas|    USA|\n",
            "+-----------------+---------------+----------+--------+-----+----------+-------+\n",
            "only showing top 5 rows\n",
            "\n"
          ]
        }
      ]
    },
    {
      "cell_type": "code",
      "source": [
        "spark.sql(\"delete from Products_table where product_id='PROD101'\")"
      ],
      "metadata": {
        "colab": {
          "base_uri": "https://localhost:8080/"
        },
        "id": "CBmcBkIczxB8",
        "outputId": "34457b27-1dbb-45de-ae74-fb77763f58ac"
      },
      "execution_count": null,
      "outputs": [
        {
          "output_type": "execute_result",
          "data": {
            "text/plain": [
              "DataFrame[]"
            ]
          },
          "metadata": {},
          "execution_count": 7
        }
      ]
    },
    {
      "cell_type": "code",
      "source": [
        "spark.sql('select * from Products_table').show(5)"
      ],
      "metadata": {
        "colab": {
          "base_uri": "https://localhost:8080/"
        },
        "id": "4Tc-Uohf0XVL",
        "outputId": "9c17a9de-36fe-4540-e9a5-4a1435e64d70"
      },
      "execution_count": null,
      "outputs": [
        {
          "output_type": "stream",
          "name": "stdout",
          "text": [
            "+-----------------+---------------+----------+--------+-----+----------+-------+\n",
            "|          product|          store|product_id|store_id|  MRP|     state|country|\n",
            "+-----------------+---------------+----------+--------+-----+----------+-------+\n",
            "| Portable Charger|    Mobile Mart|   PROD102| STORE02| NULL|     Texas|    USA|\n",
            "|Bluetooth Speaker|Electronics Hub|   PROD103| STORE01|79.50|California|    USA|\n",
            "| Smart Light Bulb|   Home Gadgets|   PROD104| STORE03|15.00|   Florida|    USA|\n",
            "|             NULL|    Mobile Mart|   PROD105| STORE02|49.99|     Texas|    USA|\n",
            "|   Wireless Mouse|Electronics Hub|   PROD106| STORE01| NULL|California|    USA|\n",
            "+-----------------+---------------+----------+--------+-----+----------+-------+\n",
            "only showing top 5 rows\n",
            "\n"
          ]
        }
      ]
    },
    {
      "cell_type": "code",
      "source": [
        "deltaInstance1.toDF().show(5)"
      ],
      "metadata": {
        "colab": {
          "base_uri": "https://localhost:8080/"
        },
        "id": "4YihVud-1BMl",
        "outputId": "dff30eaf-d506-4f3b-eadc-b9ff66dc9c92"
      },
      "execution_count": null,
      "outputs": [
        {
          "output_type": "stream",
          "name": "stdout",
          "text": [
            "+-----------------+---------------+----------+--------+-----+----------+-------+\n",
            "|          product|          store|product_id|store_id|  MRP|     state|country|\n",
            "+-----------------+---------------+----------+--------+-----+----------+-------+\n",
            "| Portable Charger|    Mobile Mart|   PROD102| STORE02| NULL|     Texas|    USA|\n",
            "|Bluetooth Speaker|Electronics Hub|   PROD103| STORE01|79.50|California|    USA|\n",
            "| Smart Light Bulb|   Home Gadgets|   PROD104| STORE03|15.00|   Florida|    USA|\n",
            "|             NULL|    Mobile Mart|   PROD105| STORE02|49.99|     Texas|    USA|\n",
            "|   Wireless Mouse|Electronics Hub|   PROD106| STORE01| NULL|California|    USA|\n",
            "+-----------------+---------------+----------+--------+-----+----------+-------+\n",
            "only showing top 5 rows\n",
            "\n"
          ]
        }
      ]
    },
    {
      "cell_type": "markdown",
      "source": [
        "both the deltainstance and table are pointing to same memory instance, hence we could see replica as same when we query using SQL and DeltaInstance"
      ],
      "metadata": {
        "id": "EHpWSNW01Gaf"
      }
    },
    {
      "cell_type": "markdown",
      "source": [
        "Using forName table Name"
      ],
      "metadata": {
        "id": "qxdPSfo11dXV"
      }
    },
    {
      "cell_type": "code",
      "source": [
        "deltaInstance2=DeltaTable.forName(spark,'Products_table')"
      ],
      "metadata": {
        "id": "H_oGIujT1dCw"
      },
      "execution_count": null,
      "outputs": []
    },
    {
      "cell_type": "code",
      "source": [
        "deltaInstance2.toDF().show(5)"
      ],
      "metadata": {
        "colab": {
          "base_uri": "https://localhost:8080/"
        },
        "id": "uKSFmbYn1E4J",
        "outputId": "dd52b276-514e-4a71-800e-cff57d3976cc"
      },
      "execution_count": null,
      "outputs": [
        {
          "output_type": "stream",
          "name": "stdout",
          "text": [
            "+-----------------+---------------+----------+--------+-----+----------+-------+\n",
            "|          product|          store|product_id|store_id|  MRP|     state|country|\n",
            "+-----------------+---------------+----------+--------+-----+----------+-------+\n",
            "| Portable Charger|    Mobile Mart|   PROD102| STORE02| NULL|     Texas|    USA|\n",
            "|Bluetooth Speaker|Electronics Hub|   PROD103| STORE01|79.50|California|    USA|\n",
            "| Smart Light Bulb|   Home Gadgets|   PROD104| STORE03|15.00|   Florida|    USA|\n",
            "|             NULL|    Mobile Mart|   PROD105| STORE02|49.99|     Texas|    USA|\n",
            "|   Wireless Mouse|Electronics Hub|   PROD106| STORE01| NULL|California|    USA|\n",
            "+-----------------+---------------+----------+--------+-----+----------+-------+\n",
            "only showing top 5 rows\n",
            "\n"
          ]
        }
      ]
    },
    {
      "cell_type": "markdown",
      "source": [
        "As can be seen, using forName also pointing to same deltatable that been created above"
      ],
      "metadata": {
        "id": "mymSw_vg1xOP"
      }
    },
    {
      "cell_type": "markdown",
      "source": [
        "#### Describing History"
      ],
      "metadata": {
        "id": "BY0m5FNI2ALH"
      }
    },
    {
      "cell_type": "code",
      "source": [
        "spark.sql('Describe History Products_table').show(truncate=False)"
      ],
      "metadata": {
        "colab": {
          "base_uri": "https://localhost:8080/"
        },
        "id": "zzVrcZeS1vNM",
        "outputId": "04967c82-05ab-4b00-86a6-6c2cca533ba4"
      },
      "execution_count": null,
      "outputs": [
        {
          "output_type": "stream",
          "name": "stdout",
          "text": [
            "+-------+-----------------------+------+--------+---------------------------------+--------------------------------------------------------------------------------+----+--------+---------+-----------+--------------+-------------+----------------------------------------------------------------------------------------------------------------------------------------------------------------------------------+------------+-----------------------------------+\n",
            "|version|timestamp              |userId|userName|operation                        |operationParameters                                                             |job |notebook|clusterId|readVersion|isolationLevel|isBlindAppend|operationMetrics                                                                                                                                                                  |userMetadata|engineInfo                         |\n",
            "+-------+-----------------------+------+--------+---------------------------------+--------------------------------------------------------------------------------+----+--------+---------+-----------+--------------+-------------+----------------------------------------------------------------------------------------------------------------------------------------------------------------------------------+------------+-----------------------------------+\n",
            "|1      |2025-07-21 07:02:19.41 |null  |null    |DELETE                           |{predicate -> [\"(spark_catalog.default.Products_table.product_id = 'PROD101')\"]}|null|null    |null     |0          |Serializable  |false        |{numRemovedFiles -> 1, numCopiedRows -> 99, numAddedChangeFiles -> 0, executionTimeMs -> 5397, numDeletedRows -> 1, scanTimeMs -> 4102, numAddedFiles -> 1, rewriteTimeMs -> 1293}|null        |Apache-Spark/3.2.4 Delta-Lake/2.0.0|\n",
            "|0      |2025-07-21 07:02:00.245|null  |null    |CREATE OR REPLACE TABLE AS SELECT|{isManaged -> true, description -> null, partitionBy -> [], properties -> {}}   |null|null    |null     |null       |Serializable  |false        |{numFiles -> 1, numOutputRows -> 100, numOutputBytes -> 4391}                                                                                                                     |null        |Apache-Spark/3.2.4 Delta-Lake/2.0.0|\n",
            "+-------+-----------------------+------+--------+---------------------------------+--------------------------------------------------------------------------------+----+--------+---------+-----------+--------------+-------------+----------------------------------------------------------------------------------------------------------------------------------------------------------------------------------+------------+-----------------------------------+\n",
            "\n"
          ]
        }
      ]
    },
    {
      "cell_type": "code",
      "source": [
        "deltaInstance1.history().show(truncate=False)"
      ],
      "metadata": {
        "colab": {
          "base_uri": "https://localhost:8080/"
        },
        "id": "GrzxTF7r2HMm",
        "outputId": "44b2dbff-8216-4daf-929a-e42db2cc902a"
      },
      "execution_count": null,
      "outputs": [
        {
          "output_type": "stream",
          "name": "stdout",
          "text": [
            "+-------+-----------------------+------+--------+---------------------------------+--------------------------------------------------------------------------------+----+--------+---------+-----------+--------------+-------------+----------------------------------------------------------------------------------------------------------------------------------------------------------------------------------+------------+-----------------------------------+\n",
            "|version|timestamp              |userId|userName|operation                        |operationParameters                                                             |job |notebook|clusterId|readVersion|isolationLevel|isBlindAppend|operationMetrics                                                                                                                                                                  |userMetadata|engineInfo                         |\n",
            "+-------+-----------------------+------+--------+---------------------------------+--------------------------------------------------------------------------------+----+--------+---------+-----------+--------------+-------------+----------------------------------------------------------------------------------------------------------------------------------------------------------------------------------+------------+-----------------------------------+\n",
            "|1      |2025-07-21 07:02:19.41 |null  |null    |DELETE                           |{predicate -> [\"(spark_catalog.default.Products_table.product_id = 'PROD101')\"]}|null|null    |null     |0          |Serializable  |false        |{numRemovedFiles -> 1, numCopiedRows -> 99, numAddedChangeFiles -> 0, executionTimeMs -> 5397, numDeletedRows -> 1, scanTimeMs -> 4102, numAddedFiles -> 1, rewriteTimeMs -> 1293}|null        |Apache-Spark/3.2.4 Delta-Lake/2.0.0|\n",
            "|0      |2025-07-21 07:02:00.245|null  |null    |CREATE OR REPLACE TABLE AS SELECT|{isManaged -> true, description -> null, partitionBy -> [], properties -> {}}   |null|null    |null     |null       |Serializable  |false        |{numFiles -> 1, numOutputRows -> 100, numOutputBytes -> 4391}                                                                                                                     |null        |Apache-Spark/3.2.4 Delta-Lake/2.0.0|\n",
            "+-------+-----------------------+------+--------+---------------------------------+--------------------------------------------------------------------------------+----+--------+---------+-----------+--------------+-------------+----------------------------------------------------------------------------------------------------------------------------------------------------------------------------------+------------+-----------------------------------+\n",
            "\n"
          ]
        }
      ]
    },
    {
      "cell_type": "code",
      "source": [
        "df.write.format('delta').mode('append').saveAsTable('products_table')"
      ],
      "metadata": {
        "id": "xmSIQsSE3P_h"
      },
      "execution_count": null,
      "outputs": []
    },
    {
      "cell_type": "code",
      "source": [
        "spark.sql('describe History products_table').show()"
      ],
      "metadata": {
        "colab": {
          "base_uri": "https://localhost:8080/"
        },
        "id": "_LWJ4ANr5ts-",
        "outputId": "68860d2a-1b3f-4713-cbea-fdf4a4dfdd4d"
      },
      "execution_count": null,
      "outputs": [
        {
          "output_type": "stream",
          "name": "stdout",
          "text": [
            "+-------+--------------------+------+--------+--------------------+--------------------+----+--------+---------+-----------+--------------+-------------+--------------------+------------+--------------------+\n",
            "|version|           timestamp|userId|userName|           operation| operationParameters| job|notebook|clusterId|readVersion|isolationLevel|isBlindAppend|    operationMetrics|userMetadata|          engineInfo|\n",
            "+-------+--------------------+------+--------+--------------------+--------------------+----+--------+---------+-----------+--------------+-------------+--------------------+------------+--------------------+\n",
            "|      2|2025-07-21 07:02:...|  null|    null|               WRITE|{mode -> Append, ...|null|    null|     null|          1|  Serializable|         true|{numFiles -> 1, n...|        null|Apache-Spark/3.2....|\n",
            "|      1|2025-07-21 07:02:...|  null|    null|              DELETE|{predicate -> [\"(...|null|    null|     null|          0|  Serializable|        false|{numRemovedFiles ...|        null|Apache-Spark/3.2....|\n",
            "|      0|2025-07-21 07:02:...|  null|    null|CREATE OR REPLACE...|{isManaged -> tru...|null|    null|     null|       null|  Serializable|        false|{numFiles -> 1, n...|        null|Apache-Spark/3.2....|\n",
            "+-------+--------------------+------+--------+--------------------+--------------------+----+--------+---------+-----------+--------------+-------------+--------------------+------------+--------------------+\n",
            "\n"
          ]
        }
      ]
    },
    {
      "cell_type": "code",
      "source": [
        "df.createOrReplaceTempView('temp_table')\n"
      ],
      "metadata": {
        "id": "v8-1BWei5_Zt"
      },
      "execution_count": null,
      "outputs": []
    },
    {
      "cell_type": "code",
      "source": [
        "spark.sql('select * from temp_table').show(5)"
      ],
      "metadata": {
        "colab": {
          "base_uri": "https://localhost:8080/"
        },
        "id": "6O4jdJlH6WzI",
        "outputId": "417513c8-8d6f-4fd2-b6cd-0cb26063950f"
      },
      "execution_count": null,
      "outputs": [
        {
          "output_type": "stream",
          "name": "stdout",
          "text": [
            "+-----------------+---------------+----------+--------+-----+----------+-------+\n",
            "|          product|          store|product_id|store_id|  MRP|     state|country|\n",
            "+-----------------+---------------+----------+--------+-----+----------+-------+\n",
            "|    Wired Earbuds|Electronics Hub|   PROD101| STORE01|25.99|California|    USA|\n",
            "| Portable Charger|    Mobile Mart|   PROD102| STORE02| NULL|     Texas|    USA|\n",
            "|Bluetooth Speaker|Electronics Hub|   PROD103| STORE01|79.50|California|    USA|\n",
            "| Smart Light Bulb|   Home Gadgets|   PROD104| STORE03|15.00|   Florida|    USA|\n",
            "|             NULL|    Mobile Mart|   PROD105| STORE02|49.99|     Texas|    USA|\n",
            "+-----------------+---------------+----------+--------+-----+----------+-------+\n",
            "only showing top 5 rows\n",
            "\n"
          ]
        }
      ]
    },
    {
      "cell_type": "markdown",
      "source": [
        "####Delete data from Delta tables"
      ],
      "metadata": {
        "id": "NG5A6cJ264fw"
      }
    },
    {
      "cell_type": "markdown",
      "source": [
        "Using deltatable location"
      ],
      "metadata": {
        "id": "iKUilCTB7EIo"
      }
    },
    {
      "cell_type": "code",
      "source": [
        "spark.sql(\"delete from delta.`/content/spark-warehouse/products_table` where product_id like('PROD101')\")\n",
        "spark.sql('select * from delta.`/content/spark-warehouse/products_table`').show(5)"
      ],
      "metadata": {
        "colab": {
          "base_uri": "https://localhost:8080/"
        },
        "id": "nrsnmNyA7dmK",
        "outputId": "73976086-444d-40e8-9da3-5c5a1c7de138"
      },
      "execution_count": null,
      "outputs": [
        {
          "output_type": "stream",
          "name": "stdout",
          "text": [
            "+-----------------+---------------+----------+--------+-----+----------+-------+\n",
            "|          product|          store|product_id|store_id|  MRP|     state|country|\n",
            "+-----------------+---------------+----------+--------+-----+----------+-------+\n",
            "| Portable Charger|    Mobile Mart|   PROD102| STORE02| NULL|     Texas|    USA|\n",
            "|Bluetooth Speaker|Electronics Hub|   PROD103| STORE01|79.50|California|    USA|\n",
            "| Smart Light Bulb|   Home Gadgets|   PROD104| STORE03|15.00|   Florida|    USA|\n",
            "|             NULL|    Mobile Mart|   PROD105| STORE02|49.99|     Texas|    USA|\n",
            "|   Wireless Mouse|Electronics Hub|   PROD106| STORE01| NULL|California|    USA|\n",
            "+-----------------+---------------+----------+--------+-----+----------+-------+\n",
            "only showing top 5 rows\n",
            "\n"
          ]
        }
      ]
    },
    {
      "cell_type": "code",
      "source": [
        "spark.sql('describe history delta.`/content/spark-warehouse/products_table`').show(truncate=False)"
      ],
      "metadata": {
        "colab": {
          "base_uri": "https://localhost:8080/"
        },
        "id": "Rr24sY_V7M_U",
        "outputId": "991021d0-67ed-46c7-9aa7-3c40e7e4021e"
      },
      "execution_count": null,
      "outputs": [
        {
          "output_type": "stream",
          "name": "stdout",
          "text": [
            "+-------+-----------------------+------+--------+---------------------------------+---------------------------------------------------------------------------------------------------------+----+--------+---------+-----------+--------------+-------------+----------------------------------------------------------------------------------------------------------------------------------------------------------------------------------+------------+-----------------------------------+\n",
            "|version|timestamp              |userId|userName|operation                        |operationParameters                                                                                      |job |notebook|clusterId|readVersion|isolationLevel|isBlindAppend|operationMetrics                                                                                                                                                                  |userMetadata|engineInfo                         |\n",
            "+-------+-----------------------+------+--------+---------------------------------+---------------------------------------------------------------------------------------------------------+----+--------+---------+-----------+--------------+-------------+----------------------------------------------------------------------------------------------------------------------------------------------------------------------------------+------------+-----------------------------------+\n",
            "|3      |2025-07-21 07:19:56.058|null  |null    |DELETE                           |{predicate -> [\"(spark_catalog.delta.`/content/spark-warehouse/products_table`.product_id = 'PROD101')\"]}|null|null    |null     |2          |Serializable  |false        |{numRemovedFiles -> 1, numCopiedRows -> 99, numAddedChangeFiles -> 0, executionTimeMs -> 3985, numDeletedRows -> 1, scanTimeMs -> 3320, numAddedFiles -> 1, rewriteTimeMs -> 665} |null        |Apache-Spark/3.2.4 Delta-Lake/2.0.0|\n",
            "|2      |2025-07-21 07:02:30.282|null  |null    |WRITE                            |{mode -> Append, partitionBy -> []}                                                                      |null|null    |null     |1          |Serializable  |true         |{numFiles -> 1, numOutputRows -> 100, numOutputBytes -> 4391}                                                                                                                     |null        |Apache-Spark/3.2.4 Delta-Lake/2.0.0|\n",
            "|1      |2025-07-21 07:02:19.41 |null  |null    |DELETE                           |{predicate -> [\"(spark_catalog.default.Products_table.product_id = 'PROD101')\"]}                         |null|null    |null     |0          |Serializable  |false        |{numRemovedFiles -> 1, numCopiedRows -> 99, numAddedChangeFiles -> 0, executionTimeMs -> 5397, numDeletedRows -> 1, scanTimeMs -> 4102, numAddedFiles -> 1, rewriteTimeMs -> 1293}|null        |Apache-Spark/3.2.4 Delta-Lake/2.0.0|\n",
            "|0      |2025-07-21 07:02:00.245|null  |null    |CREATE OR REPLACE TABLE AS SELECT|{isManaged -> true, description -> null, partitionBy -> [], properties -> {}}                            |null|null    |null     |null       |Serializable  |false        |{numFiles -> 1, numOutputRows -> 100, numOutputBytes -> 4391}                                                                                                                     |null        |Apache-Spark/3.2.4 Delta-Lake/2.0.0|\n",
            "+-------+-----------------------+------+--------+---------------------------------+---------------------------------------------------------------------------------------------------------+----+--------+---------+-----------+--------------+-------------+----------------------------------------------------------------------------------------------------------------------------------------------------------------------------------+------------+-----------------------------------+\n",
            "\n"
          ]
        }
      ]
    },
    {
      "cell_type": "code",
      "source": [],
      "metadata": {
        "id": "s-SI1jh62urd"
      },
      "execution_count": null,
      "outputs": []
    },
    {
      "cell_type": "code",
      "source": [
        "deltaInstance3=DeltaTable.forPath(spark,'/content/spark-warehouse/products_table')"
      ],
      "metadata": {
        "id": "jZ7uAJM38a2F"
      },
      "execution_count": null,
      "outputs": []
    },
    {
      "cell_type": "code",
      "source": [
        "deltaInstance3.delete('product_id like(\"PROD103\") and country=\"USA\"')"
      ],
      "metadata": {
        "id": "NhEn3gdL8o10"
      },
      "execution_count": null,
      "outputs": []
    },
    {
      "cell_type": "code",
      "source": [
        "deltaInstance3.toDF().show(5)"
      ],
      "metadata": {
        "colab": {
          "base_uri": "https://localhost:8080/"
        },
        "id": "OKw_uaPn9E3k",
        "outputId": "cec11c01-a8a8-471b-807e-45c862960c21"
      },
      "execution_count": null,
      "outputs": [
        {
          "output_type": "stream",
          "name": "stdout",
          "text": [
            "+-------------------+---------------+----------+--------+------+----------+-------+\n",
            "|            product|          store|product_id|store_id|   MRP|     state|country|\n",
            "+-------------------+---------------+----------+--------+------+----------+-------+\n",
            "|   Portable Charger|    Mobile Mart|   PROD102| STORE02|  NULL|     Texas|    USA|\n",
            "|   Smart Light Bulb|   Home Gadgets|   PROD104| STORE03| 15.00|   Florida|    USA|\n",
            "|               NULL|    Mobile Mart|   PROD105| STORE02| 49.99|     Texas|    USA|\n",
            "|     Wireless Mouse|Electronics Hub|   PROD106| STORE01|  NULL|California|    USA|\n",
            "|Mechanical Keyboard|      PC Palace|   PROD107| STORE04|120.00|  New York|    USA|\n",
            "+-------------------+---------------+----------+--------+------+----------+-------+\n",
            "only showing top 5 rows\n",
            "\n"
          ]
        }
      ]
    },
    {
      "cell_type": "code",
      "source": [
        "deltaInstance3.history().show(truncate=False)"
      ],
      "metadata": {
        "colab": {
          "base_uri": "https://localhost:8080/"
        },
        "id": "F9cGkVOW9JSM",
        "outputId": "d8cebdcc-0107-4a49-d74b-8be83c16a54d"
      },
      "execution_count": null,
      "outputs": [
        {
          "output_type": "stream",
          "name": "stdout",
          "text": [
            "+-------+-----------------------+------+--------+---------------------------------+---------------------------------------------------------------------------------------------------------+----+--------+---------+-----------+--------------+-------------+----------------------------------------------------------------------------------------------------------------------------------------------------------------------------------+------------+-----------------------------------+\n",
            "|version|timestamp              |userId|userName|operation                        |operationParameters                                                                                      |job |notebook|clusterId|readVersion|isolationLevel|isBlindAppend|operationMetrics                                                                                                                                                                  |userMetadata|engineInfo                         |\n",
            "+-------+-----------------------+------+--------+---------------------------------+---------------------------------------------------------------------------------------------------------+----+--------+---------+-----------+--------------+-------------+----------------------------------------------------------------------------------------------------------------------------------------------------------------------------------+------------+-----------------------------------+\n",
            "|4      |2025-07-21 07:20:30.024|null  |null    |DELETE                           |{predicate -> [\"((product_id = 'PROD103') AND (country = 'USA'))\"]}                                      |null|null    |null     |3          |Serializable  |false        |{numRemovedFiles -> 2, numCopiedRows -> 196, numAddedChangeFiles -> 0, executionTimeMs -> 1910, numDeletedRows -> 2, scanTimeMs -> 1443, numAddedFiles -> 2, rewriteTimeMs -> 467}|null        |Apache-Spark/3.2.4 Delta-Lake/2.0.0|\n",
            "|3      |2025-07-21 07:19:56.058|null  |null    |DELETE                           |{predicate -> [\"(spark_catalog.delta.`/content/spark-warehouse/products_table`.product_id = 'PROD101')\"]}|null|null    |null     |2          |Serializable  |false        |{numRemovedFiles -> 1, numCopiedRows -> 99, numAddedChangeFiles -> 0, executionTimeMs -> 3985, numDeletedRows -> 1, scanTimeMs -> 3320, numAddedFiles -> 1, rewriteTimeMs -> 665} |null        |Apache-Spark/3.2.4 Delta-Lake/2.0.0|\n",
            "|2      |2025-07-21 07:02:30.282|null  |null    |WRITE                            |{mode -> Append, partitionBy -> []}                                                                      |null|null    |null     |1          |Serializable  |true         |{numFiles -> 1, numOutputRows -> 100, numOutputBytes -> 4391}                                                                                                                     |null        |Apache-Spark/3.2.4 Delta-Lake/2.0.0|\n",
            "|1      |2025-07-21 07:02:19.41 |null  |null    |DELETE                           |{predicate -> [\"(spark_catalog.default.Products_table.product_id = 'PROD101')\"]}                         |null|null    |null     |0          |Serializable  |false        |{numRemovedFiles -> 1, numCopiedRows -> 99, numAddedChangeFiles -> 0, executionTimeMs -> 5397, numDeletedRows -> 1, scanTimeMs -> 4102, numAddedFiles -> 1, rewriteTimeMs -> 1293}|null        |Apache-Spark/3.2.4 Delta-Lake/2.0.0|\n",
            "|0      |2025-07-21 07:02:00.245|null  |null    |CREATE OR REPLACE TABLE AS SELECT|{isManaged -> true, description -> null, partitionBy -> [], properties -> {}}                            |null|null    |null     |null       |Serializable  |false        |{numFiles -> 1, numOutputRows -> 100, numOutputBytes -> 4391}                                                                                                                     |null        |Apache-Spark/3.2.4 Delta-Lake/2.0.0|\n",
            "+-------+-----------------------+------+--------+---------------------------------+---------------------------------------------------------------------------------------------------------+----+--------+---------+-----------+--------------+-------------+----------------------------------------------------------------------------------------------------------------------------------------------------------------------------------+------------+-----------------------------------+\n",
            "\n"
          ]
        }
      ]
    },
    {
      "cell_type": "code",
      "source": [
        "spark.sql('update products_table set store_id=\"STORE03\" where product_id=\"PROD102\"')\n",
        "spark.sql('describe history products_table').show(truncate=False)"
      ],
      "metadata": {
        "colab": {
          "base_uri": "https://localhost:8080/"
        },
        "id": "_6mbeKwO9oJk",
        "outputId": "c3f35371-e083-4ebc-fa0e-ee2324b3c7d6"
      },
      "execution_count": null,
      "outputs": [
        {
          "output_type": "stream",
          "name": "stdout",
          "text": [
            "+-------+-----------------------+------+--------+---------------------------------+---------------------------------------------------------------------------------------------------------+----+--------+---------+-----------+--------------+-------------+----------------------------------------------------------------------------------------------------------------------------------------------------------------------------------+------------+-----------------------------------+\n",
            "|version|timestamp              |userId|userName|operation                        |operationParameters                                                                                      |job |notebook|clusterId|readVersion|isolationLevel|isBlindAppend|operationMetrics                                                                                                                                                                  |userMetadata|engineInfo                         |\n",
            "+-------+-----------------------+------+--------+---------------------------------+---------------------------------------------------------------------------------------------------------+----+--------+---------+-----------+--------------+-------------+----------------------------------------------------------------------------------------------------------------------------------------------------------------------------------+------------+-----------------------------------+\n",
            "|5      |2025-07-21 07:20:39.495|null  |null    |UPDATE                           |{predicate -> (product_id#5951 = PROD102)}                                                               |null|null    |null     |4          |Serializable  |false        |{numRemovedFiles -> 2, numCopiedRows -> 194, numAddedChangeFiles -> 0, executionTimeMs -> 3348, scanTimeMs -> 2380, numAddedFiles -> 2, numUpdatedRows -> 2, rewriteTimeMs -> 965}|null        |Apache-Spark/3.2.4 Delta-Lake/2.0.0|\n",
            "|4      |2025-07-21 07:20:30.024|null  |null    |DELETE                           |{predicate -> [\"((product_id = 'PROD103') AND (country = 'USA'))\"]}                                      |null|null    |null     |3          |Serializable  |false        |{numRemovedFiles -> 2, numCopiedRows -> 196, numAddedChangeFiles -> 0, executionTimeMs -> 1910, numDeletedRows -> 2, scanTimeMs -> 1443, numAddedFiles -> 2, rewriteTimeMs -> 467}|null        |Apache-Spark/3.2.4 Delta-Lake/2.0.0|\n",
            "|3      |2025-07-21 07:19:56.058|null  |null    |DELETE                           |{predicate -> [\"(spark_catalog.delta.`/content/spark-warehouse/products_table`.product_id = 'PROD101')\"]}|null|null    |null     |2          |Serializable  |false        |{numRemovedFiles -> 1, numCopiedRows -> 99, numAddedChangeFiles -> 0, executionTimeMs -> 3985, numDeletedRows -> 1, scanTimeMs -> 3320, numAddedFiles -> 1, rewriteTimeMs -> 665} |null        |Apache-Spark/3.2.4 Delta-Lake/2.0.0|\n",
            "|2      |2025-07-21 07:02:30.282|null  |null    |WRITE                            |{mode -> Append, partitionBy -> []}                                                                      |null|null    |null     |1          |Serializable  |true         |{numFiles -> 1, numOutputRows -> 100, numOutputBytes -> 4391}                                                                                                                     |null        |Apache-Spark/3.2.4 Delta-Lake/2.0.0|\n",
            "|1      |2025-07-21 07:02:19.41 |null  |null    |DELETE                           |{predicate -> [\"(spark_catalog.default.Products_table.product_id = 'PROD101')\"]}                         |null|null    |null     |0          |Serializable  |false        |{numRemovedFiles -> 1, numCopiedRows -> 99, numAddedChangeFiles -> 0, executionTimeMs -> 5397, numDeletedRows -> 1, scanTimeMs -> 4102, numAddedFiles -> 1, rewriteTimeMs -> 1293}|null        |Apache-Spark/3.2.4 Delta-Lake/2.0.0|\n",
            "|0      |2025-07-21 07:02:00.245|null  |null    |CREATE OR REPLACE TABLE AS SELECT|{isManaged -> true, description -> null, partitionBy -> [], properties -> {}}                            |null|null    |null     |null       |Serializable  |false        |{numFiles -> 1, numOutputRows -> 100, numOutputBytes -> 4391}                                                                                                                     |null        |Apache-Spark/3.2.4 Delta-Lake/2.0.0|\n",
            "+-------+-----------------------+------+--------+---------------------------------+---------------------------------------------------------------------------------------------------------+----+--------+---------+-----------+--------------+-------------+----------------------------------------------------------------------------------------------------------------------------------------------------------------------------------+------------+-----------------------------------+\n",
            "\n"
          ]
        }
      ]
    },
    {
      "cell_type": "code",
      "source": [
        "deltaInstance3.update('product_id=\"PROD104\"',set={\"store_id\":lit(\"STORE03\")})"
      ],
      "metadata": {
        "id": "-IqOgVnK-XAt"
      },
      "execution_count": null,
      "outputs": []
    },
    {
      "cell_type": "code",
      "source": [
        "deltaInstance3.history().show(truncate=False)"
      ],
      "metadata": {
        "colab": {
          "base_uri": "https://localhost:8080/"
        },
        "id": "sMA2DChH_kFO",
        "outputId": "95a3f22b-2665-4f44-db7d-3b8662c97761"
      },
      "execution_count": null,
      "outputs": [
        {
          "output_type": "stream",
          "name": "stdout",
          "text": [
            "+-------+-----------------------+------+--------+---------------------------------+---------------------------------------------------------------------------------------------------------+----+--------+---------+-----------+--------------+-------------+----------------------------------------------------------------------------------------------------------------------------------------------------------------------------------+------------+-----------------------------------+\n",
            "|version|timestamp              |userId|userName|operation                        |operationParameters                                                                                      |job |notebook|clusterId|readVersion|isolationLevel|isBlindAppend|operationMetrics                                                                                                                                                                  |userMetadata|engineInfo                         |\n",
            "+-------+-----------------------+------+--------+---------------------------------+---------------------------------------------------------------------------------------------------------+----+--------+---------+-----------+--------------+-------------+----------------------------------------------------------------------------------------------------------------------------------------------------------------------------------+------------+-----------------------------------+\n",
            "|6      |2025-07-21 07:20:46.868|null  |null    |UPDATE                           |{predicate -> (product_id#4924 = PROD104)}                                                               |null|null    |null     |5          |Serializable  |false        |{numRemovedFiles -> 2, numCopiedRows -> 194, numAddedChangeFiles -> 0, executionTimeMs -> 2158, scanTimeMs -> 1757, numAddedFiles -> 2, numUpdatedRows -> 2, rewriteTimeMs -> 401}|null        |Apache-Spark/3.2.4 Delta-Lake/2.0.0|\n",
            "|5      |2025-07-21 07:20:39.495|null  |null    |UPDATE                           |{predicate -> (product_id#5951 = PROD102)}                                                               |null|null    |null     |4          |Serializable  |false        |{numRemovedFiles -> 2, numCopiedRows -> 194, numAddedChangeFiles -> 0, executionTimeMs -> 3348, scanTimeMs -> 2380, numAddedFiles -> 2, numUpdatedRows -> 2, rewriteTimeMs -> 965}|null        |Apache-Spark/3.2.4 Delta-Lake/2.0.0|\n",
            "|4      |2025-07-21 07:20:30.024|null  |null    |DELETE                           |{predicate -> [\"((product_id = 'PROD103') AND (country = 'USA'))\"]}                                      |null|null    |null     |3          |Serializable  |false        |{numRemovedFiles -> 2, numCopiedRows -> 196, numAddedChangeFiles -> 0, executionTimeMs -> 1910, numDeletedRows -> 2, scanTimeMs -> 1443, numAddedFiles -> 2, rewriteTimeMs -> 467}|null        |Apache-Spark/3.2.4 Delta-Lake/2.0.0|\n",
            "|3      |2025-07-21 07:19:56.058|null  |null    |DELETE                           |{predicate -> [\"(spark_catalog.delta.`/content/spark-warehouse/products_table`.product_id = 'PROD101')\"]}|null|null    |null     |2          |Serializable  |false        |{numRemovedFiles -> 1, numCopiedRows -> 99, numAddedChangeFiles -> 0, executionTimeMs -> 3985, numDeletedRows -> 1, scanTimeMs -> 3320, numAddedFiles -> 1, rewriteTimeMs -> 665} |null        |Apache-Spark/3.2.4 Delta-Lake/2.0.0|\n",
            "|2      |2025-07-21 07:02:30.282|null  |null    |WRITE                            |{mode -> Append, partitionBy -> []}                                                                      |null|null    |null     |1          |Serializable  |true         |{numFiles -> 1, numOutputRows -> 100, numOutputBytes -> 4391}                                                                                                                     |null        |Apache-Spark/3.2.4 Delta-Lake/2.0.0|\n",
            "|1      |2025-07-21 07:02:19.41 |null  |null    |DELETE                           |{predicate -> [\"(spark_catalog.default.Products_table.product_id = 'PROD101')\"]}                         |null|null    |null     |0          |Serializable  |false        |{numRemovedFiles -> 1, numCopiedRows -> 99, numAddedChangeFiles -> 0, executionTimeMs -> 5397, numDeletedRows -> 1, scanTimeMs -> 4102, numAddedFiles -> 1, rewriteTimeMs -> 1293}|null        |Apache-Spark/3.2.4 Delta-Lake/2.0.0|\n",
            "|0      |2025-07-21 07:02:00.245|null  |null    |CREATE OR REPLACE TABLE AS SELECT|{isManaged -> true, description -> null, partitionBy -> [], properties -> {}}                            |null|null    |null     |null       |Serializable  |false        |{numFiles -> 1, numOutputRows -> 100, numOutputBytes -> 4391}                                                                                                                     |null        |Apache-Spark/3.2.4 Delta-Lake/2.0.0|\n",
            "+-------+-----------------------+------+--------+---------------------------------+---------------------------------------------------------------------------------------------------------+----+--------+---------+-----------+--------------+-------------+----------------------------------------------------------------------------------------------------------------------------------------------------------------------------------+------------+-----------------------------------+\n",
            "\n"
          ]
        }
      ]
    },
    {
      "cell_type": "markdown",
      "source": [
        "#TIME TRAVEL"
      ],
      "metadata": {
        "id": "c8h2EPib7Zjr"
      }
    },
    {
      "cell_type": "markdown",
      "source": [
        "There are two ways to timetravel, in spark,\n",
        "1. Using timestampAsOf\n",
        "2.Using versionAsOf"
      ],
      "metadata": {
        "id": "bW0VlPus9B9I"
      }
    },
    {
      "cell_type": "code",
      "source": [
        "df=spark.read.format('delta').option(\"timestampAsOf\",\"2025-07-21 07:20:30.024\").table('products_table')\n",
        "df.show(5)"
      ],
      "metadata": {
        "colab": {
          "base_uri": "https://localhost:8080/"
        },
        "id": "iS500OfP7X31",
        "outputId": "2cd3beb8-9c37-4ee3-d70f-a7a595a9448c"
      },
      "execution_count": null,
      "outputs": [
        {
          "output_type": "stream",
          "name": "stdout",
          "text": [
            "+-------------------+---------------+----------+--------+------+----------+-------+\n",
            "|            product|          store|product_id|store_id|   MRP|     state|country|\n",
            "+-------------------+---------------+----------+--------+------+----------+-------+\n",
            "|   Portable Charger|    Mobile Mart|   PROD102| STORE02|  NULL|     Texas|    USA|\n",
            "|   Smart Light Bulb|   Home Gadgets|   PROD104| STORE03| 15.00|   Florida|    USA|\n",
            "|               NULL|    Mobile Mart|   PROD105| STORE02| 49.99|     Texas|    USA|\n",
            "|     Wireless Mouse|Electronics Hub|   PROD106| STORE01|  NULL|California|    USA|\n",
            "|Mechanical Keyboard|      PC Palace|   PROD107| STORE04|120.00|  New York|    USA|\n",
            "+-------------------+---------------+----------+--------+------+----------+-------+\n",
            "only showing top 5 rows\n",
            "\n"
          ]
        }
      ]
    },
    {
      "cell_type": "code",
      "source": [
        "df1=spark.read.format('delta').option(\"versionAsOf\",3).table('products_table')\n",
        "df1.show(5)"
      ],
      "metadata": {
        "colab": {
          "base_uri": "https://localhost:8080/"
        },
        "id": "qqpvthmk7Xx1",
        "outputId": "f7c33023-365f-466f-f331-57cfad7e0eff"
      },
      "execution_count": null,
      "outputs": [
        {
          "output_type": "stream",
          "name": "stdout",
          "text": [
            "+-----------------+---------------+----------+--------+-----+----------+-------+\n",
            "|          product|          store|product_id|store_id|  MRP|     state|country|\n",
            "+-----------------+---------------+----------+--------+-----+----------+-------+\n",
            "| Portable Charger|    Mobile Mart|   PROD102| STORE02| NULL|     Texas|    USA|\n",
            "|Bluetooth Speaker|Electronics Hub|   PROD103| STORE01|79.50|California|    USA|\n",
            "| Smart Light Bulb|   Home Gadgets|   PROD104| STORE03|15.00|   Florida|    USA|\n",
            "|             NULL|    Mobile Mart|   PROD105| STORE02|49.99|     Texas|    USA|\n",
            "|   Wireless Mouse|Electronics Hub|   PROD106| STORE01| NULL|California|    USA|\n",
            "+-----------------+---------------+----------+--------+-----+----------+-------+\n",
            "only showing top 5 rows\n",
            "\n"
          ]
        }
      ]
    },
    {
      "cell_type": "markdown",
      "source": [
        "Using SQL"
      ],
      "metadata": {
        "id": "Qx15bsQ1GIrK"
      }
    },
    {
      "cell_type": "code",
      "source": [
        "#spark.sql('select * from products_table3 version as of 3').show()\n",
        "#spark.sql(\"select * from products_table3 timestamp as of '2025-07-21 03:00:18.113';\")\n",
        "#spark.sql(\"select * from delta.'/content/spark-warehouse/products_table3' VERSION AS OF 3;\")"
      ],
      "metadata": {
        "id": "Il3-p9_57XnK"
      },
      "execution_count": null,
      "outputs": []
    },
    {
      "cell_type": "markdown",
      "source": [
        "### Restore"
      ],
      "metadata": {
        "id": "4PUMGcTt44RT"
      }
    },
    {
      "cell_type": "markdown",
      "source": [
        "A restore command make the table to permanently to previous version, where as in Time travel, we only travel back and forth without changing the current state."
      ],
      "metadata": {
        "id": "dH99Wv2346oy"
      }
    },
    {
      "cell_type": "code",
      "source": [
        "spark.sql('describe history delta.`/content/spark-warehouse/products_table`').show(truncate=False)"
      ],
      "metadata": {
        "id": "aC1PjTQL7XfW",
        "colab": {
          "base_uri": "https://localhost:8080/"
        },
        "outputId": "cf991500-d857-49ce-a714-6c5983848948"
      },
      "execution_count": null,
      "outputs": [
        {
          "output_type": "stream",
          "name": "stdout",
          "text": [
            "+-------+-----------------------+------+--------+---------------------------------+---------------------------------------------------------------------------------------------------------+----+--------+---------+-----------+--------------+-------------+----------------------------------------------------------------------------------------------------------------------------------------------------------------------------------+------------+-----------------------------------+\n",
            "|version|timestamp              |userId|userName|operation                        |operationParameters                                                                                      |job |notebook|clusterId|readVersion|isolationLevel|isBlindAppend|operationMetrics                                                                                                                                                                  |userMetadata|engineInfo                         |\n",
            "+-------+-----------------------+------+--------+---------------------------------+---------------------------------------------------------------------------------------------------------+----+--------+---------+-----------+--------------+-------------+----------------------------------------------------------------------------------------------------------------------------------------------------------------------------------+------------+-----------------------------------+\n",
            "|6      |2025-07-21 07:20:46.868|null  |null    |UPDATE                           |{predicate -> (product_id#4924 = PROD104)}                                                               |null|null    |null     |5          |Serializable  |false        |{numRemovedFiles -> 2, numCopiedRows -> 194, numAddedChangeFiles -> 0, executionTimeMs -> 2158, scanTimeMs -> 1757, numAddedFiles -> 2, numUpdatedRows -> 2, rewriteTimeMs -> 401}|null        |Apache-Spark/3.2.4 Delta-Lake/2.0.0|\n",
            "|5      |2025-07-21 07:20:39.495|null  |null    |UPDATE                           |{predicate -> (product_id#5951 = PROD102)}                                                               |null|null    |null     |4          |Serializable  |false        |{numRemovedFiles -> 2, numCopiedRows -> 194, numAddedChangeFiles -> 0, executionTimeMs -> 3348, scanTimeMs -> 2380, numAddedFiles -> 2, numUpdatedRows -> 2, rewriteTimeMs -> 965}|null        |Apache-Spark/3.2.4 Delta-Lake/2.0.0|\n",
            "|4      |2025-07-21 07:20:30.024|null  |null    |DELETE                           |{predicate -> [\"((product_id = 'PROD103') AND (country = 'USA'))\"]}                                      |null|null    |null     |3          |Serializable  |false        |{numRemovedFiles -> 2, numCopiedRows -> 196, numAddedChangeFiles -> 0, executionTimeMs -> 1910, numDeletedRows -> 2, scanTimeMs -> 1443, numAddedFiles -> 2, rewriteTimeMs -> 467}|null        |Apache-Spark/3.2.4 Delta-Lake/2.0.0|\n",
            "|3      |2025-07-21 07:19:56.058|null  |null    |DELETE                           |{predicate -> [\"(spark_catalog.delta.`/content/spark-warehouse/products_table`.product_id = 'PROD101')\"]}|null|null    |null     |2          |Serializable  |false        |{numRemovedFiles -> 1, numCopiedRows -> 99, numAddedChangeFiles -> 0, executionTimeMs -> 3985, numDeletedRows -> 1, scanTimeMs -> 3320, numAddedFiles -> 1, rewriteTimeMs -> 665} |null        |Apache-Spark/3.2.4 Delta-Lake/2.0.0|\n",
            "|2      |2025-07-21 07:02:30.282|null  |null    |WRITE                            |{mode -> Append, partitionBy -> []}                                                                      |null|null    |null     |1          |Serializable  |true         |{numFiles -> 1, numOutputRows -> 100, numOutputBytes -> 4391}                                                                                                                     |null        |Apache-Spark/3.2.4 Delta-Lake/2.0.0|\n",
            "|1      |2025-07-21 07:02:19.41 |null  |null    |DELETE                           |{predicate -> [\"(spark_catalog.default.Products_table.product_id = 'PROD101')\"]}                         |null|null    |null     |0          |Serializable  |false        |{numRemovedFiles -> 1, numCopiedRows -> 99, numAddedChangeFiles -> 0, executionTimeMs -> 5397, numDeletedRows -> 1, scanTimeMs -> 4102, numAddedFiles -> 1, rewriteTimeMs -> 1293}|null        |Apache-Spark/3.2.4 Delta-Lake/2.0.0|\n",
            "|0      |2025-07-21 07:02:00.245|null  |null    |CREATE OR REPLACE TABLE AS SELECT|{isManaged -> true, description -> null, partitionBy -> [], properties -> {}}                            |null|null    |null     |null       |Serializable  |false        |{numFiles -> 1, numOutputRows -> 100, numOutputBytes -> 4391}                                                                                                                     |null        |Apache-Spark/3.2.4 Delta-Lake/2.0.0|\n",
            "+-------+-----------------------+------+--------+---------------------------------+---------------------------------------------------------------------------------------------------------+----+--------+---------+-----------+--------------+-------------+----------------------------------------------------------------------------------------------------------------------------------------------------------------------------------+------------+-----------------------------------+\n",
            "\n"
          ]
        }
      ]
    },
    {
      "cell_type": "code",
      "source": [
        "product_instance=DeltaTable.forPath(spark,'/content/spark-warehouse/products_table')"
      ],
      "metadata": {
        "id": "EqIPAAwQ7XWw"
      },
      "execution_count": null,
      "outputs": []
    },
    {
      "cell_type": "code",
      "source": [
        "product_instance.history().show(truncate=False)"
      ],
      "metadata": {
        "id": "bTLqHX_A7XMF",
        "colab": {
          "base_uri": "https://localhost:8080/"
        },
        "outputId": "2b1c01a4-e754-45b5-a558-4966da74b11e"
      },
      "execution_count": null,
      "outputs": [
        {
          "output_type": "stream",
          "name": "stdout",
          "text": [
            "+-------+-----------------------+------+--------+---------------------------------+---------------------------------------------------------------------------------------------------------+----+--------+---------+-----------+--------------+-------------+----------------------------------------------------------------------------------------------------------------------------------------------------------------------------------+------------+-----------------------------------+\n",
            "|version|timestamp              |userId|userName|operation                        |operationParameters                                                                                      |job |notebook|clusterId|readVersion|isolationLevel|isBlindAppend|operationMetrics                                                                                                                                                                  |userMetadata|engineInfo                         |\n",
            "+-------+-----------------------+------+--------+---------------------------------+---------------------------------------------------------------------------------------------------------+----+--------+---------+-----------+--------------+-------------+----------------------------------------------------------------------------------------------------------------------------------------------------------------------------------+------------+-----------------------------------+\n",
            "|6      |2025-07-21 07:20:46.868|null  |null    |UPDATE                           |{predicate -> (product_id#4924 = PROD104)}                                                               |null|null    |null     |5          |Serializable  |false        |{numRemovedFiles -> 2, numCopiedRows -> 194, numAddedChangeFiles -> 0, executionTimeMs -> 2158, scanTimeMs -> 1757, numAddedFiles -> 2, numUpdatedRows -> 2, rewriteTimeMs -> 401}|null        |Apache-Spark/3.2.4 Delta-Lake/2.0.0|\n",
            "|5      |2025-07-21 07:20:39.495|null  |null    |UPDATE                           |{predicate -> (product_id#5951 = PROD102)}                                                               |null|null    |null     |4          |Serializable  |false        |{numRemovedFiles -> 2, numCopiedRows -> 194, numAddedChangeFiles -> 0, executionTimeMs -> 3348, scanTimeMs -> 2380, numAddedFiles -> 2, numUpdatedRows -> 2, rewriteTimeMs -> 965}|null        |Apache-Spark/3.2.4 Delta-Lake/2.0.0|\n",
            "|4      |2025-07-21 07:20:30.024|null  |null    |DELETE                           |{predicate -> [\"((product_id = 'PROD103') AND (country = 'USA'))\"]}                                      |null|null    |null     |3          |Serializable  |false        |{numRemovedFiles -> 2, numCopiedRows -> 196, numAddedChangeFiles -> 0, executionTimeMs -> 1910, numDeletedRows -> 2, scanTimeMs -> 1443, numAddedFiles -> 2, rewriteTimeMs -> 467}|null        |Apache-Spark/3.2.4 Delta-Lake/2.0.0|\n",
            "|3      |2025-07-21 07:19:56.058|null  |null    |DELETE                           |{predicate -> [\"(spark_catalog.delta.`/content/spark-warehouse/products_table`.product_id = 'PROD101')\"]}|null|null    |null     |2          |Serializable  |false        |{numRemovedFiles -> 1, numCopiedRows -> 99, numAddedChangeFiles -> 0, executionTimeMs -> 3985, numDeletedRows -> 1, scanTimeMs -> 3320, numAddedFiles -> 1, rewriteTimeMs -> 665} |null        |Apache-Spark/3.2.4 Delta-Lake/2.0.0|\n",
            "|2      |2025-07-21 07:02:30.282|null  |null    |WRITE                            |{mode -> Append, partitionBy -> []}                                                                      |null|null    |null     |1          |Serializable  |true         |{numFiles -> 1, numOutputRows -> 100, numOutputBytes -> 4391}                                                                                                                     |null        |Apache-Spark/3.2.4 Delta-Lake/2.0.0|\n",
            "|1      |2025-07-21 07:02:19.41 |null  |null    |DELETE                           |{predicate -> [\"(spark_catalog.default.Products_table.product_id = 'PROD101')\"]}                         |null|null    |null     |0          |Serializable  |false        |{numRemovedFiles -> 1, numCopiedRows -> 99, numAddedChangeFiles -> 0, executionTimeMs -> 5397, numDeletedRows -> 1, scanTimeMs -> 4102, numAddedFiles -> 1, rewriteTimeMs -> 1293}|null        |Apache-Spark/3.2.4 Delta-Lake/2.0.0|\n",
            "|0      |2025-07-21 07:02:00.245|null  |null    |CREATE OR REPLACE TABLE AS SELECT|{isManaged -> true, description -> null, partitionBy -> [], properties -> {}}                            |null|null    |null     |null       |Serializable  |false        |{numFiles -> 1, numOutputRows -> 100, numOutputBytes -> 4391}                                                                                                                     |null        |Apache-Spark/3.2.4 Delta-Lake/2.0.0|\n",
            "+-------+-----------------------+------+--------+---------------------------------+---------------------------------------------------------------------------------------------------------+----+--------+---------+-----------+--------------+-------------+----------------------------------------------------------------------------------------------------------------------------------------------------------------------------------+------------+-----------------------------------+\n",
            "\n"
          ]
        }
      ]
    },
    {
      "cell_type": "markdown",
      "source": [
        "In order to restore to previous version, then we can use\n",
        "1. restoreToVersion('VersionNumber')\n",
        "2. restoreToVersion('Timestamp')"
      ],
      "metadata": {
        "id": "DRPIQq2z57Jf"
      }
    },
    {
      "cell_type": "code",
      "source": [
        "product_instance.restoreToVersion(4)"
      ],
      "metadata": {
        "colab": {
          "base_uri": "https://localhost:8080/"
        },
        "id": "k-vfZHIK55Q4",
        "outputId": "c3ed7b15-77f6-41e5-d227-18c98ac71309"
      },
      "execution_count": null,
      "outputs": [
        {
          "output_type": "execute_result",
          "data": {
            "text/plain": [
              "DataFrame[table_size_after_restore: bigint, num_of_files_after_restore: bigint, num_removed_files: bigint, num_restored_files: bigint, removed_files_size: bigint, restored_files_size: bigint]"
            ]
          },
          "metadata": {},
          "execution_count": 40
        }
      ]
    },
    {
      "cell_type": "code",
      "source": [
        "product_instance.toDF().show()"
      ],
      "metadata": {
        "colab": {
          "base_uri": "https://localhost:8080/"
        },
        "id": "3d3hIrsM55Fs",
        "outputId": "81707556-a1d7-4aa3-80f5-5bfa7649bc95"
      },
      "execution_count": null,
      "outputs": [
        {
          "output_type": "stream",
          "name": "stdout",
          "text": [
            "+-------------------+---------------+----------+--------+------+----------+-------+\n",
            "|            product|          store|product_id|store_id|   MRP|     state|country|\n",
            "+-------------------+---------------+----------+--------+------+----------+-------+\n",
            "|   Portable Charger|    Mobile Mart|   PROD102| STORE02|  NULL|     Texas|    USA|\n",
            "|   Smart Light Bulb|   Home Gadgets|   PROD104| STORE03| 15.00|   Florida|    USA|\n",
            "|               NULL|    Mobile Mart|   PROD105| STORE02| 49.99|     Texas|    USA|\n",
            "|     Wireless Mouse|Electronics Hub|   PROD106| STORE01|  NULL|California|    USA|\n",
            "|Mechanical Keyboard|      PC Palace|   PROD107| STORE04|120.00|  New York|    USA|\n",
            "|             Webcam|Electronics Hub|   PROD108| STORE01| 55.00|      NULL|    USA|\n",
            "|     Gaming Headset|      PC Palace|   PROD109| STORE04| 90.00|  New York|    USA|\n",
            "|      Monitor Stand|   Home Gadgets|   PROD110| STORE03| 29.99|   Florida|    USA|\n",
            "|         HDMI Cable|    Mobile Mart|   PROD111| STORE02|  NULL|     Texas|   NULL|\n",
            "|            USB Hub|Electronics Hub|   PROD112| STORE01|  NULL|California|    USA|\n",
            "|      Laptop Sleeve|      PC Palace|   PROD113| STORE04|  NULL|  New York|    USA|\n",
            "|       External SSD|Electronics Hub|   PROD114| STORE01|150.00|California|    USA|\n",
            "|        Power Strip|   Home Gadgets|   PROD115| STORE03|  NULL|   Florida|    USA|\n",
            "|           Desk Fan|    Mobile Mart|   PROD116| STORE02| 20.00|     Texas|    USA|\n",
            "|        Printer Ink|   Office Depot|   PROD117| STORE05|  NULL|  Illinois|    USA|\n",
            "|            Scanner|Electronics Hub|   PROD118| STORE01|180.00|California|   NULL|\n",
            "|          Projector|      PC Palace|   PROD119| STORE04|700.00|      NULL|    USA|\n",
            "|         Smart Plug|   Home Gadgets|   PROD120| STORE03| 12.00|   Florida|    USA|\n",
            "|       Fitness Band|    Mobile Mart|   PROD121| STORE02| 85.00|     Texas|    USA|\n",
            "|        Smart Scale|   Home Gadgets|   PROD122| STORE03|  NULL|   Florida|    USA|\n",
            "+-------------------+---------------+----------+--------+------+----------+-------+\n",
            "only showing top 20 rows\n",
            "\n"
          ]
        }
      ]
    },
    {
      "cell_type": "code",
      "source": [
        "product_instance.restoreToTimestamp('2025-07-21 07:19:56.058')"
      ],
      "metadata": {
        "colab": {
          "base_uri": "https://localhost:8080/"
        },
        "id": "7ESSdg5R7QnE",
        "outputId": "f010d3f8-51da-4985-b995-ff73d9d550e4"
      },
      "execution_count": null,
      "outputs": [
        {
          "output_type": "execute_result",
          "data": {
            "text/plain": [
              "DataFrame[table_size_after_restore: bigint, num_of_files_after_restore: bigint, num_removed_files: bigint, num_restored_files: bigint, removed_files_size: bigint, restored_files_size: bigint]"
            ]
          },
          "metadata": {},
          "execution_count": 45
        }
      ]
    },
    {
      "cell_type": "code",
      "source": [
        "product_instance.toDF().show()"
      ],
      "metadata": {
        "colab": {
          "base_uri": "https://localhost:8080/"
        },
        "id": "gmXbk3__7QiJ",
        "outputId": "de62ea3f-610a-4c77-9131-80449e20962a"
      },
      "execution_count": null,
      "outputs": [
        {
          "output_type": "stream",
          "name": "stdout",
          "text": [
            "+-------------------+---------------+----------+--------+------+----------+-------+\n",
            "|            product|          store|product_id|store_id|   MRP|     state|country|\n",
            "+-------------------+---------------+----------+--------+------+----------+-------+\n",
            "|   Portable Charger|    Mobile Mart|   PROD102| STORE02|  NULL|     Texas|    USA|\n",
            "|  Bluetooth Speaker|Electronics Hub|   PROD103| STORE01| 79.50|California|    USA|\n",
            "|   Smart Light Bulb|   Home Gadgets|   PROD104| STORE03| 15.00|   Florida|    USA|\n",
            "|               NULL|    Mobile Mart|   PROD105| STORE02| 49.99|     Texas|    USA|\n",
            "|     Wireless Mouse|Electronics Hub|   PROD106| STORE01|  NULL|California|    USA|\n",
            "|Mechanical Keyboard|      PC Palace|   PROD107| STORE04|120.00|  New York|    USA|\n",
            "|             Webcam|Electronics Hub|   PROD108| STORE01| 55.00|      NULL|    USA|\n",
            "|     Gaming Headset|      PC Palace|   PROD109| STORE04| 90.00|  New York|    USA|\n",
            "|      Monitor Stand|   Home Gadgets|   PROD110| STORE03| 29.99|   Florida|    USA|\n",
            "|         HDMI Cable|    Mobile Mart|   PROD111| STORE02|  NULL|     Texas|   NULL|\n",
            "|            USB Hub|Electronics Hub|   PROD112| STORE01|  NULL|California|    USA|\n",
            "|      Laptop Sleeve|      PC Palace|   PROD113| STORE04|  NULL|  New York|    USA|\n",
            "|       External SSD|Electronics Hub|   PROD114| STORE01|150.00|California|    USA|\n",
            "|        Power Strip|   Home Gadgets|   PROD115| STORE03|  NULL|   Florida|    USA|\n",
            "|           Desk Fan|    Mobile Mart|   PROD116| STORE02| 20.00|     Texas|    USA|\n",
            "|        Printer Ink|   Office Depot|   PROD117| STORE05|  NULL|  Illinois|    USA|\n",
            "|            Scanner|Electronics Hub|   PROD118| STORE01|180.00|California|   NULL|\n",
            "|          Projector|      PC Palace|   PROD119| STORE04|700.00|      NULL|    USA|\n",
            "|         Smart Plug|   Home Gadgets|   PROD120| STORE03| 12.00|   Florida|    USA|\n",
            "|       Fitness Band|    Mobile Mart|   PROD121| STORE02| 85.00|     Texas|    USA|\n",
            "+-------------------+---------------+----------+--------+------+----------+-------+\n",
            "only showing top 20 rows\n",
            "\n"
          ]
        }
      ]
    },
    {
      "cell_type": "code",
      "source": [
        "product_instance.history().show()"
      ],
      "metadata": {
        "colab": {
          "base_uri": "https://localhost:8080/"
        },
        "id": "3NL3Cvyr7QTo",
        "outputId": "a05c00f9-d845-47f4-ed16-7df3c7b5e666"
      },
      "execution_count": null,
      "outputs": [
        {
          "output_type": "stream",
          "name": "stdout",
          "text": [
            "+-------+--------------------+------+--------+--------------------+--------------------+----+--------+---------+-----------+--------------+-------------+--------------------+------------+--------------------+\n",
            "|version|           timestamp|userId|userName|           operation| operationParameters| job|notebook|clusterId|readVersion|isolationLevel|isBlindAppend|    operationMetrics|userMetadata|          engineInfo|\n",
            "+-------+--------------------+------+--------+--------------------+--------------------+----+--------+---------+-----------+--------------+-------------+--------------------+------------+--------------------+\n",
            "|      8|2025-07-21 07:41:...|  null|    null|             RESTORE|{version -> null,...|null|    null|     null|          7|  Serializable|        false|{numRestoredFiles...|        null|Apache-Spark/3.2....|\n",
            "|      7|2025-07-21 07:38:...|  null|    null|             RESTORE|{version -> 4, ti...|null|    null|     null|          6|  Serializable|        false|{numRestoredFiles...|        null|Apache-Spark/3.2....|\n",
            "|      6|2025-07-21 07:20:...|  null|    null|              UPDATE|{predicate -> (pr...|null|    null|     null|          5|  Serializable|        false|{numRemovedFiles ...|        null|Apache-Spark/3.2....|\n",
            "|      5|2025-07-21 07:20:...|  null|    null|              UPDATE|{predicate -> (pr...|null|    null|     null|          4|  Serializable|        false|{numRemovedFiles ...|        null|Apache-Spark/3.2....|\n",
            "|      4|2025-07-21 07:20:...|  null|    null|              DELETE|{predicate -> [\"(...|null|    null|     null|          3|  Serializable|        false|{numRemovedFiles ...|        null|Apache-Spark/3.2....|\n",
            "|      3|2025-07-21 07:19:...|  null|    null|              DELETE|{predicate -> [\"(...|null|    null|     null|          2|  Serializable|        false|{numRemovedFiles ...|        null|Apache-Spark/3.2....|\n",
            "|      2|2025-07-21 07:02:...|  null|    null|               WRITE|{mode -> Append, ...|null|    null|     null|          1|  Serializable|         true|{numFiles -> 1, n...|        null|Apache-Spark/3.2....|\n",
            "|      1|2025-07-21 07:02:...|  null|    null|              DELETE|{predicate -> [\"(...|null|    null|     null|          0|  Serializable|        false|{numRemovedFiles ...|        null|Apache-Spark/3.2....|\n",
            "|      0|2025-07-21 07:02:...|  null|    null|CREATE OR REPLACE...|{isManaged -> tru...|null|    null|     null|       null|  Serializable|        false|{numFiles -> 1, n...|        null|Apache-Spark/3.2....|\n",
            "+-------+--------------------+------+--------+--------------------+--------------------+----+--------+---------+-----------+--------------+-------------+--------------------+------------+--------------------+\n",
            "\n"
          ]
        }
      ]
    },
    {
      "cell_type": "markdown",
      "source": [
        "**END OF CODE**"
      ],
      "metadata": {
        "id": "N8PphWMSC-SK"
      }
    }
  ]
}