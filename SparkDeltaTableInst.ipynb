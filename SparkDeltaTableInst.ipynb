{
  "nbformat": 4,
  "nbformat_minor": 0,
  "metadata": {
    "colab": {
      "provenance": [],
      "mount_file_id": "1Ojju1q3y07TnmVWbwwX5tVs6PIRrfTD1",
      "authorship_tag": "ABX9TyM6YnEYkt5Yt9eVayeeO/iv",
      "include_colab_link": true
    },
    "kernelspec": {
      "name": "python3",
      "display_name": "Python 3"
    },
    "language_info": {
      "name": "python"
    }
  },
  "cells": [
    {
      "cell_type": "markdown",
      "metadata": {
        "id": "view-in-github",
        "colab_type": "text"
      },
      "source": [
        "<a href=\"https://colab.research.google.com/github/sandeepgundeboina/LearningSpark/blob/main/SparkDeltaTableInst.ipynb\" target=\"_parent\"><img src=\"https://colab.research.google.com/assets/colab-badge.svg\" alt=\"Open In Colab\"/></a>"
      ]
    },
    {
      "cell_type": "code",
      "execution_count": 1,
      "metadata": {
        "colab": {
          "base_uri": "https://localhost:8080/"
        },
        "id": "P_BhAK9rwmgu",
        "outputId": "9d03edef-9de1-48ed-f37a-6a0b4ccc872d"
      },
      "outputs": [
        {
          "output_type": "stream",
          "name": "stdout",
          "text": [
            "Requirement already satisfied: delta-spark==2.0.0 in /usr/local/lib/python3.11/dist-packages (2.0.0)\n",
            "Requirement already satisfied: pyspark<3.3.0,>=3.2.0 in /usr/local/lib/python3.11/dist-packages (from delta-spark==2.0.0) (3.2.4)\n",
            "Requirement already satisfied: importlib-metadata>=1.0.0 in /usr/local/lib/python3.11/dist-packages (from delta-spark==2.0.0) (8.7.0)\n",
            "Requirement already satisfied: zipp>=3.20 in /usr/local/lib/python3.11/dist-packages (from importlib-metadata>=1.0.0->delta-spark==2.0.0) (3.22.0)\n",
            "Requirement already satisfied: py4j==0.10.9.5 in /usr/local/lib/python3.11/dist-packages (from pyspark<3.3.0,>=3.2.0->delta-spark==2.0.0) (0.10.9.5)\n"
          ]
        }
      ],
      "source": [
        "!pip install delta-spark==2.0.0\n",
        "\n",
        "import pyspark\n",
        "from pyspark.sql import SparkSession\n",
        "spark = SparkSession.builder \\\n",
        "    .appName(\"SparkDeltaTableInst\") \\\n",
        "    .config(\"spark.jars.packages\", \"io.delta:delta-core_2.12:2.0.0\") \\\n",
        "    .config(\"spark.sql.extensions\", \"io.delta.sql.DeltaSparkSessionExtension\") \\\n",
        "    .config(\"spark.sql.catalog.spark_catalog\", \"org.apache.spark.sql.delta.catalog.DeltaCatalog\") \\\n",
        "    .getOrCreate()"
      ]
    },
    {
      "cell_type": "code",
      "source": [
        "from delta.tables import *\n",
        "from pyspark.sql.functions import *\n",
        "from pyspark.sql.types import *"
      ],
      "metadata": {
        "id": "wGa8FHyuzqQd"
      },
      "execution_count": 2,
      "outputs": []
    },
    {
      "cell_type": "code",
      "source": [
        "df=spark.read.format('csv').option('header','true').option('inferSchema',True).load('/content/drive/MyDrive/Abc/Ola_data/products.csv')"
      ],
      "metadata": {
        "id": "a8mQpM9zxOT6"
      },
      "execution_count": 3,
      "outputs": []
    },
    {
      "cell_type": "code",
      "source": [
        "df.write.format('delta').mode('overwrite').saveAsTable('Products_table')"
      ],
      "metadata": {
        "id": "OVYNoRbxzA-l"
      },
      "execution_count": 4,
      "outputs": []
    },
    {
      "cell_type": "code",
      "source": [
        "deltaInstance1=DeltaTable.forPath(spark,'/content/spark-warehouse/products_table')"
      ],
      "metadata": {
        "id": "1Np0fhQDzTWT"
      },
      "execution_count": 5,
      "outputs": []
    },
    {
      "cell_type": "code",
      "source": [
        "deltaInstance1.toDF().show(5)"
      ],
      "metadata": {
        "colab": {
          "base_uri": "https://localhost:8080/"
        },
        "id": "GoArd16kzr2R",
        "outputId": "13bb948e-e8ef-46aa-fd8b-9c0229d8bb22"
      },
      "execution_count": 6,
      "outputs": [
        {
          "output_type": "stream",
          "name": "stdout",
          "text": [
            "+-----------------+---------------+----------+--------+-----+----------+-------+\n",
            "|          product|          store|product_id|store_id|  MRP|     state|country|\n",
            "+-----------------+---------------+----------+--------+-----+----------+-------+\n",
            "|    Wired Earbuds|Electronics Hub|   PROD101| STORE01|25.99|California|    USA|\n",
            "| Portable Charger|    Mobile Mart|   PROD102| STORE02| NULL|     Texas|    USA|\n",
            "|Bluetooth Speaker|Electronics Hub|   PROD103| STORE01|79.50|California|    USA|\n",
            "| Smart Light Bulb|   Home Gadgets|   PROD104| STORE03|15.00|   Florida|    USA|\n",
            "|             NULL|    Mobile Mart|   PROD105| STORE02|49.99|     Texas|    USA|\n",
            "+-----------------+---------------+----------+--------+-----+----------+-------+\n",
            "only showing top 5 rows\n",
            "\n"
          ]
        }
      ]
    },
    {
      "cell_type": "code",
      "source": [
        "spark.sql(\"delete from Products_table where product_id='PROD101'\")"
      ],
      "metadata": {
        "colab": {
          "base_uri": "https://localhost:8080/"
        },
        "id": "CBmcBkIczxB8",
        "outputId": "0b97f8be-c5ec-4503-f1d2-28a9c912bfe3"
      },
      "execution_count": 7,
      "outputs": [
        {
          "output_type": "execute_result",
          "data": {
            "text/plain": [
              "DataFrame[]"
            ]
          },
          "metadata": {},
          "execution_count": 7
        }
      ]
    },
    {
      "cell_type": "code",
      "source": [
        "spark.sql('select * from Products_table').show(5)"
      ],
      "metadata": {
        "colab": {
          "base_uri": "https://localhost:8080/"
        },
        "id": "4Tc-Uohf0XVL",
        "outputId": "d9902fed-151a-4472-ac59-f22f34f523fc"
      },
      "execution_count": 8,
      "outputs": [
        {
          "output_type": "stream",
          "name": "stdout",
          "text": [
            "+-----------------+---------------+----------+--------+-----+----------+-------+\n",
            "|          product|          store|product_id|store_id|  MRP|     state|country|\n",
            "+-----------------+---------------+----------+--------+-----+----------+-------+\n",
            "| Portable Charger|    Mobile Mart|   PROD102| STORE02| NULL|     Texas|    USA|\n",
            "|Bluetooth Speaker|Electronics Hub|   PROD103| STORE01|79.50|California|    USA|\n",
            "| Smart Light Bulb|   Home Gadgets|   PROD104| STORE03|15.00|   Florida|    USA|\n",
            "|             NULL|    Mobile Mart|   PROD105| STORE02|49.99|     Texas|    USA|\n",
            "|   Wireless Mouse|Electronics Hub|   PROD106| STORE01| NULL|California|    USA|\n",
            "+-----------------+---------------+----------+--------+-----+----------+-------+\n",
            "only showing top 5 rows\n",
            "\n"
          ]
        }
      ]
    },
    {
      "cell_type": "code",
      "source": [
        "deltaInstance1.toDF().show(5)"
      ],
      "metadata": {
        "colab": {
          "base_uri": "https://localhost:8080/"
        },
        "id": "4YihVud-1BMl",
        "outputId": "1cae95e5-beb2-4061-d8cd-8ded24fff632"
      },
      "execution_count": 9,
      "outputs": [
        {
          "output_type": "stream",
          "name": "stdout",
          "text": [
            "+-----------------+---------------+----------+--------+-----+----------+-------+\n",
            "|          product|          store|product_id|store_id|  MRP|     state|country|\n",
            "+-----------------+---------------+----------+--------+-----+----------+-------+\n",
            "| Portable Charger|    Mobile Mart|   PROD102| STORE02| NULL|     Texas|    USA|\n",
            "|Bluetooth Speaker|Electronics Hub|   PROD103| STORE01|79.50|California|    USA|\n",
            "| Smart Light Bulb|   Home Gadgets|   PROD104| STORE03|15.00|   Florida|    USA|\n",
            "|             NULL|    Mobile Mart|   PROD105| STORE02|49.99|     Texas|    USA|\n",
            "|   Wireless Mouse|Electronics Hub|   PROD106| STORE01| NULL|California|    USA|\n",
            "+-----------------+---------------+----------+--------+-----+----------+-------+\n",
            "only showing top 5 rows\n",
            "\n"
          ]
        }
      ]
    },
    {
      "cell_type": "markdown",
      "source": [
        "both the deltainstance and table are pointing to same memory instance, hence we could see replica as same when we query using SQL and DeltaInstance"
      ],
      "metadata": {
        "id": "EHpWSNW01Gaf"
      }
    },
    {
      "cell_type": "markdown",
      "source": [
        "Using forName table Name"
      ],
      "metadata": {
        "id": "qxdPSfo11dXV"
      }
    },
    {
      "cell_type": "code",
      "source": [
        "deltaInstance2=DeltaTable.forName(spark,'Products_table')"
      ],
      "metadata": {
        "id": "H_oGIujT1dCw"
      },
      "execution_count": 10,
      "outputs": []
    },
    {
      "cell_type": "code",
      "source": [
        "deltaInstance2.toDF().show(5)"
      ],
      "metadata": {
        "colab": {
          "base_uri": "https://localhost:8080/"
        },
        "id": "uKSFmbYn1E4J",
        "outputId": "37fb2b23-42d1-43a4-f61d-2a70543771ae"
      },
      "execution_count": 11,
      "outputs": [
        {
          "output_type": "stream",
          "name": "stdout",
          "text": [
            "+-----------------+---------------+----------+--------+-----+----------+-------+\n",
            "|          product|          store|product_id|store_id|  MRP|     state|country|\n",
            "+-----------------+---------------+----------+--------+-----+----------+-------+\n",
            "| Portable Charger|    Mobile Mart|   PROD102| STORE02| NULL|     Texas|    USA|\n",
            "|Bluetooth Speaker|Electronics Hub|   PROD103| STORE01|79.50|California|    USA|\n",
            "| Smart Light Bulb|   Home Gadgets|   PROD104| STORE03|15.00|   Florida|    USA|\n",
            "|             NULL|    Mobile Mart|   PROD105| STORE02|49.99|     Texas|    USA|\n",
            "|   Wireless Mouse|Electronics Hub|   PROD106| STORE01| NULL|California|    USA|\n",
            "+-----------------+---------------+----------+--------+-----+----------+-------+\n",
            "only showing top 5 rows\n",
            "\n"
          ]
        }
      ]
    },
    {
      "cell_type": "markdown",
      "source": [
        "As can be seen, using forName also pointing to same deltatable that been created above"
      ],
      "metadata": {
        "id": "mymSw_vg1xOP"
      }
    },
    {
      "cell_type": "markdown",
      "source": [
        "#### Describing History"
      ],
      "metadata": {
        "id": "BY0m5FNI2ALH"
      }
    },
    {
      "cell_type": "code",
      "source": [
        "spark.sql('Describe History Products_table').show(truncate=False)"
      ],
      "metadata": {
        "colab": {
          "base_uri": "https://localhost:8080/"
        },
        "id": "zzVrcZeS1vNM",
        "outputId": "077c47b7-9739-4406-b604-c4a96ffe9490"
      },
      "execution_count": 12,
      "outputs": [
        {
          "output_type": "stream",
          "name": "stdout",
          "text": [
            "+-------+-----------------------+------+--------+---------------------------------+--------------------------------------------------------------------------------+----+--------+---------+-----------+--------------+-------------+---------------------------------------------------------------------------------------------------------------------------------------------------------------------------------+------------+-----------------------------------+\n",
            "|version|timestamp              |userId|userName|operation                        |operationParameters                                                             |job |notebook|clusterId|readVersion|isolationLevel|isBlindAppend|operationMetrics                                                                                                                                                                 |userMetadata|engineInfo                         |\n",
            "+-------+-----------------------+------+--------+---------------------------------+--------------------------------------------------------------------------------+----+--------+---------+-----------+--------------+-------------+---------------------------------------------------------------------------------------------------------------------------------------------------------------------------------+------------+-----------------------------------+\n",
            "|7      |2025-06-16 14:00:07.155|null  |null    |DELETE                           |{predicate -> [\"(spark_catalog.default.Products_table.product_id = 'PROD101')\"]}|null|null    |null     |6          |Serializable  |false        |{numRemovedFiles -> 1, numCopiedRows -> 99, numAddedChangeFiles -> 0, executionTimeMs -> 3530, numDeletedRows -> 1, scanTimeMs -> 3013, numAddedFiles -> 1, rewriteTimeMs -> 516}|null        |Apache-Spark/3.2.4 Delta-Lake/2.0.0|\n",
            "|6      |2025-06-16 13:59:55.832|null  |null    |CREATE OR REPLACE TABLE AS SELECT|{isManaged -> true, description -> null, partitionBy -> [], properties -> {}}   |null|null    |null     |5          |Serializable  |false        |{numFiles -> 1, numOutputRows -> 100, numOutputBytes -> 4391}                                                                                                                    |null        |Apache-Spark/3.2.4 Delta-Lake/2.0.0|\n",
            "|5      |2025-06-16 13:46:40.121|null  |null    |UPDATE                           |{predicate -> (product_id#10053 = PROD102)}                                     |null|null    |null     |4          |Serializable  |false        |{numRemovedFiles -> 1, numCopiedRows -> 98, numAddedChangeFiles -> 0, executionTimeMs -> 3194, scanTimeMs -> 2465, numAddedFiles -> 1, numUpdatedRows -> 1, rewriteTimeMs -> 729}|null        |Apache-Spark/3.2.4 Delta-Lake/2.0.0|\n",
            "|4      |2025-06-16 13:46:26.704|null  |null    |UPDATE                           |{predicate -> (product_id#9105 = PROD102)}                                      |null|null    |null     |3          |Serializable  |false        |{numRemovedFiles -> 1, numCopiedRows -> 98, numAddedChangeFiles -> 0, executionTimeMs -> 3525, scanTimeMs -> 2721, numAddedFiles -> 1, numUpdatedRows -> 1, rewriteTimeMs -> 804}|null        |Apache-Spark/3.2.4 Delta-Lake/2.0.0|\n",
            "|3      |2025-06-16 13:46:14.779|null  |null    |UPDATE                           |{predicate -> (product_id#8157 = PROD102)}                                      |null|null    |null     |2          |Serializable  |false        |{numRemovedFiles -> 1, numCopiedRows -> 98, numAddedChangeFiles -> 0, executionTimeMs -> 2433, scanTimeMs -> 1840, numAddedFiles -> 1, numUpdatedRows -> 1, rewriteTimeMs -> 593}|null        |Apache-Spark/3.2.4 Delta-Lake/2.0.0|\n",
            "|2      |2025-06-16 13:45:53.713|null  |null    |UPDATE                           |{predicate -> (product_id#7363 = PROD102)}                                      |null|null    |null     |1          |Serializable  |false        |{numRemovedFiles -> 1, numCopiedRows -> 98, numAddedChangeFiles -> 0, executionTimeMs -> 1241, scanTimeMs -> 840, numAddedFiles -> 1, numUpdatedRows -> 1, rewriteTimeMs -> 396} |null        |Apache-Spark/3.2.4 Delta-Lake/2.0.0|\n",
            "|1      |2025-06-16 12:58:07.071|null  |null    |DELETE                           |{predicate -> [\"(spark_catalog.default.Products_table.product_id = 'PROD101')\"]}|null|null    |null     |0          |Serializable  |false        |{numRemovedFiles -> 1, numCopiedRows -> 99, numAddedChangeFiles -> 0, executionTimeMs -> 4124, numDeletedRows -> 1, scanTimeMs -> 3390, numAddedFiles -> 1, rewriteTimeMs -> 732}|null        |Apache-Spark/3.2.4 Delta-Lake/2.0.0|\n",
            "|0      |2025-06-16 12:53:31.487|null  |null    |CREATE OR REPLACE TABLE AS SELECT|{isManaged -> true, description -> null, partitionBy -> [], properties -> {}}   |null|null    |null     |null       |Serializable  |false        |{numFiles -> 1, numOutputRows -> 100, numOutputBytes -> 4391}                                                                                                                    |null        |Apache-Spark/3.2.4 Delta-Lake/2.0.0|\n",
            "+-------+-----------------------+------+--------+---------------------------------+--------------------------------------------------------------------------------+----+--------+---------+-----------+--------------+-------------+---------------------------------------------------------------------------------------------------------------------------------------------------------------------------------+------------+-----------------------------------+\n",
            "\n"
          ]
        }
      ]
    },
    {
      "cell_type": "code",
      "source": [
        "deltaInstance1.history().show(truncate=False)"
      ],
      "metadata": {
        "colab": {
          "base_uri": "https://localhost:8080/"
        },
        "id": "GrzxTF7r2HMm",
        "outputId": "2a491c83-2e4d-4931-d6ac-71fd6185b94a"
      },
      "execution_count": 13,
      "outputs": [
        {
          "output_type": "stream",
          "name": "stdout",
          "text": [
            "+-------+-----------------------+------+--------+---------------------------------+--------------------------------------------------------------------------------+----+--------+---------+-----------+--------------+-------------+---------------------------------------------------------------------------------------------------------------------------------------------------------------------------------+------------+-----------------------------------+\n",
            "|version|timestamp              |userId|userName|operation                        |operationParameters                                                             |job |notebook|clusterId|readVersion|isolationLevel|isBlindAppend|operationMetrics                                                                                                                                                                 |userMetadata|engineInfo                         |\n",
            "+-------+-----------------------+------+--------+---------------------------------+--------------------------------------------------------------------------------+----+--------+---------+-----------+--------------+-------------+---------------------------------------------------------------------------------------------------------------------------------------------------------------------------------+------------+-----------------------------------+\n",
            "|7      |2025-06-16 14:00:07.155|null  |null    |DELETE                           |{predicate -> [\"(spark_catalog.default.Products_table.product_id = 'PROD101')\"]}|null|null    |null     |6          |Serializable  |false        |{numRemovedFiles -> 1, numCopiedRows -> 99, numAddedChangeFiles -> 0, executionTimeMs -> 3530, numDeletedRows -> 1, scanTimeMs -> 3013, numAddedFiles -> 1, rewriteTimeMs -> 516}|null        |Apache-Spark/3.2.4 Delta-Lake/2.0.0|\n",
            "|6      |2025-06-16 13:59:55.832|null  |null    |CREATE OR REPLACE TABLE AS SELECT|{isManaged -> true, description -> null, partitionBy -> [], properties -> {}}   |null|null    |null     |5          |Serializable  |false        |{numFiles -> 1, numOutputRows -> 100, numOutputBytes -> 4391}                                                                                                                    |null        |Apache-Spark/3.2.4 Delta-Lake/2.0.0|\n",
            "|5      |2025-06-16 13:46:40.121|null  |null    |UPDATE                           |{predicate -> (product_id#10053 = PROD102)}                                     |null|null    |null     |4          |Serializable  |false        |{numRemovedFiles -> 1, numCopiedRows -> 98, numAddedChangeFiles -> 0, executionTimeMs -> 3194, scanTimeMs -> 2465, numAddedFiles -> 1, numUpdatedRows -> 1, rewriteTimeMs -> 729}|null        |Apache-Spark/3.2.4 Delta-Lake/2.0.0|\n",
            "|4      |2025-06-16 13:46:26.704|null  |null    |UPDATE                           |{predicate -> (product_id#9105 = PROD102)}                                      |null|null    |null     |3          |Serializable  |false        |{numRemovedFiles -> 1, numCopiedRows -> 98, numAddedChangeFiles -> 0, executionTimeMs -> 3525, scanTimeMs -> 2721, numAddedFiles -> 1, numUpdatedRows -> 1, rewriteTimeMs -> 804}|null        |Apache-Spark/3.2.4 Delta-Lake/2.0.0|\n",
            "|3      |2025-06-16 13:46:14.779|null  |null    |UPDATE                           |{predicate -> (product_id#8157 = PROD102)}                                      |null|null    |null     |2          |Serializable  |false        |{numRemovedFiles -> 1, numCopiedRows -> 98, numAddedChangeFiles -> 0, executionTimeMs -> 2433, scanTimeMs -> 1840, numAddedFiles -> 1, numUpdatedRows -> 1, rewriteTimeMs -> 593}|null        |Apache-Spark/3.2.4 Delta-Lake/2.0.0|\n",
            "|2      |2025-06-16 13:45:53.713|null  |null    |UPDATE                           |{predicate -> (product_id#7363 = PROD102)}                                      |null|null    |null     |1          |Serializable  |false        |{numRemovedFiles -> 1, numCopiedRows -> 98, numAddedChangeFiles -> 0, executionTimeMs -> 1241, scanTimeMs -> 840, numAddedFiles -> 1, numUpdatedRows -> 1, rewriteTimeMs -> 396} |null        |Apache-Spark/3.2.4 Delta-Lake/2.0.0|\n",
            "|1      |2025-06-16 12:58:07.071|null  |null    |DELETE                           |{predicate -> [\"(spark_catalog.default.Products_table.product_id = 'PROD101')\"]}|null|null    |null     |0          |Serializable  |false        |{numRemovedFiles -> 1, numCopiedRows -> 99, numAddedChangeFiles -> 0, executionTimeMs -> 4124, numDeletedRows -> 1, scanTimeMs -> 3390, numAddedFiles -> 1, rewriteTimeMs -> 732}|null        |Apache-Spark/3.2.4 Delta-Lake/2.0.0|\n",
            "|0      |2025-06-16 12:53:31.487|null  |null    |CREATE OR REPLACE TABLE AS SELECT|{isManaged -> true, description -> null, partitionBy -> [], properties -> {}}   |null|null    |null     |null       |Serializable  |false        |{numFiles -> 1, numOutputRows -> 100, numOutputBytes -> 4391}                                                                                                                    |null        |Apache-Spark/3.2.4 Delta-Lake/2.0.0|\n",
            "+-------+-----------------------+------+--------+---------------------------------+--------------------------------------------------------------------------------+----+--------+---------+-----------+--------------+-------------+---------------------------------------------------------------------------------------------------------------------------------------------------------------------------------+------------+-----------------------------------+\n",
            "\n"
          ]
        }
      ]
    },
    {
      "cell_type": "code",
      "source": [
        "df.write.format('delta').mode('append').saveAsTable('products_table3')"
      ],
      "metadata": {
        "id": "xmSIQsSE3P_h"
      },
      "execution_count": 15,
      "outputs": []
    },
    {
      "cell_type": "code",
      "source": [
        "spark.sql('describe History products_table3').show()"
      ],
      "metadata": {
        "colab": {
          "base_uri": "https://localhost:8080/"
        },
        "id": "_LWJ4ANr5ts-",
        "outputId": "15b9ee76-d83c-4853-99a1-2f0155fbedad"
      },
      "execution_count": 17,
      "outputs": [
        {
          "output_type": "stream",
          "name": "stdout",
          "text": [
            "+-------+--------------------+------+--------+--------------------+--------------------+----+--------+---------+-----------+--------------+-------------+--------------------+------------+--------------------+\n",
            "|version|           timestamp|userId|userName|           operation| operationParameters| job|notebook|clusterId|readVersion|isolationLevel|isBlindAppend|    operationMetrics|userMetadata|          engineInfo|\n",
            "+-------+--------------------+------+--------+--------------------+--------------------+----+--------+---------+-----------+--------------+-------------+--------------------+------------+--------------------+\n",
            "|      0|2025-06-16 14:00:...|  null|    null|CREATE TABLE AS S...|{isManaged -> tru...|null|    null|     null|       null|  Serializable|         true|{numFiles -> 1, n...|        null|Apache-Spark/3.2....|\n",
            "+-------+--------------------+------+--------+--------------------+--------------------+----+--------+---------+-----------+--------------+-------------+--------------------+------------+--------------------+\n",
            "\n"
          ]
        }
      ]
    },
    {
      "cell_type": "code",
      "source": [
        "df.createOrReplaceTempView('temp_table')\n"
      ],
      "metadata": {
        "id": "v8-1BWei5_Zt"
      },
      "execution_count": 18,
      "outputs": []
    },
    {
      "cell_type": "code",
      "source": [
        "spark.sql('select * from temp_table').show(5)"
      ],
      "metadata": {
        "colab": {
          "base_uri": "https://localhost:8080/"
        },
        "id": "6O4jdJlH6WzI",
        "outputId": "d7af9eec-abba-4316-d0f9-5b8a597f3084"
      },
      "execution_count": 19,
      "outputs": [
        {
          "output_type": "stream",
          "name": "stdout",
          "text": [
            "+-----------------+---------------+----------+--------+-----+----------+-------+\n",
            "|          product|          store|product_id|store_id|  MRP|     state|country|\n",
            "+-----------------+---------------+----------+--------+-----+----------+-------+\n",
            "|    Wired Earbuds|Electronics Hub|   PROD101| STORE01|25.99|California|    USA|\n",
            "| Portable Charger|    Mobile Mart|   PROD102| STORE02| NULL|     Texas|    USA|\n",
            "|Bluetooth Speaker|Electronics Hub|   PROD103| STORE01|79.50|California|    USA|\n",
            "| Smart Light Bulb|   Home Gadgets|   PROD104| STORE03|15.00|   Florida|    USA|\n",
            "|             NULL|    Mobile Mart|   PROD105| STORE02|49.99|     Texas|    USA|\n",
            "+-----------------+---------------+----------+--------+-----+----------+-------+\n",
            "only showing top 5 rows\n",
            "\n"
          ]
        }
      ]
    },
    {
      "cell_type": "markdown",
      "source": [
        "####Delete data from Delta tables"
      ],
      "metadata": {
        "id": "NG5A6cJ264fw"
      }
    },
    {
      "cell_type": "markdown",
      "source": [
        "Using deltatable location"
      ],
      "metadata": {
        "id": "iKUilCTB7EIo"
      }
    },
    {
      "cell_type": "code",
      "source": [
        "spark.sql(\"delete from delta.`/content/spark-warehouse/products_table2` where product_id like('PROD101')\")\n",
        "spark.sql('select * from delta.`/content/spark-warehouse/products_table2`').show(5)"
      ],
      "metadata": {
        "colab": {
          "base_uri": "https://localhost:8080/"
        },
        "id": "nrsnmNyA7dmK",
        "outputId": "1d2d1f33-eb99-478d-ce18-a67c5300fc43"
      },
      "execution_count": 20,
      "outputs": [
        {
          "output_type": "stream",
          "name": "stdout",
          "text": [
            "+-------------------+---------------+----------+--------+------+----------+-------+\n",
            "|            product|          store|product_id|store_id|   MRP|     state|country|\n",
            "+-------------------+---------------+----------+--------+------+----------+-------+\n",
            "|   Portable Charger|    Mobile Mart|   PROD102| STORE02|  NULL|     Texas|    USA|\n",
            "|   Smart Light Bulb|   Home Gadgets|   PROD104| STORE03| 15.00|   Florida|    USA|\n",
            "|               NULL|    Mobile Mart|   PROD105| STORE02| 49.99|     Texas|    USA|\n",
            "|     Wireless Mouse|Electronics Hub|   PROD106| STORE01|  NULL|California|    USA|\n",
            "|Mechanical Keyboard|      PC Palace|   PROD107| STORE04|120.00|  New York|    USA|\n",
            "+-------------------+---------------+----------+--------+------+----------+-------+\n",
            "only showing top 5 rows\n",
            "\n"
          ]
        }
      ]
    },
    {
      "cell_type": "code",
      "source": [
        "spark.sql('describe history delta.`/content/spark-warehouse/products_table2`').show(truncate=False)"
      ],
      "metadata": {
        "colab": {
          "base_uri": "https://localhost:8080/"
        },
        "id": "Rr24sY_V7M_U",
        "outputId": "2d804387-551c-47f8-b7e5-c21a8ba38169"
      },
      "execution_count": 21,
      "outputs": [
        {
          "output_type": "stream",
          "name": "stdout",
          "text": [
            "+-------+-----------------------+------+--------+----------------------+----------------------------------------------------------------------------------------------------------+----+--------+---------+-----------+--------------+-------------+---------------------------------------------------------------------------------------------------------------------------------------------------------------------------------+------------+-----------------------------------+\n",
            "|version|timestamp              |userId|userName|operation             |operationParameters                                                                                       |job |notebook|clusterId|readVersion|isolationLevel|isBlindAppend|operationMetrics                                                                                                                                                                 |userMetadata|engineInfo                         |\n",
            "+-------+-----------------------+------+--------+----------------------+----------------------------------------------------------------------------------------------------------+----+--------+---------+-----------+--------------+-------------+---------------------------------------------------------------------------------------------------------------------------------------------------------------------------------+------------+-----------------------------------+\n",
            "|3      |2025-06-16 13:48:00.329|null  |null    |UPDATE                |{predicate -> (product_id#6110 = PROD104)}                                                                |null|null    |null     |2          |Serializable  |false        |{numRemovedFiles -> 1, numCopiedRows -> 97, numAddedChangeFiles -> 0, executionTimeMs -> 1881, scanTimeMs -> 1587, numAddedFiles -> 1, numUpdatedRows -> 1, rewriteTimeMs -> 294}|null        |Apache-Spark/3.2.4 Delta-Lake/2.0.0|\n",
            "|2      |2025-06-16 13:36:07.838|null  |null    |DELETE                |{predicate -> [\"((product_id = 'PROD103') AND (country = 'USA'))\"]}                                       |null|null    |null     |1          |Serializable  |false        |{numRemovedFiles -> 1, numCopiedRows -> 98, numAddedChangeFiles -> 0, executionTimeMs -> 1485, numDeletedRows -> 1, scanTimeMs -> 1127, numAddedFiles -> 1, rewriteTimeMs -> 358}|null        |Apache-Spark/3.2.4 Delta-Lake/2.0.0|\n",
            "|1      |2025-06-16 13:31:15.427|null  |null    |DELETE                |{predicate -> [\"(spark_catalog.delta.`/content/spark-warehouse/products_table2`.product_id = 'PROD101')\"]}|null|null    |null     |0          |Serializable  |false        |{numRemovedFiles -> 1, numCopiedRows -> 99, numAddedChangeFiles -> 0, executionTimeMs -> 3123, numDeletedRows -> 1, scanTimeMs -> 2329, numAddedFiles -> 1, rewriteTimeMs -> 794}|null        |Apache-Spark/3.2.4 Delta-Lake/2.0.0|\n",
            "|0      |2025-06-16 13:21:27.078|null  |null    |CREATE TABLE AS SELECT|{isManaged -> true, description -> null, partitionBy -> [], properties -> {}}                             |null|null    |null     |null       |Serializable  |true         |{numFiles -> 1, numOutputRows -> 100, numOutputBytes -> 4391}                                                                                                                    |null        |Apache-Spark/3.2.4 Delta-Lake/2.0.0|\n",
            "+-------+-----------------------+------+--------+----------------------+----------------------------------------------------------------------------------------------------------+----+--------+---------+-----------+--------------+-------------+---------------------------------------------------------------------------------------------------------------------------------------------------------------------------------+------------+-----------------------------------+\n",
            "\n"
          ]
        }
      ]
    },
    {
      "cell_type": "code",
      "source": [
        "deltaInstance3=DeltaTable.forPath(spark,'/content/spark-warehouse/products_table2')"
      ],
      "metadata": {
        "id": "jZ7uAJM38a2F"
      },
      "execution_count": 22,
      "outputs": []
    },
    {
      "cell_type": "code",
      "source": [
        "deltaInstance3.delete('product_id like(\"PROD103\") and country=\"USA\"')"
      ],
      "metadata": {
        "id": "NhEn3gdL8o10"
      },
      "execution_count": 23,
      "outputs": []
    },
    {
      "cell_type": "code",
      "source": [
        "deltaInstance3.toDF().show(5)"
      ],
      "metadata": {
        "colab": {
          "base_uri": "https://localhost:8080/"
        },
        "id": "OKw_uaPn9E3k",
        "outputId": "a6600e7f-1d5d-47df-e627-ed2eb74b2965"
      },
      "execution_count": 24,
      "outputs": [
        {
          "output_type": "stream",
          "name": "stdout",
          "text": [
            "+-------------------+---------------+----------+--------+------+----------+-------+\n",
            "|            product|          store|product_id|store_id|   MRP|     state|country|\n",
            "+-------------------+---------------+----------+--------+------+----------+-------+\n",
            "|   Portable Charger|    Mobile Mart|   PROD102| STORE02|  NULL|     Texas|    USA|\n",
            "|   Smart Light Bulb|   Home Gadgets|   PROD104| STORE03| 15.00|   Florida|    USA|\n",
            "|               NULL|    Mobile Mart|   PROD105| STORE02| 49.99|     Texas|    USA|\n",
            "|     Wireless Mouse|Electronics Hub|   PROD106| STORE01|  NULL|California|    USA|\n",
            "|Mechanical Keyboard|      PC Palace|   PROD107| STORE04|120.00|  New York|    USA|\n",
            "+-------------------+---------------+----------+--------+------+----------+-------+\n",
            "only showing top 5 rows\n",
            "\n"
          ]
        }
      ]
    },
    {
      "cell_type": "code",
      "source": [
        "deltaInstance3.history().show(truncate=False)"
      ],
      "metadata": {
        "colab": {
          "base_uri": "https://localhost:8080/"
        },
        "id": "F9cGkVOW9JSM",
        "outputId": "6f5508b2-cdea-4ff9-b2c4-22903f281456"
      },
      "execution_count": 25,
      "outputs": [
        {
          "output_type": "stream",
          "name": "stdout",
          "text": [
            "+-------+-----------------------+------+--------+----------------------+----------------------------------------------------------------------------------------------------------+----+--------+---------+-----------+--------------+-------------+---------------------------------------------------------------------------------------------------------------------------------------------------------------------------------+------------+-----------------------------------+\n",
            "|version|timestamp              |userId|userName|operation             |operationParameters                                                                                       |job |notebook|clusterId|readVersion|isolationLevel|isBlindAppend|operationMetrics                                                                                                                                                                 |userMetadata|engineInfo                         |\n",
            "+-------+-----------------------+------+--------+----------------------+----------------------------------------------------------------------------------------------------------+----+--------+---------+-----------+--------------+-------------+---------------------------------------------------------------------------------------------------------------------------------------------------------------------------------+------------+-----------------------------------+\n",
            "|3      |2025-06-16 13:48:00.329|null  |null    |UPDATE                |{predicate -> (product_id#6110 = PROD104)}                                                                |null|null    |null     |2          |Serializable  |false        |{numRemovedFiles -> 1, numCopiedRows -> 97, numAddedChangeFiles -> 0, executionTimeMs -> 1881, scanTimeMs -> 1587, numAddedFiles -> 1, numUpdatedRows -> 1, rewriteTimeMs -> 294}|null        |Apache-Spark/3.2.4 Delta-Lake/2.0.0|\n",
            "|2      |2025-06-16 13:36:07.838|null  |null    |DELETE                |{predicate -> [\"((product_id = 'PROD103') AND (country = 'USA'))\"]}                                       |null|null    |null     |1          |Serializable  |false        |{numRemovedFiles -> 1, numCopiedRows -> 98, numAddedChangeFiles -> 0, executionTimeMs -> 1485, numDeletedRows -> 1, scanTimeMs -> 1127, numAddedFiles -> 1, rewriteTimeMs -> 358}|null        |Apache-Spark/3.2.4 Delta-Lake/2.0.0|\n",
            "|1      |2025-06-16 13:31:15.427|null  |null    |DELETE                |{predicate -> [\"(spark_catalog.delta.`/content/spark-warehouse/products_table2`.product_id = 'PROD101')\"]}|null|null    |null     |0          |Serializable  |false        |{numRemovedFiles -> 1, numCopiedRows -> 99, numAddedChangeFiles -> 0, executionTimeMs -> 3123, numDeletedRows -> 1, scanTimeMs -> 2329, numAddedFiles -> 1, rewriteTimeMs -> 794}|null        |Apache-Spark/3.2.4 Delta-Lake/2.0.0|\n",
            "|0      |2025-06-16 13:21:27.078|null  |null    |CREATE TABLE AS SELECT|{isManaged -> true, description -> null, partitionBy -> [], properties -> {}}                             |null|null    |null     |null       |Serializable  |true         |{numFiles -> 1, numOutputRows -> 100, numOutputBytes -> 4391}                                                                                                                    |null        |Apache-Spark/3.2.4 Delta-Lake/2.0.0|\n",
            "+-------+-----------------------+------+--------+----------------------+----------------------------------------------------------------------------------------------------------+----+--------+---------+-----------+--------------+-------------+---------------------------------------------------------------------------------------------------------------------------------------------------------------------------------+------------+-----------------------------------+\n",
            "\n"
          ]
        }
      ]
    },
    {
      "cell_type": "code",
      "source": [
        "spark.sql('update products_table set store_id=\"STORE03\" where product_id=\"PROD102\"')\n",
        "spark.sql('describe history products_table').show(truncate=False)"
      ],
      "metadata": {
        "colab": {
          "base_uri": "https://localhost:8080/"
        },
        "id": "_6mbeKwO9oJk",
        "outputId": "23e18717-1be4-4003-b732-67186350d8ca"
      },
      "execution_count": 26,
      "outputs": [
        {
          "output_type": "stream",
          "name": "stdout",
          "text": [
            "+-------+-----------------------+------+--------+---------------------------------+--------------------------------------------------------------------------------+----+--------+---------+-----------+--------------+-------------+---------------------------------------------------------------------------------------------------------------------------------------------------------------------------------+------------+-----------------------------------+\n",
            "|version|timestamp              |userId|userName|operation                        |operationParameters                                                             |job |notebook|clusterId|readVersion|isolationLevel|isBlindAppend|operationMetrics                                                                                                                                                                 |userMetadata|engineInfo                         |\n",
            "+-------+-----------------------+------+--------+---------------------------------+--------------------------------------------------------------------------------+----+--------+---------+-----------+--------------+-------------+---------------------------------------------------------------------------------------------------------------------------------------------------------------------------------+------------+-----------------------------------+\n",
            "|8      |2025-06-16 14:01:21.297|null  |null    |UPDATE                           |{predicate -> (product_id#5272 = PROD102)}                                      |null|null    |null     |7          |Serializable  |false        |{numRemovedFiles -> 1, numCopiedRows -> 98, numAddedChangeFiles -> 0, executionTimeMs -> 2558, scanTimeMs -> 1974, numAddedFiles -> 1, numUpdatedRows -> 1, rewriteTimeMs -> 582}|null        |Apache-Spark/3.2.4 Delta-Lake/2.0.0|\n",
            "|7      |2025-06-16 14:00:07.155|null  |null    |DELETE                           |{predicate -> [\"(spark_catalog.default.Products_table.product_id = 'PROD101')\"]}|null|null    |null     |6          |Serializable  |false        |{numRemovedFiles -> 1, numCopiedRows -> 99, numAddedChangeFiles -> 0, executionTimeMs -> 3530, numDeletedRows -> 1, scanTimeMs -> 3013, numAddedFiles -> 1, rewriteTimeMs -> 516}|null        |Apache-Spark/3.2.4 Delta-Lake/2.0.0|\n",
            "|6      |2025-06-16 13:59:55.832|null  |null    |CREATE OR REPLACE TABLE AS SELECT|{isManaged -> true, description -> null, partitionBy -> [], properties -> {}}   |null|null    |null     |5          |Serializable  |false        |{numFiles -> 1, numOutputRows -> 100, numOutputBytes -> 4391}                                                                                                                    |null        |Apache-Spark/3.2.4 Delta-Lake/2.0.0|\n",
            "|5      |2025-06-16 13:46:40.121|null  |null    |UPDATE                           |{predicate -> (product_id#10053 = PROD102)}                                     |null|null    |null     |4          |Serializable  |false        |{numRemovedFiles -> 1, numCopiedRows -> 98, numAddedChangeFiles -> 0, executionTimeMs -> 3194, scanTimeMs -> 2465, numAddedFiles -> 1, numUpdatedRows -> 1, rewriteTimeMs -> 729}|null        |Apache-Spark/3.2.4 Delta-Lake/2.0.0|\n",
            "|4      |2025-06-16 13:46:26.704|null  |null    |UPDATE                           |{predicate -> (product_id#9105 = PROD102)}                                      |null|null    |null     |3          |Serializable  |false        |{numRemovedFiles -> 1, numCopiedRows -> 98, numAddedChangeFiles -> 0, executionTimeMs -> 3525, scanTimeMs -> 2721, numAddedFiles -> 1, numUpdatedRows -> 1, rewriteTimeMs -> 804}|null        |Apache-Spark/3.2.4 Delta-Lake/2.0.0|\n",
            "|3      |2025-06-16 13:46:14.779|null  |null    |UPDATE                           |{predicate -> (product_id#8157 = PROD102)}                                      |null|null    |null     |2          |Serializable  |false        |{numRemovedFiles -> 1, numCopiedRows -> 98, numAddedChangeFiles -> 0, executionTimeMs -> 2433, scanTimeMs -> 1840, numAddedFiles -> 1, numUpdatedRows -> 1, rewriteTimeMs -> 593}|null        |Apache-Spark/3.2.4 Delta-Lake/2.0.0|\n",
            "|2      |2025-06-16 13:45:53.713|null  |null    |UPDATE                           |{predicate -> (product_id#7363 = PROD102)}                                      |null|null    |null     |1          |Serializable  |false        |{numRemovedFiles -> 1, numCopiedRows -> 98, numAddedChangeFiles -> 0, executionTimeMs -> 1241, scanTimeMs -> 840, numAddedFiles -> 1, numUpdatedRows -> 1, rewriteTimeMs -> 396} |null        |Apache-Spark/3.2.4 Delta-Lake/2.0.0|\n",
            "|1      |2025-06-16 12:58:07.071|null  |null    |DELETE                           |{predicate -> [\"(spark_catalog.default.Products_table.product_id = 'PROD101')\"]}|null|null    |null     |0          |Serializable  |false        |{numRemovedFiles -> 1, numCopiedRows -> 99, numAddedChangeFiles -> 0, executionTimeMs -> 4124, numDeletedRows -> 1, scanTimeMs -> 3390, numAddedFiles -> 1, rewriteTimeMs -> 732}|null        |Apache-Spark/3.2.4 Delta-Lake/2.0.0|\n",
            "|0      |2025-06-16 12:53:31.487|null  |null    |CREATE OR REPLACE TABLE AS SELECT|{isManaged -> true, description -> null, partitionBy -> [], properties -> {}}   |null|null    |null     |null       |Serializable  |false        |{numFiles -> 1, numOutputRows -> 100, numOutputBytes -> 4391}                                                                                                                    |null        |Apache-Spark/3.2.4 Delta-Lake/2.0.0|\n",
            "+-------+-----------------------+------+--------+---------------------------------+--------------------------------------------------------------------------------+----+--------+---------+-----------+--------------+-------------+---------------------------------------------------------------------------------------------------------------------------------------------------------------------------------+------------+-----------------------------------+\n",
            "\n"
          ]
        }
      ]
    },
    {
      "cell_type": "code",
      "source": [
        "deltaInstance3.update('product_id=\"PROD104\"',set={\"store_id\":lit(\"STORE03\")})"
      ],
      "metadata": {
        "id": "-IqOgVnK-XAt"
      },
      "execution_count": 27,
      "outputs": []
    },
    {
      "cell_type": "code",
      "source": [
        "deltaInstance3.history().show(truncate=False)"
      ],
      "metadata": {
        "colab": {
          "base_uri": "https://localhost:8080/"
        },
        "id": "sMA2DChH_kFO",
        "outputId": "cf4b0ec6-1c7a-4042-a2f5-e9d7b7674a1b"
      },
      "execution_count": 28,
      "outputs": [
        {
          "output_type": "stream",
          "name": "stdout",
          "text": [
            "+-------+-----------------------+------+--------+----------------------+----------------------------------------------------------------------------------------------------------+----+--------+---------+-----------+--------------+-------------+---------------------------------------------------------------------------------------------------------------------------------------------------------------------------------+------------+-----------------------------------+\n",
            "|version|timestamp              |userId|userName|operation             |operationParameters                                                                                       |job |notebook|clusterId|readVersion|isolationLevel|isBlindAppend|operationMetrics                                                                                                                                                                 |userMetadata|engineInfo                         |\n",
            "+-------+-----------------------+------+--------+----------------------+----------------------------------------------------------------------------------------------------------+----+--------+---------+-----------+--------------+-------------+---------------------------------------------------------------------------------------------------------------------------------------------------------------------------------+------------+-----------------------------------+\n",
            "|4      |2025-06-16 14:01:26.755|null  |null    |UPDATE                |{predicate -> (product_id#4916 = PROD104)}                                                                |null|null    |null     |3          |Serializable  |false        |{numRemovedFiles -> 1, numCopiedRows -> 97, numAddedChangeFiles -> 0, executionTimeMs -> 1416, scanTimeMs -> 1005, numAddedFiles -> 1, numUpdatedRows -> 1, rewriteTimeMs -> 411}|null        |Apache-Spark/3.2.4 Delta-Lake/2.0.0|\n",
            "|3      |2025-06-16 13:48:00.329|null  |null    |UPDATE                |{predicate -> (product_id#6110 = PROD104)}                                                                |null|null    |null     |2          |Serializable  |false        |{numRemovedFiles -> 1, numCopiedRows -> 97, numAddedChangeFiles -> 0, executionTimeMs -> 1881, scanTimeMs -> 1587, numAddedFiles -> 1, numUpdatedRows -> 1, rewriteTimeMs -> 294}|null        |Apache-Spark/3.2.4 Delta-Lake/2.0.0|\n",
            "|2      |2025-06-16 13:36:07.838|null  |null    |DELETE                |{predicate -> [\"((product_id = 'PROD103') AND (country = 'USA'))\"]}                                       |null|null    |null     |1          |Serializable  |false        |{numRemovedFiles -> 1, numCopiedRows -> 98, numAddedChangeFiles -> 0, executionTimeMs -> 1485, numDeletedRows -> 1, scanTimeMs -> 1127, numAddedFiles -> 1, rewriteTimeMs -> 358}|null        |Apache-Spark/3.2.4 Delta-Lake/2.0.0|\n",
            "|1      |2025-06-16 13:31:15.427|null  |null    |DELETE                |{predicate -> [\"(spark_catalog.delta.`/content/spark-warehouse/products_table2`.product_id = 'PROD101')\"]}|null|null    |null     |0          |Serializable  |false        |{numRemovedFiles -> 1, numCopiedRows -> 99, numAddedChangeFiles -> 0, executionTimeMs -> 3123, numDeletedRows -> 1, scanTimeMs -> 2329, numAddedFiles -> 1, rewriteTimeMs -> 794}|null        |Apache-Spark/3.2.4 Delta-Lake/2.0.0|\n",
            "|0      |2025-06-16 13:21:27.078|null  |null    |CREATE TABLE AS SELECT|{isManaged -> true, description -> null, partitionBy -> [], properties -> {}}                             |null|null    |null     |null       |Serializable  |true         |{numFiles -> 1, numOutputRows -> 100, numOutputBytes -> 4391}                                                                                                                    |null        |Apache-Spark/3.2.4 Delta-Lake/2.0.0|\n",
            "+-------+-----------------------+------+--------+----------------------+----------------------------------------------------------------------------------------------------------+----+--------+---------+-----------+--------------+-------------+---------------------------------------------------------------------------------------------------------------------------------------------------------------------------------+------------+-----------------------------------+\n",
            "\n"
          ]
        }
      ]
    },
    {
      "cell_type": "markdown",
      "source": [
        "**END OF CODE**"
      ],
      "metadata": {
        "id": "N8PphWMSC-SK"
      }
    }
  ]
}